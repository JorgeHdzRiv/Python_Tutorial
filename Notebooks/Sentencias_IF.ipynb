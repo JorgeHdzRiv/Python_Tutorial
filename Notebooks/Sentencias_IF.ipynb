{
 "cells": [
  {
   "attachments": {},
   "cell_type": "markdown",
   "metadata": {},
   "source": [
    "# Introduccion"
   ]
  },
  {
   "attachments": {},
   "cell_type": "markdown",
   "metadata": {},
   "source": [
    "En el siguiente ejemplo breve se muestra cómo si las pruebas le permiten responder a \n",
    "situaciones especiales correctamente. Imagine que tiene una lista de coches y desea imprimir \n",
    "el nombre de cada coche. Nombres de autos son nombres propios, por lo que los nombres de \n",
    "mayoría de los coches se deben imprimir en caso del título. \n",
    "\n",
    "Sin embargo, el valor 'bmw' se debe imprimir en mayúsculas. \n",
    "\n",
    "El siguiente código se recorre a través de una lista de coches nombres y busca el valor 'bmw'."
   ]
  },
  {
   "cell_type": "code",
   "execution_count": 1,
   "metadata": {},
   "outputs": [
    {
     "name": "stdout",
     "output_type": "stream",
     "text": [
      "Audi\n",
      "BMW\n",
      "Subaru\n",
      "Toyota\n"
     ]
    }
   ],
   "source": [
    "cars = ['audi', 'bmw', 'subaru', 'toyota']\n",
    "for car in cars:\n",
    "    if car == 'bmw':\n",
    "        print(car.upper())\n",
    "    else:\n",
    "        print(car.title())"
   ]
  },
  {
   "attachments": {},
   "cell_type": "markdown",
   "metadata": {},
   "source": [
    "**Esta es una forma sencilla de aplicar una condicion if, si la condicion es igual a lo que asignamos hara una indicacion dada por nosotros**"
   ]
  },
  {
   "attachments": {},
   "cell_type": "markdown",
   "metadata": {},
   "source": [
    "# Pruebas condicionales"
   ]
  },
  {
   "attachments": {},
   "cell_type": "markdown",
   "metadata": {},
   "source": [
    "En el centro de cada una de las declaraciones es una expresión que se puede evaluar como \n",
    "Verdadero o falso y se llama una prueba condicional. \n",
    "\n",
    "Python utiliza los valores True y False para decidir si el código de una instrucción if debe ejecutarse. \n",
    "\n",
    "Si una prueba condicional se evalúa en True, Python ejecuta el código que sigue al archivo dedeclaración. Si la prueba se evalúa en False, Python ignora el código que sigue a la instrucción if. "
   ]
  },
  {
   "attachments": {},
   "cell_type": "markdown",
   "metadata": {},
   "source": [
    "## Comprobación de igualdad"
   ]
  },
  {
   "attachments": {},
   "cell_type": "markdown",
   "metadata": {},
   "source": [
    "Las pruebas condicionales comparan el valor actual de una variable con un objeto \n",
    "específico y un valor de interés. La prueba condicional más simple comprueba si el valor de un objeto \n",
    "variable es igual al valor de interés: \n"
   ]
  },
  {
   "cell_type": "code",
   "execution_count": 2,
   "metadata": {},
   "outputs": [
    {
     "data": {
      "text/plain": [
       "True"
      ]
     },
     "execution_count": 2,
     "metadata": {},
     "output_type": "execute_result"
    }
   ],
   "source": [
    "car = 'bmw' #Asignamos un valor a la variable\n",
    "car == 'bmw' #Comprobamos la igualdad\n"
   ]
  },
  {
   "attachments": {},
   "cell_type": "markdown",
   "metadata": {},
   "source": [
    "La línea define el valor del coche como 'bmw' usando un signo igual, \n",
    "como ya has visto muchas veces. \n",
    "\n",
    "La línea comprueba si el valor de coche es 'bmw' usando un signo igual doble (==). Este operador de igualdad devuelve True si los valores en el lado izquierdo y derecho del operador coinciden, y \n",
    "Falsa si no coinciden. "
   ]
  },
  {
   "cell_type": "code",
   "execution_count": 3,
   "metadata": {},
   "outputs": [
    {
     "data": {
      "text/plain": [
       "False"
      ]
     },
     "execution_count": 3,
     "metadata": {},
     "output_type": "execute_result"
    }
   ],
   "source": [
    "car = 'audi'\n",
    "car == 'bmw'"
   ]
  },
  {
   "attachments": {},
   "cell_type": "markdown",
   "metadata": {},
   "source": [
    "**Aqui se regresa el valor de False porque los dos valores no son iguales**"
   ]
  },
  {
   "attachments": {},
   "cell_type": "markdown",
   "metadata": {},
   "source": [
    "## Ignorando caso al comprobar igualdad"
   ]
  },
  {
   "attachments": {},
   "cell_type": "markdown",
   "metadata": {},
   "source": [
    "Las pruebas para la igualdad son sensibles al caso en Python. \n",
    "\n",
    "Por ejemplo, dos valores con diferentes capitalización(primera letra mayuscula) no se consideran iguales: "
   ]
  },
  {
   "cell_type": "code",
   "execution_count": 4,
   "metadata": {},
   "outputs": [
    {
     "data": {
      "text/plain": [
       "False"
      ]
     },
     "execution_count": 4,
     "metadata": {},
     "output_type": "execute_result"
    }
   ],
   "source": [
    "car = 'Audi'\n",
    "car == 'audi'"
   ]
  },
  {
   "attachments": {},
   "cell_type": "markdown",
   "metadata": {},
   "source": [
    "Si el caso importa, este comportamiento es ventajoso. Pero si el caso no importa \n",
    "y en su lugar sólo quieren probar el valor de una variable, puede convertir el \n",
    "valor variable de s a minúscula antes de hacer la comparación: "
   ]
  },
  {
   "cell_type": "code",
   "execution_count": 5,
   "metadata": {},
   "outputs": [
    {
     "data": {
      "text/plain": [
       "True"
      ]
     },
     "execution_count": 5,
     "metadata": {},
     "output_type": "execute_result"
    }
   ],
   "source": [
    "car = 'Audi'\n",
    "car.lower() == 'audi'"
   ]
  },
  {
   "attachments": {},
   "cell_type": "markdown",
   "metadata": {},
   "source": [
    "Esta prueba devolvería Verdadero no importa cómo el valor 'Audi' está formateado \n",
    "porque la prueba ahora es insensible. La función lower() no cambia \n",
    "el valor que originalmente fue almacenado en el coche, por lo que puede hacer este tipo de comparación \n",
    "sin afectar a la variable original: "
   ]
  },
  {
   "cell_type": "code",
   "execution_count": 6,
   "metadata": {},
   "outputs": [
    {
     "name": "stdout",
     "output_type": "stream",
     "text": [
      "True\n",
      "Audi\n"
     ]
    }
   ],
   "source": [
    "car = 'Audi'\n",
    "print(car.lower() == 'audi')\n",
    "\n",
    "print(car)"
   ]
  },
  {
   "attachments": {},
   "cell_type": "markdown",
   "metadata": {},
   "source": [
    "## Comprobación de la desigualdad"
   ]
  },
  {
   "attachments": {},
   "cell_type": "markdown",
   "metadata": {},
   "source": [
    "Si desea determinar si dos valores no son iguales, puede \n",
    "combinar un signo de exclamación y un signo igual (!=). "
   ]
  },
  {
   "cell_type": "code",
   "execution_count": 7,
   "metadata": {},
   "outputs": [
    {
     "name": "stdout",
     "output_type": "stream",
     "text": [
      "Hold the anchovies!\n"
     ]
    }
   ],
   "source": [
    "requested_topping = 'mushrooms'\n",
    "if requested_topping != 'anchovies':\n",
    "    print(\"Hold the anchovies!\")"
   ]
  },
  {
   "attachments": {},
   "cell_type": "markdown",
   "metadata": {},
   "source": [
    "La línea compara el valor de requested_topping al valor \n",
    "'anchovies'. Si estos dos valores no coinciden, Python devuelve True y ejecuta \n",
    "el código que sigue a la instrucción if. \n",
    "\n",
    "Si los dos valores coinciden, Python \n",
    "devuelve False y no ejecuta el código después de la instrucción if. \n",
    "\n",
    "Dado que el valor de requested_topping no es 'anchovies', la impresión \n"
   ]
  },
  {
   "attachments": {},
   "cell_type": "markdown",
   "metadata": {},
   "source": [
    "## Comparaciones numéricas"
   ]
  },
  {
   "attachments": {},
   "cell_type": "markdown",
   "metadata": {},
   "source": [
    "Probar valores numéricos es bastante sencillo. \n",
    "\n",
    "Por ejemplo, el siguiente código comprueba si una persona tiene 18 años: \n"
   ]
  },
  {
   "cell_type": "code",
   "execution_count": 8,
   "metadata": {},
   "outputs": [
    {
     "data": {
      "text/plain": [
       "True"
      ]
     },
     "execution_count": 8,
     "metadata": {},
     "output_type": "execute_result"
    }
   ],
   "source": [
    "age = 18\n",
    "age == 18"
   ]
  },
  {
   "cell_type": "code",
   "execution_count": 9,
   "metadata": {},
   "outputs": [
    {
     "name": "stdout",
     "output_type": "stream",
     "text": [
      "That is not the correct answer. Please try again!\n"
     ]
    }
   ],
   "source": [
    "answer = 17\n",
    "\n",
    "if answer != 42:\n",
    "    print(\"That is not the correct answer. Please try again!\")"
   ]
  },
  {
   "attachments": {},
   "cell_type": "markdown",
   "metadata": {},
   "source": [
    "Puede incluir varias comparaciones matemáticas en tus\n",
    "declaraciones condicionales, como menor que, inferior o igual a, mayor que, y \n",
    "mayor o igual a: \n"
   ]
  },
  {
   "cell_type": "code",
   "execution_count": 10,
   "metadata": {},
   "outputs": [
    {
     "name": "stdout",
     "output_type": "stream",
     "text": [
      "True\n",
      "True\n",
      "False\n",
      "False\n"
     ]
    }
   ],
   "source": [
    "age = 19\n",
    "print(age < 21)\n",
    "\n",
    "print(age <= 21)\n",
    "\n",
    "print(age > 21)\n",
    "\n",
    "print(age >= 21)"
   ]
  },
  {
   "attachments": {},
   "cell_type": "markdown",
   "metadata": {},
   "source": [
    "## Comprobación de múltiples condiciones"
   ]
  },
  {
   "attachments": {},
   "cell_type": "markdown",
   "metadata": {},
   "source": [
    "Es posible que desee comprobar varias condiciones al mismo tiempo. Por ejemplo, \n",
    "a veces es posible que necesites dos condiciones para ser Verdadero para tomar una acción. Otros \n",
    "veces usted podría estar satisfecho con una sola condición de ser Verdadero. Las palabras clave \n",
    "*and* y *or* pueden ayudarte en estas situaciones. \n"
   ]
  },
  {
   "attachments": {},
   "cell_type": "markdown",
   "metadata": {},
   "source": [
    "### Usando *and* para Comprobar Condiciones Múltiples"
   ]
  },
  {
   "attachments": {},
   "cell_type": "markdown",
   "metadata": {},
   "source": [
    "Para comprobar si dos condiciones son True simultáneamente, utilice la palabra clave \n",
    "*and* para combinar las dos pruebas condicionales; si cada prueba pasa, el valor total de \n",
    "expresión se evalúa como True. Si la prueba falla o si ambas pruebas fallan, el \n",
    "expresión evalúa a False. \n"
   ]
  },
  {
   "cell_type": "code",
   "execution_count": 11,
   "metadata": {},
   "outputs": [
    {
     "data": {
      "text/plain": [
       "False"
      ]
     },
     "execution_count": 11,
     "metadata": {},
     "output_type": "execute_result"
    }
   ],
   "source": [
    "age_0 = 22\n",
    "age_1 = 18\n",
    "age_0 >= 21 and age_1 >= 21"
   ]
  },
  {
   "cell_type": "code",
   "execution_count": 12,
   "metadata": {},
   "outputs": [
    {
     "data": {
      "text/plain": [
       "True"
      ]
     },
     "execution_count": 12,
     "metadata": {},
     "output_type": "execute_result"
    }
   ],
   "source": [
    "age_0 = 22\n",
    "age_1 = 22\n",
    "age_0 >= 21 and age_1 >= 21"
   ]
  },
  {
   "attachments": {},
   "cell_type": "markdown",
   "metadata": {},
   "source": [
    "**Ambas condiciones deben tener valor True para regresar True**"
   ]
  },
  {
   "attachments": {},
   "cell_type": "markdown",
   "metadata": {},
   "source": [
    "Para mejorar la legibilidad, puede utilizar paréntesis alrededor del \n",
    "pruebas, pero no son necesarias. Si utiliza paréntesis, la prueba quedaria\n",
    "así: "
   ]
  },
  {
   "cell_type": "code",
   "execution_count": 13,
   "metadata": {},
   "outputs": [
    {
     "data": {
      "text/plain": [
       "True"
      ]
     },
     "execution_count": 13,
     "metadata": {},
     "output_type": "execute_result"
    }
   ],
   "source": [
    "(age_0 >= 21) and (age_1 >= 21)"
   ]
  },
  {
   "attachments": {},
   "cell_type": "markdown",
   "metadata": {},
   "source": [
    "### Usar *or* para comprobar varias condiciones"
   ]
  },
  {
   "attachments": {},
   "cell_type": "markdown",
   "metadata": {},
   "source": [
    "La palabra clave *or* permite comprobar varias condiciones también, pero \n",
    "pasa cuando uno o ambos de las pruebas individuales pasan. Una expresión \n",
    "sólo falla cuando las dos pruebas individuales fallan. "
   ]
  },
  {
   "cell_type": "code",
   "execution_count": 14,
   "metadata": {},
   "outputs": [
    {
     "data": {
      "text/plain": [
       "True"
      ]
     },
     "execution_count": 14,
     "metadata": {},
     "output_type": "execute_result"
    }
   ],
   "source": [
    "age_0 = 22\n",
    "age_1 = 18\n",
    "age_0 >= 21 or age_1 >= 21"
   ]
  },
  {
   "cell_type": "code",
   "execution_count": 15,
   "metadata": {},
   "outputs": [
    {
     "data": {
      "text/plain": [
       "False"
      ]
     },
     "execution_count": 15,
     "metadata": {},
     "output_type": "execute_result"
    }
   ],
   "source": [
    "age_0 = 18\n",
    "age_1 = 18\n",
    "age_0 >= 21 or age_1 >= 21\n"
   ]
  },
  {
   "attachments": {},
   "cell_type": "markdown",
   "metadata": {},
   "source": [
    "**Solo sera un valor False si ambas condiciones son False**"
   ]
  },
  {
   "attachments": {},
   "cell_type": "markdown",
   "metadata": {},
   "source": [
    "## Comprobando si un valor esta en una lista"
   ]
  },
  {
   "attachments": {},
   "cell_type": "markdown",
   "metadata": {},
   "source": [
    "En un proyecto de asignación, es posible que \n",
    "desea comprobar si una ubicación presentada ya existe en una lista de \n",
    "ubicaciones. \n",
    "\n",
    "Para averiguar si un valor en particular ya está en una lista, utilice la palabra clave \n",
    "***in***. "
   ]
  },
  {
   "cell_type": "code",
   "execution_count": 16,
   "metadata": {},
   "outputs": [
    {
     "data": {
      "text/plain": [
       "True"
      ]
     },
     "execution_count": 16,
     "metadata": {},
     "output_type": "execute_result"
    }
   ],
   "source": [
    "requested_toppings = ['mushrooms', 'onions', 'pineapple']\n",
    "'mushrooms' in requested_toppings"
   ]
  },
  {
   "cell_type": "code",
   "execution_count": 17,
   "metadata": {},
   "outputs": [
    {
     "data": {
      "text/plain": [
       "False"
      ]
     },
     "execution_count": 17,
     "metadata": {},
     "output_type": "execute_result"
    }
   ],
   "source": [
    "requested_toppings = ['mushrooms', 'onions', 'pineapple']\n",
    "'pepperoni' in requested_toppings"
   ]
  },
  {
   "attachments": {},
   "cell_type": "markdown",
   "metadata": {},
   "source": [
    "## Comprobando si un valor no está en una lista"
   ]
  },
  {
   "attachments": {},
   "cell_type": "markdown",
   "metadata": {},
   "source": [
    "Otras veces, es importante saber si un valor no aparece en una lista. Usted \n",
    "puede utilizar la palabra clave ***not in*** en esta situación.\n",
    "\n",
    "Por ejemplo, consideremos una lista de usuarios que están prohibidos de comentar en un foro. \n"
   ]
  },
  {
   "cell_type": "code",
   "execution_count": 18,
   "metadata": {},
   "outputs": [
    {
     "name": "stdout",
     "output_type": "stream",
     "text": [
      "Marie, you can post a response if you wish.\n"
     ]
    }
   ],
   "source": [
    "banned_users = ['andrew', 'carolina', 'david']\n",
    "user = 'marie'\n",
    "\n",
    "if user not in banned_users:\n",
    "    print(user.title() + \", you can post a response if you wish.\")"
   ]
  },
  {
   "attachments": {},
   "cell_type": "markdown",
   "metadata": {},
   "source": [
    "**En este caso evalua lo contrario, si no esta en la lista hace la condicion del print**"
   ]
  },
  {
   "attachments": {},
   "cell_type": "markdown",
   "metadata": {},
   "source": [
    "## Expresiones booleanas"
   ]
  },
  {
   "attachments": {},
   "cell_type": "markdown",
   "metadata": {},
   "source": [
    "A medida que usted aprenda más sobre la programación, usted oirá el término *Expresión booleana* en algún momento. \n",
    "\n",
    "Una expresión booleana es sólo otro nombre para un prueba condicional. \n",
    "\n",
    "Un valor booleano es *True* o *False*, al igual que el valor \n",
    "de una expresión condicional después de haber sido evaluada. \n"
   ]
  },
  {
   "cell_type": "code",
   "execution_count": 19,
   "metadata": {},
   "outputs": [],
   "source": [
    "game_active = True\n",
    "can_edit = False"
   ]
  },
  {
   "cell_type": "code",
   "execution_count": 20,
   "metadata": {},
   "outputs": [
    {
     "data": {
      "text/plain": [
       "True"
      ]
     },
     "execution_count": 20,
     "metadata": {},
     "output_type": "execute_result"
    }
   ],
   "source": [
    "game_active"
   ]
  },
  {
   "attachments": {},
   "cell_type": "markdown",
   "metadata": {},
   "source": [
    "**Los valores booleanos proporcionan una manera eficaz de rastrear el estado de un programa \n",
    "o una condición particular que sea importante en su programa.** \n"
   ]
  },
  {
   "attachments": {},
   "cell_type": "markdown",
   "metadata": {},
   "source": [
    "# Instrucciones if"
   ]
  },
  {
   "attachments": {},
   "cell_type": "markdown",
   "metadata": {},
   "source": [
    "Cuando entienda las pruebas condicionales, puede comenzar a escribir instrucciones *if*.\n",
    "\n",
    "Varios tipos diferentes de si existen declaraciones, y su elección de que a \n",
    "el uso depende del número de condiciones que usted necesita probar. \n"
   ]
  },
  {
   "attachments": {},
   "cell_type": "markdown",
   "metadata": {},
   "source": [
    "## Intrucciones if simples\n"
   ]
  },
  {
   "attachments": {},
   "cell_type": "markdown",
   "metadata": {},
   "source": [
    "El tipo más simple de la instrucción if tiene una prueba y una acción:"
   ]
  },
  {
   "cell_type": "code",
   "execution_count": 21,
   "metadata": {},
   "outputs": [],
   "source": [
    "#if conditional_test:\n",
    "#    do something"
   ]
  },
  {
   "attachments": {},
   "cell_type": "markdown",
   "metadata": {},
   "source": [
    "Puede poner cualquier prueba condicional en la primera línea y casi cualquier \n",
    "en el bloque con indentacion después de la prueba. \n",
    "\n",
    "Si la prueba condicional evalúa en True, Python ejecuta el código siguiendo la instrucción if. \n",
    "Si la prueba se evalúa en Falso, Python ignora el código que tiene la instruccion if. \n"
   ]
  },
  {
   "cell_type": "code",
   "execution_count": 22,
   "metadata": {},
   "outputs": [
    {
     "name": "stdout",
     "output_type": "stream",
     "text": [
      "You are old enough to vote!\n"
     ]
    }
   ],
   "source": [
    "age = 19\n",
    "if age >= 18:\n",
    "    print(\"You are old enough to vote!\")"
   ]
  },
  {
   "attachments": {},
   "cell_type": "markdown",
   "metadata": {},
   "source": [
    "La indentacion desempeña el mismo rol en las instrucciones if que se hicieron en bucles. \n",
    "\n",
    "Todas las líneas indentadas después de una instrucción if se ejecutarán si el test pasa, \n",
    "y el bloque entero de líneas indentadas será ignorado si la prueba no pasa. \n"
   ]
  },
  {
   "cell_type": "code",
   "execution_count": 23,
   "metadata": {},
   "outputs": [
    {
     "name": "stdout",
     "output_type": "stream",
     "text": [
      "You are old enough to vote!\n",
      "Have you registered to vote yet?\n"
     ]
    }
   ],
   "source": [
    "age = 19\n",
    "if age >= 18:\n",
    "    print(\"You are old enough to vote!\")\n",
    "    print(\"Have you registered to vote yet?\")"
   ]
  },
  {
   "attachments": {},
   "cell_type": "markdown",
   "metadata": {},
   "source": [
    "La prueba condicional pasa, y las dos instrucciones de impresión están identadas, por lo que \n",
    "ambas líneas están impresas: \n"
   ]
  },
  {
   "attachments": {},
   "cell_type": "markdown",
   "metadata": {},
   "source": [
    "## Intrucciones if-else"
   ]
  },
  {
   "attachments": {},
   "cell_type": "markdown",
   "metadata": {},
   "source": [
    "A menudo, usted querrá tomar una acción cuando pasa una prueba condicional y un diferente \n",
    "en todos los demás casos. La sintaxis if-else hace esto posible. \n",
    "\n",
    "Un bloque if-else es similar a una instrucción simple if, pero la instrucción else \n",
    "permite definir una acción o conjunto de acciones ejecutadas cuando el objeto \n",
    "prueba condicional falla. \n"
   ]
  },
  {
   "cell_type": "code",
   "execution_count": 24,
   "metadata": {},
   "outputs": [
    {
     "name": "stdout",
     "output_type": "stream",
     "text": [
      "Sorry, you are too young to vote.\n",
      "Please register to vote as soon as you turn 18!\n"
     ]
    }
   ],
   "source": [
    "age = 17\n",
    "if age >= 18:\n",
    "    print(\"You are old enough to vote!\")\n",
    "    print(\"Have you registered to vote yet?\")\n",
    "\n",
    "else:\n",
    "    print(\"Sorry, you are too young to vote.\")\n",
    "    print(\"Please register to vote as soon as you turn 18!\")"
   ]
  },
  {
   "attachments": {},
   "cell_type": "markdown",
   "metadata": {},
   "source": [
    "Este código funciona porque sólo tiene dos situaciones posibles para evaluar: \n",
    "una persona es lo suficientemente mayor como para votar o no lo suficientemente para votar. \n",
    "\n",
    "La estructura de if-else funciona bien en situaciones en las que Python desea ejecutar siempre \n",
    "una de las dos acciones posibles. En una cadena simple como esta, uno de los dos \n",
    "acciones siempre se ejecutarán. \n"
   ]
  },
  {
   "attachments": {},
   "cell_type": "markdown",
   "metadata": {},
   "source": [
    "## La cadena de if-elif-else"
   ]
  },
  {
   "attachments": {},
   "cell_type": "markdown",
   "metadata": {},
   "source": [
    "A menudo, necesitará probar más de dos situaciones posibles, y para evaluar \n",
    "pueden usar la sintaxis de Python if-elif-else. Python ejecuta sólo un objeto \n",
    "bloquear en una cadena if-elif-else. \n",
    "\n",
    "Funciona cada prueba condicional en orden hasta que uno pasa. Cuando una prueba pasa, el código que sigue a esa prueba se ejecuta y Python omite el resto de las pruebas. \n"
   ]
  },
  {
   "attachments": {},
   "cell_type": "markdown",
   "metadata": {},
   "source": [
    "Por ejemplo, consideremos un parque de atracciones que cobra diferentes tasas para \n",
    "diferentes edades: \n",
    "\n",
    "* Admisión para cualquier persona bajo edad 4 es gratis. \n",
    "* Admisión para cualquier persona entre las edades de 4 y 18 es $5. \n",
    "* Admisión para cualquier persona de 18 años o más es de $ 10. \n"
   ]
  },
  {
   "cell_type": "code",
   "execution_count": 25,
   "metadata": {},
   "outputs": [
    {
     "name": "stdout",
     "output_type": "stream",
     "text": [
      "Your admission cost is $5.\n"
     ]
    }
   ],
   "source": [
    "age = 12\n",
    "\n",
    "if age < 4:\n",
    "    print(\"Your admission cost is $0.\")\n",
    "elif age < 18:\n",
    "    print(\"Your admission cost is $5.\")\n",
    "else:\n",
    "    print(\"Your admission cost is $10.\")\n",
    "\n"
   ]
  },
  {
   "attachments": {},
   "cell_type": "markdown",
   "metadata": {},
   "source": [
    "Cualquier edad mayor de 18 causaría que las primeras dos pruebas fracasen. En estos \n",
    "las situaciones, el bloque de la otra sería ejecutado y el precio de admisión \n",
    "ser $10. \n",
    "\n",
    "En lugar de imprimir el precio de admisión dentro del bloque if-elif-else, \n",
    "sería más conciso establecer sólo el precio dentro de la cadena de if-elif-else \n",
    "y luego tener una simple instrucción print que se ejecuta después de que la cadena ha sido \n",
    "evaluado: \n"
   ]
  },
  {
   "cell_type": "code",
   "execution_count": 26,
   "metadata": {},
   "outputs": [
    {
     "name": "stdout",
     "output_type": "stream",
     "text": [
      "Your admission cost is $10.\n"
     ]
    }
   ],
   "source": [
    "age = 18\n",
    "\n",
    "if age < 4:\n",
    "    price = 0\n",
    "elif age < 18:\n",
    "    price = 5\n",
    "else:\n",
    "    price = 10\n",
    "\n",
    "print(\"Your admission cost is $\" + str(price) + \".\")"
   ]
  },
  {
   "attachments": {},
   "cell_type": "markdown",
   "metadata": {},
   "source": [
    "**Aqui el codigo esta mejor establecido ya que usamos otro variable para el precio y luego la mandamos imprimir cuando de acuerdo a la condicion el valor de precio cambiara**"
   ]
  },
  {
   "attachments": {},
   "cell_type": "markdown",
   "metadata": {},
   "source": [
    "## Uso de múltiples bloques elif"
   ]
  },
  {
   "attachments": {},
   "cell_type": "markdown",
   "metadata": {},
   "source": [
    "Puedes usar tantos bloques elif en tu código como quieras. \n",
    "\n",
    "Por ejemplo, si el parque de diversiones fuera a implementar un descuento para las personas mayores, tu podrías agregar una prueba condicional más al código para determinar si alguien calificó \n",
    "para el descuento senior. \n",
    "\n",
    "Digamos que alguien 65 o más paga la mitad del \n",
    "admisión regular, o $5: "
   ]
  },
  {
   "cell_type": "code",
   "execution_count": 27,
   "metadata": {},
   "outputs": [
    {
     "name": "stdout",
     "output_type": "stream",
     "text": [
      "Your admission cost is $10.\n"
     ]
    }
   ],
   "source": [
    "age = 60\n",
    "\n",
    "if age < 4:\n",
    "    price = 0\n",
    "elif age < 18:\n",
    "    price = 5\n",
    "elif age < 65:\n",
    "    price = 10\n",
    "else:\n",
    "    price = 5\n",
    "\n",
    "print(\"Your admission cost is $\" + str(price) + \".\")"
   ]
  },
  {
   "attachments": {},
   "cell_type": "markdown",
   "metadata": {},
   "source": [
    "## Omitiendo el bloque else"
   ]
  },
  {
   "attachments": {},
   "cell_type": "markdown",
   "metadata": {},
   "source": [
    "Python no requiere un bloque más al final de una cadena if-elif. A veces \n",
    "un bloque más es útil; a veces es más claro utilizar una declaracion elif que capta la condición específica de interés: \n"
   ]
  },
  {
   "cell_type": "code",
   "execution_count": 28,
   "metadata": {},
   "outputs": [
    {
     "name": "stdout",
     "output_type": "stream",
     "text": [
      "Your admission cost is $5.\n"
     ]
    }
   ],
   "source": [
    "age = 70\n",
    "if age < 4:\n",
    "    price = 0\n",
    "elif age < 18:\n",
    "    price = 5\n",
    "elif age < 65:\n",
    "    price = 10\n",
    "\n",
    "#Sustituimos el else anterior por una condicion elif \n",
    "elif age >= 65:\n",
    "    price = 5\n",
    "\n",
    "print(\"Your admission cost is $\" + str(price) + \".\")"
   ]
  },
  {
   "attachments": {},
   "cell_type": "markdown",
   "metadata": {},
   "source": [
    "## Probando varias condiciones"
   ]
  },
  {
   "attachments": {},
   "cell_type": "markdown",
   "metadata": {},
   "source": [
    "La cadena if-elif-else es potente, pero sólo es apropiada para usarla cuando \n",
    "sólo necesita una prueba para pasar. Tan pronto como Python encuentra una prueba que pasa, \n",
    "se omite el resto de las pruebas. Este comportamiento es beneficioso, porque es eficaz \n",
    "y le permite probar una condición específica. \n",
    "\n",
    "Sin embargo, a veces es importante comprobar todas las condiciones de \n",
    "interés. En este caso, debe utilizar una serie de instrucciones simples si no hay \n",
    "elif o más bloques. Esta técnica tiene sentido cuando más de una condición \n",
    "podría ser Verdadero, y quieres actuar en todas las condiciones que son Verdaderas. \n"
   ]
  },
  {
   "cell_type": "code",
   "execution_count": 29,
   "metadata": {},
   "outputs": [
    {
     "name": "stdout",
     "output_type": "stream",
     "text": [
      "Adding mushrooms.\n",
      "Adding extra cheese.\n",
      "\n",
      "Finished making your pizza!\n"
     ]
    }
   ],
   "source": [
    "requested_toppings = ['mushrooms', 'extra cheese']\n",
    "\n",
    "if 'mushrooms' in requested_toppings:\n",
    "    print(\"Adding mushrooms.\")\n",
    "if 'pepperoni' in requested_toppings:\n",
    "    print(\"Adding pepperoni.\")\n",
    "if 'extra cheese' in requested_toppings:\n",
    "    print(\"Adding extra cheese.\")\n",
    "    \n",
    "print(\"\\nFinished making your pizza!\")"
   ]
  },
  {
   "attachments": {},
   "cell_type": "markdown",
   "metadata": {},
   "source": [
    "Este código no funcionaría correctamente si utilizamos un bloque if-elif-else, \n",
    "porque el código dejaría de funcionar después de sólo una prueba pasa. \n",
    "\n",
    "Se vería como: "
   ]
  },
  {
   "cell_type": "code",
   "execution_count": 30,
   "metadata": {},
   "outputs": [
    {
     "name": "stdout",
     "output_type": "stream",
     "text": [
      "Adding mushrooms.\n",
      "\n",
      "Finished making your pizza!\n"
     ]
    }
   ],
   "source": [
    "requested_toppings = ['mushrooms', 'extra cheese']\n",
    "if 'mushrooms' in requested_toppings:\n",
    "    print(\"Adding mushrooms.\")\n",
    "elif 'pepperoni' in requested_toppings:\n",
    "    print(\"Adding pepperoni.\")\n",
    "elif 'extra cheese' in requested_toppings:\n",
    "    print(\"Adding extra cheese.\")\n",
    "\n",
    "print(\"\\nFinished making your pizza!\")"
   ]
  },
  {
   "attachments": {},
   "cell_type": "markdown",
   "metadata": {},
   "source": [
    "The test for 'mushrooms' is the first test to pass, so mushrooms are added\n",
    "to the pizza. However, the values 'extra cheese' and 'pepperoni' are never\n",
    "checked, because Python doesn’t run any tests beyond the first test that\n",
    "passes in an if-elif-else chain.\n",
    "\n",
    "La prueba para 'mushrooms' es la primera prueba a pasar, por lo que se añaden las setas \n",
    "a la pizza. Sin embargo, los valores de \"queso extra\" y \"pepperoni\" nunca son \n",
    "comprobado, porque Python no ejecuta ninguna pruebas más allá de la primera prueba que \n",
    "pasa en una cadena de if-elif-else. \n"
   ]
  },
  {
   "attachments": {},
   "cell_type": "markdown",
   "metadata": {},
   "source": [
    "# Usando instrucciones if con listas"
   ]
  },
  {
   "attachments": {},
   "cell_type": "markdown",
   "metadata": {},
   "source": [
    "Puede realizar algunos trabajos interesantes al combinar las listas y las declaraciones. \n",
    "\n",
    "Puede ver los valores especiales que necesitan ser tratados de forma diferente \n",
    "que otros valores de la lista. \n",
    "\n",
    "Puede administrar las condiciones de cambio eficientemente, como la disponibilidad de ciertos artículos en un restaurante a lo largo de un cambio. \n"
   ]
  },
  {
   "attachments": {},
   "cell_type": "markdown",
   "metadata": {},
   "source": [
    "## Comprobación de artículos especiales"
   ]
  },
  {
   "attachments": {},
   "cell_type": "markdown",
   "metadata": {},
   "source": [
    "La pizzería muestra un mensaje \n",
    "cada vez que un relleno se añade a su pizza, ya que se está haciendo. El código de \n",
    "esta acción se puede escribir muy eficientemente haciendo una lista de las coberturas el \n",
    "cliente ha solicitado y utilizando un bucle para anunciar cada topping, ya que es \n",
    "añadido a la pizza: \n"
   ]
  },
  {
   "cell_type": "code",
   "execution_count": 31,
   "metadata": {},
   "outputs": [
    {
     "name": "stdout",
     "output_type": "stream",
     "text": [
      "Adding mushrooms.\n",
      "Adding green peppers.\n",
      "Adding extra cheese.\n",
      "\n",
      "Finished making your pizza!\n"
     ]
    }
   ],
   "source": [
    "requested_toppings = ['mushrooms', 'green peppers', 'extra cheese']\n",
    "\n",
    "for requested_topping in requested_toppings:\n",
    "    print(\"Adding \" + requested_topping + \".\")\n",
    "\n",
    "print(\"\\nFinished making your pizza!\")"
   ]
  },
  {
   "attachments": {},
   "cell_type": "markdown",
   "metadata": {},
   "source": [
    "¿Pero qué pasa si la pizzería se queda sin pimientos verdes? Una instrucción if \n",
    "dentro del bucle for puede manejar esta situación apropiadamente: \n"
   ]
  },
  {
   "cell_type": "code",
   "execution_count": 32,
   "metadata": {},
   "outputs": [
    {
     "name": "stdout",
     "output_type": "stream",
     "text": [
      "Adding mushrooms.\n",
      "Sorry, we are out of green peppers right now.\n",
      "Adding extra cheese.\n",
      "\n",
      "Finished making your pizza!\n"
     ]
    }
   ],
   "source": [
    "requested_toppings = ['mushrooms', 'green peppers', 'extra cheese']\n",
    "\n",
    "for requested_topping in requested_toppings:\n",
    "    if requested_topping == 'green peppers':\n",
    "        print(\"Sorry, we are out of green peppers right now.\")\n",
    "    else:\n",
    "        print(\"Adding \" + requested_topping + \".\")\n",
    "\n",
    "print(\"\\nFinished making your pizza!\")"
   ]
  },
  {
   "attachments": {},
   "cell_type": "markdown",
   "metadata": {},
   "source": [
    "**Ahora podemos mostrar un mensaje junto con condicionales if-else**"
   ]
  },
  {
   "attachments": {},
   "cell_type": "markdown",
   "metadata": {},
   "source": [
    "## Comprobación de que una lista no está vacía"
   ]
  },
  {
   "attachments": {},
   "cell_type": "markdown",
   "metadata": {},
   "source": [
    "En esta situación, es útil para comprobar si una lista está vacía antes de ejecutar un bucle for. \n"
   ]
  },
  {
   "cell_type": "code",
   "execution_count": 33,
   "metadata": {},
   "outputs": [
    {
     "name": "stdout",
     "output_type": "stream",
     "text": [
      "Are you sure you want a plain pizza?\n"
     ]
    }
   ],
   "source": [
    "requested_toppings = []\n",
    "if requested_toppings:\n",
    "    for requested_topping in requested_toppings:\n",
    "        print(\"Adding \" + requested_topping + \".\")\n",
    "    print(\"\\nFinished making your pizza!\")\n",
    "else:\n",
    "    print(\"Are you sure you want a plain pizza?\")"
   ]
  },
  {
   "attachments": {},
   "cell_type": "markdown",
   "metadata": {},
   "source": [
    "## Uso de varias listas"
   ]
  },
  {
   "attachments": {},
   "cell_type": "markdown",
   "metadata": {},
   "source": [
    "La gente pedirá casi cualquier cosa, especialmente cuando se trata de pizza \n",
    "coberturas. ¿Qué pasa si un cliente realmente quiere papas fritas en su pizza? Usted \n",
    "puede utilizar listas y si las instrucciones para asegurarse de que su entrada tiene sentido antes de \n",
    "actúas en ello. \n",
    "\n",
    "Dejemos que los veamos por peticiones inusuales antes de que construyamos una pizza. \n",
    "En el ejemplo siguiente se definen dos listas. La primera es una lista de los ingredientes disponibles \n",
    "en la pizzería, y la segunda es la lista de coberturas que el usuario tiene \n",
    "solicitado. Esta vez, cada elemento en requested_toppings se comprueba en el objeto \n",
    "lista de coberturas disponibles antes de que se añada a la pizza: \n"
   ]
  },
  {
   "cell_type": "code",
   "execution_count": 34,
   "metadata": {},
   "outputs": [
    {
     "name": "stdout",
     "output_type": "stream",
     "text": [
      "Adding mushrooms.\n",
      "Sorry, we don't have french fries.\n",
      "Adding extra cheese.\n",
      "\n",
      "Finished making your pizza!\n"
     ]
    }
   ],
   "source": [
    "available_toppings = ['mushrooms', 'olives', 'green peppers','pepperoni', 'pineapple', 'extra cheese']\n",
    "requested_toppings = ['mushrooms', 'french fries', 'extra cheese']\n",
    " \n",
    "for requested_topping in requested_toppings:\n",
    "    if requested_topping in available_toppings:\n",
    "        print(\"Adding \" + requested_topping + \".\")\n",
    "    else:\n",
    "        print(\"Sorry, we don't have \" + requested_topping + \".\")\n",
    "print(\"\\nFinished making your pizza!\")"
   ]
  },
  {
   "attachments": {},
   "cell_type": "markdown",
   "metadata": {},
   "source": [
    "# Ejercicios"
   ]
  },
  {
   "attachments": {},
   "cell_type": "markdown",
   "metadata": {},
   "source": [
    "### 5-1. Pruebas condicionales:\n",
    "\n",
    "Escribe una serie de pruebas condicionales. \n",
    "\n",
    "Imprime una declaración describiendo cada prueba y tu predicción para los resultados de cada prueba. Su código \n",
    "debe verse algo como esto: \n",
    "\n",
    "\n",
    "coche = 'subaru' \n",
    "\n",
    "print(\"¿Es el coche == 'subaru'? Yo predicho Verdadero.\") \n",
    "\n",
    "print(coche == 'subaru') \n",
    "\n",
    "print(\"\\nEs el coche == 'audi'? Yo predicho False.\") \n",
    "\n",
    "print(coche == 'audi') \n",
    "\n",
    "\n",
    "* Mira de cerca tus resultados, y asegúrate de entender por qué cada línea de \n",
    "evalúa como True o False. \n",
    "* Crear al menos 10 pruebas. Tener al menos 5 pruebas de evaluación a True y otro \n",
    "5 tests evaluan a False. \n"
   ]
  },
  {
   "attachments": {},
   "cell_type": "markdown",
   "metadata": {},
   "source": [
    "### 5-2. Más pruebas condicionales:\n",
    "\n",
    "Usted no tiene que limitar el número de pruebas que se crean a 10. Si desea probar más comparaciones, escriba más pruebas y agregue \n",
    "a conditional_tests el ejercicio 5.1. Tener al menos un resultado True y uno False para \n",
    "cada uno de los siguientes: \n",
    "\n",
    "* Pruebas de igualdad y desigualdad con cadenas \n",
    "* Pruebas usando la función lower() \n",
    "* Pruebas numéricas que implican igualdad y desigualdad, mayor que y \n",
    "menor que, mayor o igual a, y menor o igual que \n",
    "* Pruebas usando la palabra clave y la palabra clave \n",
    "* Probar si un elemento está en una lista \n",
    "* Probar si un elemento no está en una lista \n"
   ]
  },
  {
   "attachments": {},
   "cell_type": "markdown",
   "metadata": {},
   "source": [
    "### 5-3. Alien Colors #1: \n",
    "\n",
    "Imagina que un alienígena acaba de disparar en un juego. Cree una variable denominada alien_color y asígnele un valor de 'verde', 'amarillo' o 'rojo'. \n",
    "\n",
    "* Escribir una declaración si para probar si el color del alien es verde. Si lo es, imprima \n",
    "un mensaje que el jugador acaba de ganar 5 puntos. \n",
    "\n",
    "* Escribir una versión de este programa que pasa la prueba de si y otra que \n",
    "falla. (La versión que falla no tendrá salida.) \n"
   ]
  },
  {
   "attachments": {},
   "cell_type": "markdown",
   "metadata": {},
   "source": [
    "### 5-4. Alien Colors #2: \n",
    "\n",
    "Elija un color para un alien como lo hizo en el Ejercicio 5-3, y escribir una cadena de if-else.\n",
    "\n",
    "* Si el color del alien es verde, imprima una declaración que el jugador acaba de ganar \n",
    "5 puntos por disparar al alienígena. \n",
    "* Si el color de los alienígenas no es verde, imprima una declaración que el jugador acaba de ganar \n",
    "10 puntos. \n",
    "* Escribir una versión de este programa que ejecuta el bloque de if y otro que \n",
    "ejecuta el bloque else. \n"
   ]
  },
  {
   "attachments": {},
   "cell_type": "markdown",
   "metadata": {},
   "source": [
    "#### 5-5. Alien Colors #3: \n",
    "\n",
    "Convierta la cadena de si-else del Ejercicio 5-4 en una cadena if-elif-else. \n",
    "\n",
    "* Si el alien es verde, imprima un mensaje que el jugador ganó 5 puntos. \n",
    "* Si el alien es amarillo, imprima un mensaje que el jugador ganó 10 puntos. \n",
    "* Si el alien es rojo, imprima un mensaje que el jugador ganó 15 puntos. \n",
    "* Escribe tres versiones de este programa, asegurándose de que cada mensaje esté impreso \n",
    "para el color adecuado alienígena. \n"
   ]
  },
  {
   "attachments": {},
   "cell_type": "markdown",
   "metadata": {},
   "source": [
    "### 5-6. Etapas de la Vida:\n",
    "\n",
    "Escribe una cadena de if-elif-else que determina la etapa de una persona en la vida. Establezca un valor para la edad variable y luego: \n",
    "\n",
    "* Si la persona tiene menos de 2 años, imprima un mensaje que la persona es \n",
    "un bebé. \n",
    "* Si la persona tiene por lo menos 2 años de edad, pero menos de 4, imprima un mensaje que \n",
    "la persona es un niño pequeño. \n",
    "* Si la persona tiene por lo menos 4 años de edad, pero menos de 13, imprima un mensaje que \n",
    "la persona es un niño. \n",
    "* Si la persona tiene por lo menos 13 años de edad, pero menos de 20, imprima un mensaje que \n",
    "la persona es una adolescente. \n",
    "* Si la persona tiene por lo menos 20 años de edad pero menos de 65, imprima un mensaje que \n",
    "la persona es adulta. \n",
    "* Si la persona tiene 65 años o más, imprima un mensaje de que la persona es \n",
    "."
   ]
  },
  {
   "attachments": {},
   "cell_type": "markdown",
   "metadata": {},
   "source": [
    "### 5-7. Fruta Favorita: \n",
    "\n",
    "Haz una lista de tus frutas favoritas y luego escribe una serie de\n",
    "Independiente si declaraciones que comprueban ciertas frutas en su lista.\n",
    "\n",
    "* Haz una lista de tus tres frutas favoritas y llámalo favorite_fruits.\n",
    "* Escribe cinco declaraciones if. Cada uno debe verificar si un cierto tipo de fruta\n",
    "está en tu lista. Si la fruta está en su lista, el bloque if debe imprimir una declaración,\n",
    "como ¡Realmente me gustan los plátanos!"
   ]
  },
  {
   "attachments": {},
   "cell_type": "markdown",
   "metadata": {},
   "source": [
    "### 5-8. Hola Admin: \n",
    "Haz una lista de cinco o más nombres de usuario, incluido el nombre 'admin'. \n",
    "\n",
    "Imagina que estás escribiendo código que imprimirá un saludo a cada usuario\n",
    "después de iniciar sesión en un sitio web. Recorre la lista e imprime un saludo en\n",
    "Cada usuario:\n",
    "* Si el nombre de usuario es 'admin', imprima un saludo especial, como Hello admin,\n",
    "¿Le gustaría ver un informe de estado?\n",
    "* De lo contrario, imprima un saludo genérico, como Hola Eric, gracias por iniciar sesión\n",
    "en otra vez."
   ]
  },
  {
   "attachments": {},
   "cell_type": "markdown",
   "metadata": {},
   "source": [
    "### 5-9. No Usuarios: \n",
    "Agregue una prueba if a hello_admin.py para asegurarse de que la lista de usuarios no esté vacía.\n",
    "\n",
    "* Si la lista está vacía, imprima el mensaje ¡Necesitamos encontrar algunos usuarios!\n",
    "* Elimine todos los nombres de usuario de su lista y asegúrese de que sean correctos\n",
    "se imprime."
   ]
  },
  {
   "attachments": {},
   "cell_type": "markdown",
   "metadata": {},
   "source": [
    "### 5-10. Checando nombres de usuarios: \n",
    "\n",
    "Haga lo siguiente para crear un programa que simule cómo los sitios web aseguran que todos tengan un nombre de usuario único.\n",
    "\n",
    "* Haga una lista de cinco o más nombres de usuario llamados current_users.\n",
    "* Haga otra lista de cinco nombres de usuario llamada new_users. Asegúrese de que uno o\n",
    "dos de los nuevos nombres de usuario también están en la lista current_users.\n",
    "* Recorra la lista new_users para ver si cada nuevo nombre de usuario ya ha\n",
    "ha sido usado. Si es así, imprima un mensaje de que la persona deberá ingresar un\n",
    "nuevo nombre de usuario. Si no se ha utilizado un nombre de usuario, imprima un mensaje que diga\n",
    "que el nombre de usuario está disponible.\n",
    "* Asegúrese de que su comparación no distinga entre mayúsculas y minúsculas. Si se ha utilizado 'Juan',\n",
    "No se debe aceptar 'JUAN'."
   ]
  },
  {
   "attachments": {},
   "cell_type": "markdown",
   "metadata": {},
   "source": [
    "### 5-11. Números ordinales:\n",
    "\n",
    "Los números ordinales indican su posición en una lista, como 1º o 2º. La mayoría de los números ordinales terminan en th, excepto 1, 2 y 3.\n",
    "* Guarde los números del 1 al 9 en una lista.\n",
    "* Bucle a través de la lista.\n",
    "* Use una cadena if-elif-else dentro del bucle para imprimir el final ordinal adecuado\n",
    "para cada número. Su salida debe decir \"1st 2nd 3rd 4th 5th 6th\n",
    "7th 8th 9th\", y cada resultado debe estar en una línea separada."
   ]
  }
 ],
 "metadata": {
  "kernelspec": {
   "display_name": "Python 3",
   "language": "python",
   "name": "python3"
  },
  "language_info": {
   "codemirror_mode": {
    "name": "ipython",
    "version": 3
   },
   "file_extension": ".py",
   "mimetype": "text/x-python",
   "name": "python",
   "nbconvert_exporter": "python",
   "pygments_lexer": "ipython3",
   "version": "3.10.7"
  },
  "orig_nbformat": 4
 },
 "nbformat": 4,
 "nbformat_minor": 2
}
