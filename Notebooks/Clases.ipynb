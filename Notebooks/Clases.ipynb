{
 "cells": [
  {
   "attachments": {},
   "cell_type": "markdown",
   "metadata": {},
   "source": [
    "# Introduccion"
   ]
  },
  {
   "attachments": {},
   "cell_type": "markdown",
   "metadata": {},
   "source": [
    "Object-oriented programming is one of the\n",
    "most effective approaches to writing software.\n",
    "In object-oriented programming you\n",
    "write classes that represent real-world things\n",
    "and situations, and you create objects based on these\n",
    "classes. When you write a class, you define the general\n",
    "behavior that a whole category of objects can have.\n",
    "\n",
    "Classes also make life easier for you and the other programmers you’ll\n",
    "need to work with as you take on increasingly complex challenges. When\n",
    "you and other programmers write code based on the same kind of logic,\n",
    "you’ll be able to understand each other’s work. Your programs will make\n",
    "sense to many collaborators, allowing everyone to accomplish more."
   ]
  },
  {
   "attachments": {},
   "cell_type": "markdown",
   "metadata": {},
   "source": [
    "# Creando y usando una clase"
   ]
  },
  {
   "attachments": {},
   "cell_type": "markdown",
   "metadata": {},
   "source": [
    "You can model almost anything using classes. Let’s start by writing a simple\n",
    "class, Dog, that represents a dog—not one dog in particular, but any dog.\n",
    "What do we know about most pet dogs? Well, they all have a name and age.\n",
    "\n",
    "We also know that most dogs sit and roll over. Those two pieces of information\n",
    "(name and age) and those two behaviors (sit and roll over) will go\n",
    "in our Dog class because they’re common to most dogs. This class will tell\n",
    "Python how to make an object representing a dog. After our class is written,\n",
    "we’ll use it to make individual instances, each of which represents one specific\n",
    "dog."
   ]
  },
  {
   "attachments": {},
   "cell_type": "markdown",
   "metadata": {},
   "source": [
    "## Creando la clase Perro"
   ]
  },
  {
   "attachments": {},
   "cell_type": "markdown",
   "metadata": {},
   "source": [
    "Each instance created from the Dog class will store a name and an age, and\n",
    "we’ll give each dog the ability to sit() and roll_over():"
   ]
  },
  {
   "cell_type": "code",
   "execution_count": 1,
   "metadata": {},
   "outputs": [],
   "source": [
    "#dog.py\n",
    "\n",
    "class Dog():\n",
    "    \"\"\"A simple attempt to model a dog.\"\"\"\n",
    "\n",
    "    def __init__(self, name, age):\n",
    "        \"\"\"Initialize name and age attributes.\"\"\"\n",
    "        self.name = name\n",
    "        self.age = age\n",
    "    \n",
    "    def sit(self):\n",
    "        \"\"\"Simulate a dog sitting in response to a command.\"\"\"\n",
    "        print(self.name.title() + \" is now sitting.\")\n",
    "    \n",
    "    def roll_over(self):\n",
    "        \"\"\"Simulate rolling over in response to a command.\"\"\"\n",
    "        print(self.name.title() + \" rolled over!\")"
   ]
  },
  {
   "attachments": {},
   "cell_type": "markdown",
   "metadata": {},
   "source": [
    "There’s a lot to notice here, but don’t worry. You’ll see this structure\n",
    "throughout this chapter and have lots of time to get used to it. At u we\n",
    "define a class called Dog. By convention, capitalized names refer to classes\n",
    "in Python. The parentheses in the class definition are empty because we’re\n",
    "creating this class from scratch. At v we write a docstring describing what\n",
    "this class does."
   ]
  },
  {
   "attachments": {},
   "cell_type": "markdown",
   "metadata": {},
   "source": [
    "### El metodo __init__()"
   ]
  },
  {
   "attachments": {},
   "cell_type": "markdown",
   "metadata": {},
   "source": [
    "A function that’s part of a class is a method. Everything you learned about\n",
    "functions applies to methods as well; the only practical difference for now is\n",
    "the way we’ll call methods. The __init__() method at is a special method\n",
    "Python runs automatically whenever we create a new instance based on the\n",
    "Dog class. This method has two leading underscores and two trailing underscores,\n",
    "a convention that helps prevent Python’s default method names\n",
    "from conflicting with your method names."
   ]
  },
  {
   "attachments": {},
   "cell_type": "markdown",
   "metadata": {},
   "source": [
    "We define the __init__() method to have three parameters: self, name,\n",
    "and age. The self parameter is required in the method definition, and it\n",
    "must come first before the other parameters. It must be included in the definition\n",
    "because when Python calls this __init__() method later (to create an\n",
    "instance of Dog), the method call will automatically pass the self argument.\n",
    "Every method call associated with a class automatically passes self, which\n",
    "is a reference to the instance itself; it gives the individual instance access to\n",
    "the attributes and methods in the class. When we make an instance of Dog,\n",
    "Python will call the __init__() method from the Dog class. We’ll pass Dog()\n",
    "a name and an age as arguments; self is passed automatically, so we don’t\n",
    "need to pass it. Whenever we want to make an instance from the Dog class,\n",
    "we’ll provide values for only the last two parameters, name and age."
   ]
  },
  {
   "attachments": {},
   "cell_type": "markdown",
   "metadata": {},
   "source": [
    "The two variables defined at each have the prefix self. Any variable\n",
    "prefixed with self is available to every method in the class, and we’ll also be\n",
    "able to access these variables through any instance created from the class.\n",
    "self.name = name takes the value stored in the parameter name and stores it\n",
    "in the variable name, which is then attached to the instance being created.\n",
    "The same process happens with self.age = age. Variables that are accessible\n",
    "through instances like this are called attributes."
   ]
  },
  {
   "attachments": {},
   "cell_type": "markdown",
   "metadata": {},
   "source": [
    "The Dog class has two other methods defined: sit() and roll_over() .\n",
    "Because these methods don’t need additional information like a name\n",
    "or age, we just define them to have one parameter, self. The instances\n",
    "we create later will have access to these methods. In other words, they’ll\n",
    "be able to sit and roll over. For now, sit() and roll_over() don’t do much.\n",
    "They simply print a message saying the dog is sitting or rolling over. But\n",
    "the concept can be extended to realistic situations: if this class were part\n",
    "of an actual computer game, these methods would contain code to make\n",
    "an animated dog sit and roll over. If this class was written to control a\n",
    "robot, these methods would direct movements that cause a dog robot to\n",
    "sit and roll over."
   ]
  },
  {
   "attachments": {},
   "cell_type": "markdown",
   "metadata": {},
   "source": [
    "## Making an Instance from a Class"
   ]
  },
  {
   "attachments": {},
   "cell_type": "markdown",
   "metadata": {},
   "source": [
    "Think of a class as a set of instructions for how to make an instance. The\n",
    "class Dog is a set of instructions that tells Python how to make individual\n",
    "instances representing specific dogs.\n",
    "Let’s make an instance representing a specific dog:\n",
    "\n"
   ]
  },
  {
   "cell_type": "code",
   "execution_count": 2,
   "metadata": {},
   "outputs": [
    {
     "name": "stdout",
     "output_type": "stream",
     "text": [
      "My dog's name is Willie.\n",
      "My dog is 6 years old.\n"
     ]
    }
   ],
   "source": [
    "my_dog = Dog('willie', 6)\n",
    "\n",
    "print(\"My dog's name is \" + my_dog.name.title() + \".\")\n",
    "print(\"My dog is \" + str(my_dog.age) + \" years old.\")"
   ]
  },
  {
   "attachments": {},
   "cell_type": "markdown",
   "metadata": {},
   "source": [
    "The Dog class we’re using here is the one we just wrote in the previous\n",
    "example. At we tell Python to create a dog whose name is 'willie' and\n",
    "whose age is 6. When Python reads this line, it calls the __init__() method\n",
    "in Dog with the arguments 'willie' and 6. The __init__() method creates an\n",
    "instance representing this particular dog and sets the name and age attributes\n",
    "using the values we provided. The __init__() method has no explicit return\n",
    "statement, but Python automatically returns an instance representing this\n",
    "dog. We store that instance in the variable my_dog. The naming convention is\n",
    "helpful here: we can usually assume that a capitalized name like Dog refers\n",
    "to a class, and a lowercase name like my_dog refers to a single instance created\n",
    "from a class."
   ]
  },
  {
   "attachments": {},
   "cell_type": "markdown",
   "metadata": {},
   "source": [
    "### Accessing Attributes"
   ]
  },
  {
   "attachments": {},
   "cell_type": "markdown",
   "metadata": {},
   "source": [
    "To access the attributes of an instance, you use dot notation. At we access\n",
    "the value of my_dog’s attribute name by writing:\n",
    "\n"
   ]
  },
  {
   "cell_type": "code",
   "execution_count": 3,
   "metadata": {},
   "outputs": [],
   "source": [
    "#my_dog.name"
   ]
  },
  {
   "attachments": {},
   "cell_type": "markdown",
   "metadata": {},
   "source": [
    "### Llamando metodos"
   ]
  },
  {
   "attachments": {},
   "cell_type": "markdown",
   "metadata": {},
   "source": [
    "After we create an instance from the class Dog, we can use dot notation to\n",
    "call any method defined in Dog. Let’s make our dog sit and roll over:"
   ]
  },
  {
   "cell_type": "code",
   "execution_count": 5,
   "metadata": {},
   "outputs": [
    {
     "name": "stdout",
     "output_type": "stream",
     "text": [
      "Willie is now sitting.\n",
      "Willie rolled over!\n"
     ]
    }
   ],
   "source": [
    "#lass Dog():\n",
    "#-snip--\n",
    "#my_dog = Dog('willie', 6)\n",
    "\n",
    "my_dog.sit()\n",
    "my_dog.roll_over()"
   ]
  },
  {
   "attachments": {},
   "cell_type": "markdown",
   "metadata": {},
   "source": [
    "This syntax is quite useful. When attributes and methods have been\n",
    "given appropriately descriptive names like name, age, sit(), and roll_over(),\n",
    "we can easily infer what a block of code, even one we’ve never seen before,\n",
    "is supposed to do."
   ]
  },
  {
   "attachments": {},
   "cell_type": "markdown",
   "metadata": {},
   "source": [
    "### Creando multiples instancias"
   ]
  },
  {
   "attachments": {},
   "cell_type": "markdown",
   "metadata": {},
   "source": [
    "You can create as many instances from a class as you need. Let’s create a\n",
    "second dog called your_dog:"
   ]
  },
  {
   "cell_type": "code",
   "execution_count": 6,
   "metadata": {},
   "outputs": [
    {
     "name": "stdout",
     "output_type": "stream",
     "text": [
      "My dog's name is Willie.\n",
      "My dog is 6 years old.\n",
      "Willie is now sitting.\n",
      "\n",
      "Your dog's name is Lucy.\n",
      "Your dog is 3 years old.\n",
      "Lucy is now sitting.\n"
     ]
    }
   ],
   "source": [
    "#class Dog():\n",
    "#--snip--\n",
    "\n",
    "my_dog = Dog('willie', 6)\n",
    "your_dog = Dog('lucy', 3)\n",
    "print(\"My dog's name is \" + my_dog.name.title() + \".\")\n",
    "print(\"My dog is \" + str(my_dog.age) + \" years old.\")\n",
    "my_dog.sit()\n",
    "print(\"\\nYour dog's name is \" + your_dog.name.title() + \".\")\n",
    "print(\"Your dog is \" + str(your_dog.age) + \" years old.\")\n",
    "your_dog.sit()"
   ]
  },
  {
   "attachments": {},
   "cell_type": "markdown",
   "metadata": {},
   "source": [
    "Even if we used the same name and age for the second dog, Python\n",
    "would still create a separate instance from the Dog class. You can make\n",
    "as many instances from one class as you need, as long as you give each\n",
    "instance a unique variable name or it occupies a unique spot in a list or\n",
    "dictionary."
   ]
  },
  {
   "attachments": {},
   "cell_type": "markdown",
   "metadata": {},
   "source": [
    "# Working with Classes and Instances"
   ]
  },
  {
   "attachments": {},
   "cell_type": "markdown",
   "metadata": {},
   "source": [
    "You can use classes to represent many real-world situations. Once you write\n",
    "a class, you’ll spend most of your time working with instances created from\n",
    "that class. One of the first tasks you’ll want to do is modify the attributes\n",
    "associated with a particular instance. You can modify the attributes of an\n",
    "instance directly or write methods that update attributes in specific ways."
   ]
  },
  {
   "attachments": {},
   "cell_type": "markdown",
   "metadata": {},
   "source": [
    "## The Car Class"
   ]
  },
  {
   "attachments": {},
   "cell_type": "markdown",
   "metadata": {},
   "source": [
    "Let’s write a new class representing a car. Our class will store information\n",
    "about the kind of car we’re working with, and it will have a method that\n",
    "summarizes this information:"
   ]
  },
  {
   "cell_type": "code",
   "execution_count": 7,
   "metadata": {},
   "outputs": [
    {
     "name": "stdout",
     "output_type": "stream",
     "text": [
      "2016 Audi A4\n"
     ]
    }
   ],
   "source": [
    "#car.py\n",
    "\n",
    "class Car():\n",
    "    \"\"\"A simple attempt to represent a car.\"\"\"\n",
    "    def __init__(self, make, model, year):\n",
    "        \"\"\"Initialize attributes to describe a car.\"\"\"\n",
    "        self.make = make\n",
    "        self.model = model\n",
    "        self.year = year\n",
    "    \n",
    "    def get_descriptive_name(self):\n",
    "        \"\"\"Return a neatly formatted descriptive name.\"\"\"\n",
    "        long_name = str(self.year) + ' ' + self.make + ' ' + self.model\n",
    "        return long_name.title()\n",
    "\n",
    "my_new_car = Car('audi', 'a4', 2016)\n",
    "print(my_new_car.get_descriptive_name())"
   ]
  },
  {
   "attachments": {},
   "cell_type": "markdown",
   "metadata": {},
   "source": [
    "At in the Car class, we define the __init__() method with the self\n",
    "parameter first, just like we did before with our Dog class. We also give\n",
    "it three other parameters: make, model, and year. The __init__() method\n",
    "takes in these parameters and stores them in the attributes that will be\n",
    "associated with instances made from this class. When we make a new Car\n",
    "instance, we’ll need to specify a make, model, and year for our instance.\n",
    "\n",
    "At we define a method called get_descriptive_name() that puts a car’s\n",
    "year, make, and model into one string neatly describing the car. This will spare\n",
    "us from having to print each attribute’s value individually. To work with the\n",
    "attribute values in this method, we use self.make, self.model, and self.year.\n",
    "\n",
    "At we make an instance from the Car class and store it in the variable\n",
    "my_new_car. Then we call get_descriptive_name() to show what kind of car\n",
    "we have:"
   ]
  },
  {
   "attachments": {},
   "cell_type": "markdown",
   "metadata": {},
   "source": [
    "To make the class more interesting, let’s add an attribute that changes\n",
    "over time. We’ll add an attribute that stores the car’s overall mileage."
   ]
  },
  {
   "attachments": {},
   "cell_type": "markdown",
   "metadata": {},
   "source": [
    "## Setting a Default Value for an Attribute"
   ]
  },
  {
   "attachments": {},
   "cell_type": "markdown",
   "metadata": {},
   "source": [
    "Every attribute in a class needs an initial value, even if that value is 0 or an\n",
    "empty string. In some cases, such as when setting a default value, it makes\n",
    "sense to specify this initial value in the body of the __init__() method; if\n",
    "you do this for an attribute, you don’t have to include a parameter for that\n",
    "attribute.\n",
    "\n",
    "Let’s add an attribute called odometer_reading that always starts with a\n",
    "value of 0. We’ll also add a method read_odometer() that helps us read each\n",
    "car’s odometer:"
   ]
  },
  {
   "cell_type": "code",
   "execution_count": 10,
   "metadata": {},
   "outputs": [
    {
     "name": "stdout",
     "output_type": "stream",
     "text": [
      "This car has 0 miles on it.\n"
     ]
    }
   ],
   "source": [
    "class Car():\n",
    "\n",
    "    def __init__(self, make, model, year):\n",
    "        \"\"\"Initialize attributes to describe a car.\"\"\"\n",
    "        self.make = make\n",
    "        self.model = model\n",
    "        self.year = year\n",
    "        self.odometer_reading = 0\n",
    "\n",
    "    def get_descriptive_name(self):\n",
    "        \"\"\"Return a neatly formatted descriptive name.\"\"\"\n",
    "        long_name = str(self.year) + ' ' + self.make + ' ' + self.model\n",
    "        return long_name.title()\n",
    "    \n",
    "    def read_odometer(self):\n",
    "        \"\"\"Print a statement showing the car's mileage.\"\"\"\n",
    "        print(\"This car has \" + str(self.odometer_reading) + \" miles on it.\")\n",
    "\n",
    "my_new_car = Car('audi', 'a4', 2016)\n",
    "my_new_car.read_odometer()"
   ]
  },
  {
   "attachments": {},
   "cell_type": "markdown",
   "metadata": {},
   "source": [
    "Not many cars are sold with exactly 0 miles on the odometer, so we\n",
    "need a way to change the value of this attribute."
   ]
  },
  {
   "attachments": {},
   "cell_type": "markdown",
   "metadata": {},
   "source": [
    "## Modifying Attribute Values"
   ]
  },
  {
   "attachments": {},
   "cell_type": "markdown",
   "metadata": {},
   "source": [
    "You can change an attribute’s value in three ways: you can change the value\n",
    "directly through an instance, set the value through a method, or increment\n",
    "the value (add a certain amount to it) through a method. Let’s look at each\n",
    "of these approaches."
   ]
  },
  {
   "attachments": {},
   "cell_type": "markdown",
   "metadata": {},
   "source": [
    "### Modifying an Attribute’s Value Directly"
   ]
  },
  {
   "attachments": {},
   "cell_type": "markdown",
   "metadata": {},
   "source": [
    "The simplest way to modify the value of an attribute is to access the attribute\n",
    "directly through an instance. Here we set the odometer reading to 23\n",
    "directly:"
   ]
  },
  {
   "cell_type": "code",
   "execution_count": 11,
   "metadata": {},
   "outputs": [
    {
     "name": "stdout",
     "output_type": "stream",
     "text": [
      "This car has 23 miles on it.\n"
     ]
    }
   ],
   "source": [
    "my_new_car.odometer_reading = 23\n",
    "my_new_car.read_odometer()"
   ]
  },
  {
   "attachments": {},
   "cell_type": "markdown",
   "metadata": {},
   "source": [
    "Sometimes you’ll want to access attributes directly like this, but other\n",
    "times you’ll want to write a method that updates the value for you."
   ]
  },
  {
   "attachments": {},
   "cell_type": "markdown",
   "metadata": {},
   "source": [
    "### Modifying an Attribute’s Value Through a Method"
   ]
  },
  {
   "attachments": {},
   "cell_type": "markdown",
   "metadata": {},
   "source": [
    "It can be helpful to have methods that update certain attributes for you.\n",
    "Instead of accessing the attribute directly, you pass the new value to a\n",
    "method that handles the updating internally.\n",
    "Here’s an example showing a method called update_odometer():"
   ]
  },
  {
   "cell_type": "code",
   "execution_count": 13,
   "metadata": {},
   "outputs": [
    {
     "ename": "AttributeError",
     "evalue": "'Car' object has no attribute 'update_odometer'",
     "output_type": "error",
     "traceback": [
      "\u001b[1;31m---------------------------------------------------------------------------\u001b[0m",
      "\u001b[1;31mAttributeError\u001b[0m                            Traceback (most recent call last)",
      "Cell \u001b[1;32mIn[13], line 5\u001b[0m\n\u001b[0;32m      2\u001b[0m \u001b[39m    \u001b[39m\u001b[39m\"\"\"Set the odometer reading to the given value.\"\"\"\u001b[39;00m\n\u001b[0;32m      3\u001b[0m     \u001b[39mself\u001b[39m\u001b[39m.\u001b[39modometer_reading \u001b[39m=\u001b[39m mileage\n\u001b[1;32m----> 5\u001b[0m my_new_car\u001b[39m.\u001b[39;49mupdate_odometer(\u001b[39m23\u001b[39m)\n\u001b[0;32m      6\u001b[0m my_new_car\u001b[39m.\u001b[39mread_odometer()\n\u001b[0;32m      8\u001b[0m \u001b[39m#La respuesta de este metodo seria\u001b[39;00m\n\u001b[0;32m      9\u001b[0m \n\u001b[0;32m     10\u001b[0m \u001b[39m# This car has 23 miles on it.\u001b[39;00m\n",
      "\u001b[1;31mAttributeError\u001b[0m: 'Car' object has no attribute 'update_odometer'"
     ]
    }
   ],
   "source": [
    "def update_odometer(self, mileage):\n",
    "    \"\"\"Set the odometer reading to the given value.\"\"\"\n",
    "    self.odometer_reading = mileage\n",
    "\n",
    "my_new_car.update_odometer(23)\n",
    "my_new_car.read_odometer()\n",
    "\n",
    "#La respuesta de este metodo seria\n",
    "\n",
    "# This car has 23 miles on it."
   ]
  },
  {
   "attachments": {},
   "cell_type": "markdown",
   "metadata": {},
   "source": [
    "We can extend the method update_odometer() to do additional work\n",
    "every time the odometer reading is modified. Let’s add a little logic to\n",
    "make sure no one tries to roll back the odometer reading:"
   ]
  },
  {
   "cell_type": "code",
   "execution_count": 12,
   "metadata": {},
   "outputs": [],
   "source": [
    "def update_odometer(self, mileage):\n",
    "    \"\"\"Set the odometer reading to the given value.\n",
    "    Reject the change if it attempts to roll the odometer back.\n",
    "    \"\"\"\n",
    "    if mileage >= self.odometer_reading:\n",
    "        self.odometer_reading = mileage\n",
    "    else:\n",
    "        print(\"You can't roll back an odometer!\")\n",
    "\n"
   ]
  },
  {
   "attachments": {},
   "cell_type": "markdown",
   "metadata": {},
   "source": [
    "### Incrementing an Attribute’s Value Through a Method"
   ]
  },
  {
   "attachments": {},
   "cell_type": "markdown",
   "metadata": {},
   "source": [
    "Sometimes you’ll want to increment an attribute’s value by a certain\n",
    "amount rather than set an entirely new value. Say we buy a used car and\n",
    "put 100 miles on it between the time we buy it and the time we register it.\n",
    "Here’s a method that allows us to pass this incremental amount and add\n",
    "that value to the odometer reading:"
   ]
  },
  {
   "cell_type": "code",
   "execution_count": 14,
   "metadata": {},
   "outputs": [
    {
     "name": "stdout",
     "output_type": "stream",
     "text": [
      "2013 Subaru Outback\n"
     ]
    },
    {
     "ename": "AttributeError",
     "evalue": "'Car' object has no attribute 'update_odometer'",
     "output_type": "error",
     "traceback": [
      "\u001b[1;31m---------------------------------------------------------------------------\u001b[0m",
      "\u001b[1;31mAttributeError\u001b[0m                            Traceback (most recent call last)",
      "Cell \u001b[1;32mIn[14], line 7\u001b[0m\n\u001b[0;32m      5\u001b[0m my_used_car \u001b[39m=\u001b[39m Car(\u001b[39m'\u001b[39m\u001b[39msubaru\u001b[39m\u001b[39m'\u001b[39m, \u001b[39m'\u001b[39m\u001b[39moutback\u001b[39m\u001b[39m'\u001b[39m, \u001b[39m2013\u001b[39m)\n\u001b[0;32m      6\u001b[0m \u001b[39mprint\u001b[39m(my_used_car\u001b[39m.\u001b[39mget_descriptive_name())\n\u001b[1;32m----> 7\u001b[0m my_used_car\u001b[39m.\u001b[39;49mupdate_odometer(\u001b[39m23500\u001b[39m)\n\u001b[0;32m      8\u001b[0m my_used_car\u001b[39m.\u001b[39mread_odometer()\n",
      "\u001b[1;31mAttributeError\u001b[0m: 'Car' object has no attribute 'update_odometer'"
     ]
    }
   ],
   "source": [
    "def increment_odometer(self, miles):\n",
    "    \"\"\"Add the given amount to the odometer reading.\"\"\"\n",
    "    self.odometer_reading += miles\n",
    "\n",
    "my_used_car = Car('subaru', 'outback', 2013)\n",
    "print(my_used_car.get_descriptive_name())\n",
    "my_used_car.update_odometer(23500)\n",
    "my_used_car.read_odometer()\n",
    "my_used_car.increment_odometer(100)\n",
    "my_used_car.read_odometer()"
   ]
  },
  {
   "attachments": {},
   "cell_type": "markdown",
   "metadata": {},
   "source": [
    "You can easily modify this method to reject negative increments so no\n",
    "one uses this function to roll back an odometer."
   ]
  },
  {
   "attachments": {},
   "cell_type": "markdown",
   "metadata": {},
   "source": [
    "**You can use methods like this to control how users of your program update values\n",
    "such as an odometer reading, but anyone with access to the program can set the odometer\n",
    "reading to any value by accessing the attribute directly. Effective security takes\n",
    "extreme attention to detail in addition to basic checks like those shown here.**"
   ]
  },
  {
   "attachments": {},
   "cell_type": "markdown",
   "metadata": {},
   "source": [
    "# Inheritance"
   ]
  },
  {
   "attachments": {},
   "cell_type": "markdown",
   "metadata": {},
   "source": [
    "You don’t always have to start from scratch when writing a class. If the class\n",
    "you’re writing is a specialized version of another class you wrote, you can\n",
    "use inheritance. When one class inherits from another, it automatically takes\n",
    "on all the attributes and methods of the first class. The original class is\n",
    "called the parent class, and the new class is the child class. The child class\n",
    "inherits every attribute and method from its parent class but is also free to\n",
    "define new attributes and methods of its own."
   ]
  },
  {
   "attachments": {},
   "cell_type": "markdown",
   "metadata": {},
   "source": [
    "## The __init__() Method for a Child Class"
   ]
  },
  {
   "attachments": {},
   "cell_type": "markdown",
   "metadata": {},
   "source": [
    "The first task Python has when creating an instance from a child class is to\n",
    "assign values to all attributes in the parent class. To do this, the __init__()\n",
    "method for a child class needs help from its parent class.\n",
    "\n",
    "As an example, let’s model an electric car. An electric car is just a specific\n",
    "kind of car, so we can base our new ElectricCar class on the Car class\n",
    "we wrote earlier. Then we’ll only have to write code for the attributes and\n",
    "behavior specific to electric cars.\n",
    "\n",
    "Let’s start by making a simple version of the ElectricCar class, which\n",
    "does everything the Car class does:"
   ]
  },
  {
   "cell_type": "code",
   "execution_count": 15,
   "metadata": {},
   "outputs": [
    {
     "name": "stdout",
     "output_type": "stream",
     "text": [
      "2016 Tesla Model S\n"
     ]
    }
   ],
   "source": [
    "#electric_car.py\n",
    "\n",
    "class Car():\n",
    "    \"\"\"A simple attempt to represent a car.\"\"\"\n",
    "    def __init__(self, make, model, year):\n",
    "        self.make = make\n",
    "        self.model = model\n",
    "        self.year = year\n",
    "        self.odometer_reading = 0\n",
    "    \n",
    "    def get_descriptive_name(self):\n",
    "        long_name = str(self.year) + ' ' + self.make + ' ' + self.model\n",
    "        return long_name.title()\n",
    "    \n",
    "    def read_odometer(self):\n",
    "        print(\"This car has \" + str(self.odometer_reading) + \" miles on it.\")\n",
    "    \n",
    "    def update_odometer(self, mileage):\n",
    "        if mileage >= self.odometer_reading:\n",
    "            self.odometer_reading = mileage\n",
    "        else:\n",
    "            print(\"You can't roll back an odometer!\")\n",
    "    \n",
    "    def increment_odometer(self, miles):\n",
    "        self.odometer_reading += miles\n",
    "\n",
    "#Nueva clase que hereda de la clase Carro o Car\n",
    "class ElectricCar(Car):\n",
    "    \"\"\"Represent aspects of a car, specific to electric vehicles.\"\"\"\n",
    "    def __init__(self, make, model, year):\n",
    "        \"\"\"Initialize attributes of the parent class.\"\"\"\n",
    "        super().__init__(make, model, year) #Hereda el metodo init principal del constructor\n",
    "\n",
    "my_tesla = ElectricCar('tesla', 'model s', 2016)\n",
    "print(my_tesla.get_descriptive_name())"
   ]
  },
  {
   "attachments": {},
   "cell_type": "markdown",
   "metadata": {},
   "source": [
    "At we start with Car. When you create a child class, the parent class\n",
    "must be part of the current file and must appear before the child class in\n",
    "the file. At we define the child class, ElectricCar. The name of the parent\n",
    "class must be included in parentheses in the definition of the child class.\n",
    "The __init__() method at takes in the information required to make a Car\n",
    "instance."
   ]
  },
  {
   "attachments": {},
   "cell_type": "markdown",
   "metadata": {},
   "source": [
    "The super() function at x is a special function that helps Python make\n",
    "connections between the parent and child class. This line tells Python to\n",
    "call the __init__() method from ElectricCar’s parent class, which gives an\n",
    "ElectricCar instance all the attributes of its parent class. The name super\n",
    "comes from a convention of calling the parent class a superclass and the\n",
    "child class a subclass."
   ]
  },
  {
   "attachments": {},
   "cell_type": "markdown",
   "metadata": {},
   "source": [
    "We test whether inheritance is working properly by trying to create an\n",
    "electric car with the same kind of information we’d provide when making\n",
    "a regular car. \n",
    "\n",
    "At we make an instance of the ElectricCar class, and store\n",
    "it in my_tesla. This line calls the __init__() method defined in ElectricCar,\n",
    "which in turn tells Python to call the __init__() method defined in the parent\n",
    "class Car. We provide the arguments 'tesla', 'model s', and 2016.\n",
    "\n",
    "Aside from __init__(), there are no attributes or methods yet that are\n",
    "particular to an electric car."
   ]
  },
  {
   "attachments": {},
   "cell_type": "markdown",
   "metadata": {},
   "source": [
    "## Defining Attributes and Methods for the Child Class"
   ]
  },
  {
   "attachments": {},
   "cell_type": "markdown",
   "metadata": {},
   "source": [
    "Once you have a child class that inherits from a parent class, you can add\n",
    "any new attributes and methods necessary to differentiate the child class\n",
    "from the parent class.\n",
    "\n",
    "Let’s add an attribute that’s specific to electric cars (a battery, for\n",
    "example) and a method to report on this attribute. We’ll store the battery\n",
    "size and write a method that prints a description of the battery:"
   ]
  },
  {
   "cell_type": "code",
   "execution_count": 16,
   "metadata": {},
   "outputs": [
    {
     "name": "stdout",
     "output_type": "stream",
     "text": [
      "2016 Tesla Model S\n",
      "This car has a 70-kWh battery.\n"
     ]
    }
   ],
   "source": [
    "#electric_car.py\n",
    "\n",
    "class Car():\n",
    "    \"\"\"A simple attempt to represent a car.\"\"\"\n",
    "    def __init__(self, make, model, year):\n",
    "        self.make = make\n",
    "        self.model = model\n",
    "        self.year = year\n",
    "        self.odometer_reading = 0\n",
    "    \n",
    "    def get_descriptive_name(self):\n",
    "        long_name = str(self.year) + ' ' + self.make + ' ' + self.model\n",
    "        return long_name.title()\n",
    "    \n",
    "    def read_odometer(self):\n",
    "        print(\"This car has \" + str(self.odometer_reading) + \" miles on it.\")\n",
    "    \n",
    "    def update_odometer(self, mileage):\n",
    "        if mileage >= self.odometer_reading:\n",
    "            self.odometer_reading = mileage\n",
    "        else:\n",
    "            print(\"You can't roll back an odometer!\")\n",
    "    \n",
    "    def increment_odometer(self, miles):\n",
    "        self.odometer_reading += miles\n",
    "\n",
    "#Nueva clase que hereda de la clase Carro o Car\n",
    "class ElectricCar(Car):\n",
    "    \"\"\"Represent aspects of a car, specific to electric vehicles.\"\"\"\n",
    "    def __init__(self, make, model, year):\n",
    "        \"\"\"Initialize attributes of the parent class.\"\"\"\n",
    "        super().__init__(make, model, year) #Hereda el metodo init principal del constructor\n",
    "        self.battery_size = 70\n",
    "    def describe_battery(self):\n",
    "        \"\"\"Print a statement describing the battery size.\"\"\"\n",
    "        print(\"This car has a \" + str(self.battery_size) + \"-kWh battery.\")\n",
    "\n",
    "my_tesla = ElectricCar('tesla', 'model s', 2016)\n",
    "print(my_tesla.get_descriptive_name())\n",
    "my_tesla.describe_battery()"
   ]
  },
  {
   "attachments": {},
   "cell_type": "markdown",
   "metadata": {},
   "source": [
    "At we add a new attribute self.battery_size and set its initial value to,\n",
    "say, 70. This attribute will be associated with all instances created from the\n",
    "ElectricCar class but won’t be associated with any instances of Car. We also\n",
    "add a method called describe_battery() that prints information about the\n",
    "battery at."
   ]
  },
  {
   "attachments": {},
   "cell_type": "markdown",
   "metadata": {},
   "source": [
    "There’s no limit to how much you can specialize the ElectricCar class.\n",
    "You can add as many attributes and methods as you need to model an electric\n",
    "car to whatever degree of accuracy you need. An attribute or method\n",
    "that could belong to any car, rather than one that’s specific to an electric car, should be added to the Car class instead of the ElectricCar class. \n",
    "\n",
    "Then anyone who uses the Car class will have that functionality available as well,\n",
    "and the ElectricCar class will only contain code for the information and\n",
    "behavior specific to electric vehicles."
   ]
  },
  {
   "attachments": {},
   "cell_type": "markdown",
   "metadata": {},
   "source": [
    "## Overriding Methods from the Parent Class"
   ]
  },
  {
   "attachments": {},
   "cell_type": "markdown",
   "metadata": {},
   "source": [
    "You can override any method from the parent class that doesn’t fit what\n",
    "you’re trying to model with the child class. To do this, you define a method\n",
    "in the child class with the same name as the method you want to override\n",
    "in the parent class. Python will disregard the parent class method and only\n",
    "pay attention to the method you define in the child class.\n",
    "\n",
    "Say the class Car had a method called fill_gas_tank(). This method is\n",
    "meaningless for an all-electric vehicle, so you might want to override this\n",
    "method. Here’s one way to do that:"
   ]
  },
  {
   "cell_type": "code",
   "execution_count": 18,
   "metadata": {},
   "outputs": [
    {
     "ename": "TypeError",
     "evalue": "fill_gas_tank() takes 0 positional arguments but 1 was given",
     "output_type": "error",
     "traceback": [
      "\u001b[1;31m---------------------------------------------------------------------------\u001b[0m",
      "\u001b[1;31mTypeError\u001b[0m                                 Traceback (most recent call last)",
      "Cell \u001b[1;32mIn[18], line 17\u001b[0m\n\u001b[0;32m     14\u001b[0m         \u001b[39mprint\u001b[39m(\u001b[39m\"\u001b[39m\u001b[39mThis car doesn\u001b[39m\u001b[39m'\u001b[39m\u001b[39mt need a gas tank!\u001b[39m\u001b[39m\"\u001b[39m)\n\u001b[0;32m     16\u001b[0m my_tesla \u001b[39m=\u001b[39m ElectricCar(\u001b[39m'\u001b[39m\u001b[39mtesla\u001b[39m\u001b[39m'\u001b[39m, \u001b[39m'\u001b[39m\u001b[39mmodel s\u001b[39m\u001b[39m'\u001b[39m, \u001b[39m2016\u001b[39m)\n\u001b[1;32m---> 17\u001b[0m my_tesla\u001b[39m.\u001b[39;49mfill_gas_tank()\n",
      "\u001b[1;31mTypeError\u001b[0m: fill_gas_tank() takes 0 positional arguments but 1 was given"
     ]
    }
   ],
   "source": [
    "#Nueva clase que hereda de la clase Carro o Car\n",
    "class ElectricCar(Car):\n",
    "    \"\"\"Represent aspects of a car, specific to electric vehicles.\"\"\"\n",
    "    def __init__(self, make, model, year):\n",
    "        \"\"\"Initialize attributes of the parent class.\"\"\"\n",
    "        super().__init__(make, model, year) #Hereda el metodo init principal del constructor\n",
    "        self.battery_size = 70\n",
    "    def describe_battery(self):\n",
    "        \"\"\"Print a statement describing the battery size.\"\"\"\n",
    "        print(\"This car has a \" + str(self.battery_size) + \"-kWh battery.\")\n",
    "    #Metodo nuevo\n",
    "    def fill_gas_tank():\n",
    "        \"\"\"Electric cars don't have gas tanks.\"\"\"\n",
    "        print(\"This car doesn't need a gas tank!\")\n",
    "\n",
    "my_tesla = ElectricCar('tesla', 'model s', 2016)\n",
    "my_tesla.fill_gas_tank()"
   ]
  },
  {
   "attachments": {},
   "cell_type": "markdown",
   "metadata": {},
   "source": [
    "Now if someone tries to call fill_gas_tank() with an electric car, Python\n",
    "will ignore the method fill_gas_tank() in Car and run this code instead. When\n",
    "you use inheritance, you can make your child classes retain what you need\n",
    "and override anything you don’t need from the parent class."
   ]
  },
  {
   "attachments": {},
   "cell_type": "markdown",
   "metadata": {},
   "source": [
    "## Instances as Attributes"
   ]
  },
  {
   "attachments": {},
   "cell_type": "markdown",
   "metadata": {},
   "source": [
    "When modeling something from the real world in code, you may find that\n",
    "you’re adding more and more detail to a class. You’ll find that you have a\n",
    "growing list of attributes and methods and that your files are becoming\n",
    "lengthy. In these situations, you might recognize that part of one class can\n",
    "be written as a separate class. You can break your large class into smaller\n",
    "classes that work together."
   ]
  },
  {
   "attachments": {},
   "cell_type": "markdown",
   "metadata": {},
   "source": [
    "For example, if we continue adding detail to the ElectricCar class, we\n",
    "might notice that we’re adding many attributes and methods specific to\n",
    "the car’s battery. When we see this happening, we can stop and move those\n",
    "attributes and methods to a separate class called Battery. Then we can use a\n",
    "Battery instance as an attribute in the ElectricCar class:"
   ]
  },
  {
   "cell_type": "code",
   "execution_count": 20,
   "metadata": {},
   "outputs": [],
   "source": [
    "class Battery():\n",
    "    \"\"\"A simple attempt to model a battery for an electric car.\"\"\"\n",
    "    def __init__(self, battery_size=70):\n",
    "        \"\"\"Initialize the battery's attributes.\"\"\"\n",
    "        self.battery_size = battery_size\n",
    "    def describe_battery(self):\n",
    "        \"\"\"Print a statement describing the battery size.\"\"\"\n",
    "        print(\"This car has a \" + str(self.battery_size) + \"-kWh battery.\")"
   ]
  },
  {
   "cell_type": "code",
   "execution_count": 21,
   "metadata": {},
   "outputs": [
    {
     "name": "stdout",
     "output_type": "stream",
     "text": [
      "2016 Tesla Model S\n",
      "This car has a 70-kWh battery.\n"
     ]
    }
   ],
   "source": [
    "class ElectricCar(Car):\n",
    "    \"\"\"Represent aspects of a car, specific to electric vehicles.\"\"\"\n",
    "    def __init__(self, make, model, year):\n",
    "        \"\"\"Initialize attributes of the parent class.\n",
    "        Then initialize attributes specific to an electric car.\"\"\"\n",
    "        super().__init__(make, model, year)\n",
    "        #Nueva variable o propiedad\n",
    "        self.battery = Battery()\n",
    "\n",
    "my_tesla = ElectricCar('tesla', 'model s', 2016)\n",
    "print(my_tesla.get_descriptive_name())\n",
    "my_tesla.battery.describe_battery()"
   ]
  },
  {
   "attachments": {},
   "cell_type": "markdown",
   "metadata": {},
   "source": [
    "At we define a new class called Battery that doesn’t inherit from any\n",
    "other class. The __init__() method at has one parameter, battery_size, in\n",
    "addition to self. This is an optional parameter that sets the battery’s size to\n",
    "70 if no value is provided. The method describe_battery() has been moved\n",
    "to this class as well.\n",
    "\n",
    "In the ElectricCar class, we now add an attribute called self.battery.\n",
    "\n",
    "This line tells Python to create a new instance of Battery (with a default size\n",
    "of 70, because we’re not specifying a value) and store that instance in the\n",
    "attribute self.battery. This will happen every time the __init__() method\n",
    "is called; any ElectricCar instance will now have a Battery instance created\n",
    "automatically.\n",
    "\n",
    "We create an electric car and store it in the variable my_tesla. When\n",
    "we want to describe the battery, we need to work through the car’s battery\n",
    "attribute:"
   ]
  },
  {
   "attachments": {},
   "cell_type": "markdown",
   "metadata": {},
   "source": [
    "This looks like a lot of extra work, but now we can describe the battery\n",
    "in as much detail as we want without cluttering the ElectricCar class. Let’s\n",
    "add another method to Battery that reports the range of the car based on\n",
    "the battery size:"
   ]
  },
  {
   "cell_type": "code",
   "execution_count": 23,
   "metadata": {},
   "outputs": [],
   "source": [
    "class Battery():\n",
    "    \"\"\"A simple attempt to model a battery for an electric car.\"\"\"\n",
    "    def __init__(self, battery_size=70):\n",
    "        \"\"\"Initialize the battery's attributes.\"\"\"\n",
    "        self.battery_size = battery_size\n",
    "    def describe_battery(self):\n",
    "        \"\"\"Print a statement describing the battery size.\"\"\"\n",
    "        print(\"This car has a \" + str(self.battery_size) + \"-kWh battery.\")\n",
    "    #Nueva funcion\n",
    "    def get_range(self):\n",
    "        \"\"\"Print a statement about the range this battery provides.\"\"\"\n",
    "        if self.battery_size == 70:\n",
    "            range = 240\n",
    "        elif self.battery_size == 85:\n",
    "            range = 270\n",
    "        \n",
    "        message = \"This car can go approximately \" + str(range)\n",
    "        message += \" miles on a full charge.\"\n",
    "        print(message)"
   ]
  },
  {
   "cell_type": "code",
   "execution_count": 24,
   "metadata": {},
   "outputs": [
    {
     "name": "stdout",
     "output_type": "stream",
     "text": [
      "2016 Tesla Model S\n",
      "This car has a 70-kWh battery.\n",
      "This car can go approximately 240 miles on a full charge.\n"
     ]
    }
   ],
   "source": [
    "class ElectricCar(Car):\n",
    "    \"\"\"Represent aspects of a car, specific to electric vehicles.\"\"\"\n",
    "    def __init__(self, make, model, year):\n",
    "        \"\"\"Initialize attributes of the parent class.\n",
    "        Then initialize attributes specific to an electric car.\"\"\"\n",
    "        super().__init__(make, model, year)\n",
    "        #Nueva variable o propiedad\n",
    "        self.battery = Battery()\n",
    "\n",
    "my_tesla = ElectricCar('tesla', 'model s', 2016)\n",
    "print(my_tesla.get_descriptive_name())\n",
    "my_tesla.battery.describe_battery()\n",
    "my_tesla.battery.get_range()"
   ]
  },
  {
   "attachments": {},
   "cell_type": "markdown",
   "metadata": {},
   "source": [
    "## Modeling Real-World Objects"
   ]
  },
  {
   "attachments": {},
   "cell_type": "markdown",
   "metadata": {},
   "source": [
    "As you begin to model more complicated items like electric cars, you’ll\n",
    "wrestle with interesting questions. Is the range of an electric car a property\n",
    "of the battery or of the car? If we’re only describing one car, it’s probably\n",
    "fine to maintain the association of the method get_range() with the Battery\n",
    "class. But if we’re describing a manufacturer’s entire line of cars, we probably\n",
    "want to move get_range() to the ElectricCar class."
   ]
  },
  {
   "attachments": {},
   "cell_type": "markdown",
   "metadata": {},
   "source": [
    "The get_range() method would still check the battery size before determining the range, but it would\n",
    "report a range specific to the kind of car it’s associated with. Alternatively,\n",
    "we could maintain the association of the get_range() method with the battery\n",
    "but pass it a parameter such as car_model. The get_range() method would\n",
    "then report a range based on the battery size and car model."
   ]
  },
  {
   "attachments": {},
   "cell_type": "markdown",
   "metadata": {},
   "source": [
    "This brings you to an interesting point in your growth as a programmer.\n",
    "When you wrestle with questions like these, you’re thinking at a higher\n",
    "logical level rather than a syntax-focused level. You’re thinking not about\n",
    "Python, but about how to represent the real world in code. When you reach\n",
    "this point, you’ll realize there are often no right or wrong approaches to\n",
    "modeling real-world situations. Some approaches are more efficient than\n",
    "others, but it takes practice to find the most efficient representations. If\n",
    "your code is working as you want it to, you’re doing well! Don’t be discouraged\n",
    "if you find you’re ripping apart your classes and rewriting them several\n",
    "times using different approaches. In the quest to write accurate, efficient\n",
    "code, everyone goes through this process."
   ]
  },
  {
   "attachments": {},
   "cell_type": "markdown",
   "metadata": {},
   "source": [
    "# Importing Classes"
   ]
  },
  {
   "attachments": {},
   "cell_type": "markdown",
   "metadata": {},
   "source": [
    "As you add more functionality to your classes, your files can get long, even\n",
    "when you use inheritance properly. In keeping with the overall philosophy\n",
    "of Python, you’ll want to keep your files as uncluttered as possible. To help,\n",
    "Python lets you store classes in modules and then import the classes you\n",
    "need into your main program."
   ]
  },
  {
   "attachments": {},
   "cell_type": "markdown",
   "metadata": {},
   "source": [
    "## Importing a Single Class"
   ]
  },
  {
   "attachments": {},
   "cell_type": "markdown",
   "metadata": {},
   "source": [
    "Let’s create a module containing just the Car class. This brings up a subtle\n",
    "naming issue: we already have a file named car.py in this chapter, but this\n",
    "module should be named car.py because it contains code representing a car.\n",
    "We’ll resolve this naming issue by storing the Car class in a module named\n",
    "car.py, replacing the car.py file we were previously using. From now on, any\n",
    "program that uses this module will need a more specific filename, such as\n",
    "my_car.py. Here’s car.py with just the code from the class Car:"
   ]
  },
  {
   "cell_type": "code",
   "execution_count": 25,
   "metadata": {},
   "outputs": [],
   "source": [
    "#car.py\n",
    "\n",
    "\"\"\"A class that can be used to represent a car.\"\"\"\n",
    "\n",
    "class Car():\n",
    "    \"\"\"A simple attempt to represent a car.\"\"\"\n",
    "    def __init__(self, make, model, year):\n",
    "        \"\"\"Initialize attributes to describe a car.\"\"\"\n",
    "        self.make = make\n",
    "        self.model = model\n",
    "        self.year = year\n",
    "        self.odometer_reading = 0\n",
    "    def get_descriptive_name(self):\n",
    "        \"\"\"Return a neatly formatted descriptive name.\"\"\"\n",
    "        long_name = str(self.year) + ' ' + self.make + ' ' + self.model\n",
    "        return long_name.title()\n",
    "    def read_odometer(self):\n",
    "        \"\"\"Print a statement showing the car's mileage.\"\"\"\n",
    "        print(\"This car has \" + str(self.odometer_reading) + \" miles on it.\")\n",
    "    def update_odometer(self, mileage):\n",
    "        \"\"\"Set the odometer reading to the given value.\n",
    "        Reject the change if it attempts to roll the odometer back.\"\"\"\n",
    "        if mileage >= self.odometer_reading:\n",
    "            self.odometer_reading = mileage\n",
    "        else:\n",
    "            print(\"You can't roll back an odometer!\")\n",
    "    def increment_odometer(self, miles):\n",
    "        \"\"\"Add the given amount to the odometer reading.\"\"\"\n",
    "        self.odometer_reading += miles\n",
    "\n",
    "#Este archivo lo importamos a un archivo con extension .py para poder usarlo como libreria\n"
   ]
  },
  {
   "attachments": {},
   "cell_type": "markdown",
   "metadata": {},
   "source": [
    "At we include a module-level docstring that briefly describes the\n",
    "contents of this module. You should write a docstring for each module you\n",
    "create.\n",
    "Now we make a separate file called my_car.py. This file will import the\n",
    "Car class and then create an instance from that class:"
   ]
  },
  {
   "cell_type": "code",
   "execution_count": 4,
   "metadata": {},
   "outputs": [
    {
     "name": "stdout",
     "output_type": "stream",
     "text": [
      "2016 Audi A4\n",
      "This car has 23 miles on it.\n"
     ]
    }
   ],
   "source": [
    "from car import Car\n",
    "my_new_car = Car('audi', 'a4', 2016)\n",
    "print(my_new_car.get_descriptive_name())\n",
    "my_new_car.odometer_reading = 23\n",
    "my_new_car.read_odometer()"
   ]
  },
  {
   "attachments": {},
   "cell_type": "markdown",
   "metadata": {},
   "source": [
    "Importing classes is an effective way to program. Picture how long\n",
    "this program file would be if the entire Car class were included. When you\n",
    "instead move the class to a module and import the module, you still get all\n",
    "the same functionality, but you keep your main program file clean and easy\n",
    "to read. You also store most of the logic in separate files; once your classes\n",
    "work as you want them to, you can leave those files alone and focus on the\n",
    "higher-level logic of your main program."
   ]
  },
  {
   "attachments": {},
   "cell_type": "markdown",
   "metadata": {},
   "source": [
    "## Storing Multiple Classes in a Module"
   ]
  },
  {
   "attachments": {},
   "cell_type": "markdown",
   "metadata": {},
   "source": [
    "Now we can make a new file called my_electric_car.py, import the\n",
    "ElectricCar class, and make an electric car:"
   ]
  },
  {
   "cell_type": "code",
   "execution_count": 2,
   "metadata": {},
   "outputs": [
    {
     "name": "stdout",
     "output_type": "stream",
     "text": [
      "2016 Tesla Model S\n",
      "This car has a 60-kWh battery.\n"
     ]
    },
    {
     "ename": "UnboundLocalError",
     "evalue": "local variable 'range' referenced before assignment",
     "output_type": "error",
     "traceback": [
      "\u001b[1;31m---------------------------------------------------------------------------\u001b[0m",
      "\u001b[1;31mUnboundLocalError\u001b[0m                         Traceback (most recent call last)",
      "Cell \u001b[1;32mIn[2], line 7\u001b[0m\n\u001b[0;32m      5\u001b[0m \u001b[39mprint\u001b[39m(my_tesla\u001b[39m.\u001b[39mget_descriptive_name())\n\u001b[0;32m      6\u001b[0m my_tesla\u001b[39m.\u001b[39mbattery\u001b[39m.\u001b[39mdescribe_battery()\n\u001b[1;32m----> 7\u001b[0m my_tesla\u001b[39m.\u001b[39;49mbattery\u001b[39m.\u001b[39;49mget_range()\n",
      "File \u001b[1;32mc:\\Users\\User\\Desktop\\Python_Tutorial\\Notebooks\\car.py:45\u001b[0m, in \u001b[0;36mBattery.get_range\u001b[1;34m(self)\u001b[0m\n\u001b[0;32m     43\u001b[0m \u001b[39melif\u001b[39;00m \u001b[39mself\u001b[39m\u001b[39m.\u001b[39mbattery_size \u001b[39m==\u001b[39m \u001b[39m85\u001b[39m:\n\u001b[0;32m     44\u001b[0m     \u001b[39mrange\u001b[39m \u001b[39m=\u001b[39m \u001b[39m270\u001b[39m\n\u001b[1;32m---> 45\u001b[0m message \u001b[39m=\u001b[39m \u001b[39m\"\u001b[39m\u001b[39mThis car can go approximately \u001b[39m\u001b[39m\"\u001b[39m \u001b[39m+\u001b[39m \u001b[39mstr\u001b[39m(\u001b[39mrange\u001b[39;49m)\n\u001b[0;32m     46\u001b[0m message \u001b[39m+\u001b[39m\u001b[39m=\u001b[39m \u001b[39m\"\u001b[39m\u001b[39m miles on a full charge.\u001b[39m\u001b[39m\"\u001b[39m\n\u001b[0;32m     47\u001b[0m \u001b[39mprint\u001b[39m(message)\n",
      "\u001b[1;31mUnboundLocalError\u001b[0m: local variable 'range' referenced before assignment"
     ]
    }
   ],
   "source": [
    "# my_electric_car.py\n",
    "\n",
    "from car import ElectricCar\n",
    "my_tesla = ElectricCar('tesla', 'model s', 2016)\n",
    "print(my_tesla.get_descriptive_name())\n",
    "my_tesla.battery.describe_battery()\n",
    "my_tesla.battery.get_range()"
   ]
  },
  {
   "attachments": {},
   "cell_type": "markdown",
   "metadata": {},
   "source": [
    "# Ejercicios "
   ]
  },
  {
   "attachments": {},
   "cell_type": "markdown",
   "metadata": {},
   "source": [
    "### 9-1. Restaurant: \n",
    "\n",
    "Make a class called Restaurant. The __init__() method for\n",
    "Restaurant should store two attributes: a restaurant_name and a cuisine_type.\n",
    "Make a method called describe_restaurant() that prints these two pieces of\n",
    "information, and a method called open_restaurant() that prints a message indicating\n",
    "that the restaurant is open.\n",
    "\n",
    "Make an instance called restaurant from your class. Print the two attributes\n",
    "individually, and then call both methods."
   ]
  },
  {
   "attachments": {},
   "cell_type": "markdown",
   "metadata": {},
   "source": [
    "### 9-2. Three Restaurants: \n",
    "\n",
    "Start with your class from Exercise 9-1. Create three\n",
    "different instances from the class, and call describe_restaurant() for each\n",
    "instance."
   ]
  },
  {
   "attachments": {},
   "cell_type": "markdown",
   "metadata": {},
   "source": [
    "### 9-3. Users: \n",
    "\n",
    "Make a class called User. \n",
    "\n",
    "Create two attributes called first_name\n",
    "and last_name, and then create several other attributes that are typically stored\n",
    "in a user profile. Make a method called describe_user() that prints a summary\n",
    "of the user’s information. Make another method called greet_user() that prints\n",
    "a personalized greeting to the user.\n",
    "Create several instances representing different users, and call both methods\n",
    "for each user."
   ]
  },
  {
   "attachments": {},
   "cell_type": "markdown",
   "metadata": {},
   "source": [
    "### 9-4. Number Served: \n",
    "\n",
    "Start with your program from Exercise 9-1.\n",
    "\n",
    "Add an attribute called number_served with a default value of 0. Create an\n",
    "instance called restaurant from this class. Print the number of customers the\n",
    "restaurant has served, and then change this value and print it again.\n",
    "Add a method called set_number_served() that lets you set the number\n",
    "of customers that have been served. Call this method with a new number and\n",
    "print the value again.\n",
    "\n",
    "Add a method called increment_number_served() that lets you increment\n",
    "the number of customers who’ve been served. Call this method with any number\n",
    "you like that could represent how many customers were served in, say, a\n",
    "day of business."
   ]
  },
  {
   "attachments": {},
   "cell_type": "markdown",
   "metadata": {},
   "source": [
    "### 9-5. Login Attempts: \n",
    "\n",
    "Add an attribute called login_attempts to your user class from Exercise 9-3. \n",
    "\n",
    "Write a method called increment_login_attempts() that increments the value of login_attempts by 1. Write\n",
    "another method called reset_login_attempts() that resets the value of login_\n",
    "attempts to 0.\n",
    "\n",
    "Make an instance of the User class and call increment_login_attempts()\n",
    "several times. Print the value of login_attempts to make sure it was incremented\n",
    "properly, and then call reset_login_attempts(). Print login_attempts again to\n",
    "make sure it was reset to 0."
   ]
  },
  {
   "attachments": {},
   "cell_type": "markdown",
   "metadata": {},
   "source": [
    "### 9-6. Ice Cream Stand: \n",
    "\n",
    "An ice cream stand is a specific kind of restaurant. Write\n",
    "a class called IceCreamStand that inherits from the Restaurant class you wrote\n",
    "in Exercise 9-1 (page 166) or Exercise 9-4 (page 171). Either version of\n",
    "the class will work; just pick the one you like better. Add an attribute called\n",
    "flavors that stores a list of ice cream flavors. Write a method that displays\n",
    "these flavors. Create an instance of IceCreamStand, and call this method."
   ]
  },
  {
   "attachments": {},
   "cell_type": "markdown",
   "metadata": {},
   "source": [
    "### 9-7. Admin: \n",
    "\n",
    "An administrator is a special kind of user. Write a class called Admin that inherits from the User class you wrote in Exercise 9-3 (page 166) or Exercise 9-5 (page 171). \n",
    "\n",
    "Add an attribute, privileges, that stores a list\n",
    "of strings like \"can add post\", \"can delete post\", \"can ban user\", and so on.\n",
    "Write a method called show_privileges() that lists the administrator’s set of\n",
    "privileges. Create an instance of Admin, and call your method."
   ]
  },
  {
   "attachments": {},
   "cell_type": "markdown",
   "metadata": {},
   "source": [
    "### 9-8. Privileges: \n",
    "\n",
    "Write a separate Privileges class. The class should have one\n",
    "attribute, privileges, that stores a list of strings as described in Exercise 9-7.\n",
    "Move the show_privileges() method to this class. Make a Privileges instance\n",
    "as an attribute in the Admin class. Create a new instance of Admin and use your\n",
    "method to show its privileges."
   ]
  },
  {
   "attachments": {},
   "cell_type": "markdown",
   "metadata": {},
   "source": [
    "### 9-9. Battery Upgrade: \n",
    "\n",
    "Use the final version of electric_car.py from this section.\n",
    "\n",
    "Add a method to the Battery class called upgrade_battery(). This method\n",
    "should check the battery size and set the capacity to 85 if it isn’t already.\n",
    "Make an electric car with a default battery size, call get_range() once, and\n",
    "then call get_range() a second time after upgrading the battery. You should\n",
    "see an increase in the car’s range."
   ]
  }
 ],
 "metadata": {
  "kernelspec": {
   "display_name": "Python 3",
   "language": "python",
   "name": "python3"
  },
  "language_info": {
   "codemirror_mode": {
    "name": "ipython",
    "version": 3
   },
   "file_extension": ".py",
   "mimetype": "text/x-python",
   "name": "python",
   "nbconvert_exporter": "python",
   "pygments_lexer": "ipython3",
   "version": "3.9.9"
  },
  "orig_nbformat": 4
 },
 "nbformat": 4,
 "nbformat_minor": 2
}
