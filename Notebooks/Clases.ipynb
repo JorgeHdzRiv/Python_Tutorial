{
 "cells": [
  {
   "attachments": {},
   "cell_type": "markdown",
   "metadata": {},
   "source": [
    "# Introduccion"
   ]
  },
  {
   "attachments": {},
   "cell_type": "markdown",
   "metadata": {},
   "source": [
    "Object-oriented programming is one of the\n",
    "most effective approaches to writing software.\n",
    "In object-oriented programming you\n",
    "write classes that represent real-world things\n",
    "and situations, and you create objects based on these\n",
    "classes. When you write a class, you define the general\n",
    "behavior that a whole category of objects can have.\n",
    "\n",
    "Classes also make life easier for you and the other programmers you’ll\n",
    "need to work with as you take on increasingly complex challenges. When\n",
    "you and other programmers write code based on the same kind of logic,\n",
    "you’ll be able to understand each other’s work. Your programs will make\n",
    "sense to many collaborators, allowing everyone to accomplish more."
   ]
  },
  {
   "attachments": {},
   "cell_type": "markdown",
   "metadata": {},
   "source": [
    "# Creando y usando una clase"
   ]
  },
  {
   "attachments": {},
   "cell_type": "markdown",
   "metadata": {},
   "source": [
    "You can model almost anything using classes. Let’s start by writing a simple\n",
    "class, Dog, that represents a dog—not one dog in particular, but any dog.\n",
    "What do we know about most pet dogs? Well, they all have a name and age.\n",
    "\n",
    "We also know that most dogs sit and roll over. Those two pieces of information\n",
    "(name and age) and those two behaviors (sit and roll over) will go\n",
    "in our Dog class because they’re common to most dogs. This class will tell\n",
    "Python how to make an object representing a dog. After our class is written,\n",
    "we’ll use it to make individual instances, each of which represents one specific\n",
    "dog."
   ]
  },
  {
   "attachments": {},
   "cell_type": "markdown",
   "metadata": {},
   "source": [
    "## Creando la clase Perro"
   ]
  },
  {
   "attachments": {},
   "cell_type": "markdown",
   "metadata": {},
   "source": [
    "Each instance created from the Dog class will store a name and an age, and\n",
    "we’ll give each dog the ability to sit() and roll_over():"
   ]
  },
  {
   "cell_type": "code",
   "execution_count": 1,
   "metadata": {},
   "outputs": [],
   "source": [
    "#dog.py\n",
    "\n",
    "class Dog():\n",
    "    \"\"\"A simple attempt to model a dog.\"\"\"\n",
    "\n",
    "    def __init__(self, name, age):\n",
    "        \"\"\"Initialize name and age attributes.\"\"\"\n",
    "        self.name = name\n",
    "        self.age = age\n",
    "    \n",
    "    def sit(self):\n",
    "        \"\"\"Simulate a dog sitting in response to a command.\"\"\"\n",
    "        print(self.name.title() + \" is now sitting.\")\n",
    "    \n",
    "    def roll_over(self):\n",
    "        \"\"\"Simulate rolling over in response to a command.\"\"\"\n",
    "        print(self.name.title() + \" rolled over!\")"
   ]
  },
  {
   "attachments": {},
   "cell_type": "markdown",
   "metadata": {},
   "source": [
    "There’s a lot to notice here, but don’t worry. You’ll see this structure\n",
    "throughout this chapter and have lots of time to get used to it. At u we\n",
    "define a class called Dog. By convention, capitalized names refer to classes\n",
    "in Python. The parentheses in the class definition are empty because we’re\n",
    "creating this class from scratch. At v we write a docstring describing what\n",
    "this class does."
   ]
  },
  {
   "attachments": {},
   "cell_type": "markdown",
   "metadata": {},
   "source": [
    "### El metodo __init__()"
   ]
  },
  {
   "attachments": {},
   "cell_type": "markdown",
   "metadata": {},
   "source": [
    "A function that’s part of a class is a method. Everything you learned about\n",
    "functions applies to methods as well; the only practical difference for now is\n",
    "the way we’ll call methods. The __init__() method at is a special method\n",
    "Python runs automatically whenever we create a new instance based on the\n",
    "Dog class. This method has two leading underscores and two trailing underscores,\n",
    "a convention that helps prevent Python’s default method names\n",
    "from conflicting with your method names."
   ]
  },
  {
   "attachments": {},
   "cell_type": "markdown",
   "metadata": {},
   "source": [
    "We define the __init__() method to have three parameters: self, name,\n",
    "and age. The self parameter is required in the method definition, and it\n",
    "must come first before the other parameters. It must be included in the definition\n",
    "because when Python calls this __init__() method later (to create an\n",
    "instance of Dog), the method call will automatically pass the self argument.\n",
    "Every method call associated with a class automatically passes self, which\n",
    "is a reference to the instance itself; it gives the individual instance access to\n",
    "the attributes and methods in the class. When we make an instance of Dog,\n",
    "Python will call the __init__() method from the Dog class. We’ll pass Dog()\n",
    "a name and an age as arguments; self is passed automatically, so we don’t\n",
    "need to pass it. Whenever we want to make an instance from the Dog class,\n",
    "we’ll provide values for only the last two parameters, name and age."
   ]
  },
  {
   "attachments": {},
   "cell_type": "markdown",
   "metadata": {},
   "source": [
    "The two variables defined at each have the prefix self. Any variable\n",
    "prefixed with self is available to every method in the class, and we’ll also be\n",
    "able to access these variables through any instance created from the class.\n",
    "self.name = name takes the value stored in the parameter name and stores it\n",
    "in the variable name, which is then attached to the instance being created.\n",
    "The same process happens with self.age = age. Variables that are accessible\n",
    "through instances like this are called attributes."
   ]
  },
  {
   "attachments": {},
   "cell_type": "markdown",
   "metadata": {},
   "source": [
    "The Dog class has two other methods defined: sit() and roll_over() .\n",
    "Because these methods don’t need additional information like a name\n",
    "or age, we just define them to have one parameter, self. The instances\n",
    "we create later will have access to these methods. In other words, they’ll\n",
    "be able to sit and roll over. For now, sit() and roll_over() don’t do much.\n",
    "They simply print a message saying the dog is sitting or rolling over. But\n",
    "the concept can be extended to realistic situations: if this class were part\n",
    "of an actual computer game, these methods would contain code to make\n",
    "an animated dog sit and roll over. If this class was written to control a\n",
    "robot, these methods would direct movements that cause a dog robot to\n",
    "sit and roll over."
   ]
  },
  {
   "attachments": {},
   "cell_type": "markdown",
   "metadata": {},
   "source": [
    "## Making an Instance from a Class"
   ]
  },
  {
   "attachments": {},
   "cell_type": "markdown",
   "metadata": {},
   "source": [
    "Think of a class as a set of instructions for how to make an instance. The\n",
    "class Dog is a set of instructions that tells Python how to make individual\n",
    "instances representing specific dogs.\n",
    "Let’s make an instance representing a specific dog:\n",
    "\n"
   ]
  },
  {
   "cell_type": "code",
   "execution_count": 2,
   "metadata": {},
   "outputs": [
    {
     "name": "stdout",
     "output_type": "stream",
     "text": [
      "My dog's name is Willie.\n",
      "My dog is 6 years old.\n"
     ]
    }
   ],
   "source": [
    "my_dog = Dog('willie', 6)\n",
    "\n",
    "print(\"My dog's name is \" + my_dog.name.title() + \".\")\n",
    "print(\"My dog is \" + str(my_dog.age) + \" years old.\")"
   ]
  },
  {
   "attachments": {},
   "cell_type": "markdown",
   "metadata": {},
   "source": [
    "The Dog class we’re using here is the one we just wrote in the previous\n",
    "example. At we tell Python to create a dog whose name is 'willie' and\n",
    "whose age is 6. When Python reads this line, it calls the __init__() method\n",
    "in Dog with the arguments 'willie' and 6. The __init__() method creates an\n",
    "instance representing this particular dog and sets the name and age attributes\n",
    "using the values we provided. The __init__() method has no explicit return\n",
    "statement, but Python automatically returns an instance representing this\n",
    "dog. We store that instance in the variable my_dog. The naming convention is\n",
    "helpful here: we can usually assume that a capitalized name like Dog refers\n",
    "to a class, and a lowercase name like my_dog refers to a single instance created\n",
    "from a class."
   ]
  },
  {
   "attachments": {},
   "cell_type": "markdown",
   "metadata": {},
   "source": [
    "### Accessing Attributes"
   ]
  },
  {
   "attachments": {},
   "cell_type": "markdown",
   "metadata": {},
   "source": [
    "To access the attributes of an instance, you use dot notation. At we access\n",
    "the value of my_dog’s attribute name by writing:\n",
    "\n"
   ]
  },
  {
   "cell_type": "code",
   "execution_count": 3,
   "metadata": {},
   "outputs": [],
   "source": [
    "#my_dog.name"
   ]
  },
  {
   "attachments": {},
   "cell_type": "markdown",
   "metadata": {},
   "source": [
    "### Llamando metodos"
   ]
  },
  {
   "attachments": {},
   "cell_type": "markdown",
   "metadata": {},
   "source": [
    "After we create an instance from the class Dog, we can use dot notation to\n",
    "call any method defined in Dog. Let’s make our dog sit and roll over:"
   ]
  },
  {
   "cell_type": "code",
   "execution_count": 5,
   "metadata": {},
   "outputs": [
    {
     "name": "stdout",
     "output_type": "stream",
     "text": [
      "Willie is now sitting.\n",
      "Willie rolled over!\n"
     ]
    }
   ],
   "source": [
    "#lass Dog():\n",
    "#-snip--\n",
    "#my_dog = Dog('willie', 6)\n",
    "\n",
    "my_dog.sit()\n",
    "my_dog.roll_over()"
   ]
  },
  {
   "attachments": {},
   "cell_type": "markdown",
   "metadata": {},
   "source": [
    "This syntax is quite useful. When attributes and methods have been\n",
    "given appropriately descriptive names like name, age, sit(), and roll_over(),\n",
    "we can easily infer what a block of code, even one we’ve never seen before,\n",
    "is supposed to do."
   ]
  },
  {
   "attachments": {},
   "cell_type": "markdown",
   "metadata": {},
   "source": [
    "### Creando multiples instancias"
   ]
  },
  {
   "attachments": {},
   "cell_type": "markdown",
   "metadata": {},
   "source": [
    "You can create as many instances from a class as you need. Let’s create a\n",
    "second dog called your_dog:"
   ]
  },
  {
   "cell_type": "code",
   "execution_count": 6,
   "metadata": {},
   "outputs": [
    {
     "name": "stdout",
     "output_type": "stream",
     "text": [
      "My dog's name is Willie.\n",
      "My dog is 6 years old.\n",
      "Willie is now sitting.\n",
      "\n",
      "Your dog's name is Lucy.\n",
      "Your dog is 3 years old.\n",
      "Lucy is now sitting.\n"
     ]
    }
   ],
   "source": [
    "#class Dog():\n",
    "#--snip--\n",
    "\n",
    "my_dog = Dog('willie', 6)\n",
    "your_dog = Dog('lucy', 3)\n",
    "print(\"My dog's name is \" + my_dog.name.title() + \".\")\n",
    "print(\"My dog is \" + str(my_dog.age) + \" years old.\")\n",
    "my_dog.sit()\n",
    "print(\"\\nYour dog's name is \" + your_dog.name.title() + \".\")\n",
    "print(\"Your dog is \" + str(your_dog.age) + \" years old.\")\n",
    "your_dog.sit()"
   ]
  },
  {
   "attachments": {},
   "cell_type": "markdown",
   "metadata": {},
   "source": [
    "Even if we used the same name and age for the second dog, Python\n",
    "would still create a separate instance from the Dog class. You can make\n",
    "as many instances from one class as you need, as long as you give each\n",
    "instance a unique variable name or it occupies a unique spot in a list or\n",
    "dictionary."
   ]
  },
  {
   "attachments": {},
   "cell_type": "markdown",
   "metadata": {},
   "source": [
    "# Working with Classes and Instances"
   ]
  },
  {
   "attachments": {},
   "cell_type": "markdown",
   "metadata": {},
   "source": [
    "You can use classes to represent many real-world situations. Once you write\n",
    "a class, you’ll spend most of your time working with instances created from\n",
    "that class. One of the first tasks you’ll want to do is modify the attributes\n",
    "associated with a particular instance. You can modify the attributes of an\n",
    "instance directly or write methods that update attributes in specific ways."
   ]
  },
  {
   "attachments": {},
   "cell_type": "markdown",
   "metadata": {},
   "source": [
    "## The Car Class"
   ]
  },
  {
   "attachments": {},
   "cell_type": "markdown",
   "metadata": {},
   "source": [
    "Let’s write a new class representing a car. Our class will store information\n",
    "about the kind of car we’re working with, and it will have a method that\n",
    "summarizes this information:"
   ]
  },
  {
   "cell_type": "code",
   "execution_count": 7,
   "metadata": {},
   "outputs": [
    {
     "name": "stdout",
     "output_type": "stream",
     "text": [
      "2016 Audi A4\n"
     ]
    }
   ],
   "source": [
    "#car.py\n",
    "\n",
    "class Car():\n",
    "    \"\"\"A simple attempt to represent a car.\"\"\"\n",
    "    def __init__(self, make, model, year):\n",
    "        \"\"\"Initialize attributes to describe a car.\"\"\"\n",
    "        self.make = make\n",
    "        self.model = model\n",
    "        self.year = year\n",
    "    \n",
    "    def get_descriptive_name(self):\n",
    "        \"\"\"Return a neatly formatted descriptive name.\"\"\"\n",
    "        long_name = str(self.year) + ' ' + self.make + ' ' + self.model\n",
    "        return long_name.title()\n",
    "\n",
    "my_new_car = Car('audi', 'a4', 2016)\n",
    "print(my_new_car.get_descriptive_name())"
   ]
  },
  {
   "attachments": {},
   "cell_type": "markdown",
   "metadata": {},
   "source": [
    "At in the Car class, we define the __init__() method with the self\n",
    "parameter first, just like we did before with our Dog class. We also give\n",
    "it three other parameters: make, model, and year. The __init__() method\n",
    "takes in these parameters and stores them in the attributes that will be\n",
    "associated with instances made from this class. When we make a new Car\n",
    "instance, we’ll need to specify a make, model, and year for our instance.\n",
    "\n",
    "At we define a method called get_descriptive_name() that puts a car’s\n",
    "year, make, and model into one string neatly describing the car. This will spare\n",
    "us from having to print each attribute’s value individually. To work with the\n",
    "attribute values in this method, we use self.make, self.model, and self.year.\n",
    "\n",
    "At we make an instance from the Car class and store it in the variable\n",
    "my_new_car. Then we call get_descriptive_name() to show what kind of car\n",
    "we have:"
   ]
  },
  {
   "attachments": {},
   "cell_type": "markdown",
   "metadata": {},
   "source": [
    "To make the class more interesting, let’s add an attribute that changes\n",
    "over time. We’ll add an attribute that stores the car’s overall mileage."
   ]
  },
  {
   "attachments": {},
   "cell_type": "markdown",
   "metadata": {},
   "source": [
    "## Setting a Default Value for an Attribute"
   ]
  },
  {
   "attachments": {},
   "cell_type": "markdown",
   "metadata": {},
   "source": [
    "Every attribute in a class needs an initial value, even if that value is 0 or an\n",
    "empty string. In some cases, such as when setting a default value, it makes\n",
    "sense to specify this initial value in the body of the __init__() method; if\n",
    "you do this for an attribute, you don’t have to include a parameter for that\n",
    "attribute.\n",
    "\n",
    "Let’s add an attribute called odometer_reading that always starts with a\n",
    "value of 0. We’ll also add a method read_odometer() that helps us read each\n",
    "car’s odometer:"
   ]
  },
  {
   "cell_type": "code",
   "execution_count": 10,
   "metadata": {},
   "outputs": [
    {
     "name": "stdout",
     "output_type": "stream",
     "text": [
      "This car has 0 miles on it.\n"
     ]
    }
   ],
   "source": [
    "class Car():\n",
    "\n",
    "    def __init__(self, make, model, year):\n",
    "        \"\"\"Initialize attributes to describe a car.\"\"\"\n",
    "        self.make = make\n",
    "        self.model = model\n",
    "        self.year = year\n",
    "        self.odometer_reading = 0\n",
    "\n",
    "    def get_descriptive_name(self):\n",
    "        \"\"\"Return a neatly formatted descriptive name.\"\"\"\n",
    "        long_name = str(self.year) + ' ' + self.make + ' ' + self.model\n",
    "        return long_name.title()\n",
    "    \n",
    "    def read_odometer(self):\n",
    "        \"\"\"Print a statement showing the car's mileage.\"\"\"\n",
    "        print(\"This car has \" + str(self.odometer_reading) + \" miles on it.\")\n",
    "\n",
    "my_new_car = Car('audi', 'a4', 2016)\n",
    "my_new_car.read_odometer()"
   ]
  },
  {
   "attachments": {},
   "cell_type": "markdown",
   "metadata": {},
   "source": [
    "Not many cars are sold with exactly 0 miles on the odometer, so we\n",
    "need a way to change the value of this attribute."
   ]
  },
  {
   "attachments": {},
   "cell_type": "markdown",
   "metadata": {},
   "source": [
    "## Modifying Attribute Values"
   ]
  },
  {
   "attachments": {},
   "cell_type": "markdown",
   "metadata": {},
   "source": [
    "You can change an attribute’s value in three ways: you can change the value\n",
    "directly through an instance, set the value through a method, or increment\n",
    "the value (add a certain amount to it) through a method. Let’s look at each\n",
    "of these approaches."
   ]
  },
  {
   "attachments": {},
   "cell_type": "markdown",
   "metadata": {},
   "source": [
    "### Modifying an Attribute’s Value Directly"
   ]
  },
  {
   "attachments": {},
   "cell_type": "markdown",
   "metadata": {},
   "source": [
    "The simplest way to modify the value of an attribute is to access the attribute\n",
    "directly through an instance. Here we set the odometer reading to 23\n",
    "directly:"
   ]
  },
  {
   "cell_type": "code",
   "execution_count": 11,
   "metadata": {},
   "outputs": [
    {
     "name": "stdout",
     "output_type": "stream",
     "text": [
      "This car has 23 miles on it.\n"
     ]
    }
   ],
   "source": [
    "my_new_car.odometer_reading = 23\n",
    "my_new_car.read_odometer()"
   ]
  },
  {
   "attachments": {},
   "cell_type": "markdown",
   "metadata": {},
   "source": [
    "Sometimes you’ll want to access attributes directly like this, but other\n",
    "times you’ll want to write a method that updates the value for you."
   ]
  },
  {
   "attachments": {},
   "cell_type": "markdown",
   "metadata": {},
   "source": [
    "### Modifying an Attribute’s Value Through a Method"
   ]
  },
  {
   "attachments": {},
   "cell_type": "markdown",
   "metadata": {},
   "source": [
    "It can be helpful to have methods that update certain attributes for you.\n",
    "Instead of accessing the attribute directly, you pass the new value to a\n",
    "method that handles the updating internally.\n",
    "Here’s an example showing a method called update_odometer():"
   ]
  },
  {
   "cell_type": "code",
   "execution_count": 13,
   "metadata": {},
   "outputs": [
    {
     "ename": "AttributeError",
     "evalue": "'Car' object has no attribute 'update_odometer'",
     "output_type": "error",
     "traceback": [
      "\u001b[1;31m---------------------------------------------------------------------------\u001b[0m",
      "\u001b[1;31mAttributeError\u001b[0m                            Traceback (most recent call last)",
      "Cell \u001b[1;32mIn[13], line 5\u001b[0m\n\u001b[0;32m      2\u001b[0m \u001b[39m    \u001b[39m\u001b[39m\"\"\"Set the odometer reading to the given value.\"\"\"\u001b[39;00m\n\u001b[0;32m      3\u001b[0m     \u001b[39mself\u001b[39m\u001b[39m.\u001b[39modometer_reading \u001b[39m=\u001b[39m mileage\n\u001b[1;32m----> 5\u001b[0m my_new_car\u001b[39m.\u001b[39;49mupdate_odometer(\u001b[39m23\u001b[39m)\n\u001b[0;32m      6\u001b[0m my_new_car\u001b[39m.\u001b[39mread_odometer()\n\u001b[0;32m      8\u001b[0m \u001b[39m#La respuesta de este metodo seria\u001b[39;00m\n\u001b[0;32m      9\u001b[0m \n\u001b[0;32m     10\u001b[0m \u001b[39m# This car has 23 miles on it.\u001b[39;00m\n",
      "\u001b[1;31mAttributeError\u001b[0m: 'Car' object has no attribute 'update_odometer'"
     ]
    }
   ],
   "source": [
    "def update_odometer(self, mileage):\n",
    "    \"\"\"Set the odometer reading to the given value.\"\"\"\n",
    "    self.odometer_reading = mileage\n",
    "\n",
    "my_new_car.update_odometer(23)\n",
    "my_new_car.read_odometer()\n",
    "\n",
    "#La respuesta de este metodo seria\n",
    "\n",
    "# This car has 23 miles on it."
   ]
  },
  {
   "attachments": {},
   "cell_type": "markdown",
   "metadata": {},
   "source": [
    "We can extend the method update_odometer() to do additional work\n",
    "every time the odometer reading is modified. Let’s add a little logic to\n",
    "make sure no one tries to roll back the odometer reading:"
   ]
  },
  {
   "cell_type": "code",
   "execution_count": 12,
   "metadata": {},
   "outputs": [],
   "source": [
    "def update_odometer(self, mileage):\n",
    "    \"\"\"Set the odometer reading to the given value.\n",
    "    Reject the change if it attempts to roll the odometer back.\n",
    "    \"\"\"\n",
    "    if mileage >= self.odometer_reading:\n",
    "        self.odometer_reading = mileage\n",
    "    else:\n",
    "        print(\"You can't roll back an odometer!\")\n",
    "\n"
   ]
  },
  {
   "attachments": {},
   "cell_type": "markdown",
   "metadata": {},
   "source": [
    "### Incrementing an Attribute’s Value Through a Method"
   ]
  },
  {
   "attachments": {},
   "cell_type": "markdown",
   "metadata": {},
   "source": [
    "# Ejercicios "
   ]
  },
  {
   "attachments": {},
   "cell_type": "markdown",
   "metadata": {},
   "source": [
    "### 9-1. Restaurant: \n",
    "\n",
    "Make a class called Restaurant. The __init__() method for\n",
    "Restaurant should store two attributes: a restaurant_name and a cuisine_type.\n",
    "Make a method called describe_restaurant() that prints these two pieces of\n",
    "information, and a method called open_restaurant() that prints a message indicating\n",
    "that the restaurant is open.\n",
    "\n",
    "Make an instance called restaurant from your class. Print the two attributes\n",
    "individually, and then call both methods."
   ]
  },
  {
   "attachments": {},
   "cell_type": "markdown",
   "metadata": {},
   "source": [
    "### 9-2. Three Restaurants: \n",
    "\n",
    "Start with your class from Exercise 9-1. Create three\n",
    "different instances from the class, and call describe_restaurant() for each\n",
    "instance."
   ]
  },
  {
   "attachments": {},
   "cell_type": "markdown",
   "metadata": {},
   "source": [
    "### 9-3. Users: \n",
    "\n",
    "Make a class called User. \n",
    "\n",
    "Create two attributes called first_name\n",
    "and last_name, and then create several other attributes that are typically stored\n",
    "in a user profile. Make a method called describe_user() that prints a summary\n",
    "of the user’s information. Make another method called greet_user() that prints\n",
    "a personalized greeting to the user.\n",
    "Create several instances representing different users, and call both methods\n",
    "for each user."
   ]
  }
 ],
 "metadata": {
  "kernelspec": {
   "display_name": "Python 3",
   "language": "python",
   "name": "python3"
  },
  "language_info": {
   "codemirror_mode": {
    "name": "ipython",
    "version": 3
   },
   "file_extension": ".py",
   "mimetype": "text/x-python",
   "name": "python",
   "nbconvert_exporter": "python",
   "pygments_lexer": "ipython3",
   "version": "3.9.9"
  },
  "orig_nbformat": 4
 },
 "nbformat": 4,
 "nbformat_minor": 2
}
