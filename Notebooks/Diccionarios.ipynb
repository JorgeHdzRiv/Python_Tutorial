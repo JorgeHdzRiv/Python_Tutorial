{
 "cells": [
  {
   "attachments": {},
   "cell_type": "markdown",
   "metadata": {},
   "source": [
    "# Introduccion"
   ]
  },
  {
   "attachments": {},
   "cell_type": "markdown",
   "metadata": {},
   "source": [
    "Entender diccionarios le permite modelar una variedad de \n",
    "objetos con mayor precisión. Usted será capaz de crear un diccionario que representa un \n",
    "persona y luego almacene la mayor cantidad de información que desee acerca de esa persona.\n",
    "\n",
    "Puede almacenar su nombre, edad, ubicación, profesión y cualquier otro aspecto de \n",
    "una persona a la que puedes describir. \n",
    "\n",
    "Seras capaz de almacenar cualquier tipo de información que se pueden igualar, como una lista de palabras y sus significados, un lista de nombres de personas y sus números favoritos, una lista de montañas y \n",
    "sus elevaciones, y así sucesivamente. "
   ]
  },
  {
   "attachments": {},
   "cell_type": "markdown",
   "metadata": {},
   "source": [
    "# Un diccionario simple"
   ]
  },
  {
   "attachments": {},
   "cell_type": "markdown",
   "metadata": {},
   "source": [
    "Considere un juego con alienígenas que pueden tener diferentes colores y punto \n",
    "valores. Este sencillo diccionario almacena información sobre un extranjero en particular: \n"
   ]
  },
  {
   "cell_type": "code",
   "execution_count": 1,
   "metadata": {},
   "outputs": [
    {
     "name": "stdout",
     "output_type": "stream",
     "text": [
      "green\n",
      "5\n"
     ]
    }
   ],
   "source": [
    "alien_0 = {'color': 'green', 'points': 5}\n",
    "\n",
    "print(alien_0['color'])\n",
    "print(alien_0['points'])"
   ]
  },
  {
   "attachments": {},
   "cell_type": "markdown",
   "metadata": {},
   "source": [
    "# Trabajando con diccionarios"
   ]
  },
  {
   "attachments": {},
   "cell_type": "markdown",
   "metadata": {},
   "source": [
    "Un diccionario en Python es una colección de pares clave-valor. Cada clave está conectada \n",
    "a un valor, y puede utilizar una llave para acceder al valor asociado a esa clave. \n",
    "\n",
    "Un valor de clave puede ser un número, una cadena, una lista, o incluso otro diccionario. \n",
    "De hecho, puede utilizar cualquier objeto que pueda crear en Python como valor en un valor de \n",
    "diccionario. \n",
    "\n",
    "En Python, un diccionario está envuelto en los brackets, {}, con una serie de valor de tecla \n",
    "pares dentro de las llaves, como se muestra en el ejemplo anterior: \n"
   ]
  },
  {
   "cell_type": "code",
   "execution_count": 9,
   "metadata": {},
   "outputs": [],
   "source": [
    "alien_0 = {'color': 'green', 'points': 5}"
   ]
  },
  {
   "attachments": {},
   "cell_type": "markdown",
   "metadata": {},
   "source": [
    "Un par *key-value* es un conjunto de valores asociados entre sí. Cuando \n",
    "proporcionan una clave, Python devuelve el valor asociado a esa clave. Cada llave\n",
    "está conectado a su valor por dos puntos, y los pares clave-valor individuales están separados \n",
    "por comas. Puede almacenar tantos pares clave-valor como desee en un objeto \n",
    "diccionario. \n"
   ]
  },
  {
   "attachments": {},
   "cell_type": "markdown",
   "metadata": {},
   "source": [
    "## Acceso a valores en un diccionario"
   ]
  },
  {
   "attachments": {},
   "cell_type": "markdown",
   "metadata": {},
   "source": [
    "Para obtener el valor asociado a una clave, déle el nombre del diccionario y \n",
    "luego coloque la llave dentro de un conjunto de corchetes, como se muestra aquí: \n"
   ]
  },
  {
   "cell_type": "code",
   "execution_count": 10,
   "metadata": {},
   "outputs": [
    {
     "name": "stdout",
     "output_type": "stream",
     "text": [
      "green\n"
     ]
    }
   ],
   "source": [
    "alien_0 = {'color': 'green'}\n",
    "print(alien_0['color'])"
   ]
  },
  {
   "attachments": {},
   "cell_type": "markdown",
   "metadata": {},
   "source": [
    "**Es importante recordar que para acceder al valor de un diccionario debe ser a traves de su llave**"
   ]
  },
  {
   "cell_type": "code",
   "execution_count": 11,
   "metadata": {},
   "outputs": [
    {
     "name": "stdout",
     "output_type": "stream",
     "text": [
      "You just earned 5 points!\n"
     ]
    }
   ],
   "source": [
    "alien_0 = {'color': 'green', 'points': 5}\n",
    "new_points = alien_0['points']\n",
    "print(\"You just earned \" + str(new_points) + \" points!\")"
   ]
  },
  {
   "attachments": {},
   "cell_type": "markdown",
   "metadata": {},
   "source": [
    "## Adición de nuevos pares de valores clave"
   ]
  },
  {
   "attachments": {},
   "cell_type": "markdown",
   "metadata": {},
   "source": [
    "Los diccionarios son estructuras dinámicas, y puede agregar nuevos pares clave-valor \n",
    "a un diccionario en cualquier momento. Por ejemplo, para agregar un nuevo par clave-valor, usted \n",
    "daría el nombre del diccionario seguido de la nueva clave en el cuadrado \n",
    "soportes junto con el nuevo valor. \n",
    "\n",
    "Agreguemos dos nuevas piezas de información al diccionario alien_0: las coordenadas x y, que nos ayudará a mostrar el alien en una determinada \n",
    "posición en la pantalla.\n",
    "\n",
    "Dejemos colocar al alienígena en el borde izquierdo del \n",
    "pantalla, 25 píxeles hacia abajo desde la parte superior. Porque las coordenadas de la pantalla generalmente \n",
    "empezar en la esquina superior izquierda de la pantalla, vamos a colocar el alien a la izquierda \n",
    "del borde de la pantalla, estableciendo la coordenada x a 0 y 25 píxeles del objeto \n",
    "en la parte superior estableciendo su coordenada y con 25 positivos, como se muestra aquí: \n"
   ]
  },
  {
   "cell_type": "code",
   "execution_count": 12,
   "metadata": {},
   "outputs": [
    {
     "name": "stdout",
     "output_type": "stream",
     "text": [
      "{'color': 'green', 'points': 5}\n",
      "{'color': 'green', 'points': 5, 'x_position': 0, 'y_position': 25}\n"
     ]
    }
   ],
   "source": [
    "alien_0 = {'color': 'green', 'points': 5}\n",
    "print(alien_0)\n",
    "\n",
    "alien_0['x_position'] = 0\n",
    "alien_0['y_position'] = 25\n",
    "print(alien_0)"
   ]
  },
  {
   "attachments": {},
   "cell_type": "markdown",
   "metadata": {},
   "source": [
    "La versión final del diccionario contiene cuatro pares clave-valor. El \n",
    "original, dos especifican el color y el punto valor, y dos más especifican la posicion del alien. \n"
   ]
  },
  {
   "attachments": {},
   "cell_type": "markdown",
   "metadata": {},
   "source": [
    "## Comenzando con un diccionario vacío"
   ]
  },
  {
   "attachments": {},
   "cell_type": "markdown",
   "metadata": {},
   "source": [
    "A veces es conveniente, o incluso necesario, comenzar con un diccionario vacío \n",
    "y luego añadir cada elemento nuevo. Para comenzar a llenar un diccionario vacío, \n",
    "definir un diccionario con un conjunto de llaves vacías y luego agregar cada valor de clave \n",
    "par en su propia línea. \n",
    "\n",
    "Por ejemplo, aquí es cómo construir el diccionario alien_0 usando este enfoque: \n"
   ]
  },
  {
   "cell_type": "code",
   "execution_count": 13,
   "metadata": {},
   "outputs": [
    {
     "name": "stdout",
     "output_type": "stream",
     "text": [
      "{}\n",
      "{'color': 'green', 'points': 5}\n"
     ]
    }
   ],
   "source": [
    "alien_0 = {}\n",
    "\n",
    "print(alien_0)\n",
    "\n",
    "#Nuevas llaves\n",
    "alien_0['color'] = 'green'\n",
    "alien_0['points'] = 5\n",
    "print(alien_0)"
   ]
  },
  {
   "attachments": {},
   "cell_type": "markdown",
   "metadata": {},
   "source": [
    "Normalmente, utilizará diccionarios vacíos al almacenar datos suministrados de usuario \n",
    "en un diccionario o cuando escriba código que genere un gran número de \n",
    "pares clave-valor automáticamente. \n"
   ]
  },
  {
   "attachments": {},
   "cell_type": "markdown",
   "metadata": {},
   "source": [
    "## Modificacion de valores en un diccionario"
   ]
  },
  {
   "attachments": {},
   "cell_type": "markdown",
   "metadata": {},
   "source": [
    "Para modificar un valor en un diccionario, dé el nombre del diccionario con el objeto \n",
    "en los corchetes cuadrados y luego el nuevo valor que desea asociado a \n",
    "esa llave. \n",
    "\n",
    "Por ejemplo, consideremos un extranjero que cambie de verde a amarillo \n",
    "a medida que avanza un juego: "
   ]
  },
  {
   "cell_type": "code",
   "execution_count": 14,
   "metadata": {},
   "outputs": [
    {
     "name": "stdout",
     "output_type": "stream",
     "text": [
      "The alien is green.\n",
      "The alien is now yellow.\n"
     ]
    }
   ],
   "source": [
    "alien_0 = {'color': 'green'}\n",
    "print(\"The alien is \" + alien_0['color'] + \".\")\n",
    "\n",
    "alien_0['color'] = 'yellow'\n",
    "print(\"The alien is now \" + alien_0['color'] + \".\")"
   ]
  },
  {
   "attachments": {},
   "cell_type": "markdown",
   "metadata": {},
   "source": [
    "Para un ejemplo más interesante, vamos a rastrear la posición de un alien que \n",
    "puede moverse a diferentes velocidades. \n",
    "\n",
    "Nosotros almacenaremos un valor que represente a los alienígenas \n",
    "la velocidad actual y luego utilizarla para determinar qué tan lejos a la derecha el extranjero \n",
    "debe moverse: \n"
   ]
  },
  {
   "cell_type": "code",
   "execution_count": 16,
   "metadata": {},
   "outputs": [
    {
     "name": "stdout",
     "output_type": "stream",
     "text": [
      "Original x-position: 0\n",
      "New x-position: 2\n"
     ]
    }
   ],
   "source": [
    "alien_0 = {'x_position': 0, 'y_position': 25, 'speed': 'medium'}\n",
    "print(\"Original x-position: \" + str(alien_0['x_position']))\n",
    "# Move the alien to the right.\n",
    "# Determine how far to move the alien based on its current speed.\n",
    "if alien_0['speed'] == 'slow':\n",
    "    x_increment = 1\n",
    "elif alien_0['speed'] == 'medium':\n",
    "    x_increment = 2\n",
    "else:\n",
    "# This must be a fast alien.\n",
    "    x_increment = 3\n",
    "# The new position is the old position plus the increment.\n",
    "alien_0['x_position'] = alien_0['x_position'] + x_increment\n",
    "\n",
    "print(\"New x-position: \" + str(alien_0['x_position']))"
   ]
  },
  {
   "attachments": {},
   "cell_type": "markdown",
   "metadata": {},
   "source": [
    "## Eliminación de pares de valores clave"
   ]
  },
  {
   "attachments": {},
   "cell_type": "markdown",
   "metadata": {},
   "source": [
    "Cuando ya no necesite un fragmento de información almacenada en un diccionario, \n",
    "puede utilizar la instrucción *del* para quitar completamente un par clave-valor. \n",
    "Todas las necesidades *del* son el nombre del diccionario y la clave que desea \n",
    "eliminar. \n",
    "\n",
    "Por ejemplo, vamos a quitar la clave 'puntos' del diccionario alien_0 \n",
    "junto con su valor: \n"
   ]
  },
  {
   "cell_type": "code",
   "execution_count": 17,
   "metadata": {},
   "outputs": [
    {
     "name": "stdout",
     "output_type": "stream",
     "text": [
      "{'color': 'green', 'points': 5}\n",
      "{'color': 'green'}\n"
     ]
    }
   ],
   "source": [
    "alien_0 = {'color': 'green', 'points': 5}\n",
    "print(alien_0)\n",
    "\n",
    "del alien_0['points']\n",
    "print(alien_0)"
   ]
  },
  {
   "attachments": {},
   "cell_type": "markdown",
   "metadata": {},
   "source": [
    "**Tenga en cuenta que el par de valor de clave eliminado se quita permanentemente.**"
   ]
  },
  {
   "attachments": {},
   "cell_type": "markdown",
   "metadata": {},
   "source": [
    "## Un diccionario de objetos similares"
   ]
  },
  {
   "attachments": {},
   "cell_type": "markdown",
   "metadata": {},
   "source": [
    "El ejemplo anterior implicó almacenar diferentes tipos de información sobre \n",
    "un objeto, un alien en un juego. También puede utilizar un diccionario para almacenar un objeto \n",
    "tipo de información acerca de muchos objetos. \n",
    "\n",
    "Por ejemplo, diga que desea sondear a un número de personas y preguntarles cuál es su lenguaje de programación favorito. Un diccionario es útil para almacenar los resultados de una encuesta simple, así: \n"
   ]
  },
  {
   "cell_type": "code",
   "execution_count": 3,
   "metadata": {},
   "outputs": [],
   "source": [
    "favorite_languages = {\n",
    "'jen': 'python',\n",
    "'sarah': 'c',\n",
    "'edward': 'ruby',\n",
    "'phil': 'python',\n",
    "}"
   ]
  },
  {
   "cell_type": "code",
   "execution_count": 4,
   "metadata": {},
   "outputs": [
    {
     "data": {
      "text/plain": [
       "{'jen': 'python', 'sarah': 'c', 'edward': 'ruby', 'phil': 'python'}"
      ]
     },
     "execution_count": 4,
     "metadata": {},
     "output_type": "execute_result"
    }
   ],
   "source": [
    "favorite_languages"
   ]
  },
  {
   "attachments": {},
   "cell_type": "markdown",
   "metadata": {},
   "source": [
    "Como puede ver, hemos roto un diccionario más grande en varias líneas. Cada \n",
    "clave es el nombre de una persona que respondió a la encuesta, y cada valor es su \n",
    "elección de idioma. Cuando sepa que necesitará más de una línea para definir \n",
    "un diccionario, presione entrar después de la abrazadera de apertura. Luego indiese el siguiente \n",
    "línea de un nivel (cuatro espacios), y escriba el primer par clave-valor, seguido de \n",
    "una coma. \n"
   ]
  },
  {
   "attachments": {},
   "cell_type": "markdown",
   "metadata": {},
   "source": [
    "Una vez que haya terminado de definir el diccionario, añada una abrazadera de cierre en un nueva línea después del último par clave-valor y indique un nivel para alinearlo con \n",
    "las teclas del diccionario. "
   ]
  },
  {
   "cell_type": "code",
   "execution_count": 5,
   "metadata": {},
   "outputs": [
    {
     "name": "stdout",
     "output_type": "stream",
     "text": [
      "Sarah's favorite language is C.\n"
     ]
    }
   ],
   "source": [
    "favorite_languages = {\n",
    "    'jen': 'python',\n",
    "    'sarah': 'c',\n",
    "    'edward': 'ruby',\n",
    "    'phil': 'python',\n",
    "}\n",
    "print(\"Sarah's favorite language is \" +\n",
    "favorite_languages['sarah'].title() + \".\")"
   ]
  },
  {
   "attachments": {},
   "cell_type": "markdown",
   "metadata": {},
   "source": [
    "Este ejemplo también muestra cómo se puede romper una declaración de impresión larga \n",
    "en varias líneas. La palabra print es más corta que la mayoría de los nombres de diccionario, por lo que \n",
    "tiene sentido incluir la primera parte de lo que desea imprimir después de \n",
    "el paréntesis de apertura. \n"
   ]
  },
  {
   "attachments": {},
   "cell_type": "markdown",
   "metadata": {},
   "source": [
    "# Buceando a través de un diccionario"
   ]
  },
  {
   "attachments": {},
   "cell_type": "markdown",
   "metadata": {},
   "source": [
    "Un único diccionario de Python puede contener sólo algunos pares clave-valor o millones \n",
    "de pares. Dado un diccionario puede contener grandes cantidades de datos, Python permite \n",
    "recorren un diccionario. \n",
    "\n",
    "Los diccionarios se pueden utilizar para almacenar información en una variedad de formas; por lo tanto, existen varias formas diferentes para recorrer ellos. Puede recorrerlos todos los pares clave-valor de un diccionario, a través de llaves o a través de sus valores. \n"
   ]
  },
  {
   "attachments": {},
   "cell_type": "markdown",
   "metadata": {},
   "source": [
    "## A través de todos los pares de valores clave"
   ]
  },
  {
   "attachments": {},
   "cell_type": "markdown",
   "metadata": {},
   "source": [
    "Antes de explorar los diferentes enfoques para el bucle, consideremos un \n",
    "nuevo diccionario diseñado para almacenar información sobre un usuario en un sitio web. \n",
    "\n",
    "El siguiente diccionario almacenaría un nombre de usuario de una persona, nombre, \n",
    "y apellido: "
   ]
  },
  {
   "cell_type": "code",
   "execution_count": 6,
   "metadata": {},
   "outputs": [],
   "source": [
    "user_0 = {\n",
    "'username': 'efermi',\n",
    "'first': 'enrico',\n",
    "'last': 'fermi',\n",
    "}"
   ]
  },
  {
   "cell_type": "code",
   "execution_count": 7,
   "metadata": {},
   "outputs": [
    {
     "name": "stdout",
     "output_type": "stream",
     "text": [
      "{'username': 'efermi', 'first': 'enrico', 'last': 'fermi'}\n"
     ]
    }
   ],
   "source": [
    "print(user_0)"
   ]
  },
  {
   "attachments": {},
   "cell_type": "markdown",
   "metadata": {},
   "source": [
    "Puede acceder a cualquier información acerca de basado en usuario_0 en lo que ya has aprendido en este capítulo. \n",
    "\n",
    "Pero, ¿qué pasa si usted desea ver todo lo almacenado en este diccionario de usuario? Para hacerlo, puede bucle a través del diccionario usando un bucle for: "
   ]
  },
  {
   "cell_type": "code",
   "execution_count": 8,
   "metadata": {},
   "outputs": [
    {
     "name": "stdout",
     "output_type": "stream",
     "text": [
      "\n",
      "Key: username\n",
      "Value: efermi\n",
      "\n",
      "Key: first\n",
      "Value: enrico\n",
      "\n",
      "Key: last\n",
      "Value: fermi\n"
     ]
    }
   ],
   "source": [
    "user_0 = {\n",
    "'username': 'efermi',\n",
    "'first': 'enrico',\n",
    "'last': 'fermi',\n",
    "}\n",
    "\n",
    "for key, value in user_0.items():\n",
    "    print(\"\\nKey: \" + key)\n",
    "    print(\"Value: \" + value)"
   ]
  },
  {
   "attachments": {},
   "cell_type": "markdown",
   "metadata": {},
   "source": [
    "Como se muestra, para escribir un bucle para un diccionario, se crean nombres para \n",
    "las dos variables que sostendrán la clave y el valor en cada par clave-valor. Usted \n",
    "puede elegir los nombres que desee para estas dos variables. \n"
   ]
  },
  {
   "attachments": {},
   "cell_type": "markdown",
   "metadata": {},
   "source": [
    "Observe de nuevo que los pares clave-valor no se devuelven en el orden de \n",
    "que fueron almacenados, incluso cuando se busca a través de un diccionario. \n",
    "\n",
    "Python no se preocupa por el orden en el que se almacenan los pares clave-valor; rastrea \n",
    "sólo las conexiones entre las teclas individuales y sus valores. \n",
    "\n",
    "Un ciclo for a través de todos los pares clave-valor funciona particularmente bien "
   ]
  },
  {
   "cell_type": "code",
   "execution_count": 9,
   "metadata": {},
   "outputs": [
    {
     "name": "stdout",
     "output_type": "stream",
     "text": [
      "Jen's favorite language is Python.\n",
      "Sarah's favorite language is C.\n",
      "Edward's favorite language is Ruby.\n",
      "Phil's favorite language is Python.\n"
     ]
    }
   ],
   "source": [
    "favorite_languages = {\n",
    "'jen': 'python',\n",
    "'sarah': 'c',\n",
    "'edward': 'ruby',\n",
    "'phil': 'python',\n",
    "}\n",
    "\n",
    "for name, language in favorite_languages.items():\n",
    "    print(name.title() + \"'s favorite language is \" + language.title() + \".\")"
   ]
  },
  {
   "attachments": {},
   "cell_type": "markdown",
   "metadata": {},
   "source": [
    "Este tipo de bucle funcionaría igual de bien si nuestro diccionario almacena el \n",
    "resultados de la votación de mil o incluso un millón de personas. \n"
   ]
  },
  {
   "attachments": {},
   "cell_type": "markdown",
   "metadata": {},
   "source": [
    "## Saltando por todas las claves de un diccionario"
   ]
  },
  {
   "attachments": {},
   "cell_type": "markdown",
   "metadata": {},
   "source": [
    "El método *keys()* es útil cuando no necesita trabajar con todos los \n",
    "valores en un diccionario. Permite el bucle del diccionario *favorites_languages*\n",
    "e imprimir los nombres de todos los que tomaron la encuesta: \n"
   ]
  },
  {
   "cell_type": "code",
   "execution_count": 10,
   "metadata": {},
   "outputs": [
    {
     "name": "stdout",
     "output_type": "stream",
     "text": [
      "Jen\n",
      "Sarah\n",
      "Edward\n",
      "Phil\n"
     ]
    }
   ],
   "source": [
    "favorite_languages = {\n",
    "'jen': 'python',\n",
    "'sarah': 'c',\n",
    "'edward': 'ruby',\n",
    "'phil': 'python',\n",
    "}\n",
    "\n",
    "for name in favorite_languages.keys():\n",
    "    print(name.title())"
   ]
  },
  {
   "attachments": {},
   "cell_type": "markdown",
   "metadata": {},
   "source": [
    "La línea en que Python para tirar todas las teclas del diccionario \n",
    "favorites_languages y almacenarlos de uno en uno en el nombre de la variable. La \n",
    "salida muestra los nombres de todos los que tomaron la encuesta: "
   ]
  },
  {
   "attachments": {},
   "cell_type": "markdown",
   "metadata": {},
   "source": [
    "Puede optar por utilizar el método keys() explícitamente si hace que el código \n",
    "más fácil de leer, o puede omitir si lo desea. \n",
    "\n",
    "Puede acceder al valor asociado con cualquier clave que le importe dentro de \n",
    "el bucle mediante la tecla actual. Permite imprimir un mensaje a un par de amigos \n",
    "sobre los idiomas que eligieron. \n",
    "\n",
    "Vamos a bucle a través de los nombres en el diccionario como lo hicimos anteriormente, pero cuando el nombre coincide con uno de nuestros amigos, vamos a mostrar un mensaje sobre su idioma favorito: "
   ]
  },
  {
   "cell_type": "code",
   "execution_count": 11,
   "metadata": {},
   "outputs": [
    {
     "name": "stdout",
     "output_type": "stream",
     "text": [
      "Jen\n",
      "Sarah\n",
      " Hi Sarah, I see your favorite language is C!\n",
      "Edward\n",
      "Phil\n",
      " Hi Phil, I see your favorite language is Python!\n"
     ]
    }
   ],
   "source": [
    "favorite_languages = {\n",
    "'jen': 'python',\n",
    "'sarah': 'c',\n",
    "'edward': 'ruby',\n",
    "'phil': 'python',\n",
    "}\n",
    "\n",
    "friends = ['phil', 'sarah']\n",
    "\n",
    "for name in favorite_languages.keys():\n",
    "    print(name.title())\n",
    "\n",
    "    if name in friends:\n",
    "        print(\" Hi \" + name.title() + \", I see your favorite language is \" + favorite_languages[name].title() + \"!\")"
   ]
  },
  {
   "attachments": {},
   "cell_type": "markdown",
   "metadata": {},
   "source": [
    "También puede utilizar el método *keys()* para averiguar si una persona determinada \n",
    "fue encuestada. \n",
    "\n",
    "Esta vez, vamos a averiguar si Erin tomó la encuesta: \n"
   ]
  },
  {
   "cell_type": "code",
   "execution_count": 12,
   "metadata": {},
   "outputs": [
    {
     "name": "stdout",
     "output_type": "stream",
     "text": [
      "Erin, please take our poll!\n"
     ]
    }
   ],
   "source": [
    "favorite_languages = {\n",
    "'jen': 'python',\n",
    "'sarah': 'c',\n",
    "'edward': 'ruby',\n",
    "'phil': 'python',\n",
    "}\n",
    "\n",
    "if 'erin' not in favorite_languages.keys():\n",
    "    print(\"Erin, please take our poll!\")"
   ]
  },
  {
   "attachments": {},
   "cell_type": "markdown",
   "metadata": {},
   "source": [
    "## A través de un diccionario de claves en orden"
   ]
  },
  {
   "attachments": {},
   "cell_type": "markdown",
   "metadata": {},
   "source": [
    "Un diccionario siempre mantiene una conexión clara entre cada llave y \n",
    "su valor asociado, pero nunca obtiene los elementos de un diccionario en ningún \n",
    "orden predecible. Eso no es un problema, porque normalmente sólo quieres \n",
    "para obtener el valor correcto asociado a cada llave.\n",
    "\n",
    "Una forma de devolver los elementos en un determinado orden es ordenar las claves ya que son \n",
    "devuelto en el bucle *for* Puede utilizar la función sorted() para obtener una copia de \n",
    "las claves en orden: \n"
   ]
  },
  {
   "cell_type": "code",
   "execution_count": 13,
   "metadata": {},
   "outputs": [
    {
     "name": "stdout",
     "output_type": "stream",
     "text": [
      "Edward, thank you for taking the poll.\n",
      "Jen, thank you for taking the poll.\n",
      "Phil, thank you for taking the poll.\n",
      "Sarah, thank you for taking the poll.\n"
     ]
    }
   ],
   "source": [
    "favorite_languages = {\n",
    "'jen': 'python',\n",
    "'sarah': 'c',\n",
    "'edward': 'ruby',\n",
    "'phil': 'python',\n",
    "}\n",
    "\n",
    "for name in sorted(favorite_languages.keys()):\n",
    "    print(name.title() + \", thank you for taking the poll.\")"
   ]
  },
  {
   "attachments": {},
   "cell_type": "markdown",
   "metadata": {},
   "source": [
    "## Saltando a través de todos los valores en un diccionario"
   ]
  },
  {
   "attachments": {},
   "cell_type": "markdown",
   "metadata": {},
   "source": [
    "Si está interesado principalmente en los valores que contiene un diccionario, \n",
    "puede utilizar el método values() para devolver una lista de valores sin claves. \n",
    "\n",
    "Por ejemplo, digamos que simplemente queremos una lista de todos los idiomas elegidas en nuestra encuesta de programación de idioma sin el nombre de la persona que eligió cada idioma: \n"
   ]
  },
  {
   "cell_type": "code",
   "execution_count": 14,
   "metadata": {},
   "outputs": [
    {
     "name": "stdout",
     "output_type": "stream",
     "text": [
      "The following languages have been mentioned:\n",
      "Python\n",
      "C\n",
      "Ruby\n",
      "Python\n"
     ]
    }
   ],
   "source": [
    "favorite_languages = {\n",
    "'jen': 'python',\n",
    "'sarah': 'c',\n",
    "'edward': 'ruby',\n",
    "'phil': 'python',\n",
    "}\n",
    "\n",
    "print(\"The following languages have been mentioned:\")\n",
    "\n",
    "for language in favorite_languages.values():\n",
    "    print(language.title())"
   ]
  },
  {
   "attachments": {},
   "cell_type": "markdown",
   "metadata": {},
   "source": [
    "Este enfoque extrae todos los valores del diccionario sin comprobar\n",
    "para repeticiones. Eso podría funcionar bien con un pequeño número de valores, pero en un\n",
    "encuesta con un gran número de encuestados, esto resultaría en una encuesta muy repetitiva\n",
    "lista.\n",
    "\n",
    "Para ver cada idioma elegido sin repetición, podemos usar un conjunto.\n",
    "Un conjunto es similar a una lista, excepto que cada elemento del conjunto debe ser único:"
   ]
  },
  {
   "cell_type": "code",
   "execution_count": 15,
   "metadata": {},
   "outputs": [
    {
     "name": "stdout",
     "output_type": "stream",
     "text": [
      "The following languages have been mentioned:\n",
      "Ruby\n",
      "Python\n",
      "C\n"
     ]
    }
   ],
   "source": [
    "favorite_languages = {\n",
    "'jen': 'python',\n",
    "'sarah': 'c',\n",
    "'edward': 'ruby',\n",
    "'phil': 'python',\n",
    "}\n",
    "\n",
    "print(\"The following languages have been mentioned:\")\n",
    "\n",
    "for language in set(favorite_languages.values()):\n",
    "    print(language.title())"
   ]
  },
  {
   "attachments": {},
   "cell_type": "markdown",
   "metadata": {},
   "source": [
    "Cuando envuelves **set()** alrededor de una lista que contiene elementos duplicados, Python identifica los elementos únicos de la lista y crea un conjunto a partir de ellos."
   ]
  },
  {
   "attachments": {},
   "cell_type": "markdown",
   "metadata": {},
   "source": [
    "# Anidación"
   ]
  },
  {
   "attachments": {},
   "cell_type": "markdown",
   "metadata": {},
   "source": [
    "A veces querrá almacenar un conjunto de diccionarios en una lista o una lista de\n",
    "elementos como valor en un diccionario. Esto se llama anidamiento. \n",
    "\n",
    "Puedes anidar un conjunto de diccionarios dentro de una lista, una lista de elementos dentro de un diccionario, o incluso un dentro de otro diccionario. El anidamiento es una característica poderosa."
   ]
  },
  {
   "attachments": {},
   "cell_type": "markdown",
   "metadata": {},
   "source": [
    "## Una lista de diccionarios"
   ]
  },
  {
   "attachments": {},
   "cell_type": "markdown",
   "metadata": {},
   "source": [
    "El diccionario alien_0 contiene una variedad de información sobre un alienígena,pero no tiene espacio para almacenar información sobre un segundo alienígena, y mucho menos una pantalla llena de extraterrestres.\n",
    "\n",
    "¿Cómo puedes manejar una flota de alienígenas? Una forma es hacer una lista de extraterrestres en la que cada alienígena sea un diccionario de información sobre ese alienígena. Por ejemplo, el código siguiente crea una lista de tres alienígenas:"
   ]
  },
  {
   "cell_type": "code",
   "execution_count": 17,
   "metadata": {},
   "outputs": [
    {
     "name": "stdout",
     "output_type": "stream",
     "text": [
      "{'color': 'green', 'points': 5}\n",
      "{'color': 'yellow', 'points': 10}\n",
      "{'color': 'red', 'points': 15}\n"
     ]
    }
   ],
   "source": [
    "alien_0 = {'color': 'green', 'points': 5}\n",
    "alien_1 = {'color': 'yellow', 'points': 10}\n",
    "alien_2 = {'color': 'red', 'points': 15}\n",
    "\n",
    "aliens = [alien_0, alien_1, alien_2]\n",
    "\n",
    "for alien in aliens:\n",
    "    print(alien)"
   ]
  },
  {
   "attachments": {},
   "cell_type": "markdown",
   "metadata": {},
   "source": [
    "Primero creamos tres diccionarios, cada uno representando a un alienígena diferente.\n",
    "\n",
    "Empaquetamos cada uno de estos diccionarios en una lista llamada extraterrestres. \n",
    "\n",
    "Finalmente, recorremos la lista e imprimimos cada alienígena:"
   ]
  },
  {
   "attachments": {},
   "cell_type": "markdown",
   "metadata": {},
   "source": [
    "Un ejemplo más realista involucraría a más de tres alienígenas con un código que genera automáticamente cada alienígena. \n",
    "\n",
    "En el siguiente ejemplo usamos range() para crear una flota de 30 alienígenas:"
   ]
  },
  {
   "cell_type": "code",
   "execution_count": 18,
   "metadata": {},
   "outputs": [
    {
     "name": "stdout",
     "output_type": "stream",
     "text": [
      "{'color': 'green', 'points': 5, 'speed': 'slow'}\n",
      "...\n",
      "{'color': 'green', 'points': 5, 'speed': 'slow'}\n",
      "...\n",
      "{'color': 'green', 'points': 5, 'speed': 'slow'}\n",
      "...\n",
      "{'color': 'green', 'points': 5, 'speed': 'slow'}\n",
      "...\n",
      "{'color': 'green', 'points': 5, 'speed': 'slow'}\n",
      "...\n",
      "Total number of aliens: 30\n"
     ]
    }
   ],
   "source": [
    "# Make an empty list for storing aliens.\n",
    "aliens = []\n",
    "\n",
    "# Make 30 green aliens.\n",
    "for alien_number in range(30):\n",
    "    new_alien = {'color': 'green', 'points': 5, 'speed': 'slow'}\n",
    "    aliens.append(new_alien)\n",
    "\n",
    "# Show the first 5 aliens:\n",
    "for alien in aliens[:5]:\n",
    "    print(alien)\n",
    "    print(\"...\")\n",
    "\n",
    "# Show how many aliens have been created.\n",
    "print(\"Total number of aliens: \" + str(len(aliens)))"
   ]
  },
  {
   "attachments": {},
   "cell_type": "markdown",
   "metadata": {},
   "source": [
    "Todos estos alienígenas tienen las mismas características, pero Python considera que cada uno\n",
    "es un objeto separado, que nos permite modificar cada alienígena individualmente.\n",
    "\n",
    "¿Cómo podrías trabajar con un conjunto de alienígenas como este?\n",
    "\n",
    "El aspecto de un juego tiene algunos alienígenas que cambian de color y se mueven más rápido a medida que el\n",
    "el juego progresa. \n",
    "\n",
    "Cuando llegue el momento de cambiar los colores, podemos usar un bucle *for* y una declaración *if* para cambiar el color de los extraterrestres.\n",
    " \n",
    "Por ejemplo, para cambiar los primeros tres alienígenas a los alienígenas amarillos de velocidad media que valen 10 puntos cada uno, nosotros podríamos hacer esto:"
   ]
  },
  {
   "cell_type": "code",
   "execution_count": 20,
   "metadata": {},
   "outputs": [
    {
     "name": "stdout",
     "output_type": "stream",
     "text": [
      "{'color': 'yellow', 'points': 10, 'speed': 'medium'}\n",
      "{'color': 'yellow', 'points': 10, 'speed': 'medium'}\n",
      "{'color': 'yellow', 'points': 10, 'speed': 'medium'}\n",
      "{'color': 'green', 'points': 5, 'speed': 'slow'}\n",
      "{'color': 'green', 'points': 5, 'speed': 'slow'}\n",
      "...\n"
     ]
    }
   ],
   "source": [
    "# Make an empty list for storing aliens.\n",
    "aliens = []\n",
    "\n",
    "# Make 30 green aliens.\n",
    "for alien_number in range (0,30):\n",
    "    new_alien = {'color': 'green', 'points': 5, 'speed': 'slow'}\n",
    "    aliens.append(new_alien)\n",
    "\n",
    "for alien in aliens[0:3]:\n",
    "    if alien['color'] == 'green':\n",
    "        alien['color'] = 'yellow'\n",
    "        alien['speed'] = 'medium'\n",
    "        alien['points'] = 10\n",
    "\n",
    "# Show the first 5 aliens:\n",
    "for alien in aliens[0:5]:\n",
    "    print(alien)\n",
    "\n",
    "print(\"...\")"
   ]
  },
  {
   "attachments": {},
   "cell_type": "markdown",
   "metadata": {},
   "source": [
    "Debido a que queremos modificar los tres primeros alienígenas, hacemos un bucle a través de una slice o rebanada que incluye solo a los tres primeros alienígenas. \n",
    "\n",
    "Todos los alienígenas son verdes ahora, pero ese no siempre será el caso, así que escribimos una declaración if para asegurarnos de que solo estamos modificando alienígenas verdes. \n",
    "\n",
    "Si el alienígena es verde, cambiamos el color a 'amarillo', la velocidad a 'medio' y el valor del punto a 10."
   ]
  },
  {
   "attachments": {},
   "cell_type": "markdown",
   "metadata": {},
   "source": [
    "Puede expandir este bucle agregando un bloque elif que se vuelva amarillo\n",
    "alienígenas en rojo, los que se mueven rápidamente valen 15 puntos cada uno. \n",
    "\n",
    "Sin volver a mostrar todo el programa, ese bucle se vería así:"
   ]
  },
  {
   "cell_type": "code",
   "execution_count": 24,
   "metadata": {},
   "outputs": [
    {
     "name": "stdout",
     "output_type": "stream",
     "text": [
      "{'color': 'red', 'points': 15, 'speed': 'fast'}\n",
      "{'color': 'red', 'points': 15, 'speed': 'fast'}\n",
      "{'color': 'red', 'points': 15, 'speed': 'fast'}\n"
     ]
    }
   ],
   "source": [
    "for alien in aliens[0:3]:\n",
    "    if alien['color'] == 'green':\n",
    "        alien['color'] = 'yellow'\n",
    "        alien['speed'] = 'medium'\n",
    "        alien['points'] = 10\n",
    "    elif alien['color'] == 'yellow':\n",
    "        alien['color'] = 'red'\n",
    "        alien['speed'] = 'fast'\n",
    "        alien['points'] = 15\n",
    "    print(alien) #Mandamos a imprimir la variable alien\n",
    "\n"
   ]
  },
  {
   "attachments": {},
   "cell_type": "markdown",
   "metadata": {},
   "source": [
    "## Una lista en un diccionario"
   ]
  },
  {
   "attachments": {},
   "cell_type": "markdown",
   "metadata": {},
   "source": [
    "En lugar de poner un diccionario dentro de una lista, a veces es útil poner una lista dentro de un diccionario. \n",
    "\n",
    "Por ejemplo, considere cómo podría describir una pizza que alguien está pidiendo.\n",
    "\n",
    "Store es una lista de los ingredientes de la pizza. Con un diccionario, una lista de ingredientes puede ser solo un aspecto de la pizza que estás describiendo."
   ]
  },
  {
   "attachments": {},
   "cell_type": "markdown",
   "metadata": {},
   "source": [
    "En el ejemplo siguiente, se almacenan dos tipos de información para cada pizza: \n",
    "Un tipo de corteza y una lista de ingredientes. La lista de ingredientes es un valor asociado con la clave 'toppings'. \n",
    "\n",
    "Para usar los elementos de la lista, damos el nombre del diccionario y la clave 'toppings', como lo haríamos con cualquier valor en el diccionario. En lugar de devolver un solo valor, obtenemos una lista de ingredientes:"
   ]
  },
  {
   "cell_type": "code",
   "execution_count": 25,
   "metadata": {},
   "outputs": [
    {
     "name": "stdout",
     "output_type": "stream",
     "text": [
      "You ordered a thick-crust pizza with the following toppings:\n",
      "\tmushrooms\n",
      "\textra cheese\n"
     ]
    }
   ],
   "source": [
    "# Store information about a pizza being ordered.\n",
    "pizza = {\n",
    "    'crust': 'thick',\n",
    "    'toppings': ['mushrooms', 'extra cheese'],\n",
    "}\n",
    "\n",
    "# Summarize the order.\n",
    "print(\"You ordered a \" + pizza['crust'] + \"-crust pizza \" + \"with the following toppings:\")\n",
    "\n",
    "for topping in pizza['toppings']:\n",
    "    print(\"\\t\" + topping)\n"
   ]
  },
  {
   "attachments": {},
   "cell_type": "markdown",
   "metadata": {},
   "source": [
    "Puede anidar una lista dentro de un diccionario en cualquier momento que desee más de un valor que se va a asociar a una sola clave en un diccionario. \n",
    "\n",
    "En el anterior ejemplo de lenguajes de programación favoritos, si tuviéramos que almacenar cada una de las\n",
    "respuestas de la persona en una lista, las personas pueden elegir más de un idioma favorito. \n",
    "\n",
    "Cuando recorremos el diccionario, el valor asociado con cada persona sería una lista de idiomas en lugar de un solo idioma.\n",
    "\n",
    "Dentro del bucle for del diccionario, usamos otro bucle for para ejecutar la lista de idiomas asociados a cada persona:"
   ]
  },
  {
   "cell_type": "code",
   "execution_count": 28,
   "metadata": {},
   "outputs": [
    {
     "name": "stdout",
     "output_type": "stream",
     "text": [
      "\n",
      "Jen's favorite languages are:\n",
      "\tPython\n",
      "\tRuby\n",
      "\n",
      "Sarah's favorite languages are:\n",
      "\tC\n",
      "\n",
      "Edward's favorite languages are:\n",
      "\tRuby\n",
      "\tGo\n",
      "\n",
      "Phil's favorite languages are:\n",
      "\tPython\n",
      "\tHaskell\n",
      "<built-in method capitalize of str object at 0x00000224931D5B30>\n"
     ]
    }
   ],
   "source": [
    "favorite_languages = {\n",
    "    'jen': ['python', 'ruby'],\n",
    "    'sarah': ['c'],\n",
    "    'edward': ['ruby', 'go'],\n",
    "    'phil': ['python', 'haskell'],\n",
    "}\n",
    "\n",
    "for name, languages in favorite_languages.items():\n",
    "    print(\"\\n\" + name.title() + \"'s favorite languages are:\")\n",
    "    for language in languages:\n",
    "        print(\"\\t\" + language.title())\n"
   ]
  },
  {
   "attachments": {},
   "cell_type": "markdown",
   "metadata": {},
   "source": [
    "**No debes anidar listas y diccionarios demasiado profundamente. Si estás anidando mucho los elementos\n",
    "más profundo de lo que ves en los ejemplos anteriores o estás trabajando con alguien\n",
    "El código de Else con niveles significativos de anidamiento, probablemente una forma más sencilla de resolver el\n",
    "El problema existe.**"
   ]
  },
  {
   "attachments": {},
   "cell_type": "markdown",
   "metadata": {},
   "source": [
    "## Un diccionario en un diccionario"
   ]
  },
  {
   "attachments": {},
   "cell_type": "markdown",
   "metadata": {},
   "source": [
    "Puede anidar un diccionario dentro de otro diccionario, pero su código puede obtener\n",
    "complicaciones rápidamente cuando lo haces. Por ejemplo, si tiene varios usuarios\n",
    "para un sitio web, cada uno con un nombre de usuario único, puede usar los nombres de usuario como\n",
    "las claves de un diccionario."
   ]
  },
  {
   "cell_type": "code",
   "execution_count": 1,
   "metadata": {},
   "outputs": [
    {
     "name": "stdout",
     "output_type": "stream",
     "text": [
      "\n",
      "Username: aeinstein\n",
      "\tFull name: Albert Einstein\n",
      "\tLocation: Princeton\n",
      "\n",
      "Username: mcurie\n",
      "\tFull name: Marie Curie\n",
      "\tLocation: Paris\n"
     ]
    }
   ],
   "source": [
    "users = {\n",
    "    'aeinstein': \n",
    "    {\n",
    "    'first': 'albert',\n",
    "    'last': 'einstein',\n",
    "    'location': 'princeton',\n",
    "    },\n",
    "    'mcurie': \n",
    "    {\n",
    "    'first': 'marie',\n",
    "    'last': 'curie',\n",
    "    'location': 'paris',\n",
    "    },\n",
    "}\n",
    "\n",
    "for username, user_info in users.items():\n",
    "    print(\"\\nUsername: \" + username)\n",
    "    full_name = user_info['first'] + \" \" + user_info['last']\n",
    "    location = user_info['location']\n",
    "    \n",
    "    print(\"\\tFull name: \" + full_name.title())\n",
    "    print(\"\\tLocation: \" + location.title())\n"
   ]
  },
  {
   "attachments": {},
   "cell_type": "markdown",
   "metadata": {},
   "source": [
    "Observe que la estructura del diccionario de cada usuario es idéntica. Aunque\n",
    "no requerido por Python, esta estructura hace que los diccionarios anidados sean más fáciles de\n",
    "trabajar con. Si el diccionario de cada usuario tenía diferentes claves, el código dentro del\n",
    "para bucle sería más complicado."
   ]
  },
  {
   "attachments": {},
   "cell_type": "markdown",
   "metadata": {},
   "source": [
    "# Ejercicios"
   ]
  },
  {
   "attachments": {},
   "cell_type": "markdown",
   "metadata": {},
   "source": [
    "### 6-1. Persona: \n",
    "Use un diccionario para almacenar información sobre una persona que conoce.\n",
    "\n",
    "Almacene su nombre, apellido, edad y la ciudad en la que viven. Tú\n",
    "Debe tener claves como first_name, last_name, edad y ciudad. Imprimir cada uno\n",
    "pieza de información almacenada en su diccionario."
   ]
  },
  {
   "attachments": {},
   "cell_type": "markdown",
   "metadata": {},
   "source": [
    "### 6-2. Numeros favoritos: \n",
    "Use un diccionario para almacenar los números favoritos de las personas.\n",
    "\n",
    "Piense en cinco nombres y úselos como claves en su diccionario. Piensa en un numero favorito\n",
    "para cada persona, y almacena cada uno como un valor en su diccionario. \n",
    "\n",
    "Imprime el nombre de cada persona y su número favorito. Para aún más diversión, sondea algunos\n",
    "amigos y obtener algunos datos reales para su programa."
   ]
  },
  {
   "attachments": {},
   "cell_type": "markdown",
   "metadata": {},
   "source": [
    "### 6-3. Glosario: \n",
    "\n",
    "Un diccionario Python se puede utilizar para modelar un diccionario real.\n",
    "\n",
    "Sin embargo, para evitar confusiones, llamémoslo glosario.\n",
    "\n",
    "* Piensa en cinco palabras de programación que has aprendido. \n",
    "Use estas palabras como las claves en su glosario y almacene sus significados como valores.\n",
    "\n",
    "* Imprima cada palabra y su significado como salida cuidadosamente formateada. Usted podría\n",
    "Imprima la palabra seguida de dos puntos y luego su significado, o imprima la palabra\n",
    "en una línea y luego imprima su significado con sangría en una segunda línea. Utilice el botón\n",
    "Carácter de nueva línea (\\n) para insertar una línea en blanco entre cada significado de palabra\n",
    "emparejar en su salida."
   ]
  },
  {
   "attachments": {},
   "cell_type": "markdown",
   "metadata": {},
   "source": [
    "### 6-4. Glosario 2: \n",
    "\n",
    "Ahora que sabe cómo recorrer un diccionario, limpie\n",
    "el código del ejercicio 6-3 reemplazando su serie de impresión\n",
    "con un bucle que recorre las claves y los valores del diccionario.\n",
    "\n",
    "Cuando esté seguro de que su bucle funciona, agregue cinco términos más de Python a su\n",
    "glosario. Cuando vuelva a ejecutar el programa, estas nuevas palabras y significados\n",
    "debe incluirse automáticamente en la salida."
   ]
  },
  {
   "attachments": {},
   "cell_type": "markdown",
   "metadata": {},
   "source": [
    "### 6-5. Rios: \n",
    "Hacer un diccionario que contenga tres ríos principales y el país\n",
    "Cada río corre a través. Un par clave-valor podría ser 'nilo': 'egipto'.\n",
    "* Use un bucle para imprimir una oración sobre cada río, como El Nilo corre\n",
    "a través de Egipto.\n",
    "* Utilice un bucle para imprimir el nombre de cada río incluido en el diccionario.\n",
    "* Utilice un bucle para imprimir el nombre de cada país incluido en el diccionario."
   ]
  },
  {
   "attachments": {},
   "cell_type": "markdown",
   "metadata": {},
   "source": [
    "### 6-6. Interrogación: \n",
    "\n",
    "Utilice el código en favorite_languages.\n",
    "\n",
    "* Haga una lista de personas que deben tomar la encuesta de idiomas favoritos. Incluír\n",
    "algunos nombres que ya están en el diccionario y otros que no.\n",
    "\n",
    "* Repase la lista de personas que deben realizar la encuesta. Si tienen\n",
    "Ya tomada la encuesta, imprima un mensaje agradeciéndoles por responder.\n",
    "\n",
    "Si aún no han realizado la encuesta, imprima un mensaje invitándolos a participar en\n",
    "la encuesta."
   ]
  },
  {
   "attachments": {},
   "cell_type": "markdown",
   "metadata": {},
   "source": [
    "### 6-7. Personas: \n",
    "Comience con el programa que escribió para el Ejercicio 6-1.\n",
    "\n",
    "Haga dos nuevos diccionarios que representen a diferentes personas y almacene los tres\n",
    "diccionarios en una lista llamada personas. Recorre tu lista de personas. A medida que recorre la lista, imprime todo lo que sabes sobre cada persona."
   ]
  },
  {
   "attachments": {},
   "cell_type": "markdown",
   "metadata": {},
   "source": [
    "### 6-8. Mascotas: \n",
    "\n",
    "Haz varios diccionarios, donde el nombre de cada diccionario sea el nombre de una mascota. \n",
    "\n",
    "En cada diccionario, incluya el tipo de animal y el nombre del propietario. \n",
    "\n",
    "Guarde estos diccionarios en una lista llamada mascotas. A continuación, recorra su lista\n",
    "Y a medida que lo haces, imprime todo lo que sabes sobre cada mascota."
   ]
  },
  {
   "attachments": {},
   "cell_type": "markdown",
   "metadata": {},
   "source": [
    "### 6-9. Lugares favoritos: \n",
    "\n",
    "Haz un diccionario llamado favorite_places. \n",
    "\n",
    "Piense en tres nombres para usar como claves en el diccionario y almacene de uno a tres lugares favoritos\n",
    "para cada persona. Para hacer este ejercicio un poco más interesante, pregunta a algunos amigos\n",
    "por nombrar algunos de sus lugares favoritos. \n",
    "\n",
    "Recorra el diccionario e imprima el nombre de cada persona y sus lugares favoritos."
   ]
  },
  {
   "attachments": {},
   "cell_type": "markdown",
   "metadata": {},
   "source": [
    "### 6-10. Numeros favoritos 2: \n",
    "\n",
    "Modifique su programa 6.2 para que cada persona pueda tener más de un número favorito. Luego imprima el nombre de cada persona junto con sus números favoritos."
   ]
  },
  {
   "attachments": {},
   "cell_type": "markdown",
   "metadata": {},
   "source": [
    "### 6-11. Ciudades: \n",
    "\n",
    "Haz un diccionario llamado ciudades, utilice los nombres de tres ciudades como en el diccionario. \n",
    "\n",
    "Cree un diccionario de información sobre cada ciudad e incluya el país en el que se encuentra la ciudad, su población aproximada y un dato sobre esa ciudad. \n",
    "\n",
    "Las claves para el diccionario de cada ciudad deben ser algo así como país, población y hecho. Imprime el nombre de cada ciudad y toda la información que has almacenado sobre ella."
   ]
  },
  {
   "attachments": {},
   "cell_type": "markdown",
   "metadata": {},
   "source": [
    "### 6-12. Extensiones: \n",
    "\n",
    "Ahora estamos trabajando con ejemplos que son lo suficientemente complejos como para que puedan ampliarse de muchas maneras. Utilice uno de los programas de ejemplo y amplíelo agregando nuevas claves y valores, cambiando\n",
    "el contexto del programa o mejorar el formato de la salida."
   ]
  }
 ],
 "metadata": {
  "kernelspec": {
   "display_name": "Python 3",
   "language": "python",
   "name": "python3"
  },
  "language_info": {
   "codemirror_mode": {
    "name": "ipython",
    "version": 3
   },
   "file_extension": ".py",
   "mimetype": "text/x-python",
   "name": "python",
   "nbconvert_exporter": "python",
   "pygments_lexer": "ipython3",
   "version": "3.9.9"
  },
  "orig_nbformat": 4
 },
 "nbformat": 4,
 "nbformat_minor": 2
}
