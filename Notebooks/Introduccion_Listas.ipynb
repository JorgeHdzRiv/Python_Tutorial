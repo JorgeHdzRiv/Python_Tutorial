{
 "cells": [
  {
   "attachments": {},
   "cell_type": "markdown",
   "metadata": {},
   "source": [
    "# Conceptos Basicos"
   ]
  },
  {
   "attachments": {},
   "cell_type": "markdown",
   "metadata": {},
   "source": [
    "Una lista es una colección de elementos en un orden particular. Puedes hacer una lista que\n",
    "incluye las letras del alfabeto, los dígitos del 0 al 9 o los nombres de todas las personas de tu familia.\n",
    "\n",
    "Puedes poner lo que quieras en una lista, y los elementos de su lista no tienen que estar relacionados de ninguna manera en particular. \n",
    "\n",
    "Porque una lista normalmente contiene más de un elemento, es una buena idea hacer el nombre de su lista en plural, como letras, dígitos o nombres.\n",
    "\n",
    "En Python, los corchetes ([]) indican una lista y elementos individuales en la lista están separados por comas."
   ]
  },
  {
   "cell_type": "code",
   "execution_count": 1,
   "metadata": {},
   "outputs": [
    {
     "name": "stdout",
     "output_type": "stream",
     "text": [
      "['trek', 'cannondale', 'redline', 'specialized']\n"
     ]
    }
   ],
   "source": [
    "bicycles = ['trek', 'cannondale', 'redline', 'specialized']\n",
    "print(bicycles)"
   ]
  },
  {
   "attachments": {},
   "cell_type": "markdown",
   "metadata": {},
   "source": [
    "## Accesando a elementos de una lista"
   ]
  },
  {
   "attachments": {},
   "cell_type": "markdown",
   "metadata": {},
   "source": [
    "Las listas son colecciones ordenadas, por lo que puede acceder a cualquier elemento de una lista\n",
    "indicando a Python la posición, o índice, del elemento deseado. \n",
    "\n",
    "Para acceder a un elemento en una lista, escriba el nombre de la lista seguido del índice del artículo\n",
    "entre corchetes."
   ]
  },
  {
   "cell_type": "code",
   "execution_count": 25,
   "metadata": {},
   "outputs": [
    {
     "name": "stdout",
     "output_type": "stream",
     "text": [
      "trek\n"
     ]
    }
   ],
   "source": [
    "bicycles = ['trek', 'cannondale', 'redline', 'specialized']\n",
    "print(bicycles[0])"
   ]
  },
  {
   "cell_type": "code",
   "execution_count": 26,
   "metadata": {},
   "outputs": [
    {
     "name": "stdout",
     "output_type": "stream",
     "text": [
      "cannondale\n"
     ]
    }
   ],
   "source": [
    "print(bicycles[1])"
   ]
  },
  {
   "attachments": {},
   "cell_type": "markdown",
   "metadata": {},
   "source": [
    "**Podemos combinar los conceptos anteriores de cadenas para imprimir el valor de una lista.**"
   ]
  },
  {
   "cell_type": "code",
   "execution_count": 4,
   "metadata": {},
   "outputs": [
    {
     "name": "stdout",
     "output_type": "stream",
     "text": [
      "Cannondale\n"
     ]
    }
   ],
   "source": [
    "print(bicycles[1].title())"
   ]
  },
  {
   "attachments": {},
   "cell_type": "markdown",
   "metadata": {},
   "source": [
    "## Posiciones de los indices"
   ]
  },
  {
   "attachments": {},
   "cell_type": "markdown",
   "metadata": {},
   "source": [
    "**Es importante que la cuenta de los indices inicia desde el numero 0 y no del numero 1**"
   ]
  },
  {
   "cell_type": "code",
   "execution_count": 5,
   "metadata": {},
   "outputs": [
    {
     "name": "stdout",
     "output_type": "stream",
     "text": [
      "cannondale\n",
      "specialized\n"
     ]
    }
   ],
   "source": [
    "bicycles = ['trek', 'cannondale', 'redline', 'specialized']\n",
    "print(bicycles[1])\n",
    "print(bicycles[3])"
   ]
  },
  {
   "attachments": {},
   "cell_type": "markdown",
   "metadata": {},
   "source": [
    "**Es por eso que al mandar llamar el indice numero 1 el valor sera cannondale**"
   ]
  },
  {
   "cell_type": "code",
   "execution_count": 6,
   "metadata": {},
   "outputs": [
    {
     "name": "stdout",
     "output_type": "stream",
     "text": [
      "specialized\n"
     ]
    }
   ],
   "source": [
    "bicycles = ['trek', 'cannondale', 'redline', 'specialized']\n",
    "print(bicycles[-1])"
   ]
  },
  {
   "attachments": {},
   "cell_type": "markdown",
   "metadata": {},
   "source": [
    "**Si usamos el valor inverso o -1 devolvera el ultimo elemento de la lista**"
   ]
  },
  {
   "attachments": {},
   "cell_type": "markdown",
   "metadata": {},
   "source": [
    "## Usando valores individuales de una lista"
   ]
  },
  {
   "cell_type": "code",
   "execution_count": 7,
   "metadata": {},
   "outputs": [
    {
     "name": "stdout",
     "output_type": "stream",
     "text": [
      "My first bicycle was a Trek.\n"
     ]
    }
   ],
   "source": [
    "bicycles = ['trek', 'cannondale', 'redline', 'specialized']\n",
    "message = \"My first bicycle was a \" + bicycles[0].title() + \".\"\n",
    "print(message)"
   ]
  },
  {
   "attachments": {},
   "cell_type": "markdown",
   "metadata": {},
   "source": [
    "# Cambiando, agregando y eliminando elementos"
   ]
  },
  {
   "attachments": {},
   "cell_type": "markdown",
   "metadata": {},
   "source": [
    "La mayoría de las listas que cree serán dinámicas, lo que significa que creará una lista y\n",
    "luego agregue y elimine elementos de él a medida que su programa sigue su curso. \n",
    "\n",
    "Por ejemplo, puede crear un juego en el que un jugador tiene que disparar a los extraterrestres\n",
    "del cielo, puede almacenar el conjunto inicial de extraterrestres en una lista y luego eliminar\n",
    "un extraterrestre de la lista cada vez que uno es derribado."
   ]
  },
  {
   "attachments": {},
   "cell_type": "markdown",
   "metadata": {},
   "source": [
    "## Modificando elementos de una lista"
   ]
  },
  {
   "attachments": {},
   "cell_type": "markdown",
   "metadata": {},
   "source": [
    "La sintaxis para modificar un elemento es similar a la sintaxis para acceder a un elemento en una lista. \n",
    "\n",
    "Para cambiar un elemento, utilice el nombre de la lista seguida por el índice del elemento que desea cambiar, y luego proporcione el nuevo\n",
    "valor que desea que tenga ese artículo."
   ]
  },
  {
   "cell_type": "code",
   "execution_count": 8,
   "metadata": {},
   "outputs": [
    {
     "name": "stdout",
     "output_type": "stream",
     "text": [
      "Original list :  ['honda', 'yamaha', 'suzuki']\n",
      "Modificated list:  ['ducati', 'yamaha', 'suzuki']\n"
     ]
    }
   ],
   "source": [
    "motorcycles = ['honda', 'yamaha', 'suzuki']\n",
    "print(\"Original list : \",motorcycles)\n",
    "\n",
    "motorcycles[0] = 'ducati'\n",
    "print(\"Modificated list: \",motorcycles)"
   ]
  },
  {
   "attachments": {},
   "cell_type": "markdown",
   "metadata": {},
   "source": [
    "## Agregando elementos a una lista"
   ]
  },
  {
   "attachments": {},
   "cell_type": "markdown",
   "metadata": {},
   "source": [
    "Es posible que desee agregar un nuevo elemento a una lista por muchas razones. Por\n",
    "ejemplo, es posible que desee hacer que aparezcan nuevos extraterrestres en un juego, agregar nuevos\n",
    "datos a una visualización, o agregar nuevos usuarios registrados a un sitio web que ha\n",
    "construido. \n",
    "\n",
    "Python proporciona varias formas de agregar nuevos datos a las listas existentes."
   ]
  },
  {
   "attachments": {},
   "cell_type": "markdown",
   "metadata": {},
   "source": [
    "### Agregar elementos al final de una lista"
   ]
  },
  {
   "attachments": {},
   "cell_type": "markdown",
   "metadata": {},
   "source": [
    "La forma más sencilla de agregar un nuevo elemento a una lista es agregar el elemento al\n",
    "lista. \n",
    "\n",
    "Cuando agrega un elemento a una lista, el nuevo elemento se agrega al final de la lista"
   ]
  },
  {
   "cell_type": "code",
   "execution_count": 9,
   "metadata": {},
   "outputs": [
    {
     "name": "stdout",
     "output_type": "stream",
     "text": [
      "Original list\n",
      "['honda', 'yamaha', 'suzuki']\n",
      "\n",
      "New list\n",
      "['honda', 'yamaha', 'suzuki', 'ducati']\n"
     ]
    }
   ],
   "source": [
    "motorcycles = ['honda', 'yamaha', 'suzuki']\n",
    "print(\"Original list\")\n",
    "print(motorcycles)\n",
    "\n",
    "print()\n",
    "\n",
    "motorcycles.append('ducati')\n",
    "print(\"New list\")\n",
    "print(motorcycles)"
   ]
  },
  {
   "attachments": {},
   "cell_type": "markdown",
   "metadata": {},
   "source": [
    "**Es importante aclarar que el metodo append() siempre agregara el elemento al final de la lista sin afectar la lista original**"
   ]
  },
  {
   "attachments": {},
   "cell_type": "markdown",
   "metadata": {},
   "source": [
    "El método append() facilita la creación dinámica de listas. \n",
    "\n",
    "Por ejemplo, puede comenzar con una lista vacía y luego agregar elementos a la lista\n",
    "usando una serie de sentencias append()."
   ]
  },
  {
   "cell_type": "code",
   "execution_count": 10,
   "metadata": {},
   "outputs": [
    {
     "name": "stdout",
     "output_type": "stream",
     "text": [
      "['honda', 'yamaha', 'suzuki']\n"
     ]
    }
   ],
   "source": [
    "motorcycles = []\n",
    "motorcycles.append('honda')\n",
    "motorcycles.append('yamaha')\n",
    "motorcycles.append('suzuki')\n",
    "print(motorcycles)"
   ]
  },
  {
   "attachments": {},
   "cell_type": "markdown",
   "metadata": {},
   "source": [
    "### Insertar elementos en una lista"
   ]
  },
  {
   "attachments": {},
   "cell_type": "markdown",
   "metadata": {},
   "source": [
    "Puede agregar un nuevo elemento en cualquier posición de su lista usando el metodo insert().\n",
    "\n",
    "Esto se hace especificando el índice del nuevo elemento y el valor del nuevo elemento."
   ]
  },
  {
   "cell_type": "code",
   "execution_count": 11,
   "metadata": {},
   "outputs": [
    {
     "name": "stdout",
     "output_type": "stream",
     "text": [
      "['ducati', 'honda', 'yamaha', 'suzuki']\n",
      "['ducati', 'honda', 'harley', 'yamaha', 'suzuki']\n"
     ]
    }
   ],
   "source": [
    "motorcycles = ['honda', 'yamaha', 'suzuki']\n",
    "motorcycles.insert(0, 'ducati')\n",
    "\n",
    "print(motorcycles)\n",
    "\n",
    "motorcycles.insert(2,\"harley\")\n",
    "\n",
    "print(motorcycles)"
   ]
  },
  {
   "attachments": {},
   "cell_type": "markdown",
   "metadata": {},
   "source": [
    "**El método insert() abre un espacio en la posición 0 y almacena el valor 'ducati' en esa ubicación.**"
   ]
  },
  {
   "attachments": {},
   "cell_type": "markdown",
   "metadata": {},
   "source": [
    "## Eliminando elementos de una lista"
   ]
  },
  {
   "attachments": {},
   "cell_type": "markdown",
   "metadata": {},
   "source": [
    "A menudo, querrá eliminar un elemento o un conjunto de elementos de una lista.\n",
    "\n",
    "Por ejemplo, cuando un jugador derriba a un alienígena desde el cielo, lo más probable es que\n",
    "probablemente quiera eliminarlo de la lista de alienígenas activos."
   ]
  },
  {
   "attachments": {},
   "cell_type": "markdown",
   "metadata": {},
   "source": [
    "### Eliminación de un elemento mediante la instrucción **del**"
   ]
  },
  {
   "attachments": {},
   "cell_type": "markdown",
   "metadata": {},
   "source": [
    "Si conoces la posición del elemento que desea eliminar de una lista, puedes\n",
    "usar la instrucción **del**."
   ]
  },
  {
   "cell_type": "code",
   "execution_count": 12,
   "metadata": {},
   "outputs": [
    {
     "name": "stdout",
     "output_type": "stream",
     "text": [
      "['honda', 'yamaha', 'suzuki']\n",
      "['yamaha', 'suzuki']\n"
     ]
    }
   ],
   "source": [
    "motorcycles = ['honda', 'yamaha', 'suzuki']\n",
    "print(motorcycles)\n",
    "\n",
    "del motorcycles[0]\n",
    "print(motorcycles)"
   ]
  },
  {
   "attachments": {},
   "cell_type": "markdown",
   "metadata": {},
   "source": [
    "**Puede eliminar un elemento de cualquier posición en una lista usando la instrucción del\n",
    "si conoce su índice.**"
   ]
  },
  {
   "cell_type": "code",
   "execution_count": 13,
   "metadata": {},
   "outputs": [
    {
     "name": "stdout",
     "output_type": "stream",
     "text": [
      "['honda', 'yamaha', 'suzuki']\n",
      "['honda', 'suzuki']\n"
     ]
    }
   ],
   "source": [
    "motorcycles = ['honda', 'yamaha', 'suzuki']\n",
    "print(motorcycles)\n",
    "\n",
    "del motorcycles[1]\n",
    "print(motorcycles)"
   ]
  },
  {
   "attachments": {},
   "cell_type": "markdown",
   "metadata": {},
   "source": [
    "### Eliminación de un elemento mediante el método pop()\n",
    "\n"
   ]
  },
  {
   "attachments": {},
   "cell_type": "markdown",
   "metadata": {},
   "source": [
    "El método pop() elimina el último elemento de una lista, pero te permite trabajar\n",
    "con ese artículo después de quitarlo.\n",
    "\n",
    "El término pop proviene de pensar en una lista como una pila de elementos y sacar un elemento de la parte superior de la pila.\n",
    "\n",
    "En esta analogía, la parte superior de una pila corresponde al final de una lista."
   ]
  },
  {
   "attachments": {},
   "cell_type": "markdown",
   "metadata": {},
   "source": [
    "**Para mas informacion**\n",
    "\n",
    "https://es.wikipedia.org/wiki/Pila_(inform%C3%A1tica)#:~:text=Una%20pila%20%28%20stack%20en%20ingl%C3%A9s%29%20es%20una,de%20inform%C3%A1tica%20debido%20a%20su%20simplicidad%20y%20"
   ]
  },
  {
   "cell_type": "code",
   "execution_count": 14,
   "metadata": {},
   "outputs": [
    {
     "name": "stdout",
     "output_type": "stream",
     "text": [
      "['honda', 'yamaha', 'suzuki']\n",
      "['honda', 'yamaha']\n",
      "suzuki\n"
     ]
    }
   ],
   "source": [
    "motorcycles = ['honda', 'yamaha', 'suzuki']\n",
    "print(motorcycles)\n",
    "\n",
    "popped_motorcycle = motorcycles.pop()\n",
    "print(motorcycles)\n",
    "print(popped_motorcycle)"
   ]
  },
  {
   "attachments": {},
   "cell_type": "markdown",
   "metadata": {},
   "source": [
    "**Similar al metodo append() el metodo pop() accede al ultimo elemento de la lista**"
   ]
  },
  {
   "cell_type": "code",
   "execution_count": 15,
   "metadata": {},
   "outputs": [
    {
     "name": "stdout",
     "output_type": "stream",
     "text": [
      "The last motorcycle I owned was a Suzuki.\n"
     ]
    }
   ],
   "source": [
    "motorcycles = ['honda', 'yamaha', 'suzuki']\n",
    "last_owned = motorcycles.pop()\n",
    "print(\"The last motorcycle I owned was a \" + last_owned.title() + \".\")"
   ]
  },
  {
   "attachments": {},
   "cell_type": "markdown",
   "metadata": {},
   "source": [
    "**Podemos extraer el ultimo valor de la lista y guardarlo en una variable y posteriormente usarlo**"
   ]
  },
  {
   "attachments": {},
   "cell_type": "markdown",
   "metadata": {},
   "source": [
    "### Eliminar elementos desde cualquier posición en una lista"
   ]
  },
  {
   "attachments": {},
   "cell_type": "markdown",
   "metadata": {},
   "source": [
    "De hecho, puede usar pop () para eliminar un elemento en una lista en cualquier posición al\n",
    "incluyendo el índice del elemento que desea eliminar entre paréntesis."
   ]
  },
  {
   "cell_type": "code",
   "execution_count": 16,
   "metadata": {},
   "outputs": [
    {
     "name": "stdout",
     "output_type": "stream",
     "text": [
      "The first motorcycle I owned was a Honda.\n"
     ]
    }
   ],
   "source": [
    "motorcycles = ['honda', 'yamaha', 'suzuki']\n",
    "first_owned = motorcycles.pop(0)\n",
    "\n",
    "print('The first motorcycle I owned was a ' + first_owned.title() + '.')"
   ]
  },
  {
   "attachments": {},
   "cell_type": "markdown",
   "metadata": {},
   "source": [
    "Recuerda que cada vez que usas pop(), el elemento con el que trabajas no se almacena en la lista.\n",
    "\n",
    "Si no está seguro si usar la instrucción del o el método pop(), una forma sencilla de decidir: cuándo desea eliminar un elemento de una lista\n",
    "y no use ese artículo de ninguna manera, use la instrucción del; si quieres usar un\n",
    "elemento a medida que lo elimina, utilice el método pop()."
   ]
  },
  {
   "attachments": {},
   "cell_type": "markdown",
   "metadata": {},
   "source": [
    "### Eliminación de un elemento por valor"
   ]
  },
  {
   "attachments": {},
   "cell_type": "markdown",
   "metadata": {},
   "source": [
    "A veces no sabrá la posición del valor que desea eliminar\n",
    "de una lista, si solo conoce el valor del artículo que desea eliminar, puede\n",
    "puede usar el método remove().\n",
    "\n",
    "Por ejemplo, supongamos que queremos eliminar el valor 'ducati' de la lista de\n",
    "motocicletas"
   ]
  },
  {
   "cell_type": "code",
   "execution_count": 17,
   "metadata": {},
   "outputs": [
    {
     "name": "stdout",
     "output_type": "stream",
     "text": [
      "['honda', 'yamaha', 'suzuki', 'ducati']\n",
      "['honda', 'yamaha', 'suzuki']\n"
     ]
    }
   ],
   "source": [
    "motorcycles = ['honda', 'yamaha', 'suzuki', 'ducati']\n",
    "print(motorcycles)\n",
    "\n",
    "motorcycles.remove('ducati')\n",
    "print(motorcycles)"
   ]
  },
  {
   "cell_type": "code",
   "execution_count": 18,
   "metadata": {},
   "outputs": [
    {
     "name": "stdout",
     "output_type": "stream",
     "text": [
      "['honda', 'yamaha', 'suzuki', 'ducati']\n",
      "['honda', 'yamaha', 'suzuki']\n",
      "\n",
      "A Ducati is too expensive for me.\n"
     ]
    }
   ],
   "source": [
    "motorcycles = ['honda', 'yamaha', 'suzuki', 'ducati']\n",
    "print(motorcycles)\n",
    "\n",
    "too_expensive = 'ducati' #Valor a eliminar contenido en una variable\n",
    "motorcycles.remove(too_expensive) \n",
    "print(motorcycles)\n",
    "\n",
    "print(\"\\nA \" + too_expensive.title() + \" is too expensive for me.\") #Usando el valor de la variable para un mensaje con un metodo de cadena"
   ]
  },
  {
   "attachments": {},
   "cell_type": "markdown",
   "metadata": {},
   "source": [
    "**El método remove() elimina solo la primera aparición del valor que especifique. Si hay\n",
    "una posibilidad de que el valor aparezca más de una vez en la lista, deberá usar un bucle para\n",
    "determinar si se han eliminado todas las apariciones del valor.**"
   ]
  },
  {
   "attachments": {},
   "cell_type": "markdown",
   "metadata": {},
   "source": [
    "# Organizando una lista"
   ]
  },
  {
   "attachments": {},
   "cell_type": "markdown",
   "metadata": {},
   "source": [
    "A menudo, sus listas se crearán en un orden impredecible, porque no se puede\n",
    "controlar siempre el orden en que tus usuarios proporcionan sus datos. \n",
    "\n",
    "A pesar de esto es inevitable en la mayoría de las circunstancias, con frecuencia querrá presentar\n",
    "su información en un orden particular.\n",
    "\n",
    "A veces querrás conservar el orden original de su lista, y otras veces querrá cambiar el orden original\n",
    "orden."
   ]
  },
  {
   "attachments": {},
   "cell_type": "markdown",
   "metadata": {},
   "source": [
    "## Ordenar una lista de forma permanente con el método sort()"
   ]
  },
  {
   "attachments": {},
   "cell_type": "markdown",
   "metadata": {},
   "source": [
    "El método sort() de Python hace que sea relativamente fácil ordenar una lista. Imagina que nosotros\n",
    "tiene una lista de autos y desea cambiar el orden de la lista para almacenarlos alfabéticamente.\n",
    "\n",
    "Para simplificar la tarea, supongamos que todos los valores en la lista está en minúsculas."
   ]
  },
  {
   "cell_type": "code",
   "execution_count": 19,
   "metadata": {},
   "outputs": [
    {
     "name": "stdout",
     "output_type": "stream",
     "text": [
      "['audi', 'bmw', 'subaru', 'toyota']\n"
     ]
    }
   ],
   "source": [
    "cars = ['bmw', 'audi', 'toyota', 'subaru']\n",
    "cars.sort()\n",
    "print(cars)"
   ]
  },
  {
   "attachments": {},
   "cell_type": "markdown",
   "metadata": {},
   "source": [
    "**El metodo sort() organiza en caso de cadenas por orden alfabetico, el metodo acepta varios argumentos en los cuales podemos modificar el orden**"
   ]
  },
  {
   "cell_type": "code",
   "execution_count": 20,
   "metadata": {},
   "outputs": [
    {
     "name": "stdout",
     "output_type": "stream",
     "text": [
      "['toyota', 'subaru', 'bmw', 'audi']\n"
     ]
    }
   ],
   "source": [
    "cars = ['bmw', 'audi', 'toyota', 'subaru']\n",
    "cars.sort(reverse=True)\n",
    "print(cars)"
   ]
  },
  {
   "attachments": {},
   "cell_type": "markdown",
   "metadata": {},
   "source": [
    "**En este caso se puede usar el metodo sort, con el argumento reverse y obtendremos de z-a**"
   ]
  },
  {
   "attachments": {},
   "cell_type": "markdown",
   "metadata": {},
   "source": [
    "## Ordenar una lista temporalmente con la función sorted()"
   ]
  },
  {
   "attachments": {},
   "cell_type": "markdown",
   "metadata": {},
   "source": [
    "Para mantener el orden original de una lista pero presentarla ordenada, debe\n",
    "puede usar la función sorted(). \n",
    "\n",
    "La función sorted() le permite mostrar su lista en un orden particular pero no afecta el orden real de la lista.\n",
    "\n",
    "Probemos esta función en la lista de autos."
   ]
  },
  {
   "cell_type": "code",
   "execution_count": 21,
   "metadata": {},
   "outputs": [
    {
     "name": "stdout",
     "output_type": "stream",
     "text": [
      "Here is the original list:\n",
      "['bmw', 'audi', 'toyota', 'subaru']\n",
      "\n",
      "Here is the sorted list:\n",
      "['audi', 'bmw', 'subaru', 'toyota']\n",
      "\n",
      "Here is the original list again:\n",
      "['bmw', 'audi', 'toyota', 'subaru']\n"
     ]
    }
   ],
   "source": [
    "cars = ['bmw', 'audi', 'toyota', 'subaru']\n",
    "\n",
    "print(\"Here is the original list:\")\n",
    "print(cars)\n",
    "\n",
    "print(\"\\nHere is the sorted list:\")\n",
    "print(sorted(cars))\n",
    "\n",
    "print(\"\\nHere is the original list again:\")\n",
    "print(cars)"
   ]
  },
  {
   "attachments": {},
   "cell_type": "markdown",
   "metadata": {},
   "source": [
    "**Observe que la lista aún existe en su orden original después de sorted()\n",
    "se ha utilizado la función. La función sorted() también puede aceptar un reverse=True\n",
    "argumento si desea mostrar una lista en orden alfabético inverso.**"
   ]
  },
  {
   "attachments": {},
   "cell_type": "markdown",
   "metadata": {},
   "source": [
    "Ordenar una lista alfabéticamente es un poco más complicado cuando todos los valores no están en\n",
    "minúsculas.\n",
    "\n",
    "Hay varias formas de interpretar las letras mayúsculas cuando estás decidiendo\n",
    "un orden de clasificación, y especificar el orden exacto puede ser más complejo de lo que queremos tratar\n",
    "con en este momento. "
   ]
  },
  {
   "attachments": {},
   "cell_type": "markdown",
   "metadata": {},
   "source": [
    "## Imprimir una lista en orden inverso"
   ]
  },
  {
   "attachments": {},
   "cell_type": "markdown",
   "metadata": {},
   "source": [
    "Para invertir el orden original de una lista, puede utilizar el método **reverse()**.\n",
    "\n",
    "Si originalmente almacenáramos la lista de autos en orden cronológico según cuando los teníamos, podíamos reorganizar fácilmente la lista en orden cronológico inverso."
   ]
  },
  {
   "cell_type": "code",
   "execution_count": 22,
   "metadata": {},
   "outputs": [
    {
     "name": "stdout",
     "output_type": "stream",
     "text": [
      "['bmw', 'audi', 'toyota', 'subaru']\n",
      "['subaru', 'toyota', 'audi', 'bmw']\n"
     ]
    }
   ],
   "source": [
    "cars = ['bmw', 'audi', 'toyota', 'subaru']\n",
    "print(cars)\n",
    "\n",
    "cars.reverse()\n",
    "print(cars)"
   ]
  },
  {
   "attachments": {},
   "cell_type": "markdown",
   "metadata": {},
   "source": [
    "**Este metodo guarda la lista del ultimo al primero, el unico incoveniente es que no lo hace alfabeticamente**"
   ]
  },
  {
   "attachments": {},
   "cell_type": "markdown",
   "metadata": {},
   "source": [
    "El método reverse() cambia el orden de una lista de forma permanente, pero\n",
    "puede volver al orden original en cualquier momento aplicando reverse() al mismo\n",
    "lista por segunda vez."
   ]
  },
  {
   "attachments": {},
   "cell_type": "markdown",
   "metadata": {},
   "source": [
    "## Encontrar la longitud de una lista"
   ]
  },
  {
   "attachments": {},
   "cell_type": "markdown",
   "metadata": {},
   "source": [
    "Puede encontrar rápidamente la longitud de una lista usando la función len(). \n",
    "\n",
    "La lista en este ejemplo tiene cuatro elementos, por lo que su longitud es 4:"
   ]
  },
  {
   "cell_type": "code",
   "execution_count": 23,
   "metadata": {},
   "outputs": [
    {
     "data": {
      "text/plain": [
       "4"
      ]
     },
     "execution_count": 23,
     "metadata": {},
     "output_type": "execute_result"
    }
   ],
   "source": [
    "cars = ['bmw', 'audi', 'toyota', 'subaru']\n",
    "len(cars)"
   ]
  },
  {
   "attachments": {},
   "cell_type": "markdown",
   "metadata": {},
   "source": [
    "Encontrará len() útil cuando necesite identificar la cantidad de extraterrestres\n",
    "que todavía necesitan ser derribados en un juego, determine la cantidad de datos\n",
    "tienes que administrar en una visualización, o averiguar el número de registrados\n",
    "usuarios en un sitio web, entre otras tareas."
   ]
  },
  {
   "attachments": {},
   "cell_type": "markdown",
   "metadata": {},
   "source": [
    "# Evitar errores de índice al trabajar con listas"
   ]
  },
  {
   "cell_type": "code",
   "execution_count": 24,
   "metadata": {},
   "outputs": [
    {
     "ename": "IndexError",
     "evalue": "list index out of range",
     "output_type": "error",
     "traceback": [
      "\u001b[1;31m---------------------------------------------------------------------------\u001b[0m",
      "\u001b[1;31mIndexError\u001b[0m                                Traceback (most recent call last)",
      "\u001b[1;32me:\\PROJECTS_2023\\Python_Personal_Repository\\Notebooks\\Introduccion_Listas.ipynb Cell 80\u001b[0m in \u001b[0;36m2\n\u001b[0;32m      <a href='vscode-notebook-cell:/e%3A/PROJECTS_2023/Python_Personal_Repository/Notebooks/Introduccion_Listas.ipynb#Y142sZmlsZQ%3D%3D?line=0'>1</a>\u001b[0m motorcycles \u001b[39m=\u001b[39m [\u001b[39m'\u001b[39m\u001b[39mhonda\u001b[39m\u001b[39m'\u001b[39m, \u001b[39m'\u001b[39m\u001b[39myamaha\u001b[39m\u001b[39m'\u001b[39m, \u001b[39m'\u001b[39m\u001b[39msuzuki\u001b[39m\u001b[39m'\u001b[39m]\n\u001b[1;32m----> <a href='vscode-notebook-cell:/e%3A/PROJECTS_2023/Python_Personal_Repository/Notebooks/Introduccion_Listas.ipynb#Y142sZmlsZQ%3D%3D?line=1'>2</a>\u001b[0m \u001b[39mprint\u001b[39m(motorcycles[\u001b[39m3\u001b[39m])\n",
      "\u001b[1;31mIndexError\u001b[0m: list index out of range"
     ]
    }
   ],
   "source": [
    "motorcycles = ['honda', 'yamaha', 'suzuki']\n",
    "print(motorcycles[3])"
   ]
  },
  {
   "attachments": {},
   "cell_type": "markdown",
   "metadata": {},
   "source": [
    "**Este error es uno de los mas comunes y corresponde a los indices, si bien se podria decir que tenemos 3 elementos es importante\n",
    "recordar que en Python el conteo de los indices empieza en cero**"
   ]
  },
  {
   "cell_type": "code",
   "execution_count": null,
   "metadata": {},
   "outputs": [
    {
     "ename": "IndexError",
     "evalue": "list index out of range",
     "output_type": "error",
     "traceback": [
      "\u001b[1;31m---------------------------------------------------------------------------\u001b[0m",
      "\u001b[1;31mIndexError\u001b[0m                                Traceback (most recent call last)",
      "Cell \u001b[1;32mIn[25], line 2\u001b[0m\n\u001b[0;32m      1\u001b[0m motorcycles \u001b[39m=\u001b[39m []\n\u001b[1;32m----> 2\u001b[0m \u001b[39mprint\u001b[39m(motorcycles[\u001b[39m-\u001b[39;49m\u001b[39m1\u001b[39;49m])\n",
      "\u001b[1;31mIndexError\u001b[0m: list index out of range"
     ]
    }
   ],
   "source": [
    "motorcycles = []\n",
    "print(motorcycles[-1])"
   ]
  },
  {
   "attachments": {},
   "cell_type": "markdown",
   "metadata": {},
   "source": [
    "**En este caso, intentamos acceder a una lista vacia por la cual no tiene ningun elemento**"
   ]
  },
  {
   "attachments": {},
   "cell_type": "markdown",
   "metadata": {},
   "source": [
    "Si se produce un error de índice y no sabe cómo resolverlo, intente imprimir su\n",
    "lista o simplemente imprimiendo la longitud de su lista. \n",
    "\n",
    "Su lista puede verse muy diferente a lo que se piensa, especialmente si su programa lo ha administrado dinámicamente.\n",
    "\n",
    "Ver la lista real, o la cantidad exacta de elementos en su lista, puede ayudarlo a clasificar tales errores lógicos."
   ]
  },
  {
   "attachments": {},
   "cell_type": "markdown",
   "metadata": {},
   "source": [
    "# Ejercicios"
   ]
  },
  {
   "attachments": {},
   "cell_type": "markdown",
   "metadata": {},
   "source": [
    "#### 3-1. Names: \n",
    "Store the names of a few of your friends in a list called names. Print\n",
    "each person’s name by accessing each element in the list, one at a time.\n",
    "\n",
    "#### 3-2. Greetings: \n",
    "Start with the list you used in Exercise 3-1, but instead of just\n",
    "printing each person’s name, print a message to them. The text of each message\n",
    "should be the same, but each message should be personalized with the\n",
    "person’s name.\n",
    "\n",
    "#### 3-3. Your Own List: \n",
    "Think of your favorite mode of transportation, such as a\n",
    "motorcycle or a car, and make a list that stores several examples. Use your list\n",
    "to print a series of statements about these items, such as “I would like to own a\n",
    "Honda motorcycle.”"
   ]
  },
  {
   "attachments": {},
   "cell_type": "markdown",
   "metadata": {},
   "source": [
    "#### 3-4. Guest List: \n",
    "If you could invite anyone, living or deceased, to dinner, who would you invite? Make a list that includes at least three people you’d like to\n",
    "invite to dinner. Then use your list to print a message to each person, inviting\n",
    "them to dinner.\n",
    "\n",
    "#### 3-5. Changing Guest List: \n",
    "You just heard that one of your guests can’t make the\n",
    "dinner, so you need to send out a new set of invitations. You’ll have to think of\n",
    "someone else to invite.\n",
    "\n",
    "* Start with your program from Exercise 3-4. Add a print statement at the\n",
    "end of your program stating the name of the guest who can’t make it.\n",
    "* Modify your list, replacing the name of the guest who can’t make it with\n",
    "the name of the new person you are inviting.\n",
    "* Print a second set of invitation messages, one for each person who is still\n",
    "in your list.\n",
    "\n",
    "#### 3-6. More Guests: \n",
    "You just found a bigger dinner table, so now more space is\n",
    "available. Think of three more guests to invite to dinner.\n",
    "* Start with your program from Exercise 3-4 or Exercise 3-5. Add a print\n",
    "statement to the end of your program informing people that you found a\n",
    "bigger dinner table.\n",
    "* Use insert() to add one new guest to the beginning of your list.\n",
    "* Use insert() to add one new guest to the middle of your list.\n",
    "* Use append() to add one new guest to the end of your list.\n",
    "* Print a new set of invitation messages, one for each person in your list.\n",
    "\n",
    "#### 3-7. Shrinking Guest List: \n",
    "You just found out that your new dinner table won’t\n",
    "arrive in time for the dinner, and you have space for only two guests.\n",
    "* Start with your program from Exercise 3-6. Add a new line that prints a\n",
    "message saying that you can invite only two people for dinner.\n",
    "* Use pop() to remove guests from your list one at a time until only two\n",
    "names remain in your list. Each time you pop a name from your list, print\n",
    "a message to that person letting them know you’re sorry you can’t invite\n",
    "them to dinner.\n",
    "* Print a message to each of the two people still on your list, letting them\n",
    "know they’re still invited.\n",
    "* Use del to remove the last two names from your list, so you have an empty\n",
    "list. Print your list to make sure you actually have an empty list at the end\n",
    "of your program."
   ]
  },
  {
   "attachments": {},
   "cell_type": "markdown",
   "metadata": {},
   "source": [
    "#### 3-8. Seeing the World: \n",
    "Think of at least five places in the world you’d like to visit.\n",
    "* Store the locations in a list. Make sure the list is not in alphabetical order.\n",
    "* Print your list in its original order. Don’t worry about printing the list neatly,\n",
    "just print it as a raw Python list.\n",
    "* Use sorted() to print your list in alphabetical order without modifying the\n",
    "actual list.\n",
    "* Show that your list is still in its original order by printing it.\n",
    "* Use sorted() to print your list in reverse alphabetical order without changing\n",
    "the order of the original list.\n",
    "* Show that your list is still in its original order by printing it again.\n",
    "* Use reverse() to change the order of your list. Print the list to show that its\n",
    "order has changed.\n",
    "* Use reverse() to change the order of your list again. Print the list to show\n",
    "it’s back to its original order.\n",
    "* Use sort() to change your list so it’s stored in alphabetical order. Print the\n",
    "list to show that its order has been changed.\n",
    "* Use sort() to change your list so it’s stored in reverse alphabetical order.\n",
    "Print the list to show that its order has changed."
   ]
  },
  {
   "attachments": {},
   "cell_type": "markdown",
   "metadata": {},
   "source": [
    "#### 3-9. Dinner Guests: \n",
    "Working with one of the programs from Exercises 3-4\n",
    "through 3-7, use len() to print a message indicating the number\n",
    "of people you are inviting to dinner."
   ]
  },
  {
   "attachments": {},
   "cell_type": "markdown",
   "metadata": {},
   "source": [
    "#### 3-10. Every Function: \n",
    "Think of something you could store in a list. \n",
    "\n",
    "For example,you could make a list of mountains, rivers, countries, cities, languages, or anything\n",
    "else you’d like. \n",
    "\n",
    "Write a program that creates a list containing these items and then uses each function introduced in this chapter at least once."
   ]
  },
  {
   "attachments": {},
   "cell_type": "markdown",
   "metadata": {},
   "source": [
    "#### 3-11. Intentional Error: \n",
    "If you haven’t received an index error in one of your\n",
    "programs yet, try to make one happen. Change an index in one of your programs\n",
    "to produce an index error. Make sure you correct the error before closing\n",
    "the program."
   ]
  }
 ],
 "metadata": {
  "kernelspec": {
   "display_name": "Python 3",
   "language": "python",
   "name": "python3"
  },
  "language_info": {
   "codemirror_mode": {
    "name": "ipython",
    "version": 3
   },
   "file_extension": ".py",
   "mimetype": "text/x-python",
   "name": "python",
   "nbconvert_exporter": "python",
   "pygments_lexer": "ipython3",
   "version": "3.10.7"
  },
  "orig_nbformat": 4
 },
 "nbformat": 4,
 "nbformat_minor": 2
}
