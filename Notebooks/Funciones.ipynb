{
 "cells": [
  {
   "attachments": {},
   "cell_type": "markdown",
   "metadata": {},
   "source": [
    "# Introduccion"
   ]
  },
  {
   "attachments": {},
   "cell_type": "markdown",
   "metadata": {},
   "source": [
    "Si necesita realizar esa tarea varias veces a lo largo de su programa, no es necesario que escriba todo el código para la misma tarea una y otra vez; sólo se llama a la función dedicada a manejar esa tarea, y la llamada le dice a Python que ejecute el código dentro de la función. \n",
    "\n",
    "Verá que el uso de funciones hace que sus programas sean más fáciles de escribir, leer, probar y corregir. \n",
    "\n",
    "Las funciones cuyo trabajo principal es mostrar  información y otras funciones diseñadas para procesar datos y devolver un valor o conjunto de valores. \n"
   ]
  },
  {
   "attachments": {},
   "cell_type": "markdown",
   "metadata": {},
   "source": [
    "# Definiendo una funcion"
   ]
  },
  {
   "attachments": {},
   "cell_type": "markdown",
   "metadata": {},
   "source": [
    "Aquí hay una función simple llamada greet_user() que imprime un saludo:"
   ]
  },
  {
   "cell_type": "code",
   "execution_count": 1,
   "metadata": {},
   "outputs": [
    {
     "name": "stdout",
     "output_type": "stream",
     "text": [
      "Hello!\n"
     ]
    }
   ],
   "source": [
    "#greeter.py\n",
    "\n",
    "def greet_user():\n",
    "    \"\"\"Display a simple greeting.\"\"\"\n",
    "    print(\"Hello!\")\n",
    "\n",
    "greet_user()"
   ]
  },
  {
   "attachments": {},
   "cell_type": "markdown",
   "metadata": {},
   "source": [
    "En este ejemplo se muestra la estructura más sencilla de una función. La línea usa la palabra clave def para informar a Python de que está definiendo una función. \n",
    "\n",
    "Esta es la definición de la función, que le dice a Python el nombre de la función y, si corresponde, qué tipo de información necesita la función para hacer su trabajo. Los paréntesis contienen esa información. En este caso, el nombre de la función es greet_user(), y no necesita información para hacer su trabajo, por lo que sus paréntesis están vacíos. (Aun así, los paréntesis son obligatorios). Finalmente, la definición termina en dos puntos.\n",
    "\n",
    "Cualquier línea identada que siga a def greet_user(): forman el cuerpo de\n",
    "la función. El texto comentado es un comentario llamado docstring, que describe lo que hace la función. Las cadenas de documentos están encerradas entre comillas triples, que Python busca cuando genera documentación para las funciones en sus programas.\n",
    "\n",
    "La impresión de línea (\"¡Hola!\") es la única línea de código real en el cuerpo de esta función, por lo que greet_user() tiene un solo trabajo: print(\"Hello!\").\n",
    "\n",
    "Cuando quieras usar esta función, la llamas. Una llamada a función indica Python para ejecutar el código en la función. Para llamar a una función, escribe el nombre de la función, seguido de cualquier información necesaria entre paréntesis. Debido a que no se necesita información aquí, llamar a nuestra función es tan simple como ingresar greet_user(). Como era de esperar, imprime Hello!:"
   ]
  },
  {
   "attachments": {},
   "cell_type": "markdown",
   "metadata": {},
   "source": [
    "## Pasar información a una función"
   ]
  },
  {
   "attachments": {},
   "cell_type": "markdown",
   "metadata": {},
   "source": [
    "Modificada ligeramente, la función greet_user() no solo puede decirle al usuario Hello!\n",
    "pero también saludarlos por su nombre. Para que la función haga esto, ingrese el nombre de usuario\n",
    "entre paréntesis de la definición de la función en def greet_user(). Agregando el nombre de usuario nos permite que la función acepte cualquier valor de Nombre de usuario especificar."
   ]
  },
  {
   "cell_type": "code",
   "execution_count": 2,
   "metadata": {},
   "outputs": [
    {
     "name": "stdout",
     "output_type": "stream",
     "text": [
      "Hello, Jesse!\n"
     ]
    }
   ],
   "source": [
    "def greet_user(username):\n",
    "    \"\"\"Display a simple greeting.\"\"\"\n",
    "    print(\"Hello, \" + username.title() + \"!\")\n",
    "\n",
    "greet_user('jesse')"
   ]
  },
  {
   "attachments": {},
   "cell_type": "markdown",
   "metadata": {},
   "source": [
    "Del mismo modo, al entrar greet_user ('sarah') llama greet_user(), pasa 'sarah',\n",
    "e imprime Hello, Sarah! Puede llamar a greet_user() tantas veces como desee y pasarle cualquier nombre que desee para producir una salida predecible cada vez."
   ]
  },
  {
   "attachments": {},
   "cell_type": "markdown",
   "metadata": {},
   "source": [
    "## Argumentos y parámetros"
   ]
  },
  {
   "attachments": {},
   "cell_type": "markdown",
   "metadata": {},
   "source": [
    "En la función greet_user() anterior, definimos greet_user() para requerir un valor para la variable username. Una vez que llamamos a la función y le dimos la información (el nombre de una persona), imprimió el saludo correcto.\n",
    "\n",
    "La variable username en la definición de greet_user() es un ejemplo de\n",
    "parámetro, una pieza de información que la función necesita para hacer su trabajo. El valor 'jesse' en greet_user('jesse') es un ejemplo de un argumento. Un argumento es un fragmento de información que se pasa de una llamada a una función.\n",
    "\n",
    "Cuando llamamos a la función, colocamos el valor con el que queremos que funcione la función entre paréntesis. En este caso, el argumento 'jesse' se pasó a la función greet_user(), y el valor se almacenó en el parámetro username."
   ]
  },
  {
   "attachments": {},
   "cell_type": "markdown",
   "metadata": {},
   "source": [
    "**La gente a veces habla de argumentos y parámetros indistintamente. No se sorprenda si ve que las variables en una definición de función se denominan argumentos o las variables en una llamada a una función se denominan parámetros.**"
   ]
  },
  {
   "attachments": {},
   "cell_type": "markdown",
   "metadata": {},
   "source": [
    "# Pasando argumentos"
   ]
  },
  {
   "attachments": {},
   "cell_type": "markdown",
   "metadata": {},
   "source": [
    "Dado que una definición de función puede tener varios parámetros, una llamada a función puede necesitar varios argumentos. Puede pasar argumentos a sus funciones de varias maneras.\n",
    "\n",
    "Puede usar argumentos posicionales, que deben estar en el mismo orden en que se escribieron los parámetros; argumentos de palabras clave, donde cada argumento consta de un nombre de variable y un valor; y listas y diccionarios de valores. Veamos cada uno de estos a su vez."
   ]
  },
  {
   "attachments": {},
   "cell_type": "markdown",
   "metadata": {},
   "source": [
    "## Argumentos posicionales"
   ]
  },
  {
   "attachments": {},
   "cell_type": "markdown",
   "metadata": {},
   "source": [
    "Cuando se llama a una función, Python debe hacer coincidir cada argumento de la llamada a la función con un parámetro en la definición de la función. La forma más sencilla de hacerlo se basa en el orden de los argumentos proporcionados. Los valores emparejados de esta manera se denominan argumentos posicionales.\n",
    "\n",
    "Para ver cómo funciona esto, considere una función que muestre información sobre mascotas. \n",
    "\n",
    "La función nos dice qué tipo de animal es cada mascota y el nombre de la mascota, como se muestra aquí:"
   ]
  },
  {
   "cell_type": "code",
   "execution_count": 3,
   "metadata": {},
   "outputs": [
    {
     "name": "stdout",
     "output_type": "stream",
     "text": [
      "\n",
      "I have a hamster.\n",
      "My hamster's name is Harry.\n"
     ]
    }
   ],
   "source": [
    "#pets.py\n",
    "def describe_pet(animal_type, pet_name):\n",
    "    \"\"\"Display information about a pet.\"\"\"\n",
    "    print(\"\\nI have a \" + animal_type + \".\")\n",
    "    print(\"My \" + animal_type + \"'s name is \" + pet_name.title() + \".\")\n",
    "\n",
    "describe_pet('hamster', 'harry')"
   ]
  },
  {
   "attachments": {},
   "cell_type": "markdown",
   "metadata": {},
   "source": [
    "### Llamadas a múltiples funciones"
   ]
  },
  {
   "attachments": {},
   "cell_type": "markdown",
   "metadata": {},
   "source": [
    "Puede llamar a una función tantas veces como sea necesario. Describir una segunda mascota diferente requiere solo una llamada más para describe_pet():"
   ]
  },
  {
   "cell_type": "code",
   "execution_count": 4,
   "metadata": {},
   "outputs": [
    {
     "name": "stdout",
     "output_type": "stream",
     "text": [
      "\n",
      "I have a hamster.\n",
      "My hamster's name is Harry.\n",
      "\n",
      "I have a dog.\n",
      "My dog's name is Willie.\n"
     ]
    }
   ],
   "source": [
    "def describe_pet(animal_type, pet_name):\n",
    "    \"\"\"Display information about a pet.\"\"\"\n",
    "    print(\"\\nI have a \" + animal_type + \".\")\n",
    "    print(\"My \" + animal_type + \"'s name is \" + pet_name.title() + \".\")\n",
    "\n",
    "describe_pet('hamster', 'harry')\n",
    "describe_pet('dog', 'willie')"
   ]
  },
  {
   "attachments": {},
   "cell_type": "markdown",
   "metadata": {},
   "source": [
    "**En esta segunda llamada a función, pasamos describe_pet() los argumentos 'perro'\n",
    "y 'Willie'. Al igual que con el conjunto anterior de argumentos que usamos, Python coincide\n",
    "'perro' con el parámetro animal_type y 'willie' con el parámetro pet_name.**"
   ]
  },
  {
   "attachments": {},
   "cell_type": "markdown",
   "metadata": {},
   "source": [
    "Llamar a una función varias veces es una forma muy eficiente de trabajar. El código que describe una mascota se escribe una vez en la función. Luego, cada vez que desee describir una nueva mascota, llame a la función con la información de la nueva mascota.\n",
    "\n",
    "Incluso si el código para describir una mascota se expandiera a diez líneas, aún podría describir una nueva mascota en una sola línea llamando a la función nuevamente.\n",
    "\n",
    "Puede utilizar tantos argumentos posicionales como necesite en sus funciones. Python trabaja a través de los argumentos que proporciona al llamar a la función y hace coincidir cada uno con el parámetro correspondiente en la definición de la función."
   ]
  },
  {
   "attachments": {},
   "cell_type": "markdown",
   "metadata": {},
   "source": [
    "### El orden importa en los argumentos posicionales"
   ]
  },
  {
   "attachments": {},
   "cell_type": "markdown",
   "metadata": {},
   "source": [
    "Puede obtener resultados inesperados si mezcla el orden de los argumentos en una llamada a función cuando utiliza argumentos posicionales:"
   ]
  },
  {
   "cell_type": "code",
   "execution_count": 5,
   "metadata": {},
   "outputs": [
    {
     "name": "stdout",
     "output_type": "stream",
     "text": [
      "\n",
      "I have a harry.\n",
      "My harry's name is Hamster.\n"
     ]
    }
   ],
   "source": [
    "def describe_pet(animal_type, pet_name):\n",
    "    \"\"\"Display information about a pet.\"\"\"\n",
    "    print(\"\\nI have a \" + animal_type + \".\")\n",
    "    print(\"My \" + animal_type + \"'s name is \" + pet_name.title() + \".\")\n",
    "\n",
    "describe_pet('harry', 'hamster')"
   ]
  },
  {
   "attachments": {},
   "cell_type": "markdown",
   "metadata": {},
   "source": [
    "**Si obtiene resultados divertidos como este, compruebe que el orden de los argumentos de la llamada de función coincida con el orden de los parámetros de la definición de la función.**"
   ]
  },
  {
   "attachments": {},
   "cell_type": "markdown",
   "metadata": {},
   "source": [
    "## Argumentos clave"
   ]
  },
  {
   "attachments": {},
   "cell_type": "markdown",
   "metadata": {},
   "source": [
    "Un argumento de palabra clave es un par nombre-valor que se pasa a una función. Usted asocia directamente el nombre y el valor dentro del argumento, así que cuando usted pasa el argumento a la función, no hay confusión (usted ganó no terminará con un harry llamado Hamster). \n",
    "\n",
    "Las discusiones de palabras clave le liberan de tener que preocuparse de ordenar correctamente sus argumentos en la llamada de función, y clarifican el rol de cada valor en la llamada de función. \n",
    "\n",
    "Vamos a reescribir pets.py usando argumentos de palabra clave para llamar a describir_pet(): "
   ]
  },
  {
   "cell_type": "code",
   "execution_count": 6,
   "metadata": {},
   "outputs": [
    {
     "name": "stdout",
     "output_type": "stream",
     "text": [
      "\n",
      "I have a hamster.\n",
      "My hamster's name is Harry.\n"
     ]
    }
   ],
   "source": [
    "def describe_pet(animal_type, pet_name):\n",
    "    \"\"\"Display information about a pet.\"\"\"\n",
    "    print(\"\\nI have a \" + animal_type + \".\")\n",
    "    print(\"My \" + animal_type + \"'s name is \" + pet_name.title() + \".\")\n",
    "    \n",
    "describe_pet(animal_type='hamster', pet_name='harry')"
   ]
  },
  {
   "attachments": {},
   "cell_type": "markdown",
   "metadata": {},
   "source": [
    "**Cuando utilice argumentos de palabras clave, asegúrese de utilizar los nombres exactos de los parámetros en la definición de la función.**"
   ]
  },
  {
   "attachments": {},
   "cell_type": "markdown",
   "metadata": {},
   "source": [
    "## Valores por defecto"
   ]
  },
  {
   "attachments": {},
   "cell_type": "markdown",
   "metadata": {},
   "source": [
    "Al escribir una función, puede definir un valor predeterminado para cada parámetro.\n",
    "\n",
    "Si se proporciona un argumento para un parámetro en la llamada a la función, Python utiliza el valor del argumento. Si no es así, utiliza el valor predeterminado del parámetro. Por lo tanto, cuando define un valor predeterminado para un parámetro, puede excluir el argumento correspondiente que normalmente escribiría en la llamada a la función. El uso de valores predeterminados puede simplificar las llamadas a funciones y aclarar las formas en que se utilizan normalmente las funciones.\n",
    "\n",
    "Por ejemplo, si observa que la mayoría de las llamadas a describe_pet() se utilizan para describir perros, puede establecer el valor predeterminado de animal_type en 'perro'. Ahora, cualquiera que llame a describe_pet() por un perro puede omitir esa información:"
   ]
  },
  {
   "cell_type": "code",
   "execution_count": 1,
   "metadata": {},
   "outputs": [
    {
     "name": "stdout",
     "output_type": "stream",
     "text": [
      "\n",
      "I have a dog.\n",
      "My dog's name is Willie.\n",
      "\n",
      "I have a cat.\n",
      "My cat's name is Tom.\n"
     ]
    }
   ],
   "source": [
    "def describe_pet(pet_name, animal_type='dog'):\n",
    "    \"\"\"Display information about a pet.\"\"\"\n",
    "    print(\"\\nI have a \" + animal_type + \".\")\n",
    "    print(\"My \" + animal_type + \"'s name is \" + pet_name.title() + \".\")\n",
    "    \n",
    "describe_pet(pet_name='willie')\n",
    "describe_pet(pet_name='tom',animal_type=\"cat\")"
   ]
  },
  {
   "attachments": {},
   "cell_type": "markdown",
   "metadata": {},
   "source": [
    "**Tenga en cuenta que el orden de los parámetros en la definición de la función tuvo que ser cambiado. \n",
    "Debido a que el valor predeterminado hace que no sea necesario especificar un tipo de animal como argumento, el único argumento que queda en la llamada a la función es el nombre de la mascota.**\n",
    "\n",
    "**Python todavía interpreta esto como un argumento posicional, por lo que si se llama a la función solo con el nombre de una mascota, ese argumento coincidirá con el primer parámetro enumerado en la definición de la función. Esta es la razón por la que el primer parámetro debe ser pet_name.**"
   ]
  },
  {
   "attachments": {},
   "cell_type": "markdown",
   "metadata": {},
   "source": [
    "**Cuando usa valores predeterminados, cualquier parámetro con un valor predeterminado debe aparecer después de todos los parámetros que no tienen valores predeterminados. Esto permite que Python continúe interpretando correctamente los argumentos posicionales.**"
   ]
  },
  {
   "attachments": {},
   "cell_type": "markdown",
   "metadata": {},
   "source": [
    "## Llamadas a funciones equivalentes"
   ]
  },
  {
   "attachments": {},
   "cell_type": "markdown",
   "metadata": {},
   "source": [
    "Debido a que los argumentos posicionales, los argumentos de palabras clave y los valores predeterminados se pueden usar juntos, a menudo tendrá varias formas equivalentes de llamar a una función.\n",
    "\n",
    "Considere la siguiente definición para describe_pets() con un valor predeterminado proporcionado:"
   ]
  },
  {
   "cell_type": "code",
   "execution_count": 11,
   "metadata": {},
   "outputs": [],
   "source": [
    "# def describe_pet(pet_name, animal_type='dog'):"
   ]
  },
  {
   "attachments": {},
   "cell_type": "markdown",
   "metadata": {},
   "source": [
    "Con esta definición, siempre se debe proporcionar un argumento para pet_name, y este valor se puede proporcionar utilizando el formato posicional o de palabra clave. \n",
    "\n",
    "Si el animal que se describe no es un perro, se debe incluir un argumento para animal_type en la llamada, y este argumento también se puede especificar utilizando el formato posicional o de palabra clave.\n",
    "\n",
    "Todas las siguientes llamadas funcionarían para esta función:"
   ]
  },
  {
   "cell_type": "code",
   "execution_count": 9,
   "metadata": {},
   "outputs": [
    {
     "name": "stdout",
     "output_type": "stream",
     "text": [
      "\n",
      "I have a dog.\n",
      "My dog's name is Willie.\n",
      "\n",
      "I have a dog.\n",
      "My dog's name is Willie.\n",
      "\n",
      "I have a hamster.\n",
      "My hamster's name is Harry.\n",
      "\n",
      "I have a hamster.\n",
      "My hamster's name is Harry.\n",
      "\n",
      "I have a hamster.\n",
      "My hamster's name is Harry.\n"
     ]
    }
   ],
   "source": [
    "# A dog named Willie.\n",
    "describe_pet('willie')\n",
    "describe_pet(pet_name='willie')\n",
    "\n",
    "# A hamster named Harry.\n",
    "describe_pet('harry', 'hamster')\n",
    "describe_pet(pet_name='harry', animal_type='hamster')\n",
    "describe_pet(animal_type='hamster', pet_name='harry')"
   ]
  },
  {
   "attachments": {},
   "cell_type": "markdown",
   "metadata": {},
   "source": [
    "**Realmente no importa qué estilo de llamada uses. Siempre que sus llamadas a funciones produzcan la salida que desea, simplemente use el estilo que le resulte más fácil de entender.**"
   ]
  },
  {
   "attachments": {},
   "cell_type": "markdown",
   "metadata": {},
   "source": [
    "## Evitar errores de argumento"
   ]
  },
  {
   "attachments": {},
   "cell_type": "markdown",
   "metadata": {},
   "source": [
    "Cuando comience a usar funciones, no se sorprenda si encuentra errores sobre argumentos no coincidentes. Los argumentos no coincidentes se producen cuando se proporcionan menos o más argumentos de los que una función necesita para hacer su trabajo.\n",
    "\n",
    "Por ejemplo, esto es lo que sucede si intentamos llamar a describe_pet() sin\n",
    "Argumentos:"
   ]
  },
  {
   "cell_type": "code",
   "execution_count": 1,
   "metadata": {},
   "outputs": [
    {
     "ename": "TypeError",
     "evalue": "describe_pet() missing 2 required positional arguments: 'animal_type' and 'pet_name'",
     "output_type": "error",
     "traceback": [
      "\u001b[1;31m---------------------------------------------------------------------------\u001b[0m",
      "\u001b[1;31mTypeError\u001b[0m                                 Traceback (most recent call last)",
      "Cell \u001b[1;32mIn[1], line 6\u001b[0m\n\u001b[0;32m      3\u001b[0m     \u001b[39mprint\u001b[39m(\u001b[39m\"\u001b[39m\u001b[39m\\n\u001b[39;00m\u001b[39mI have a \u001b[39m\u001b[39m\"\u001b[39m \u001b[39m+\u001b[39m animal_type \u001b[39m+\u001b[39m \u001b[39m\"\u001b[39m\u001b[39m.\u001b[39m\u001b[39m\"\u001b[39m)\n\u001b[0;32m      4\u001b[0m     \u001b[39mprint\u001b[39m(\u001b[39m\"\u001b[39m\u001b[39mMy \u001b[39m\u001b[39m\"\u001b[39m \u001b[39m+\u001b[39m animal_type \u001b[39m+\u001b[39m \u001b[39m\"\u001b[39m\u001b[39m'\u001b[39m\u001b[39ms name is \u001b[39m\u001b[39m\"\u001b[39m \u001b[39m+\u001b[39m pet_name\u001b[39m.\u001b[39mtitle() \u001b[39m+\u001b[39m \u001b[39m\"\u001b[39m\u001b[39m.\u001b[39m\u001b[39m\"\u001b[39m)\n\u001b[1;32m----> 6\u001b[0m describe_pet()\n",
      "\u001b[1;31mTypeError\u001b[0m: describe_pet() missing 2 required positional arguments: 'animal_type' and 'pet_name'"
     ]
    }
   ],
   "source": [
    "def describe_pet(animal_type, pet_name):\n",
    "    \"\"\"Display information about a pet.\"\"\"\n",
    "    print(\"\\nI have a \" + animal_type + \".\")\n",
    "    print(\"My \" + animal_type + \"'s name is \" + pet_name.title() + \".\")\n",
    "\n",
    "describe_pet()"
   ]
  },
  {
   "attachments": {},
   "cell_type": "markdown",
   "metadata": {},
   "source": [
    "En el rastreo nos dice la ubicación del problema, lo que nos permite mirar hacia atrás y ver que algo salió mal en nuestra llamada de función. \n",
    "\n",
    "En la función ofensiva se escribe la llamada para que la veamos. En el rastreo nos dice que a la llamada le faltan dos argumentos e informa los nombres de los argumentos que faltan. \n",
    "\n",
    "Si esta función estuviera en un archivo separado, probablemente podríamos reescribir la llamada correctamente sin tener que abrir ese archivo y leer el código de la función."
   ]
  },
  {
   "attachments": {},
   "cell_type": "markdown",
   "metadata": {},
   "source": [
    "Python es útil porque lee el código de la función por nosotros y nos dice\n",
    "los nombres de los argumentos que necesitamos proporcionar. Esta es otra motivación para dar a sus variables y funciones nombres descriptivos. Si lo hace, los mensajes de error de Python serán más útiles para usted y para cualquier otra persona que pueda usar su código."
   ]
  },
  {
   "attachments": {},
   "cell_type": "markdown",
   "metadata": {},
   "source": [
    "# Valores devueltos"
   ]
  },
  {
   "attachments": {},
   "cell_type": "markdown",
   "metadata": {},
   "source": [
    "Una función no siempre tiene que mostrar su salida directamente. En su lugar, puede procesar algunos datos y luego devolver un valor o conjunto de valores. El valor que devuelve la función se denomina valor devuelto. La instrucción return toma un valor desde dentro de una función y lo envía de vuelta a la línea que llamó a la función.\n",
    "\n",
    "Los valores devueltos le permiten mover gran parte del trabajo pesado de su programa a funciones, lo que puede simplificar el cuerpo de su programa."
   ]
  },
  {
   "attachments": {},
   "cell_type": "markdown",
   "metadata": {},
   "source": [
    "## Devolver un valor simple"
   ]
  },
  {
   "attachments": {},
   "cell_type": "markdown",
   "metadata": {},
   "source": [
    "Veamos una función que toma un nombre y apellido, y devuelve un nombre completo con un formato ordenado:"
   ]
  },
  {
   "cell_type": "code",
   "execution_count": 2,
   "metadata": {},
   "outputs": [
    {
     "name": "stdout",
     "output_type": "stream",
     "text": [
      "Jimi Hendrix\n"
     ]
    }
   ],
   "source": [
    "#formatted_name.py\n",
    "\n",
    "def get_formatted_name(first_name, last_name):\n",
    "    \"\"\"Return a full name, neatly formatted.\"\"\"\n",
    "    full_name = first_name + ' ' + last_name\n",
    "    return full_name.title()\n",
    "\n",
    "musician = get_formatted_name('jimi', 'hendrix')\n",
    "print(musician)"
   ]
  },
  {
   "attachments": {},
   "cell_type": "markdown",
   "metadata": {},
   "source": [
    "La definición de get_formatted_name() toma como parámetros un nombre y apellido. \n",
    "\n",
    "La función combina estos dos nombres, agrega un espacio entre ellos y almacena el resultado en full_name. El valor de full_name se convierte en mayúsculas y minúsculas y, a continuación, se devuelve a la línea de llamada en.\n",
    "\n",
    "Cuando se llama a una función que devuelve un valor, es necesario proporcionar una variable donde se pueda almacenar el valor devuelto. En este caso, el valor devuelto se almacena en la variable musician at."
   ]
  },
  {
   "attachments": {},
   "cell_type": "markdown",
   "metadata": {},
   "source": [
    "## Hacer que un argumento sea opcional"
   ]
  },
  {
   "attachments": {},
   "cell_type": "markdown",
   "metadata": {},
   "source": [
    "A veces tiene sentido hacer que un argumento sea opcional para que las personas que usan la función puedan elegir proporcionar información adicional solo si lo desean. Puede utilizar valores predeterminados para hacer que un argumento sea opcional.\n",
    "\n",
    "Por ejemplo, supongamos que queremos expandir get_formatted_name() para manejar también los segundos nombres. Un primer intento de incluir segundos nombres podría verse así:"
   ]
  },
  {
   "cell_type": "code",
   "execution_count": 3,
   "metadata": {},
   "outputs": [
    {
     "name": "stdout",
     "output_type": "stream",
     "text": [
      "John Lee Hooker\n"
     ]
    }
   ],
   "source": [
    "def get_formatted_name(first_name, middle_name, last_name):\n",
    "    \"\"\"Return a full name, neatly formatted.\"\"\"\n",
    "    full_name = first_name + ' ' + middle_name + ' ' + last_name\n",
    "    return full_name.title()\n",
    "\n",
    "musician = get_formatted_name('john', 'lee', 'hooker')\n",
    "print(musician)"
   ]
  },
  {
   "attachments": {},
   "cell_type": "markdown",
   "metadata": {},
   "source": [
    "Pero los segundos nombres no siempre son necesarios, y esta función, tal como está escrita, no funcionaría si intentara llamarla solo con un nombre y un apellido.\n",
    "\n",
    "Para que el segundo nombre sea opcional, podemos dar al argumento middle_name un valor predeterminado vacío e ignorar el argumento a menos que el usuario proporcione un valor. \n",
    "\n",
    "Para que get_formatted_name() funcione sin un segundo nombre, establecemos el valor predeterminado de middle_name en una cadena vacía y lo movemos al final de la lista de parámetros:"
   ]
  },
  {
   "cell_type": "code",
   "execution_count": 4,
   "metadata": {},
   "outputs": [
    {
     "name": "stdout",
     "output_type": "stream",
     "text": [
      "Jimi Hendrix\n",
      "John Lee Hooker\n"
     ]
    }
   ],
   "source": [
    "def get_formatted_name(first_name, last_name, middle_name=''):\n",
    "    \"\"\"Return a full name, neatly formatted.\"\"\"\n",
    "    if middle_name:\n",
    "        full_name = first_name + ' ' + middle_name + ' ' + last_name\n",
    "    else:\n",
    "        full_name = first_name + ' ' + last_name\n",
    "    return full_name.title()\n",
    "\n",
    "musician = get_formatted_name('jimi', 'hendrix')\n",
    "print(musician)\n",
    "musician = get_formatted_name('john', 'hooker', 'lee')\n",
    "print(musician)"
   ]
  },
  {
   "attachments": {},
   "cell_type": "markdown",
   "metadata": {},
   "source": [
    "## Devolver un diccionario"
   ]
  },
  {
   "attachments": {},
   "cell_type": "markdown",
   "metadata": {},
   "source": [
    "Una función puede devolver cualquier tipo de valor que necesite, incluidas estructuras de datos más complicadas como listas y diccionarios. Por ejemplo, la siguiente función toma partes de un nombre y devuelve un diccionario que representa a una persona:"
   ]
  },
  {
   "cell_type": "code",
   "execution_count": 5,
   "metadata": {},
   "outputs": [
    {
     "name": "stdout",
     "output_type": "stream",
     "text": [
      "{'first': 'jimi', 'last': 'hendrix'}\n"
     ]
    }
   ],
   "source": [
    "#person.py\n",
    "\n",
    "def build_person(first_name, last_name):\n",
    "    \"\"\"Return a dictionary of information about a person.\"\"\"\n",
    "    person = {'first': first_name, 'last': last_name}\n",
    "    return person\n",
    "\n",
    "musician = build_person('jimi', 'hendrix')\n",
    "print(musician)"
   ]
  },
  {
   "attachments": {},
   "cell_type": "markdown",
   "metadata": {},
   "source": [
    "Esta función toma información textual simple y la coloca en una estructura de datos más significativa que le permite trabajar con la información más allá de simplemente imprimirla. Las cadenas 'jimi' y 'hendrix' ahora están etiquetadas como nombre y apellido. Puede ampliar fácilmente esta función para aceptar valores opcionales como un segundo nombre, una edad, una ocupación o cualquier otra información que desee almacenar sobre una persona. \n",
    "\n",
    "Por ejemplo, el siguiente cambio también le permite almacenar la edad de una persona:"
   ]
  },
  {
   "cell_type": "code",
   "execution_count": 6,
   "metadata": {},
   "outputs": [
    {
     "name": "stdout",
     "output_type": "stream",
     "text": [
      "{'first': 'jimi', 'last': 'hendrix', 'age': 27}\n"
     ]
    }
   ],
   "source": [
    "def build_person(first_name, last_name, age=''):\n",
    "    \"\"\"Return a dictionary of information about a person.\"\"\"\n",
    "    person = {'first': first_name, 'last': last_name}\n",
    "    if age:\n",
    "        person['age'] = age\n",
    "    return person\n",
    "\n",
    "musician = build_person('jimi', 'hendrix', age=27)\n",
    "print(musician)"
   ]
  },
  {
   "attachments": {},
   "cell_type": "markdown",
   "metadata": {},
   "source": [
    "## Uso de una función con un bucle while"
   ]
  },
  {
   "attachments": {},
   "cell_type": "markdown",
   "metadata": {},
   "source": [
    "Puede usar funciones con todas las estructuras de Python que ha aprendido hasta ahora. Por ejemplo, usemos la función get_formatted_name() con un bucle while para saludar a los usuarios de manera más formal. \n",
    "\n",
    "Aquí hay un primer intento de saludar a las personas usando su nombre y apellido:"
   ]
  },
  {
   "cell_type": "code",
   "execution_count": null,
   "metadata": {},
   "outputs": [],
   "source": [
    "#greeter.py\n",
    "\n",
    "def get_formatted_name(first_name, last_name):\n",
    "    \"\"\"Return a full name, neatly formatted.\"\"\"\n",
    "    full_name = first_name + ' ' + last_name\n",
    "    return full_name.title()\n",
    "\n",
    "# This is an infinite loop!\n",
    "while True:\n",
    "    print(\"\\nPlease tell me your name:\")\n",
    "    f_name = input(\"First name: \")\n",
    "    l_name = input(\"Last name: \")\n",
    "    formatted_name = get_formatted_name(f_name, l_name)\n",
    "    print(\"\\nHello, \" + formatted_name + \"!\")"
   ]
  },
  {
   "attachments": {},
   "cell_type": "markdown",
   "metadata": {},
   "source": [
    "Para este ejemplo, usamos una versión simple de get_formatted_name() que no incluye segundos nombres. El bucle while le pide al usuario que ingrese su nombre, y nosotros solicitamos su nombre y apellido por separado.\n",
    "\n",
    "Pero hay un problema con este bucle while: no hemos definido una condición para salir. ¿Dónde pones una condición para salir cuando pides una serie de entradas? Queremos que el usuario pueda salir lo más fácilmente posible, por lo que cada mensaje debe ofrecer una forma de salir. La instrucción break ofrece una forma sencilla de salir del bucle en cualquiera de las dos indicaciones:"
   ]
  },
  {
   "cell_type": "code",
   "execution_count": 7,
   "metadata": {},
   "outputs": [
    {
     "name": "stdout",
     "output_type": "stream",
     "text": [
      "\n",
      "Please tell me your name:\n",
      "(enter 'q' at any time to quit)\n",
      "\n",
      "Hello, Jorge Hdz!\n",
      "\n",
      "Please tell me your name:\n",
      "(enter 'q' at any time to quit)\n",
      "\n",
      "Hello, Juan Rivera!\n",
      "\n",
      "Please tell me your name:\n",
      "(enter 'q' at any time to quit)\n",
      "\n",
      "Hello,  !\n",
      "\n",
      "Please tell me your name:\n",
      "(enter 'q' at any time to quit)\n"
     ]
    }
   ],
   "source": [
    "def get_formatted_name(first_name, last_name):\n",
    "    \"\"\"Return a full name, neatly formatted.\"\"\"\n",
    "    full_name = first_name + ' ' + last_name\n",
    "    return full_name.title()\n",
    "\n",
    "while True:\n",
    "    print(\"\\nPlease tell me your name:\")\n",
    "    print(\"(enter 'q' at any time to quit)\")\n",
    "    f_name = input(\"First name: \")\n",
    "    if f_name == 'q':\n",
    "        break\n",
    "\n",
    "    l_name = input(\"Last name: \")\n",
    "    if l_name == 'q':\n",
    "        break\n",
    "    formatted_name = get_formatted_name(f_name, l_name)\n",
    "    print(\"\\nHello, \" + formatted_name + \"!\")"
   ]
  },
  {
   "attachments": {},
   "cell_type": "markdown",
   "metadata": {},
   "source": [
    "# Pasar una lista"
   ]
  },
  {
   "attachments": {},
   "cell_type": "markdown",
   "metadata": {},
   "source": [
    "A menudo le resultará útil pasar una lista a una función, ya sea una lista de nombres, números u objetos más complejos, como diccionarios. Cuando se pasa una lista a una función, la función obtiene acceso directo al contenido de la lista. Usemos funciones para hacer que trabajar con listas sea más eficiente. Digamos que tenemos una lista de usuarios y queremos imprimir un saludo a cada uno. \n",
    "\n",
    "En el ejemplo siguiente se envía una lista de nombres a una función denominada greet_users(), que saluda a cada persona de la lista individualmente:"
   ]
  },
  {
   "cell_type": "code",
   "execution_count": 8,
   "metadata": {},
   "outputs": [
    {
     "name": "stdout",
     "output_type": "stream",
     "text": [
      "Hello, Hannah!\n",
      "Hello, Ty!\n",
      "Hello, Margot!\n"
     ]
    }
   ],
   "source": [
    "# greet_users.py\n",
    "\n",
    "def greet_users(names):\n",
    "    \"\"\"Print a simple greeting to each user in the list.\"\"\"\n",
    "    for name in names:\n",
    "        msg = \"Hello, \" + name.title() + \"!\"\n",
    "        print(msg)\n",
    "\n",
    "usernames = ['hannah', 'ty', 'margot']\n",
    "greet_users(usernames)"
   ]
  },
  {
   "attachments": {},
   "cell_type": "markdown",
   "metadata": {},
   "source": [
    "**Este es el resultado que queríamos. Cada usuario ve un saludo personalizado y puede llamar a la función en cualquier momento que desee saludar a un conjunto específico de usuarios.**"
   ]
  },
  {
   "attachments": {},
   "cell_type": "markdown",
   "metadata": {},
   "source": [
    "## Modificar una lista en una función"
   ]
  },
  {
   "attachments": {},
   "cell_type": "markdown",
   "metadata": {},
   "source": [
    "Cuando se pasa una lista a una función, la función puede modificar la lista. Cualquier cambio realizado en la lista dentro del cuerpo de la función es permanente, lo que le permite trabajar de manera eficiente incluso cuando se trata de grandes cantidades de datos. Considere una empresa que crea modelos impresos en 3D de los diseños que los usuarios envían. \n",
    "\n",
    "Los diseños que deben imprimirse se almacenan en una lista y, después de imprimirlos, se mueven a una lista separada. El código siguiente hace esto sin utilizar funciones:"
   ]
  },
  {
   "cell_type": "code",
   "execution_count": 9,
   "metadata": {},
   "outputs": [
    {
     "name": "stdout",
     "output_type": "stream",
     "text": [
      "Printing model: dodecahedron\n",
      "Printing model: robot pendant\n",
      "Printing model: iphone case\n",
      "\n",
      "The following models have been printed:\n",
      "dodecahedron\n",
      "robot pendant\n",
      "iphone case\n"
     ]
    }
   ],
   "source": [
    "#printing_models.py\n",
    "\n",
    "# Start with some designs that need to be printed.\n",
    "unprinted_designs = ['iphone case', 'robot pendant', 'dodecahedron']\n",
    "completed_models = []\n",
    "\n",
    "# Simulate printing each design, until none are left.\n",
    "# Move each design to completed_models after printing.\n",
    "while unprinted_designs:\n",
    "    current_design = unprinted_designs.pop()\n",
    "    # Simulate creating a 3D print from the design.\n",
    "    print(\"Printing model: \" + current_design)\n",
    "    completed_models.append(current_design)\n",
    "\n",
    "# Display all completed models.\n",
    "print(\"\\nThe following models have been printed:\")\n",
    "for completed_model in completed_models:\n",
    "    print(completed_model)"
   ]
  },
  {
   "attachments": {},
   "cell_type": "markdown",
   "metadata": {},
   "source": [
    "Podemos reorganizar este código escribiendo dos funciones, cada una de las cuales hace un trabajo específico. La mayor parte del código no cambiará; Simplemente lo estamos haciendo más eficiente. La primera función se encargará de imprimir los diseños, y la segunda resumirá las impresiones que se han realizado:"
   ]
  },
  {
   "cell_type": "code",
   "execution_count": 10,
   "metadata": {},
   "outputs": [
    {
     "name": "stdout",
     "output_type": "stream",
     "text": [
      "Printing model: dodecahedron\n",
      "Printing model: robot pendant\n",
      "Printing model: iphone case\n",
      "\n",
      "The following models have been printed:\n",
      "dodecahedron\n",
      "robot pendant\n",
      "iphone case\n"
     ]
    }
   ],
   "source": [
    "def print_models(unprinted_designs, completed_models):\n",
    "    \"\"\"\n",
    "    Simulate printing each design, until none are left.\n",
    "    Move each design to completed_models after printing.\n",
    "    \"\"\"\n",
    "    while unprinted_designs:\n",
    "        current_design = unprinted_designs.pop()\n",
    "        \n",
    "        # Simulate creating a 3D print from the design.\n",
    "        print(\"Printing model: \" + current_design)\n",
    "        completed_models.append(current_design)\n",
    "\n",
    "def show_completed_models(completed_models):\n",
    "    \"\"\"Show all the models that were printed.\"\"\"\n",
    "    print(\"\\nThe following models have been printed:\")\n",
    "    for completed_model in completed_models:\n",
    "        print(completed_model)\n",
    "\n",
    "unprinted_designs = ['iphone case', 'robot pendant', 'dodecahedron']\n",
    "completed_models = []\n",
    "\n",
    "print_models(unprinted_designs, completed_models)\n",
    "show_completed_models(completed_models)"
   ]
  },
  {
   "attachments": {},
   "cell_type": "markdown",
   "metadata": {},
   "source": [
    "## Impedir que una función modifique una lista"
   ]
  },
  {
   "attachments": {},
   "cell_type": "markdown",
   "metadata": {},
   "source": [
    "A veces querrá evitar que una función modifique una lista. Por ejemplo, supongamos que comienza con una lista de diseños no impresos y escribe una función para moverlos a una lista de modelos completados, como en el ejemplo anterior. \n",
    "\n",
    "Puede decidir que, aunque haya impreso todos los diseños, desea conservar la lista original de diseños no impresos para sus registros. Pero debido a que movió todos los nombres de diseño fuera de unprinted_designs, la lista ahora está vacía y la lista vacía es la única versión que tiene; El original se ha ido. \n",
    "\n",
    "En este caso, puede solucionar este problema pasando a la función una copia de la lista, no el original. Cualquier cambio que la función realice en la lista afectará solo a la copia, dejando intacta la lista original.\n",
    "Puede enviar una copia de una lista a una función como esta:"
   ]
  },
  {
   "cell_type": "code",
   "execution_count": 11,
   "metadata": {},
   "outputs": [],
   "source": [
    "# function_name(list_name[:])"
   ]
  },
  {
   "attachments": {},
   "cell_type": "markdown",
   "metadata": {},
   "source": [
    "La notación de división [:] hace una copia de la lista para enviar a la función.\n",
    "\n",
    "Si no quisiéramos vaciar la lista de diseños no impresos en print_models.py, podríamos llamar a print_models() así:"
   ]
  },
  {
   "cell_type": "code",
   "execution_count": 12,
   "metadata": {},
   "outputs": [],
   "source": [
    "print_models(unprinted_designs[:], completed_models)"
   ]
  },
  {
   "attachments": {},
   "cell_type": "markdown",
   "metadata": {},
   "source": [
    "La función print_models() puede hacer su trabajo porque todavía recibe los nombres de todos los diseños no impresos. Pero esta vez utiliza una copia de la lista de diseños originales no impresos, no la lista de unprinted_designs real. La lista completed_models se llenará con los nombres de los modelos impresos como lo hizo antes, pero la lista original de diseños no impresos no se verá afectada por la función.\n",
    "\n",
    "Aunque puede conservar el contenido de una lista pasando una copia de la misma a sus funciones, debe pasar la lista original a las funciones a menos que tenga una razón específica para pasar una copia. Es más eficiente que una función trabaje con una lista existente para evitar el uso del tiempo y la memoria necesarios para hacer una copia separada, especialmente cuando se trabaja con listas grandes."
   ]
  },
  {
   "attachments": {},
   "cell_type": "markdown",
   "metadata": {},
   "source": [
    "# Pasar un número arbitrario de argumentos"
   ]
  },
  {
   "attachments": {},
   "cell_type": "markdown",
   "metadata": {},
   "source": [
    "A veces no sabrás de antemano cuántos argumentos necesita aceptar una función. Afortunadamente, Python permite que una función recopile un número arbitrario de argumentos de la instrucción de llamada.\n",
    "\n",
    "Por ejemplo, considere una función que construye una pizza. Necesita aceptar una serie de ingredientes, pero no puede saber de antemano cuántos ingredientes querrá una persona. \n",
    "\n",
    "La función del ejemplo siguiente tiene un parámetro,*toppings, pero este parámetro recopila tantos argumentos como proporcione la línea de llamada:"
   ]
  },
  {
   "cell_type": "code",
   "execution_count": 13,
   "metadata": {},
   "outputs": [
    {
     "name": "stdout",
     "output_type": "stream",
     "text": [
      "('pepperoni',)\n",
      "('mushrooms', 'green peppers', 'extra cheese')\n"
     ]
    }
   ],
   "source": [
    "#pizza.py\n",
    "\n",
    "def make_pizza(*toppings):\n",
    "    \"\"\"Print the list of toppings that have been requested.\"\"\"\n",
    "    print(toppings)\n",
    "\n",
    "make_pizza('pepperoni')\n",
    "make_pizza('mushrooms', 'green peppers', 'extra cheese')"
   ]
  },
  {
   "attachments": {},
   "cell_type": "markdown",
   "metadata": {},
   "source": [
    "**El asterisco en el nombre del parámetro toppings le dice a Python que haga una tupla vacía llamada toppings y empaque los valores que reciba en esta tupla. La instrucción print en el cuerpo de la función produce una salida que muestra que Python puede manejar una llamada de función con un valor y una llamada con tres valores.**\n",
    "\n",
    "**Trata las diferentes llamadas de manera similar, tenga en cuenta que Python empaqueta los argumentos en una tupla, incluso si la función recibe solo un valor**"
   ]
  },
  {
   "attachments": {},
   "cell_type": "markdown",
   "metadata": {},
   "source": [
    "Ahora podemos reemplazar la declaración de impresión con un bucle que recorre la lista de ingredientes y describe la pizza que se ordena:"
   ]
  },
  {
   "cell_type": "code",
   "execution_count": 15,
   "metadata": {},
   "outputs": [
    {
     "name": "stdout",
     "output_type": "stream",
     "text": [
      "\n",
      "Making a pizza with the following toppings:\n",
      "- pepperoni\n",
      "\n",
      "Making a pizza with the following toppings:\n",
      "- salami\n",
      "\n",
      "Making a pizza with the following toppings:\n",
      "- mushrooms\n",
      "- green peppers\n",
      "- extra cheese\n"
     ]
    }
   ],
   "source": [
    "def make_pizza(*toppings):\n",
    "    \"\"\"Summarize the pizza we are about to make.\"\"\"\n",
    "    print(\"\\nMaking a pizza with the following toppings:\")\n",
    "    for topping in toppings:\n",
    "        print(\"- \" + topping)\n",
    "\n",
    "make_pizza('pepperoni')\n",
    "make_pizza(\"salami\")\n",
    "make_pizza('mushrooms', 'green peppers', 'extra cheese')"
   ]
  },
  {
   "attachments": {},
   "cell_type": "markdown",
   "metadata": {},
   "source": [
    "## Mezclar argumentos posicionales y arbitrarios"
   ]
  },
  {
   "attachments": {},
   "cell_type": "markdown",
   "metadata": {},
   "source": [
    "Si desea que una función acepte varios tipos diferentes de argumentos, el parámetro que acepta un número arbitrario de argumentos debe colocarse en último lugar en la definición de la función. Python hace coincidir primero los argumentos posicionales y de palabras clave y luego recopila los argumentos restantes en el parámetro final.\n",
    "\n",
    "Por ejemplo, si la función necesita tomar un tamaño para la pizza, que\n",
    "El parámetro debe aparecer antes del parámetro *toppings:"
   ]
  },
  {
   "cell_type": "code",
   "execution_count": 16,
   "metadata": {},
   "outputs": [
    {
     "name": "stdout",
     "output_type": "stream",
     "text": [
      "\n",
      "Making a 16-inch pizza with the following toppings:\n",
      "- pepperoni\n",
      "\n",
      "Making a 12-inch pizza with the following toppings:\n",
      "- mushrooms\n",
      "- green peppers\n",
      "- extra cheese\n"
     ]
    }
   ],
   "source": [
    "def make_pizza(size, *toppings):\n",
    "    \"\"\"Summarize the pizza we are about to make.\"\"\"\n",
    "    print(\"\\nMaking a \" + str(size) + \"-inch pizza with the following toppings:\")\n",
    "    for topping in toppings:\n",
    "        print(\"- \" + topping)\n",
    "x\n",
    "make_pizza(16, 'pepperoni')\n",
    "make_pizza(12, 'mushrooms', 'green peppers', 'extra cheese')"
   ]
  },
  {
   "attachments": {},
   "cell_type": "markdown",
   "metadata": {},
   "source": [
    "## Uso de argumentos de palabras clave arbitrarias"
   ]
  },
  {
   "attachments": {},
   "cell_type": "markdown",
   "metadata": {},
   "source": [
    "A veces querrá aceptar un número arbitrario de argumentos, pero no sabrá de antemano qué tipo de información se pasará a la función. En este caso, puede escribir funciones que acepten tantos pares de valores clave como proporcione la instrucción de llamada. Un ejemplo implica la creación de perfiles de usuario: sabes que obtendrás información sobre un usuario, pero no estás seguro de qué tipo de información recibirás. \n",
    "\n",
    "La función build_profile() en el siguiente ejemplo siempre toma un nombre y apellido, pero también acepta un número arbitrario de argumentos de palabras clave:"
   ]
  },
  {
   "cell_type": "code",
   "execution_count": 17,
   "metadata": {},
   "outputs": [
    {
     "name": "stdout",
     "output_type": "stream",
     "text": [
      "{'first_name': 'albert', 'last_name': 'einstein', 'location': 'princeton', 'field': 'physics'}\n"
     ]
    }
   ],
   "source": [
    "#user_profile.py \n",
    "\n",
    "def build_profile(first, last, **user_info):\n",
    "    \"\"\"Build a dictionary containing everything we know about a user.\"\"\"\n",
    "    profile = {}\n",
    "    profile['first_name'] = first\n",
    "    profile['last_name'] = last\n",
    "    for key, value in user_info.items():\n",
    "        profile[key] = value\n",
    "    return profile\n",
    "\n",
    "user_profile = build_profile('albert', 'einstein',location='princeton',field='physics')\n",
    "print(user_profile)"
   ]
  },
  {
   "attachments": {},
   "cell_type": "markdown",
   "metadata": {},
   "source": [
    "El diccionario devuelto contiene el nombre y apellido del usuario y, en este caso, también la ubicación y el campo de estudio. La función funcionaría independientemente de cuántos pares clave-valor adicionales se proporcionen en la llamada a la función.\n",
    "\n",
    "Puede mezclar valores posicionales, de palabras clave y arbitrarios de muchas maneras diferentes al escribir sus propias funciones. Es útil saber que todos estos tipos de argumentos existen porque los verás a menudo cuando comiences a leer el código de otras personas. Se necesita práctica para aprender a usar los diferentes tipos correctamente y saber cuándo usar cada tipo. Por ahora, recuerde usar el enfoque más simple que haga el trabajo. A medida que avances, aprenderás a usar el enfoque más eficiente cada vez."
   ]
  },
  {
   "attachments": {},
   "cell_type": "markdown",
   "metadata": {},
   "source": [
    "# Almacenamiento de sus funciones en módulos"
   ]
  },
  {
   "attachments": {},
   "cell_type": "markdown",
   "metadata": {},
   "source": [
    "Una ventaja de las funciones es la forma en que separan los bloques de código de su programa principal. Mediante el uso de nombres descriptivos para sus funciones, su programa principal será mucho más fácil de seguir. Puede ir un paso más allá almacenando sus funciones en un archivo separado llamado módulo y luego importando ese módulo a su programa principal. Una instrucción import indica a Python que haga que el código de un módulo esté disponible en el archivo de programa que se está ejecutando actualmente.\n",
    "\n",
    "Almacenar sus funciones en un archivo separado le permite ocultar los detalles del código de su programa y centrarse en su lógica de nivel superior. También le permite reutilizar funciones en muchos programas diferentes. \n",
    "\n",
    "Cuando almacena sus funciones en archivos separados, puede compartir esos archivos con otros programadores sin tener que compartir todo su programa. \n",
    "\n",
    "Saber cómo importar funciones también le permite usar bibliotecas de funciones que otros programadores han escrito.\n",
    "\n",
    "Hay varias formas de importar un módulo, y te mostraré cada una de\n",
    "estos brevemente."
   ]
  },
  {
   "attachments": {},
   "cell_type": "markdown",
   "metadata": {},
   "source": [
    "## Importar un módulo completo"
   ]
  },
  {
   "attachments": {},
   "cell_type": "markdown",
   "metadata": {},
   "source": [
    "Para comenzar a importar funciones, primero necesitamos crear un módulo. Un módulo\n",
    "es un archivo que termina en .py que contiene el código que desea importar al programa. \n",
    "\n",
    "Hagamos un módulo que contenga la función make_pizza(). Para hacer este módulo, eliminaremos todo del archivo pizza.py excepto la función make_pizza():"
   ]
  },
  {
   "cell_type": "code",
   "execution_count": 18,
   "metadata": {},
   "outputs": [],
   "source": [
    "#pizza.py\n",
    "\n",
    "def make_pizza(size, *toppings):\n",
    "    \"\"\"Summarize the pizza we are about to make.\"\"\"\n",
    "    print(\"\\nMaking a \" + str(size) + \"-inch pizza with the following toppings:\")\n",
    "    for topping in toppings:\n",
    "        print(\"- \" + topping)\n"
   ]
  },
  {
   "attachments": {},
   "cell_type": "markdown",
   "metadata": {},
   "source": [
    "**Para que este codigo funcione debemos guardarlo fuera de este notebook, igual se da una referencia al archivo creado**\n",
    "\n",
    "[pizza.py](./pizza.py)"
   ]
  },
  {
   "attachments": {},
   "cell_type": "markdown",
   "metadata": {},
   "source": [
    "Ahora haremos un archivo separado llamado making_pizzas.py en el mismo\n",
    "como pizza.py. Este archivo importa el módulo que acabamos de crear y luego realiza dos llamadas a make_pizza():"
   ]
  },
  {
   "cell_type": "code",
   "execution_count": 19,
   "metadata": {},
   "outputs": [
    {
     "name": "stdout",
     "output_type": "stream",
     "text": [
      "Funcion creada con exito\n",
      "\n",
      "Making a 16-inch pizza with the following toppings:\n",
      "- pepperoni\n",
      "\n",
      "Making a 12-inch pizza with the following toppings:\n",
      "- mushrooms\n",
      "- green peppers\n",
      "- extra cheese\n"
     ]
    }
   ],
   "source": [
    "import pizza\n",
    "\n",
    "pizza.make_pizza(16, 'pepperoni')\n",
    "pizza.make_pizza(12, 'mushrooms', 'green peppers', 'extra cheese')"
   ]
  },
  {
   "attachments": {},
   "cell_type": "markdown",
   "metadata": {},
   "source": [
    "Cuando Python lee este archivo, la pizza de importación de línea le dice a Python que abra el archivo pizza.py y copie todas las funciones de él en este programa.\n",
    "\n",
    "En realidad, no ve que el código se copie entre archivos porque Python copia el código detrás de escena a medida que se ejecuta el programa. Todo lo que necesita saber es que cualquier función definida en pizza.py ahora estará disponible en making_pizzas.py"
   ]
  },
  {
   "attachments": {},
   "cell_type": "markdown",
   "metadata": {},
   "source": [
    "Este primer enfoque de importación, en el que simplemente escribe importar seguido del nombre del módulo, hace que todas las funciones del módulo estén disponibles en su programa. Si utiliza este tipo de instrucción import para importar un módulo completo denominado module_name.py, cada función del módulo está disponible mediante la sintaxis siguiente:"
   ]
  },
  {
   "cell_type": "code",
   "execution_count": 20,
   "metadata": {},
   "outputs": [],
   "source": [
    "# module_name.function_name()"
   ]
  },
  {
   "attachments": {},
   "cell_type": "markdown",
   "metadata": {},
   "source": [
    "## Importación de funciones específicas"
   ]
  },
  {
   "attachments": {},
   "cell_type": "markdown",
   "metadata": {},
   "source": [
    "También puede importar una función específica desde un módulo. Esta es la sintaxis general de este enfoque:"
   ]
  },
  {
   "cell_type": "code",
   "execution_count": 21,
   "metadata": {},
   "outputs": [],
   "source": [
    "# from module_name import function_name"
   ]
  },
  {
   "attachments": {},
   "cell_type": "markdown",
   "metadata": {},
   "source": [
    "Puede importar tantas funciones como desee desde un módulo separando el nombre de cada función con una coma:"
   ]
  },
  {
   "cell_type": "code",
   "execution_count": 22,
   "metadata": {},
   "outputs": [],
   "source": [
    "# from module_name import function_0, function_1, function_2"
   ]
  },
  {
   "attachments": {},
   "cell_type": "markdown",
   "metadata": {},
   "source": [
    "El making_pizzas.py ejemplo se vería así si queremos importar solo la función que vamos a usar:"
   ]
  },
  {
   "cell_type": "code",
   "execution_count": 23,
   "metadata": {},
   "outputs": [
    {
     "name": "stdout",
     "output_type": "stream",
     "text": [
      "\n",
      "Making a 16-inch pizza with the following toppings:\n",
      "- pepperoni\n",
      "\n",
      "Making a 12-inch pizza with the following toppings:\n",
      "- mushrooms\n",
      "- green peppers\n",
      "- extra cheese\n"
     ]
    }
   ],
   "source": [
    "from pizza import make_pizza\n",
    "\n",
    "make_pizza(16, 'pepperoni')\n",
    "make_pizza(12, 'mushrooms', 'green peppers', 'extra cheese')"
   ]
  },
  {
   "attachments": {},
   "cell_type": "markdown",
   "metadata": {},
   "source": [
    "**Con esta sintaxis, no es necesario usar la notación de puntos cuando se llama a una función. Debido a que hemos importado explícitamente la función make_pizza() en la instrucción import, podemos llamarla por su nombre cuando usamos la función.**"
   ]
  },
  {
   "attachments": {},
   "cell_type": "markdown",
   "metadata": {},
   "source": [
    "## Usando As para dar a una función un alias"
   ]
  },
  {
   "attachments": {},
   "cell_type": "markdown",
   "metadata": {},
   "source": [
    "Si el nombre de una función que está importando puede entrar en conflicto con un nombre existente en el programa o si el nombre de la función es largo, puede usar un alias corto y único, un nombre alternativo similar a un apodo para la función.\n",
    "\n",
    "Le dará a la función este apodo especial cuando importe la función.\n",
    "\n",
    "Aquí le damos a la función make_pizza() un alias, mp(), importando make_pizza como mp. La palabra clave as cambia el nombre de una función utilizando el alias a proporcionar:"
   ]
  },
  {
   "cell_type": "code",
   "execution_count": 24,
   "metadata": {},
   "outputs": [
    {
     "name": "stdout",
     "output_type": "stream",
     "text": [
      "\n",
      "Making a 16-inch pizza with the following toppings:\n",
      "- pepperoni\n",
      "\n",
      "Making a 12-inch pizza with the following toppings:\n",
      "- mushrooms\n",
      "- green peppers\n",
      "- extra cheese\n"
     ]
    }
   ],
   "source": [
    "from pizza import make_pizza as mp\n",
    "\n",
    "mp(16, 'pepperoni')\n",
    "mp(12, 'mushrooms', 'green peppers', 'extra cheese')"
   ]
  },
  {
   "attachments": {},
   "cell_type": "markdown",
   "metadata": {},
   "source": [
    "La instrucción import que se muestra aquí cambia el nombre de la función make_pizza() a mp() en este programa. Cada vez que queramos llamar a make_pizza() podemos simplemente escribir mp() en su lugar, y Python ejecutará el código en make_pizza() evitando cualquier confusión con otra función make_pizza() que pueda haber escrito en este archivo de programa.\n",
    "\n",
    "La sintaxis general para proporcionar un alias es:"
   ]
  },
  {
   "cell_type": "code",
   "execution_count": 25,
   "metadata": {},
   "outputs": [],
   "source": [
    "# from module_name import function_name as fn"
   ]
  },
  {
   "attachments": {},
   "cell_type": "markdown",
   "metadata": {},
   "source": [
    "## Uso de As para dar un alias a un módulo"
   ]
  },
  {
   "attachments": {},
   "cell_type": "markdown",
   "metadata": {},
   "source": [
    "También puede proporcionar un alias para el nombre de un módulo. Dar a un módulo un alias corto, como p para pizza, le permite llamar a las funciones del módulo más rápidamente.\n",
    "\n",
    "Llamar a p.make_pizza() es más conciso que llamar a pizza.make_pizza():"
   ]
  },
  {
   "cell_type": "code",
   "execution_count": 26,
   "metadata": {},
   "outputs": [
    {
     "name": "stdout",
     "output_type": "stream",
     "text": [
      "\n",
      "Making a 16-inch pizza with the following toppings:\n",
      "- pepperoni\n",
      "\n",
      "Making a 12-inch pizza with the following toppings:\n",
      "- mushrooms\n",
      "- green peppers\n",
      "- extra cheese\n"
     ]
    }
   ],
   "source": [
    "import pizza as p\n",
    "\n",
    "p.make_pizza(16, 'pepperoni')\n",
    "p.make_pizza(12, 'mushrooms', 'green peppers', 'extra cheese')"
   ]
  },
  {
   "attachments": {},
   "cell_type": "markdown",
   "metadata": {},
   "source": [
    "El módulo pizza recibe el alias p en la instrucción de importación, pero todas las funciones del módulo conservan sus nombres originales. Llamar a las funciones escribiendo p.make_pizza() no solo es más conciso que escribir pizza.make_pizza(), sino que también redirige su atención desde el nombre del módulo y le permite centrarse en los nombres descriptivos de sus funciones. \n",
    "\n",
    "Estos nombres de función, que le dicen claramente lo que hace cada función, son más importantes para la legibilidad del código que usar el nombre completo del módulo.\n",
    "\n",
    "La sintaxis general de este enfoque es:"
   ]
  },
  {
   "cell_type": "code",
   "execution_count": 27,
   "metadata": {},
   "outputs": [],
   "source": [
    "# import module_name as mn"
   ]
  },
  {
   "attachments": {},
   "cell_type": "markdown",
   "metadata": {},
   "source": [
    "## Importar todas las funciones en un módulo"
   ]
  },
  {
   "attachments": {},
   "cell_type": "markdown",
   "metadata": {},
   "source": [
    "Puede indicar a Python que importe todas las funciones de un módulo utilizando el operador asterisco (*):"
   ]
  },
  {
   "cell_type": "code",
   "execution_count": 28,
   "metadata": {},
   "outputs": [
    {
     "name": "stdout",
     "output_type": "stream",
     "text": [
      "\n",
      "Making a 16-inch pizza with the following toppings:\n",
      "- pepperoni\n",
      "\n",
      "Making a 12-inch pizza with the following toppings:\n",
      "- mushrooms\n",
      "- green peppers\n",
      "- extra cheese\n"
     ]
    }
   ],
   "source": [
    "from pizza import *\n",
    "\n",
    "make_pizza(16, 'pepperoni')\n",
    "make_pizza(12, 'mushrooms', 'green peppers', 'extra cheese')"
   ]
  },
  {
   "attachments": {},
   "cell_type": "markdown",
   "metadata": {},
   "source": [
    "El asterisco en la instrucción de importación le dice a Python que copie cada función del módulo pizza en este archivo de programa. Dado que se importan todas las funciones, puede llamar a cada función por su nombre sin utilizar la notación de puntos. Sin embargo, es mejor no usar este enfoque cuando trabaje con módulos más grandes que no escribió: si el módulo tiene un nombre de función que coincide con un nombre existente en su proyecto, puede obtener algunos resultados inesperados.\n",
    "\n",
    "Python puede ver varias funciones o variables con el mismo nombre, y en lugar de importar todas las funciones por separado, sobrescribirá las funciones."
   ]
  },
  {
   "attachments": {},
   "cell_type": "markdown",
   "metadata": {},
   "source": [
    "# Funciones de estilo"
   ]
  },
  {
   "attachments": {},
   "cell_type": "markdown",
   "metadata": {},
   "source": [
    "Debe tener en cuenta algunos detalles cuando diseñe funciones.\n",
    "\n",
    "Las funciones deben tener nombres descriptivos, y estos nombres deben usar letras minúsculas y guiones bajos. Los nombres descriptivos le ayudan a usted y a otros a comprender lo que su código está tratando de hacer. Los nombres de los módulos también deben usar estas convenciones.\n",
    "\n",
    "Cada función debe tener un comentario que explique de manera concisa lo que hace la función. Este comentario debe aparecer inmediatamente después de la definición de la función y utilizar el formato docstring. En una función bien documentada, otros programadores pueden usar la función leyendo solo la descripción en el docstring. Deben poder confiar en que el código funciona como se describe, y siempre que conozcan el nombre de la función, los argumentos que necesita y el tipo de valor que devuelve, deberían poder usarlo en sus programas.\n",
    "\n",
    "Si especifica un valor predeterminado para un parámetro, no se deben utilizar espacios a ambos lados del signo igual:"
   ]
  },
  {
   "cell_type": "code",
   "execution_count": 29,
   "metadata": {},
   "outputs": [],
   "source": [
    "# def function_name(parameter_0, parameter_1='default value')"
   ]
  },
  {
   "attachments": {},
   "cell_type": "markdown",
   "metadata": {},
   "source": [
    "La misma convención debe usarse para los argumentos de palabras clave en las llamadas a funciones:"
   ]
  },
  {
   "cell_type": "code",
   "execution_count": 30,
   "metadata": {},
   "outputs": [],
   "source": [
    "# function_name(value_0, parameter_1='value')"
   ]
  },
  {
   "attachments": {},
   "cell_type": "markdown",
   "metadata": {},
   "source": [
    "PEP 8 (https://www.python.org/dev/peps/pep-0008/ ) recomienda limitar las líneas de código a 79 caracteres para que cada línea sea visible en una ventana de editor de tamaño razonable. Si un conjunto de parámetros hace que la definición de una función tenga más de 79 caracteres, presione ENTRAR después del paréntesis de apertura en la línea de definición. En la siguiente línea, presione la tecla TAB dos veces para separar la lista de argumentos del cuerpo de la función, que solo tendrá sangría un nivel.\n",
    "\n",
    "La mayoría de los editores alinean automáticamente cualquier línea adicional de parámetros para que coincida con la sangría que ha establecido en la primera línea:"
   ]
  },
  {
   "cell_type": "code",
   "execution_count": 31,
   "metadata": {},
   "outputs": [
    {
     "data": {
      "text/plain": [
       "'def function_name(\\n    parameter_0, parameter_1, parameter_2,\\n    parameter_3, parameter_4, parameter_5):\\n    function body...\\n'"
      ]
     },
     "execution_count": 31,
     "metadata": {},
     "output_type": "execute_result"
    }
   ],
   "source": [
    "\"\"\"def function_name(\n",
    "    parameter_0, parameter_1, parameter_2,\n",
    "    parameter_3, parameter_4, parameter_5):\n",
    "    function body...\n",
    "\"\"\""
   ]
  },
  {
   "attachments": {},
   "cell_type": "markdown",
   "metadata": {},
   "source": [
    "Si su programa o módulo tiene más de una función, puede separar cada una por dos líneas en blanco para que sea más fácil ver dónde termina una función y comienza la siguiente.\n",
    "\n",
    "Todas las instrucciones de importación deben escribirse al principio de un archivo.\n",
    "\n",
    "La única excepción es si utiliza comentarios al principio de su archivo para describir el programa general."
   ]
  },
  {
   "attachments": {},
   "cell_type": "markdown",
   "metadata": {},
   "source": [
    "# Ejercicios"
   ]
  },
  {
   "attachments": {},
   "cell_type": "markdown",
   "metadata": {},
   "source": [
    "### 8-1. Mensaje: \n",
    "\n",
    "Escribir una función llamada display_message() que imprima una oración\n",
    "\n",
    "Decirle a todos lo que está aprendiendo. Llame a la funcion y asegúrate de que el mensaje se muestra correctamente."
   ]
  },
  {
   "attachments": {},
   "cell_type": "markdown",
   "metadata": {},
   "source": [
    "### 8-2. Libro favorito: \n",
    "\n",
    "Escriba una función llamada favorite_book() que acepte un parámetro, título. La función debe imprimir un mensaje, como Uno de mis libros favoritos es Alicia en el País de las Maravillas. Llame a la función asegurándose de que incluya un título de libro como argumento en la llamada a la función."
   ]
  },
  {
   "attachments": {},
   "cell_type": "markdown",
   "metadata": {},
   "source": [
    "### 8-3. Camiseta: \n",
    "\n",
    "Escribe una función llamada make_shirt() que acepte un tamaño y el texto de un mensaje que debe imprimirse en la camiseta. La función debe imprimir una oración que resuma el tamaño de la camisa y el mensaje impreso en ella.\n",
    "\n",
    "Llame a la función una vez usando argumentos posicionales para hacer una camisa. Llame a la función por segunda vez usando argumentos de palabras clave."
   ]
  },
  {
   "attachments": {},
   "cell_type": "markdown",
   "metadata": {},
   "source": [
    "### 8-4. Camisas grandes: \n",
    "\n",
    "Modifique la función make_shirt() para que las camisas sean grandes por defecto con un mensaje que diga I love Python. \n",
    "\n",
    "Haga una camisa grande y una camisa mediana con el mensaje predeterminado, y una camisa de cualquier tamaño con un mensaje diferente."
   ]
  },
  {
   "attachments": {},
   "cell_type": "markdown",
   "metadata": {},
   "source": [
    "### 8-5. Ciudades: \n",
    "\n",
    "Escribe una función llamada describe_city() que acepte el nombre de una ciudad y su país. La función debe imprimir una oración simple, como Reykjavik está en Islandia. Asigne al parámetro del país un valor predeterminado.\n",
    "\n",
    "Llame a su función para tres ciudades diferentes, al menos una de las cuales no está en el país predeterminado."
   ]
  },
  {
   "attachments": {},
   "cell_type": "markdown",
   "metadata": {},
   "source": [
    "### 8-6. Nombres de ciudades:\n",
    " \n",
    "Escribe una función llamada city_country() que tome el nombre de una ciudad y su país. La función debe devolver una cadena con este formato: \"Santiago, Chile\"\n",
    "\n",
    "Llame a su función con al menos tres pares ciudad-país e imprima el valor que se devuelve."
   ]
  },
  {
   "attachments": {},
   "cell_type": "markdown",
   "metadata": {},
   "source": [
    "### 8-7. Álbum: \n",
    "\n",
    "Escribe una función llamada make_album() que cree un diccionario que describa un álbum de música. La función debe incluir un nombre de artista y un título de álbum, y debe devolver un diccionario que contenga estas dos piezas de información. Utilice la función para crear tres diccionarios que representen diferentes álbumes. \n",
    "\n",
    "Imprima cada valor devuelto para mostrar que los diccionarios almacenan correctamente la información del álbum.\n",
    "\n",
    "Agregue un parámetro opcional a make_album() que le permita almacenar el número de pistas en un álbum. Si la línea de llamada incluye un valor para el número de pistas, agregue ese valor al diccionario del álbum. Realice al menos una nueva llamada de función que incluya el número de pistas de un álbum."
   ]
  },
  {
   "attachments": {},
   "cell_type": "markdown",
   "metadata": {},
   "source": [
    "### 8-8. Álbumes de usuario: \n",
    "\n",
    "Comience con su programa del Ejercicio 8-7. Escribe un bucle while que permita a los usuarios introducir el artista y el título de un álbum. \n",
    "\n",
    "Una vez que tenga esa información, llame a make_album() con la entrada del usuario e imprima el diccionario que se creó. Asegúrese de incluir un valor quit en el bucle while."
   ]
  },
  {
   "attachments": {},
   "cell_type": "markdown",
   "metadata": {},
   "source": [
    "### 8-9. Magos: \n",
    "\n",
    "Haz una lista de los nombres de los magos. Pasar la lista a una función\n",
    "llamado show_magicians(), que imprime el nombre de cada mago en la lista."
   ]
  },
  {
   "attachments": {},
   "cell_type": "markdown",
   "metadata": {},
   "source": [
    "### 8-10. Grandes Magos: \n",
    "\n",
    "Comience con una copia de su programa del Ejercicio 8-9.\n",
    "\n",
    "Escribe una función llamada make_great() que modifique la lista de magos añadiendo la frase el Grande al nombre de cada mago. Llame a show_magicians() para ver que la lista ha sido modificada."
   ]
  },
  {
   "attachments": {},
   "cell_type": "markdown",
   "metadata": {},
   "source": [
    "### 8-11. Magos sin cambios: \n",
    "\n",
    "Comience con su trabajo del ejercicio 8-10. Llame a la función make_great() con una copia de la lista de nombres de magos. \n",
    "\n",
    "Dado que la lista original no cambiará, devuelva la nueva lista y almacénela en una lista independiente.\n",
    "\n",
    "Llama a show_magicians() con cada lista para mostrar que tienes una lista de los nombres originales y una lista con el gran agregado al nombre de cada mago."
   ]
  },
  {
   "attachments": {},
   "cell_type": "markdown",
   "metadata": {},
   "source": [
    "### 8-12. Sándwiches: \n",
    "\n",
    "Escribe una función que acepte una lista de elementos que una persona quiere en un sándwich. \n",
    "\n",
    "La función debe tener un parámetro que recopile tantos elementos como proporcione la llamada a la función y debe imprimir un resumen del sándwich que se está pidiendo. \n",
    "\n",
    "Llame a la función tres veces, utilizando un número diferente de argumentos cada vez."
   ]
  },
  {
   "attachments": {},
   "cell_type": "markdown",
   "metadata": {},
   "source": [
    "### 8-13. Perfil de usuario: \n",
    "\n",
    "Comience con una copia de user_profile.py. Construye un perfil de ti mismo llamando a build_profile(), usando tu nombre y apellido y otros tres pares clave-valor que te describan."
   ]
  },
  {
   "attachments": {},
   "cell_type": "markdown",
   "metadata": {},
   "source": [
    "### 8-14. Coches: \n",
    "\n",
    "Escribir una función que almacene información sobre un coche en un diccionario.\n",
    "\n",
    "La función siempre debe recibir un fabricante y un nombre de modelo. A continuación, debe aceptar un número arbitrario de argumentos de palabras clave. Llame a la función con la información necesaria y otros dos pares nombre-valor, como un color o una característica opcional. Su función debería funcionar para una llamada como esta:\n",
    "\n",
    "car = make_car('subaru', 'outback', color='blue', tow_package=True)\n",
    "\n",
    "Imprima el diccionario que se devuelve para asegurarse de que toda la información se almacenó correctamente."
   ]
  },
  {
   "attachments": {},
   "cell_type": "markdown",
   "metadata": {},
   "source": [
    "### 8-15. Modelos de impresión: \n",
    "\n",
    "Coloque las funciones para el ejemplo print_models.py en un archivo separado llamado printing_functions.py. Escriba una instrucción import en la parte superior de print_models.py y modifique el archivo para utilizar las funciones importadas."
   ]
  },
  {
   "attachments": {},
   "cell_type": "markdown",
   "metadata": {},
   "source": [
    "### 8-16. Importaciones: \n",
    "\n",
    "Usando un programa que escribió que tiene una función, almacene esa función en un archivo separado. Importe la función en el archivo de programa principal y llame a la función mediante cada uno de estos enfoques:\n",
    "\n",
    "* Importar module_name\n",
    "* de module_name importación function_name\n",
    "* De module_name importación function_name como FN\n",
    "* Importar module_name como MN\n",
    "* de module_name importación *\n"
   ]
  },
  {
   "attachments": {},
   "cell_type": "markdown",
   "metadata": {},
   "source": [
    "### 8-17. Funciones de estilo: \n",
    "\n",
    "Elija cualquiera de los tres programas que escribió para este capítulo,\n",
    "y asegúrese de que siguen las pautas de estilo descritas en esta sección."
   ]
  }
 ],
 "metadata": {
  "kernelspec": {
   "display_name": "Python 3",
   "language": "python",
   "name": "python3"
  },
  "language_info": {
   "codemirror_mode": {
    "name": "ipython",
    "version": 3
   },
   "file_extension": ".py",
   "mimetype": "text/x-python",
   "name": "python",
   "nbconvert_exporter": "python",
   "pygments_lexer": "ipython3",
   "version": "3.9.9"
  },
  "orig_nbformat": 4
 },
 "nbformat": 4,
 "nbformat_minor": 2
}
