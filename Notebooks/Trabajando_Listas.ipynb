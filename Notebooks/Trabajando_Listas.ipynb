{
 "cells": [
  {
   "attachments": {},
   "cell_type": "markdown",
   "metadata": {},
   "source": [
    "# Recorriendo una lista completa"
   ]
  },
  {
   "attachments": {},
   "cell_type": "markdown",
   "metadata": {},
   "source": [
    "Digamos que tenemos una lista de nombres de magos y queremos imprimir\n",
    "cada nombre en la lista. Podríamos hacer esto recuperando cada nombre del\n",
    "lista individualmente, pero este enfoque podría causar varios problemas. Para uno,\n",
    "sería repetitivo hacer esto con una larga lista de nombres. \n",
    "\n",
    "Además, tendríamos que cambiar nuestro código cada vez que cambia la longitud de la lista. Un bucle for evita ambos de estos problemas al permitir que Python administre estos problemas internamente."
   ]
  },
  {
   "cell_type": "code",
   "execution_count": 1,
   "metadata": {},
   "outputs": [
    {
     "name": "stdout",
     "output_type": "stream",
     "text": [
      "alice\n",
      "david\n",
      "carolina\n"
     ]
    }
   ],
   "source": [
    "magicians = ['alice', 'david', 'carolina']\n",
    "for magician in magicians:\n",
    "    print(magician)"
   ]
  },
  {
   "attachments": {},
   "cell_type": "markdown",
   "metadata": {},
   "source": [
    "Python luego repite líneas, una vez por cada nombre de la lista. Podría ayudar a leer este código como:\n",
    "\n",
    "\"Para cada mago en la lista de magos, escribe el nombre del mago\".\n",
    "\n",
    "El resultado es una copia impresa simple de cada nombre en la lista"
   ]
  },
  {
   "attachments": {},
   "cell_type": "markdown",
   "metadata": {},
   "source": [
    "**Es importante tomar en cuenta que para un ciclo for siempre debemos identar correctamente para evitar errores**\n",
    "\n",
    "En el siguiente ejemplo se vera un codigo erroneo con una identacion incorrecta"
   ]
  },
  {
   "cell_type": "code",
   "execution_count": 2,
   "metadata": {},
   "outputs": [
    {
     "name": "stdout",
     "output_type": "stream",
     "text": [
      "manzana\n",
      "pera\n",
      "higo\n"
     ]
    }
   ],
   "source": [
    "frutas = [\"manzana\",\"pera\",\"higo\"]\n",
    "\n",
    "for fruta in frutas:\n",
    "    print(fruta)"
   ]
  },
  {
   "cell_type": "code",
   "execution_count": 3,
   "metadata": {},
   "outputs": [
    {
     "ename": "IndentationError",
     "evalue": "expected an indented block after 'for' statement on line 3 (685740035.py, line 4)",
     "output_type": "error",
     "traceback": [
      "\u001b[1;36m  Cell \u001b[1;32mIn [3], line 4\u001b[1;36m\u001b[0m\n\u001b[1;33m    print(fruta)\u001b[0m\n\u001b[1;37m    ^\u001b[0m\n\u001b[1;31mIndentationError\u001b[0m\u001b[1;31m:\u001b[0m expected an indented block after 'for' statement on line 3\n"
     ]
    }
   ],
   "source": [
    "frutas = [\"manzana\",\"pera\",\"higo\"]\n",
    "\n",
    "for fruta in frutas:\n",
    "print(fruta)"
   ]
  },
  {
   "attachments": {},
   "cell_type": "markdown",
   "metadata": {},
   "source": [
    "## Una acercamiento a los bucles"
   ]
  },
  {
   "attachments": {},
   "cell_type": "markdown",
   "metadata": {},
   "source": [
    "El concepto de bucle es importante porque es uno de los más comunes\n",
    "formas en que una computadora automatiza tareas repetitivas."
   ]
  },
  {
   "attachments": {},
   "cell_type": "markdown",
   "metadata": {},
   "source": [
    "Python vuelve a imprimir el valor actual de magician, que ahora es 'david'.\n",
    "\n",
    "Python repite todo el bucle una vez más con el último valor de la lista,\n",
    "'carolina'. \n",
    "\n",
    "Como no hay más valores en la lista, Python pasa a la siguiente línea en el programa. \n",
    "\n",
    "En este caso, nada viene después del bucle for, por lo que el programa simplemente termina."
   ]
  },
  {
   "attachments": {},
   "cell_type": "markdown",
   "metadata": {},
   "source": [
    "También tenga en cuenta al escribir sus propios bucles for que puede elegir\n",
    "cualquier nombre que desee para la variable temporal que contiene cada valor en el\n",
    "lista. \n",
    "\n",
    "Sin embargo, es útil elegir un nombre significativo que represente un único elemento de la lista."
   ]
  },
  {
   "cell_type": "code",
   "execution_count": 4,
   "metadata": {},
   "outputs": [],
   "source": [
    "# for cat in cats:\n",
    "# for dog in dogs:\n",
    "# for item in list_of_items:"
   ]
  },
  {
   "attachments": {},
   "cell_type": "markdown",
   "metadata": {},
   "source": [
    "Estas convenciones de nomenclatura pueden ayudarlo a seguir la acción que se está realizando\n",
    "en cada elemento dentro de un bucle for. \n",
    "\n",
    "Usar nombres singulares y plurales puede ayudar identifica si una sección de código está trabajando con un solo elemento de la lista o la lista completa."
   ]
  },
  {
   "attachments": {},
   "cell_type": "markdown",
   "metadata": {},
   "source": [
    "## Hacer más trabajo dentro de un bucle for"
   ]
  },
  {
   "attachments": {},
   "cell_type": "markdown",
   "metadata": {},
   "source": [
    "Puede hacer casi cualquier cosa con cada elemento en un bucle for. \n",
    "\n",
    "Construyamos sobre el ejemplo anterior imprimiendo un mensaje a cada mago, diciéndoles\n",
    "que realizaron un gran truco:"
   ]
  },
  {
   "cell_type": "code",
   "execution_count": 5,
   "metadata": {},
   "outputs": [
    {
     "name": "stdout",
     "output_type": "stream",
     "text": [
      "Alice, that was a great trick!\n",
      "David, that was a great trick!\n",
      "Carolina, that was a great trick!\n"
     ]
    }
   ],
   "source": [
    "magicians = ['alice', 'david', 'carolina']\n",
    "\n",
    "for magician in magicians:\n",
    "    print(magician.title() + \", that was a great trick!\")"
   ]
  },
  {
   "attachments": {},
   "cell_type": "markdown",
   "metadata": {},
   "source": [
    "La primera vez a través el ciclo el valor del mago es 'alicia', por lo que Python inicia el primer mensaje\n",
    "con el nombre de 'Alicia. \n",
    "\n",
    "La segunda vez a través del mensaje comenzará con 'David', y la tercera vez a través del mensaje comenzará con 'Carolina'."
   ]
  },
  {
   "cell_type": "code",
   "execution_count": 6,
   "metadata": {},
   "outputs": [
    {
     "name": "stdout",
     "output_type": "stream",
     "text": [
      "Alice, that was a great trick!\n",
      "I can't wait to see your next trick, Alice.\n",
      "\n",
      "David, that was a great trick!\n",
      "I can't wait to see your next trick, David.\n",
      "\n",
      "Carolina, that was a great trick!\n",
      "I can't wait to see your next trick, Carolina.\n",
      "\n"
     ]
    }
   ],
   "source": [
    "magicians = ['alice', 'david', 'carolina']\n",
    "for magician in magicians:\n",
    "    print(magician.title() + \", that was a great trick!\")\n",
    "    print(\"I can't wait to see your next trick, \" + magician.title() + \".\\n\")"
   ]
  },
  {
   "attachments": {},
   "cell_type": "markdown",
   "metadata": {},
   "source": [
    "**Puedes usar tantas líneas como quieras en tus bucles for. En la práctica,\n",
    "a menudo les resulta útil hacer una serie de operaciones diferentes con cada elemento en\n",
    "una lista cuando usas un bucle for.**"
   ]
  },
  {
   "attachments": {},
   "cell_type": "markdown",
   "metadata": {},
   "source": [
    "## Hacer algo después de un bucle for"
   ]
  },
  {
   "attachments": {},
   "cell_type": "markdown",
   "metadata": {},
   "source": [
    "¿Qué sucede una vez que un ciclo for ha terminado de ejecutarse? Por lo general, querrás\n",
    "para resumir un bloque de salida o pasar a otro trabajo que su programa\n",
    "debe cumplir.\n",
    "\n",
    "Cualquier línea de código después del bucle for que no esté sangrada se ejecuta\n",
    "una vez sin repetición. Escribamos un agradecimiento al grupo de magos\n",
    "como un todo, agradeciéndoles por ofrecer un excelente espectáculo."
   ]
  },
  {
   "cell_type": "code",
   "execution_count": 7,
   "metadata": {},
   "outputs": [
    {
     "name": "stdout",
     "output_type": "stream",
     "text": [
      "Alice, that was a great trick!\n",
      "I can't wait to see your next trick, Alice.\n",
      "\n",
      "David, that was a great trick!\n",
      "I can't wait to see your next trick, David.\n",
      "\n",
      "Carolina, that was a great trick!\n",
      "I can't wait to see your next trick, Carolina.\n",
      "\n",
      "Thank you, everyone. That was a great magic show!\n"
     ]
    }
   ],
   "source": [
    "magicians = ['alice', 'david', 'carolina']\n",
    "for magician in magicians:\n",
    "    print(magician.title() + \", that was a great trick!\")\n",
    "    print(\"I can't wait to see your next trick, \" + magician.title() + \".\\n\")\n",
    "\n",
    "print(\"Thank you, everyone. That was a great magic show!\")"
   ]
  },
  {
   "attachments": {},
   "cell_type": "markdown",
   "metadata": {},
   "source": [
    "**La ultima linea al no estar identada o dentro del bucle for solo se ejecuta una sola vez y una vez terminado el ciclo for**"
   ]
  },
  {
   "attachments": {},
   "cell_type": "markdown",
   "metadata": {},
   "source": [
    "Cuando esté procesando datos usando un ciclo for, encontrará que este es un\n",
    "buena manera de resumir una operación que se realizó en un conjunto de datos\n",
    "colocar.\n",
    "\n",
    "Por ejemplo, puede usar un bucle for para inicializar un juego ejecutando\n",
    "a través de una lista de caracteres y mostrando cada carácter en la pantalla."
   ]
  },
  {
   "attachments": {},
   "cell_type": "markdown",
   "metadata": {},
   "source": [
    "# Evitar errores de sangría"
   ]
  },
  {
   "attachments": {},
   "cell_type": "markdown",
   "metadata": {},
   "source": [
    "Python usa sangría para determinar cuándo se conecta una línea de código a\n",
    "la línea de arriba. En los ejemplos anteriores, las líneas que imprimían mensajes a\n",
    "los magos individuales formaban parte del ciclo for porque estaban sangrados.\n",
    "El uso de sangría de Python hace que el código sea muy fácil de leer. Básicamente, utiliza\n",
    "espacio en blanco para forzarlo a escribir un código con un formato claro con una imagen clara\n",
    "estructura. En programas de Python más largos, notará bloques de código con sangría\n",
    "en algunos niveles diferentes. Estos niveles de sangría le ayudan a obtener una visión general\n",
    "sentido de la organización general del programa.\n",
    "\n",
    "A medida que comience a escribir código que se base en una sangría adecuada,\n",
    "Es necesario estar atento a algunos errores de sangría comunes."
   ]
  },
  {
   "attachments": {},
   "cell_type": "markdown",
   "metadata": {},
   "source": [
    "## Olvidarse de identar"
   ]
  },
  {
   "attachments": {},
   "cell_type": "markdown",
   "metadata": {},
   "source": [
    "Siempre aplique sangría a la línea después de la instrucción for en un bucle. Si lo olvidas, Python\n",
    "te recordará:"
   ]
  },
  {
   "cell_type": "code",
   "execution_count": 8,
   "metadata": {},
   "outputs": [
    {
     "ename": "IndentationError",
     "evalue": "expected an indented block after 'for' statement on line 2 (2510761304.py, line 3)",
     "output_type": "error",
     "traceback": [
      "\u001b[1;36m  Cell \u001b[1;32mIn [8], line 3\u001b[1;36m\u001b[0m\n\u001b[1;33m    print(magician)\u001b[0m\n\u001b[1;37m    ^\u001b[0m\n\u001b[1;31mIndentationError\u001b[0m\u001b[1;31m:\u001b[0m expected an indented block after 'for' statement on line 2\n"
     ]
    }
   ],
   "source": [
    "magicians = ['alice', 'david', 'carolina']\n",
    "for magician in magicians:\n",
    "print(magician)"
   ]
  },
  {
   "attachments": {},
   "cell_type": "markdown",
   "metadata": {},
   "source": [
    "**Python detecta estos errores de una manera muy sencilla, por lo cual podemos darnos cuenta facilmente**"
   ]
  },
  {
   "attachments": {},
   "cell_type": "markdown",
   "metadata": {},
   "source": [
    "## Olvidarse de sangria en líneas adicionales"
   ]
  },
  {
   "attachments": {},
   "cell_type": "markdown",
   "metadata": {},
   "source": [
    "A veces, su bucle se ejecutará sin ningún error, pero no producirá el resultado Esperado. \n",
    "\n",
    "Esto puede suceder cuando intenta realizar varias tareas en un bucle y te olvidas de sangrar algunas de sus líneas."
   ]
  },
  {
   "cell_type": "code",
   "execution_count": 9,
   "metadata": {},
   "outputs": [
    {
     "name": "stdout",
     "output_type": "stream",
     "text": [
      "Alice, that was a great trick!\n",
      "David, that was a great trick!\n",
      "Carolina, that was a great trick!\n",
      "I can't wait to see your next trick, Carolina.\n",
      "\n"
     ]
    }
   ],
   "source": [
    "magicians = ['alice', 'david', 'carolina']\n",
    "for magician in magicians:\n",
    "    print(magician.title() + \", that was a great trick!\")\n",
    "\n",
    "print(\"I can't wait to see your next trick, \" + magician.title() + \".\\n\")"
   ]
  },
  {
   "attachments": {},
   "cell_type": "markdown",
   "metadata": {},
   "source": [
    "Se supone que la declaración de impresión debe estar identada, pero debido a que\n",
    "Python encuentra al menos una línea identada después de la instrucción for, no\n",
    "informar de un error. \n",
    "\n",
    "Como resultado, la primera declaración de impresión se ejecuta una vez para\n",
    "cada nombre en la lista porque está identada. La segunda instrucción de impresión no identada, por lo que se ejecuta solo una vez después de que el ciclo haya terminado de ejecutarse."
   ]
  },
  {
   "attachments": {},
   "cell_type": "markdown",
   "metadata": {},
   "source": [
    "Este es un error lógico. La sintaxis es un código de Python válido, pero el código no\n",
    "no produce el resultado deseado porque ocurre un problema en su lógica. \n",
    "\n",
    "Si usted espera ver una determinada acción repetida una vez para cada elemento en una lista y es\n",
    "ejecutado solo una vez, determine si necesita simplemente sangrar una línea o\n",
    "un grupo de líneas."
   ]
  },
  {
   "attachments": {},
   "cell_type": "markdown",
   "metadata": {},
   "source": [
    "## Identacion innecesariamente"
   ]
  },
  {
   "attachments": {},
   "cell_type": "markdown",
   "metadata": {},
   "source": [
    "Si se identa accidentalmente una línea que no necesita sangría.\n",
    "\n",
    "Python le informa sobre la sangría inesperada:"
   ]
  },
  {
   "cell_type": "code",
   "execution_count": 10,
   "metadata": {},
   "outputs": [
    {
     "ename": "IndentationError",
     "evalue": "unexpected indent (2495908521.py, line 2)",
     "output_type": "error",
     "traceback": [
      "\u001b[1;36m  Cell \u001b[1;32mIn [10], line 2\u001b[1;36m\u001b[0m\n\u001b[1;33m    print(message)\u001b[0m\n\u001b[1;37m    ^\u001b[0m\n\u001b[1;31mIndentationError\u001b[0m\u001b[1;31m:\u001b[0m unexpected indent\n"
     ]
    }
   ],
   "source": [
    "message = \"Hello Python world!\"\n",
    "    print(message)"
   ]
  },
  {
   "attachments": {},
   "cell_type": "markdown",
   "metadata": {},
   "source": [
    "**Esta linea al no ser parte de un bucle no necesita identacion, al igual que no usar identacion donde se necesita Python detecta donde no es necesario hacer uso de ella**"
   ]
  },
  {
   "attachments": {},
   "cell_type": "markdown",
   "metadata": {},
   "source": [
    "## Sangría innecesariamente después del bucle"
   ]
  },
  {
   "attachments": {},
   "cell_type": "markdown",
   "metadata": {},
   "source": [
    "Si accidentalmente identa el código que debería ejecutarse después de que finalice un ciclo, eso\n",
    "El código se repetirá una vez para cada elemento de la lista. \n",
    "\n",
    "A veces esto provoca Python para informar un error, pero a menudo recibirá un error lógico simple."
   ]
  },
  {
   "cell_type": "code",
   "execution_count": 11,
   "metadata": {},
   "outputs": [
    {
     "name": "stdout",
     "output_type": "stream",
     "text": [
      "Alice, that was a great trick!\n",
      "I can't wait to see your next trick, Alice.\n",
      "\n",
      "Thank you everyone, that was a great magic show!\n",
      "David, that was a great trick!\n",
      "I can't wait to see your next trick, David.\n",
      "\n",
      "Thank you everyone, that was a great magic show!\n",
      "Carolina, that was a great trick!\n",
      "I can't wait to see your next trick, Carolina.\n",
      "\n",
      "Thank you everyone, that was a great magic show!\n"
     ]
    }
   ],
   "source": [
    "magicians = ['alice', 'david', 'carolina']\n",
    "for magician in magicians:\n",
    "    print(magician.title() + \", that was a great trick!\")\n",
    "    print(\"I can't wait to see your next trick, \" + magician.title() + \".\\n\")\n",
    "    \n",
    "    print(\"Thank you everyone, that was a great magic show!\")"
   ]
  },
  {
   "attachments": {},
   "cell_type": "markdown",
   "metadata": {},
   "source": [
    "Este es otro error lógico, similar al de “Olvidarse de identar\n",
    "Líneas Adicionales”.\n",
    "\n",
    "Debido a que Python no sabe lo que está tratando de lograr con su código, ejecutará todo el código que esté escrito en una sintaxis válida.\n",
    "\n",
    "Si una acción se repite muchas veces cuando debería ejecutarse\n",
    "solo una vez, determine si solo necesita eliminar la sangría del código para ese\n",
    "acción."
   ]
  },
  {
   "attachments": {},
   "cell_type": "markdown",
   "metadata": {},
   "source": [
    "## Olvidando los dos puntos para el bucle"
   ]
  },
  {
   "attachments": {},
   "cell_type": "markdown",
   "metadata": {},
   "source": [
    "Los dos puntos al final de una declaración for le dice a Python que interprete la siguiente\n",
    "línea como el comienzo de un bucle."
   ]
  },
  {
   "cell_type": "code",
   "execution_count": 12,
   "metadata": {},
   "outputs": [
    {
     "ename": "SyntaxError",
     "evalue": "expected ':' (518316207.py, line 2)",
     "output_type": "error",
     "traceback": [
      "\u001b[1;36m  Cell \u001b[1;32mIn [12], line 2\u001b[1;36m\u001b[0m\n\u001b[1;33m    for magician in magicians\u001b[0m\n\u001b[1;37m                             ^\u001b[0m\n\u001b[1;31mSyntaxError\u001b[0m\u001b[1;31m:\u001b[0m expected ':'\n"
     ]
    }
   ],
   "source": [
    "magicians = ['alice', 'david', 'carolina']\n",
    "for magician in magicians\n",
    "    print(magician)"
   ]
  },
  {
   "attachments": {},
   "cell_type": "markdown",
   "metadata": {},
   "source": [
    "Si olvida accidentalmente los dos puntos, como se muestra en, obtendrá una sintaxis\n",
    "error porque Python no sabe lo que estás tratando de hacer. \n",
    "\n",
    "A pesar de este es un error fácil de solucionar, no siempre es un error fácil de encontrar."
   ]
  },
  {
   "attachments": {},
   "cell_type": "markdown",
   "metadata": {},
   "source": [
    "# Hacer listas numéricas"
   ]
  },
  {
   "attachments": {},
   "cell_type": "markdown",
   "metadata": {},
   "source": [
    "Existen muchas razones para almacenar un conjunto de números.\n",
    "\n",
    "Por ejemplo, deberá realizar un seguimiento de las posiciones de cada personaje en un juego, y es posible que desee para realizar un seguimiento de las puntuaciones más altas de un jugador también.\n",
    "\n",
    "En las visualizaciones de datos, casi siempre trabajará con conjuntos de números, como temperaturas, distancias,\n",
    "tamaños de población, o valores de latitud y longitud, entre otros tipos de\n",
    "conjuntos numéricos."
   ]
  },
  {
   "attachments": {},
   "cell_type": "markdown",
   "metadata": {},
   "source": [
    "Las listas son ideales para almacenar conjuntos de números y Python proporciona un número\n",
    "de herramientas para ayudarlo a trabajar eficientemente con listas de números. \n",
    "\n",
    "Una vez tú entiende cómo usar estas herramientas de manera efectiva, su código funcionará bien incluso\n",
    "cuando sus listas contienen millones de elementos."
   ]
  },
  {
   "attachments": {},
   "cell_type": "markdown",
   "metadata": {},
   "source": [
    "## Usando la función range()"
   ]
  },
  {
   "attachments": {},
   "cell_type": "markdown",
   "metadata": {},
   "source": [
    "La función **range()** de Python facilita la generación de una serie de números.\n",
    "\n",
    "Por ejemplo, puede usar la función range() para imprimir una serie de números\n",
    "como esto:"
   ]
  },
  {
   "cell_type": "code",
   "execution_count": 13,
   "metadata": {},
   "outputs": [
    {
     "name": "stdout",
     "output_type": "stream",
     "text": [
      "1\n",
      "2\n",
      "3\n",
      "4\n"
     ]
    }
   ],
   "source": [
    "for value in range(1,5):\n",
    "    print(value)"
   ]
  },
  {
   "attachments": {},
   "cell_type": "markdown",
   "metadata": {},
   "source": [
    "En este ejemplo, range() imprime solo los números del 1 al 4. \n",
    "\n",
    "Esto es otro resultado del comportamiento off-by-one que verá a menudo en la programación\n",
    "idiomas La función range() hace que Python comience a contar en el primer\n",
    "valor que le das, y se detiene cuando alcanza el segundo valor que le das."
   ]
  },
  {
   "cell_type": "code",
   "execution_count": 14,
   "metadata": {},
   "outputs": [
    {
     "name": "stdout",
     "output_type": "stream",
     "text": [
      "1\n",
      "2\n",
      "3\n",
      "4\n",
      "5\n"
     ]
    }
   ],
   "source": [
    "for value in range(1,6):\n",
    "    print(value)"
   ]
  },
  {
   "attachments": {},
   "cell_type": "markdown",
   "metadata": {},
   "source": [
    "**En este caso nos imprime los numeros del 1 al 5**"
   ]
  },
  {
   "attachments": {},
   "cell_type": "markdown",
   "metadata": {},
   "source": [
    "## Usando range() para hacer una lista de números"
   ]
  },
  {
   "attachments": {},
   "cell_type": "markdown",
   "metadata": {},
   "source": [
    "Si desea hacer una lista de números, puede convertir los resultados de **range()**\n",
    "directamente en una lista usando la función list(). \n",
    "\n",
    "Cuando envuelve **list()** alrededor de una llamada a la función **rango()**, la salida será una lista de números."
   ]
  },
  {
   "cell_type": "code",
   "execution_count": 15,
   "metadata": {},
   "outputs": [
    {
     "name": "stdout",
     "output_type": "stream",
     "text": [
      "[1, 2, 3, 4, 5]\n"
     ]
    }
   ],
   "source": [
    "numbers = list(range(1,6))\n",
    "print(numbers)"
   ]
  },
  {
   "attachments": {},
   "cell_type": "markdown",
   "metadata": {},
   "source": [
    "**La diferencia radica en que los valores son guardados en una lista**"
   ]
  },
  {
   "cell_type": "code",
   "execution_count": 16,
   "metadata": {},
   "outputs": [
    {
     "name": "stdout",
     "output_type": "stream",
     "text": [
      "[2, 4, 6, 8, 10]\n"
     ]
    }
   ],
   "source": [
    "even_numbers = list(range(2,11,2))\n",
    "print(even_numbers)"
   ]
  },
  {
   "attachments": {},
   "cell_type": "markdown",
   "metadata": {},
   "source": [
    "En este ejemplo, la función range() comienza con el valor 2 y luego\n",
    "suma 2 a ese valor."
   ]
  },
  {
   "attachments": {},
   "cell_type": "markdown",
   "metadata": {},
   "source": [
    "Puedes crear casi cualquier conjunto de números que quieras usando el range()\n",
    "función. \n",
    "\n",
    "Por ejemplo, considere cómo podría hacer una lista de los primeros 10\n",
    "números cuadrados (es decir, el cuadrado de cada número entero del 1 al 10). \n",
    "\n",
    "En Python, dos asteriscos (**) representan exponentes."
   ]
  },
  {
   "cell_type": "code",
   "execution_count": 17,
   "metadata": {},
   "outputs": [
    {
     "name": "stdout",
     "output_type": "stream",
     "text": [
      "[1, 4, 9, 16, 25, 36, 49, 64, 81, 100]\n"
     ]
    }
   ],
   "source": [
    "squares = []\n",
    "for value in range(1,11):\n",
    "    square = value**2\n",
    "    squares.append(square)\n",
    "\n",
    "print(squares)"
   ]
  },
  {
   "attachments": {},
   "cell_type": "markdown",
   "metadata": {},
   "source": [
    "**En el ejemplo anterior se crea un valor y con el doble asterisco se aplica la potencia al cuadrado**"
   ]
  },
  {
   "attachments": {},
   "cell_type": "markdown",
   "metadata": {},
   "source": [
    "## Estadísticas simples con una lista de números"
   ]
  },
  {
   "attachments": {},
   "cell_type": "markdown",
   "metadata": {},
   "source": [
    "Algunas funciones Python son específicas de las listas de números. \n",
    "\n",
    "Por ejemplo, puedes encontrar fácilmente el mínimo, máximo y suma de una lista de números: "
   ]
  },
  {
   "cell_type": "code",
   "execution_count": 18,
   "metadata": {},
   "outputs": [
    {
     "name": "stdout",
     "output_type": "stream",
     "text": [
      "0\n",
      "9\n",
      "45\n"
     ]
    }
   ],
   "source": [
    "digits = [1, 2, 3, 4, 5, 6, 7, 8, 9, 0]\n",
    "print(min(digits)) #Funcion para el minimo de un lista\n",
    "print(max(digits)) #Funcion para el maximo de una lista\n",
    "print(sum(digits)) #Funcion para la suma de todos los numeros de una lista\n"
   ]
  },
  {
   "attachments": {},
   "cell_type": "markdown",
   "metadata": {},
   "source": [
    "## Compresiones de Lista"
   ]
  },
  {
   "attachments": {},
   "cell_type": "markdown",
   "metadata": {},
   "source": [
    "El enfoque descrito anteriormente para generar los cuadrados de lista consistió en \n",
    "usando tres o cuatro líneas de código.\n",
    "\n",
    "Una comprensión de lista permite generar esta misma lista en una sola línea de código. \n",
    "\n",
    "Una comprensión de lista combina el ciclo **for** y la creación de nuevos elementos en una línea, y automáticamente añade cada elemento nuevo. \n"
   ]
  },
  {
   "cell_type": "code",
   "execution_count": 19,
   "metadata": {},
   "outputs": [
    {
     "name": "stdout",
     "output_type": "stream",
     "text": [
      "[1, 4, 9, 16, 25, 36, 49, 64, 81, 100]\n"
     ]
    }
   ],
   "source": [
    "squares = [value**2 for value in range(1,11)]\n",
    "print(squares)"
   ]
  },
  {
   "attachments": {},
   "cell_type": "markdown",
   "metadata": {},
   "source": [
    "Para utilizar esta sintaxis, comience con un nombre descriptivo de la lista, como \n",
    "cuadrados. \n",
    "\n",
    "A continuación, abra un conjunto de corchetes y defina la expresión para \n",
    "los valores que desea almacenar en la nueva lista. \n",
    "\n",
    "En este ejemplo, la expresión es el valor**2, lo que eleva el valor a la segunda potencia. \n",
    "\n",
    "El bucle para este ejemplo es para el valor en range(1,11), que alimenta los valores 1 a 10 en la expresión \n",
    "valor **2. \n"
   ]
  },
  {
   "attachments": {},
   "cell_type": "markdown",
   "metadata": {},
   "source": [
    "# Trabajar con parte de una lista"
   ]
  },
  {
   "attachments": {},
   "cell_type": "markdown",
   "metadata": {},
   "source": [
    "## Rodajas de una lista"
   ]
  },
  {
   "attachments": {},
   "cell_type": "markdown",
   "metadata": {},
   "source": [
    "Para realizar una división, especifique el índice del primer y último elemento que \n",
    "quieres trabajar. \n",
    "\n",
    "Al igual que con la función **range()** , Python detiene un elemento \n",
    "antes del segundo índice que especifique. \n"
   ]
  },
  {
   "cell_type": "code",
   "execution_count": 20,
   "metadata": {},
   "outputs": [
    {
     "name": "stdout",
     "output_type": "stream",
     "text": [
      "['charles', 'martina', 'michael']\n"
     ]
    }
   ],
   "source": [
    "players = ['charles', 'martina', 'michael', 'florence', 'eli']\n",
    "print(players[0:3])"
   ]
  },
  {
   "attachments": {},
   "cell_type": "markdown",
   "metadata": {},
   "source": [
    "**Es importante considerar que la cuenta de los indices empieza en 0**"
   ]
  },
  {
   "cell_type": "code",
   "execution_count": 21,
   "metadata": {},
   "outputs": [
    {
     "name": "stdout",
     "output_type": "stream",
     "text": [
      "['martina', 'michael', 'florence']\n"
     ]
    }
   ],
   "source": [
    "players = ['charles', 'martina', 'michael', 'florence', 'eli']\n",
    "print(players[1:4])\n",
    "\n",
    "#En este codigo se imprime empezando del segundo nombre"
   ]
  },
  {
   "attachments": {},
   "cell_type": "markdown",
   "metadata": {},
   "source": [
    "Si omite el primer índice en un segmento, Python automáticamente inicia su \n",
    "slice o rodaja al principio de la lista: \n"
   ]
  },
  {
   "cell_type": "code",
   "execution_count": 22,
   "metadata": {},
   "outputs": [
    {
     "name": "stdout",
     "output_type": "stream",
     "text": [
      "['charles', 'martina', 'michael', 'florence']\n"
     ]
    }
   ],
   "source": [
    "players = ['charles', 'martina', 'michael', 'florence', 'eli']\n",
    "print(players[:4])"
   ]
  },
  {
   "attachments": {},
   "cell_type": "markdown",
   "metadata": {},
   "source": [
    "Una sintaxis similar funciona si desea un segmento que incluya el final de una lista."
   ]
  },
  {
   "cell_type": "code",
   "execution_count": 23,
   "metadata": {},
   "outputs": [
    {
     "name": "stdout",
     "output_type": "stream",
     "text": [
      "['michael', 'florence', 'eli']\n"
     ]
    }
   ],
   "source": [
    "players = ['charles', 'martina', 'michael', 'florence', 'eli']\n",
    "print(players[2:])\n",
    "#Cubrimos todos los elementos hasta llegar al final de la lista"
   ]
  },
  {
   "attachments": {},
   "cell_type": "markdown",
   "metadata": {},
   "source": [
    "Esta sintaxis le permite hacer salir todos los elementos de cualquier punto de \n",
    "la lista hasta el final, independientemente de la longitud de la lista. \n",
    "\n",
    "Recordemos que un indice negativo devuelve un elemento a cierta distancia del final de una lista; \n",
    "por lo tanto, puede producir cualquier segmento desde el final de una lista. \n"
   ]
  },
  {
   "cell_type": "code",
   "execution_count": 24,
   "metadata": {},
   "outputs": [
    {
     "name": "stdout",
     "output_type": "stream",
     "text": [
      "['michael', 'florence', 'eli']\n"
     ]
    }
   ],
   "source": [
    "players = ['charles', 'martina', 'michael', 'florence', 'eli']\n",
    "print(players[-3:])"
   ]
  },
  {
   "attachments": {},
   "cell_type": "markdown",
   "metadata": {},
   "source": [
    "## Buscando a través de una rodaja o slice"
   ]
  },
  {
   "attachments": {},
   "cell_type": "markdown",
   "metadata": {},
   "source": [
    "Puede utilizar una rebanada en un bucle for si desea recorrer un subconjunto de \n",
    "los elementos de una lista. \n"
   ]
  },
  {
   "cell_type": "code",
   "execution_count": 25,
   "metadata": {},
   "outputs": [
    {
     "name": "stdout",
     "output_type": "stream",
     "text": [
      "Here are the first three players on my team:\n",
      "Charles\n",
      "Martina\n",
      "Michael\n"
     ]
    }
   ],
   "source": [
    "players = ['charles', 'martina', 'michael', 'florence', 'eli']\n",
    "print(\"Here are the first three players on my team:\")\n",
    "\n",
    "for player in players[:3]:\n",
    "    print(player.title())"
   ]
  },
  {
   "attachments": {},
   "cell_type": "markdown",
   "metadata": {},
   "source": [
    "**Las rodajas son muy útiles en una serie de situaciones. Por ejemplo, cuando usted es \n",
    "crear un juego, podría agregar una puntuación final de un jugador a una lista cada vez que \n",
    "jugador termina jugando.**\n"
   ]
  },
  {
   "attachments": {},
   "cell_type": "markdown",
   "metadata": {},
   "source": [
    "## Copiando una lista"
   ]
  },
  {
   "attachments": {},
   "cell_type": "markdown",
   "metadata": {},
   "source": [
    "A menudo, vas a querer comenzar con una lista existente y hacer una lista completamente nueva \n",
    "basado en el primero. Permita que exploren cómo copiar una lista funciona y examinar \n",
    "una situación en la que es útil copiar una lista. \n",
    "\n",
    "Para copiar una lista, puede hacer un segmento que incluya toda la lista original \n",
    "omitiendo el primer índice y el segundo índice ([:]). Esto le dice a Python que \n",
    "hacer una rodaja que comienza en el primer elemento y termina con el último elemento, produciendo \n",
    "una copia de toda la lista. "
   ]
  },
  {
   "cell_type": "code",
   "execution_count": 26,
   "metadata": {},
   "outputs": [
    {
     "name": "stdout",
     "output_type": "stream",
     "text": [
      "My favorite foods are:\n",
      "['pizza', 'falafel', 'carrot cake']\n",
      "\n",
      "My friend's favorite foods are:\n",
      "['pizza', 'falafel', 'carrot cake']\n"
     ]
    }
   ],
   "source": [
    "my_foods = ['pizza', 'falafel', 'carrot cake']\n",
    "friend_foods = my_foods[:]\n",
    "\n",
    "print(\"My favorite foods are:\")\n",
    "print(my_foods)\n",
    "\n",
    "print(\"\\nMy friend's favorite foods are:\")\n",
    "print(friend_foods)"
   ]
  },
  {
   "attachments": {},
   "cell_type": "markdown",
   "metadata": {},
   "source": [
    "Para demostrar que en realidad tenemos dos listas separadas, vamos a añadir un nuevo alimento \n",
    "a cada lista y mostrar que cada lista realiza un seguimiento de la persona adecuada \n",
    "alimentos favoritos: \n"
   ]
  },
  {
   "cell_type": "code",
   "execution_count": 27,
   "metadata": {},
   "outputs": [
    {
     "name": "stdout",
     "output_type": "stream",
     "text": [
      "My favorite foods are:\n",
      "['pizza', 'falafel', 'carrot cake', 'cannoli']\n",
      "\n",
      "My friend's favorite foods are:\n",
      "['pizza', 'falafel', 'carrot cake', 'ice cream']\n"
     ]
    }
   ],
   "source": [
    "my_foods = ['pizza', 'falafel', 'carrot cake']\n",
    "friend_foods = my_foods[:] #Otra lista, la cual es copia de la primera\n",
    "\n",
    "my_foods.append('cannoli')\n",
    "friend_foods.append('ice cream')\n",
    "\n",
    "print(\"My favorite foods are:\")\n",
    "print(my_foods)\n",
    "\n",
    "print(\"\\nMy friend's favorite foods are:\")\n",
    "print(friend_foods)"
   ]
  },
  {
   "cell_type": "code",
   "execution_count": 28,
   "metadata": {},
   "outputs": [
    {
     "name": "stdout",
     "output_type": "stream",
     "text": [
      "My favorite foods are:\n",
      "['pizza', 'falafel', 'carrot cake', 'cannoli', 'ice cream']\n",
      "\n",
      "My friend's favorite foods are:\n",
      "['pizza', 'falafel', 'carrot cake', 'cannoli', 'ice cream']\n"
     ]
    }
   ],
   "source": [
    "my_foods = ['pizza', 'falafel', 'carrot cake']\n",
    "\n",
    "# This doesn't work:\n",
    "friend_foods = my_foods #Misma lista\n",
    "my_foods.append('cannoli')\n",
    "friend_foods.append('ice cream')\n",
    "print(\"My favorite foods are:\")\n",
    "print(my_foods)\n",
    "print(\"\\nMy friend's favorite foods are:\")\n",
    "print(friend_foods)"
   ]
  },
  {
   "attachments": {},
   "cell_type": "markdown",
   "metadata": {},
   "source": [
    "**Es importante considerar que si no ponemos el [:] no hara una copia si no que se tratara de la misma lista**"
   ]
  },
  {
   "attachments": {},
   "cell_type": "markdown",
   "metadata": {},
   "source": [
    "Básicamente, si estas tratando de trabajar con una copia de una lista y ver un comportamiento inesperado, asegúrese de copiar la lista usando un segmento, como hicimos en el primer ejemplo. \n"
   ]
  },
  {
   "attachments": {},
   "cell_type": "markdown",
   "metadata": {},
   "source": [
    "# Tuplas"
   ]
  },
  {
   "attachments": {},
   "cell_type": "markdown",
   "metadata": {},
   "source": [
    "La lista funciona bien para almacenar conjuntos de elementos que pueden cambiar a través de \n",
    "vida de un programa. \n",
    "\n",
    "La capacidad de modificar listas es particularmente importante cuando usted trabaja con una lista de usuarios en un sitio web o una lista de caracteres en un \n",
    "juego. \n",
    "\n",
    "Sin embargo, a veces usted querrá crear una lista de elementos que no pueden \n",
    "cambiar. Las tuplas le permiten hacer precisamente eso. Python se refiere a valores que no pueden \n",
    "cambiar como *inmutable*, y una lista inmutable se llama *tupla*. \n"
   ]
  },
  {
   "attachments": {},
   "cell_type": "markdown",
   "metadata": {},
   "source": [
    "## Definiendo una tupla"
   ]
  },
  {
   "attachments": {},
   "cell_type": "markdown",
   "metadata": {},
   "source": [
    "Una tupla se ve igual a una lista, excepto que utiliza paréntesis en lugar de \n",
    "corchetes. Una vez definida una tupla, puede acceder a elementos individuales por \n",
    "usando el índice de cada elemento, tal como lo haría para una lista. \n"
   ]
  },
  {
   "cell_type": "code",
   "execution_count": 29,
   "metadata": {},
   "outputs": [
    {
     "name": "stdout",
     "output_type": "stream",
     "text": [
      "200\n",
      "50\n"
     ]
    }
   ],
   "source": [
    "dimensions = (200, 50)\n",
    "print(dimensions[0]) #Primer elemento\n",
    "print(dimensions[1]) #Segundo elemento"
   ]
  },
  {
   "attachments": {},
   "cell_type": "markdown",
   "metadata": {},
   "source": [
    "Definimos las dimensiones de la tupla en, usando paréntesis en lugar de \n",
    "corchetes. \n"
   ]
  },
  {
   "cell_type": "code",
   "execution_count": 30,
   "metadata": {},
   "outputs": [
    {
     "ename": "TypeError",
     "evalue": "'tuple' object does not support item assignment",
     "output_type": "error",
     "traceback": [
      "\u001b[1;31m---------------------------------------------------------------------------\u001b[0m",
      "\u001b[1;31mTypeError\u001b[0m                                 Traceback (most recent call last)",
      "\u001b[1;32me:\\PROJECTS_2023\\Python_Personal_Repository\\Notebooks\\Trabajando_Listas.ipynb Cell 103\u001b[0m in \u001b[0;36m2\n\u001b[0;32m      <a href='vscode-notebook-cell:/e%3A/PROJECTS_2023/Python_Personal_Repository/Notebooks/Trabajando_Listas.ipynb#Y204sZmlsZQ%3D%3D?line=0'>1</a>\u001b[0m dimensions \u001b[39m=\u001b[39m (\u001b[39m200\u001b[39m, \u001b[39m50\u001b[39m)\n\u001b[1;32m----> <a href='vscode-notebook-cell:/e%3A/PROJECTS_2023/Python_Personal_Repository/Notebooks/Trabajando_Listas.ipynb#Y204sZmlsZQ%3D%3D?line=1'>2</a>\u001b[0m dimensions[\u001b[39m0\u001b[39m] \u001b[39m=\u001b[39m \u001b[39m250\u001b[39m\n",
      "\u001b[1;31mTypeError\u001b[0m: 'tuple' object does not support item assignment"
     ]
    }
   ],
   "source": [
    "dimensions = (200, 50)\n",
    "dimensions[0] = 250"
   ]
  },
  {
   "attachments": {},
   "cell_type": "markdown",
   "metadata": {},
   "source": [
    "**El tratar de cambiar un valor a una tupla previa nos dara un error**"
   ]
  },
  {
   "attachments": {},
   "cell_type": "markdown",
   "metadata": {},
   "source": [
    "Esto es beneficioso porque queremos que Python plantee un error cuando una línea \n",
    "de código intenta cambiar las dimensiones del rectángulo. \n"
   ]
  },
  {
   "attachments": {},
   "cell_type": "markdown",
   "metadata": {},
   "source": [
    "## Saltando a través de todos los valores en una tupla"
   ]
  },
  {
   "cell_type": "code",
   "execution_count": 31,
   "metadata": {},
   "outputs": [
    {
     "name": "stdout",
     "output_type": "stream",
     "text": [
      "200\n",
      "50\n"
     ]
    }
   ],
   "source": [
    "dimensions = (200, 50)\n",
    "for dimension in dimensions:\n",
    "    print(dimension)"
   ]
  },
  {
   "attachments": {},
   "cell_type": "markdown",
   "metadata": {},
   "source": [
    "## Escribiendo sobre una tupla"
   ]
  },
  {
   "attachments": {},
   "cell_type": "markdown",
   "metadata": {},
   "source": [
    "Aunque no se puede modificar una tupla, puede asignar un nuevo valor a una variable \n",
    "que sostiene una tupla."
   ]
  },
  {
   "cell_type": "code",
   "execution_count": 32,
   "metadata": {},
   "outputs": [
    {
     "name": "stdout",
     "output_type": "stream",
     "text": [
      "Original dimensions:\n",
      "200\n",
      "50\n",
      "\n",
      "Modified dimensions:\n",
      "400\n",
      "100\n"
     ]
    }
   ],
   "source": [
    "dimensions = (200, 50)\n",
    "print(\"Original dimensions:\")\n",
    "for dimension in dimensions:\n",
    "    print(dimension)\n",
    "\n",
    "dimensions = (400, 100)\n",
    "print(\"\\nModified dimensions:\")\n",
    "for dimension in dimensions:\n",
    "    print(dimension)"
   ]
  },
  {
   "attachments": {},
   "cell_type": "markdown",
   "metadata": {},
   "source": [
    "En comparación con las listas, las tuplas son simples estructuras de datos. \n",
    "\n",
    "Utilízalos cuando desea almacenar un conjunto de valores que no se deben cambiar en \n",
    "la vida de un programa. \n"
   ]
  },
  {
   "attachments": {},
   "cell_type": "markdown",
   "metadata": {},
   "source": [
    "# Estilizar su código"
   ]
  },
  {
   "attachments": {},
   "cell_type": "markdown",
   "metadata": {},
   "source": [
    "Escribir código fácil de leer ayuda a mantener un registro de lo que sus programas \n",
    "está haciendo y ayuda a otros a entender su código también. \n"
   ]
  },
  {
   "attachments": {},
   "cell_type": "markdown",
   "metadata": {},
   "source": [
    "## La Guía Estilo"
   ]
  },
  {
   "attachments": {},
   "cell_type": "markdown",
   "metadata": {},
   "source": [
    "Cuando alguien quiere hacer un cambio en el idioma Python, escriben \n",
    "una Propuesta de mejora de Python (PEP)*. Uno de los PEP más antiguos es *PEP 8*, que \n",
    "instruye a los programadores de Python sobre cómo el estilo de su código. PEP 8 es bastante \n",
    "mucho, pero gran parte se relaciona con estructuras de codificación más complejas que \n",
    "lo que has visto hasta ahora. \n"
   ]
  },
  {
   "attachments": {},
   "cell_type": "markdown",
   "metadata": {},
   "source": [
    "## Indentación"
   ]
  },
  {
   "attachments": {},
   "cell_type": "markdown",
   "metadata": {},
   "source": [
    "PEP 8 recomienda utilizar cuatro espacios por nivel de identacion. Usando  \n",
    "cuatro espacios mejoran la legibilidad dejando espacio para varios niveles de \n",
    "indentacion en cada línea. \n",
    "\n",
    "En un documento de procesamiento de palabras, la gente suele usar pestañas en lugar de \n",
    "espacios para sangra. \n",
    "\n",
    "Esto funciona bien para documentos de procesamiento de textos, pero el \n",
    "el intérprete de Python se confunde cuando las lengüetas se mezclan con espacios. \n"
   ]
  },
  {
   "attachments": {},
   "cell_type": "markdown",
   "metadata": {},
   "source": [
    "## Longitud línea"
   ]
  },
  {
   "attachments": {},
   "cell_type": "markdown",
   "metadata": {},
   "source": [
    "Muchos programadores de Python recomiendan que cada línea sea inferior a \n",
    "80 caracteres. Históricamente, esta guía se desarrolló porque la mayoría de las computadoras \n",
    "sólo puede caber 79 caracteres en una sola línea en una ventana de terminal. \n",
    "\n",
    "Actualmente, la gente puede caber líneas mucho más largas en sus pantallas, pero otras razones \n",
    "existir para adherir a la longitud de línea estándar de 79 caracteres. \n",
    "\n",
    "Profesionalmente los programadores a menudo tienen varios archivos abiertos en la misma pantalla, y usando \n",
    "la longitud de línea estándar les permite ver líneas enteras en dos o tres archivos \n",
    "que están abiertos de lado a lado en pantalla. \n",
    "\n",
    "PEP 8 también recomienda que limite todos sus comentarios a 72 caracteres por línea, porque algunas de las herramientas \n",
    "que generan documentación automática para proyectos más grandes, añaden formato \n",
    "caracteres al principio de cada línea comentada. \n"
   ]
  },
  {
   "attachments": {},
   "cell_type": "markdown",
   "metadata": {},
   "source": [
    "## Líneas de blanco"
   ]
  },
  {
   "attachments": {},
   "cell_type": "markdown",
   "metadata": {},
   "source": [
    "Para agrupar las partes del programa visualmente, utilice líneas en blanco. Debe utilizar \n",
    "líneas en blanco para organizar sus archivos, pero no lo haga excesivamente. \n",
    "\n",
    "Por ejemplo, si tiene cinco líneas de código que construyen una lista y, a continuación, otra \n",
    "tres líneas que hacen algo con esa lista, es apropiado para colocar un espacio en blanco \n",
    "entre las dos secciones. \n",
    "\n",
    "Sin embargo, no debe colocar tres o cuatro líneas en blanco entre las dos secciones. \n"
   ]
  },
  {
   "attachments": {},
   "cell_type": "markdown",
   "metadata": {},
   "source": [
    "# Ejercicios"
   ]
  },
  {
   "attachments": {},
   "cell_type": "markdown",
   "metadata": {},
   "source": [
    "### 4-1. Pizzas: \n",
    "Piensa en al menos tres tipos de tu pizza favorita. Almacene estos \n",
    "nombres de pizzas en una lista, y luego use un bucle **for** para imprimir el nombre de cada pizza. \n",
    "\n",
    "* Modificar su bucle para imprimir una frase con el nombre de la pizza \n",
    "en lugar de imprimir sólo el nombre de la pizza. Para cada pizza se debe \n",
    "tienen una línea de salida que contiene una simple declaración como me gusta pepperoni \n",
    "pizza. \n",
    "\n",
    "* Añada una línea al final de su programa, fuera del bucle for, que indica \n",
    "cuánto te gusta la pizza. La salida debe consistir de tres o más líneas \n",
    "acerca de los tipos de pizza que te gusta y luego una frase adicional, como \n",
    "¡Me encanta pizza! \n"
   ]
  },
  {
   "attachments": {},
   "cell_type": "markdown",
   "metadata": {},
   "source": [
    "### 4-2. Animals: \n",
    "Piense en al menos tres animales diferentes que tengan una característica común. \n",
    "Almacene los nombres de estos animales en una lista y, a continuación, utilice un bucle para \n",
    "imprimir el nombre de cada animal. \n",
    "\n",
    "* Modificar su programa para imprimir una declaración sobre cada animal, como \n",
    "Un perro sería una gran mascota. \n",
    "* Agregue una línea al final de su programa indicando lo que estos animales tienen en \n",
    "común. Puede imprimir una frase como Cualquiera de estos animales sería \n",
    "hacer una gran mascota! \n"
   ]
  },
  {
   "attachments": {},
   "cell_type": "markdown",
   "metadata": {},
   "source": [
    "### 4-3. Contando a Veinte:\n",
    "Utilice un bucle para imprimir los números de 1 a 20."
   ]
  },
  {
   "attachments": {},
   "cell_type": "markdown",
   "metadata": {},
   "source": [
    "### 4-4. Un millón:\n",
    "\n",
    "Haga una lista de los números de uno a un millón, y luego \n",
    "utilizar un bucle para imprimir los números. (Si la salida se está tardando demasiado, deténla por \n",
    "presionando ctrl-C o cerrando la ventana de salida.) \n"
   ]
  },
  {
   "attachments": {},
   "cell_type": "markdown",
   "metadata": {},
   "source": [
    "### 4-5. Sumando un millón:\n",
    "\n",
    "Haga una lista de los números de uno a un millón, y luego usar min() y max() para asegurarse de que su lista realmente comienza en uno y \n",
    "termina en un millón. \n",
    "\n",
    "Además, utilice la función sum() para ver la rapidez con que Python puede \n",
    "añadir un millón de números. "
   ]
  },
  {
   "attachments": {},
   "cell_type": "markdown",
   "metadata": {},
   "source": [
    "### 4-6. Números impares:\n",
    "\n",
    "Utilice el tercer argumento de la función range() para hacer una lista \n",
    "de los números impares de 1 a 20. \n",
    "\n",
    "Utilice un bucle para imprimir cada número. \n"
   ]
  },
  {
   "attachments": {},
   "cell_type": "markdown",
   "metadata": {},
   "source": [
    "### 4-7. Tres: \n",
    "\n",
    "Haga una lista de los múltiplos de 3 de 3 a 30. Utilice un bucle para \n",
    "imprima los números de la lista. \n"
   ]
  },
  {
   "attachments": {},
   "cell_type": "markdown",
   "metadata": {},
   "source": [
    "### 4-8. Cubos: \n",
    "\n",
    "Un número elevado a la tercera potencia se denomina cubo. \n",
    "\n",
    "Por ejemplo, el cubo de 2 se escribe como 2**3 en Python. \n",
    "\n",
    "Haga una lista de los primeros 10 cubos (eso \n",
    "es, el cubo de cada entero de 1 a 10), y utilizar un bucle para imprimir \n",
    "el valor de cada cubo. "
   ]
  },
  {
   "attachments": {},
   "cell_type": "markdown",
   "metadata": {},
   "source": [
    "### 4-9. Comprensión Cubo:\n",
    "\n",
    "Utilice una lista de comprensión para generar una lista de los primeros 10 cubos."
   ]
  },
  {
   "attachments": {},
   "cell_type": "markdown",
   "metadata": {},
   "source": [
    "### 4-10. Rebanadas: \n",
    "\n",
    "Con uno de los programas que escribió, añada varios \n",
    "al final del programa que haga lo siguiente: \n",
    "\n",
    "* Imprimir el mensaje, Los tres primeros elementos de la lista son:. A continuación, utilice un segmento en \n",
    "imprima los tres primeros elementos de la lista de los programas. \n",
    "* Imprimir el mensaje, Tres elementos de la mitad de la lista son:. Utilice un segmento \n",
    "para imprimir tres elementos desde el centro de la lista. \n",
    "* Imprimir el mensaje, Los tres últimos elementos de la lista son:. Utilice un segmento para imprimir \n",
    "los últimos tres elementos de la lista. \n"
   ]
  },
  {
   "attachments": {},
   "cell_type": "markdown",
   "metadata": {},
   "source": [
    "### 4-11. Mis Pizzas, Tus Pizzas:\n",
    "Comience con su programa de Ejercicio 4-1 \n",
    "\n",
    "Haz una copia de la lista de pizzas, y llámalo amigo_pizzas. \n",
    "A continuación, haga lo siguiente: \n",
    "* Añada una nueva pizza a la lista original. \n",
    "* Añadir una pizza diferente a la lista de amigos_pizzas. \n",
    "* Demuestra que tienes dos listas separadas. Imprimir el mensaje, Mi \n",
    "pizzas favoritas son:, y luego utilizar un bucle para imprimir la primera lista. Imprimir el mensaje, \n",
    "Mi amigo es pizzas favoritas son:, y luego utilizar un bucle para imprimir el segundo \n",
    "lista. Asegúrese de que cada pizza nueva esté almacenada en la lista apropiada. \n"
   ]
  },
  {
   "attachments": {},
   "cell_type": "markdown",
   "metadata": {},
   "source": [
    "### 4-12. Mas bucles: \n",
    "\n",
    "Todas las versiones de foods.py en esta sección han evitado el uso de \n",
    "para los bucles cuando se imprime para ahorrar espacio. Elija una versión de foods.py y \n",
    "escribir dos bucles para imprimir cada lista de alimentos. \n"
   ]
  },
  {
   "attachments": {},
   "cell_type": "markdown",
   "metadata": {},
   "source": [
    "### 4-13. Buffet: \n",
    "Un restaurante de estilo bufe ofrece sólo cinco alimentos básicos. Piense en cinco alimentos simples, y guárdelos en una tupla.\n",
    "\n",
    "* Utilice un bucle para imprimir cada alimento que ofrece el restaurante. \n",
    "* Trate de modificar uno de los elementos, y asegúrese de que Python rechaza el \n",
    "cambiar. \n",
    "* El restaurante cambia su menú, reemplazando dos de los elementos con diferentes \n",
    "alimentos. Agregue un bloque de código que reescriba la tupla y, a continuación, utilice una para \n",
    "para imprimir cada uno de los elementos del menú revisado. \n"
   ]
  },
  {
   "attachments": {},
   "cell_type": "markdown",
   "metadata": {},
   "source": [
    "### 4-14. PEP 8: \n",
    "\n",
    "Mire a través de la guía de estilo PEP 8 original en https://python.org/dev/peps/pep-0008/. \n",
    "\n",
    "Ya no usarás mucho, pero podría ser interesante esquiar a través de ella. \n"
   ]
  },
  {
   "attachments": {},
   "cell_type": "markdown",
   "metadata": {},
   "source": [
    "### 4-15. Code Review: \n",
    "\n",
    "Elija tres de los programas que usted ha escrito y modifique cada uno para cumplir con PEP 8: \n",
    "* Utilice cuatro espacios para cada nivel de sangria. \n",
    "* Use menos de 80 caracteres en cada línea, y configure su editor para mostrar un \n",
    "directriz vertical en la posición del 80º carácter. \n",
    "* No utilice las líneas en blanco excesivamente en sus archivos de programa. \n"
   ]
  }
 ],
 "metadata": {
  "kernelspec": {
   "display_name": "Python 3",
   "language": "python",
   "name": "python3"
  },
  "language_info": {
   "codemirror_mode": {
    "name": "ipython",
    "version": 3
   },
   "file_extension": ".py",
   "mimetype": "text/x-python",
   "name": "python",
   "nbconvert_exporter": "python",
   "pygments_lexer": "ipython3",
   "version": "3.10.7"
  },
  "orig_nbformat": 4
 },
 "nbformat": 4,
 "nbformat_minor": 2
}
