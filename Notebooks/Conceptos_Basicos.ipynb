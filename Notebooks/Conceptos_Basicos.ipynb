{
  "cells": [
    {
      "attachments": {},
      "cell_type": "markdown",
      "metadata": {
        "id": "-qM0c6fKamQv"
      },
      "source": [
        "# Conceptos Basicos"
      ]
    },
    {
      "attachments": {},
      "cell_type": "markdown",
      "metadata": {
        "id": "zWPrOU0sarNt"
      },
      "source": [
        "  Python cuenta con funciones integradas, una de las mas comunes es **print()** la cual imprime una funcion en pantalla."
      ]
    },
    {
      "cell_type": "code",
      "execution_count": 1,
      "metadata": {
        "colab": {
          "base_uri": "https://localhost:8080/"
        },
        "id": "8O-UkoP-aqMP",
        "outputId": "38f19034-aeef-4e36-810b-723ee3521636"
      },
      "outputs": [
        {
          "name": "stdout",
          "output_type": "stream",
          "text": [
            "Hola Mundo\n"
          ]
        }
      ],
      "source": [
        "print(\"Hola Mundo\")"
      ]
    },
    {
      "attachments": {},
      "cell_type": "markdown",
      "metadata": {
        "id": "sw1zo9iacl7B"
      },
      "source": [
        "Usar la funcion anterior no siempre es muy practico debido a esto guardamos el valor del mensaje en un variable.\n",
        "\n",
        "Cada variable tiene un valor, que es la información asociada a esa variable."
      ]
    },
    {
      "attachments": {},
      "cell_type": "markdown",
      "metadata": {
        "id": "uB3J9iDAg-DC"
      },
      "source": [
        "## Variables"
      ]
    },
    {
      "cell_type": "code",
      "execution_count": 2,
      "metadata": {
        "colab": {
          "base_uri": "https://localhost:8080/"
        },
        "id": "hSDH2PZ9a6CA",
        "outputId": "4629065d-bfa7-4c4a-8ec2-99c39f04e874"
      },
      "outputs": [
        {
          "name": "stdout",
          "output_type": "stream",
          "text": [
            "Hello Python world!\n"
          ]
        }
      ],
      "source": [
        "message = \"Hello Python world!\"\n",
        "print(message)"
      ]
    },
    {
      "cell_type": "code",
      "execution_count": 3,
      "metadata": {
        "colab": {
          "base_uri": "https://localhost:8080/",
          "height": 35
        },
        "id": "grvGggORdx1a",
        "outputId": "19ff5b91-9866-4a5b-e7f3-3c061a26fdf7"
      },
      "outputs": [
        {
          "data": {
            "text/plain": [
              "'Hello Python world!'"
            ]
          },
          "execution_count": 3,
          "metadata": {},
          "output_type": "execute_result"
        }
      ],
      "source": [
        "# Esto es un comentario\n",
        "\n",
        "# Podemos mandar llamar la variable sin usar la funcion de print\n",
        "\n",
        "message"
      ]
    },
    {
      "attachments": {},
      "cell_type": "markdown",
      "metadata": {
        "id": "3XRYjnSid8g_"
      },
      "source": [
        "**La diferencia podemos verla en como se imprime el mensaje**\n",
        "\n"
      ]
    },
    {
      "attachments": {},
      "cell_type": "markdown",
      "metadata": {
        "id": "Ewj3TMfRewQm"
      },
      "source": [
        "Una variable tiene la particularidad al menos en python de poder cambiar su valor en cualquier momento, podemos hacer un cambio asignandole cualquier valor.\n"
      ]
    },
    {
      "cell_type": "code",
      "execution_count": 4,
      "metadata": {
        "colab": {
          "base_uri": "https://localhost:8080/"
        },
        "id": "7e34Q93se7TC",
        "outputId": "e04611a5-4439-413a-efb5-738ea8034f59"
      },
      "outputs": [
        {
          "name": "stdout",
          "output_type": "stream",
          "text": [
            "Hello Python world!\n",
            "Hola Python\n"
          ]
        }
      ],
      "source": [
        "print(message)\n",
        "\n",
        "# Aqui haremos el cambio de la variable\n",
        "\n",
        "message = \"Hola Python\"\n",
        "\n",
        "#Nuevo mensaje\n",
        "print(message)"
      ]
    },
    {
      "attachments": {},
      "cell_type": "markdown",
      "metadata": {
        "id": "GjzkOEX2hK7I"
      },
      "source": [
        "**Al usar variables es importante seguir una pauta de reglas para el correcto funcionamiento de las mismas**\n",
        "\n",
        "El no considerar estas reglas puede en su mayoria romper el codigo o afectar el funcionamiento teniendo errores al momento de ejecutar el codigo."
      ]
    },
    {
      "attachments": {},
      "cell_type": "markdown",
      "metadata": {
        "id": "LOypFBt6hZIQ"
      },
      "source": [
        "### Reglas "
      ]
    },
    {
      "attachments": {},
      "cell_type": "markdown",
      "metadata": {
        "id": "iHS6AZ4IiNrf"
      },
      "source": [
        "* Los nombres de variables solo pueden contener letras, números y guiones bajos.\n",
        "\n",
        "* Pueden comenzar con una letra o un guión bajo, pero no con un número.\n",
        "\n",
        "* No se permiten espacios en los nombres de variables, pero se pueden usar guiones bajos para separar palabras en nombres de variables.\n",
        "\n",
        "* Evite usar palabras clave de Python y nombres de funciones como nombres de variables;\n",
        "es decir, no use palabras que Python haya reservado para un propósito programático particular, como la palabra print. \n",
        "\n",
        "* Los nombres de las variables deben ser breves pero descriptivos.\n",
        "\n",
        "* Es recomendable nombrar las variables con minisculas, por buenas practicas de programacion las mayusculas son usadas para valores constantes.\n",
        "\n"
      ]
    },
    {
      "attachments": {},
      "cell_type": "markdown",
      "metadata": {
        "id": "6mBRvzOSmuXd"
      },
      "source": [
        "## Errores"
      ]
    },
    {
      "attachments": {},
      "cell_type": "markdown",
      "metadata": {
        "id": "c4RH17Fpmwdo"
      },
      "source": [
        "Los errores pueden surgir a este punto por mandar a imprimir mal una variable o no respestar las reglas para el uso de las variables."
      ]
    },
    {
      "cell_type": "code",
      "execution_count": 5,
      "metadata": {
        "colab": {
          "base_uri": "https://localhost:8080/",
          "height": 200
        },
        "id": "PsZSasO_m_ZJ",
        "outputId": "761f5266-1d6f-4c39-95f1-243e83f785a0"
      },
      "outputs": [
        {
          "ename": "NameError",
          "evalue": "name 'numberr' is not defined",
          "output_type": "error",
          "traceback": [
            "\u001b[1;31m---------------------------------------------------------------------------\u001b[0m",
            "\u001b[1;31mNameError\u001b[0m                                 Traceback (most recent call last)",
            "\u001b[1;32me:\\PROJECTS_2023\\Python_Personal_Repository\\Notebooks\\Conceptos_Basicos.ipynb Cell 16\u001b[0m in \u001b[0;36m3\n\u001b[0;32m      <a href='vscode-notebook-cell:/e%3A/PROJECTS_2023/Python_Personal_Repository/Notebooks/Conceptos_Basicos.ipynb#X21sZmlsZQ%3D%3D?line=0'>1</a>\u001b[0m number \u001b[39m=\u001b[39m \u001b[39m4\u001b[39m\n\u001b[1;32m----> <a href='vscode-notebook-cell:/e%3A/PROJECTS_2023/Python_Personal_Repository/Notebooks/Conceptos_Basicos.ipynb#X21sZmlsZQ%3D%3D?line=2'>3</a>\u001b[0m \u001b[39mprint\u001b[39m(numberr)\n",
            "\u001b[1;31mNameError\u001b[0m: name 'numberr' is not defined"
          ]
        }
      ],
      "source": [
        "number = 4\n",
        "\n",
        "print(numberr) #Este es un error en el nombre de la variable "
      ]
    },
    {
      "attachments": {},
      "cell_type": "markdown",
      "metadata": {
        "id": "oIGNTmPCpR_8"
      },
      "source": [
        "**Solo para fines demostrativos esta seria la forma correcta**"
      ]
    },
    {
      "cell_type": "code",
      "execution_count": 6,
      "metadata": {
        "colab": {
          "base_uri": "https://localhost:8080/"
        },
        "id": "SKs9l9NOpWHE",
        "outputId": "e622f4bb-2c2b-4a9b-9877-5bbc25b5f804"
      },
      "outputs": [
        {
          "name": "stdout",
          "output_type": "stream",
          "text": [
            "4\n"
          ]
        }
      ],
      "source": [
        "number = 4\n",
        "\n",
        "print(number)"
      ]
    },
    {
      "attachments": {},
      "cell_type": "markdown",
      "metadata": {
        "id": "hIp1EkkJrLX4"
      },
      "source": [
        "# Tipos de Datos"
      ]
    },
    {
      "attachments": {},
      "cell_type": "markdown",
      "metadata": {
        "id": "oqI__N9rqZfO"
      },
      "source": [
        "## Cadenas"
      ]
    },
    {
      "attachments": {},
      "cell_type": "markdown",
      "metadata": {
        "id": "5YmEsGmKry4A"
      },
      "source": [
        "Este tipo de dato se caracteriza por ser una cadena de caracteres, en python se pueden declarar este tipo de variables con comillas simples o dobles."
      ]
    },
    {
      "cell_type": "code",
      "execution_count": 7,
      "metadata": {
        "id": "8pxZr6m8sI7s"
      },
      "outputs": [],
      "source": [
        "cadena = \"Hola Python\"\n",
        "\n",
        "otra_cadena = 'This is also a string.'"
      ]
    },
    {
      "cell_type": "code",
      "execution_count": 8,
      "metadata": {
        "id": "q2WnnwrLqfDA"
      },
      "outputs": [],
      "source": [
        "string_combinated = \"The language 'Python' is named after Monty Python, not the snake.\""
      ]
    },
    {
      "attachments": {},
      "cell_type": "markdown",
      "metadata": {
        "id": "C1JG4wBPum9Y"
      },
      "source": [
        "### Metodos de cadenas\n",
        "\n",
        "Python cuenta con metodos incorporados para tratar este tipo de datos. Algunos de ellos son:"
      ]
    },
    {
      "attachments": {},
      "cell_type": "markdown",
      "metadata": {},
      "source": [
        "* title()\n",
        "\n",
        "El método title() aparece después de la variable en la instrucción print().\n",
        "Un método es una acción que Python puede realizar en un dato. El\n",
        "dot (.) después de name en name.title() le dice a Python que cree el método title()\n",
        "Actúe sobre el nombre de la variable."
      ]
    },
    {
      "cell_type": "code",
      "execution_count": 9,
      "metadata": {},
      "outputs": [
        {
          "name": "stdout",
          "output_type": "stream",
          "text": [
            "Ada Lovelace\n"
          ]
        }
      ],
      "source": [
        "name = \"ada lovelace\"\n",
        "print(name.title())"
      ]
    },
    {
      "cell_type": "code",
      "execution_count": 10,
      "metadata": {},
      "outputs": [
        {
          "name": "stdout",
          "output_type": "stream",
          "text": [
            "Adalovelace\n"
          ]
        }
      ],
      "source": [
        "name = \"adalovelace\"\n",
        "print(name.title())"
      ]
    },
    {
      "attachments": {},
      "cell_type": "markdown",
      "metadata": {},
      "source": [
        "**Podemos ver como el metodo toma las primeras letras de cada palabra y convierte la primera en mayuscula, python detecta\n",
        "los espacios vacios para separar las palabras**"
      ]
    },
    {
      "attachments": {},
      "cell_type": "markdown",
      "metadata": {},
      "source": [
        "* lower()\n",
        "* upper()\n",
        "\n",
        "El método lower() es particularmente útil para almacenar datos. Muchas veces\n",
        "No querrá confiar en las mayúsculas que proporcionan sus usuarios, por lo que\n",
        "Convierta las cadenas a minúsculas antes de almacenarlas. Luego, cuando quieras\n",
        "Mostrar la información, usará el caso que tenga más sentido para\n",
        "cada cadena."
      ]
    },
    {
      "cell_type": "code",
      "execution_count": 11,
      "metadata": {
        "id": "TI6WJSIXuyQi"
      },
      "outputs": [
        {
          "name": "stdout",
          "output_type": "stream",
          "text": [
            "ADA LOVELACE\n",
            "ada lovelace\n"
          ]
        }
      ],
      "source": [
        "name = \"Ada Lovelace\"\n",
        "print(name.upper())\n",
        "print(name.lower())"
      ]
    },
    {
      "attachments": {},
      "cell_type": "markdown",
      "metadata": {},
      "source": [
        "**Estos metodos son sencillos de entender, como nota debemos considerar que se toman todos los caracteres para el metodo**"
      ]
    },
    {
      "attachments": {},
      "cell_type": "markdown",
      "metadata": {},
      "source": [
        "* Combinar cadenas\n",
        "\n",
        "Python nos permite concatenar dos variables de tipo cadena en otra variable por ejemplo: "
      ]
    },
    {
      "cell_type": "code",
      "execution_count": 12,
      "metadata": {},
      "outputs": [
        {
          "name": "stdout",
          "output_type": "stream",
          "text": [
            "ada lovelace\n",
            "Ada Lovelace\n"
          ]
        }
      ],
      "source": [
        "first_name = \"ada\"\n",
        "last_name = \"lovelace\"\n",
        "full_name = first_name + \" \" + last_name\n",
        "print(full_name)\n",
        "\n",
        "print(full_name.title())"
      ]
    },
    {
      "attachments": {},
      "cell_type": "markdown",
      "metadata": {},
      "source": [
        "**Por su parte podemos aplicar los metodos vistos anteriormente para los nombres, es importante considerar que Python\n",
        "usa el operador + para concatenar estas dos variables.**"
      ]
    },
    {
      "cell_type": "code",
      "execution_count": 13,
      "metadata": {},
      "outputs": [
        {
          "name": "stdout",
          "output_type": "stream",
          "text": [
            "Hello, Ada Lovelace! usamos Python\n"
          ]
        }
      ],
      "source": [
        "print(\"Hello, \" + full_name.title() + \"!\" + \" usamos Python\")"
      ]
    },
    {
      "cell_type": "code",
      "execution_count": 14,
      "metadata": {},
      "outputs": [
        {
          "ename": "TypeError",
          "evalue": "can only concatenate str (not \"int\") to str",
          "output_type": "error",
          "traceback": [
            "\u001b[1;31m---------------------------------------------------------------------------\u001b[0m",
            "\u001b[1;31mTypeError\u001b[0m                                 Traceback (most recent call last)",
            "\u001b[1;32me:\\PROJECTS_2023\\Python_Personal_Repository\\Notebooks\\Conceptos_Basicos.ipynb Cell 36\u001b[0m in \u001b[0;36m1\n\u001b[1;32m----> <a href='vscode-notebook-cell:/e%3A/PROJECTS_2023/Python_Personal_Repository/Notebooks/Conceptos_Basicos.ipynb#X50sZmlsZQ%3D%3D?line=0'>1</a>\u001b[0m \u001b[39mprint\u001b[39m(\u001b[39m\"\u001b[39m\u001b[39mHello, \u001b[39m\u001b[39m\"\u001b[39m \u001b[39m+\u001b[39m full_name\u001b[39m.\u001b[39mtitle() \u001b[39m+\u001b[39m \u001b[39m\"\u001b[39m\u001b[39m!\u001b[39m\u001b[39m\"\u001b[39m \u001b[39m+\u001b[39m \u001b[39m\"\u001b[39m\u001b[39m usamos Python\u001b[39m\u001b[39m\"\u001b[39m \u001b[39m+\u001b[39m \u001b[39m3\u001b[39m)\n",
            "\u001b[1;31mTypeError\u001b[0m: can only concatenate str (not \"int\") to str"
          ]
        }
      ],
      "source": [
        "print(\"Hello, \" + full_name.title() + \"!\" + \" usamos Python\" + 3)"
      ]
    },
    {
      "attachments": {},
      "cell_type": "markdown",
      "metadata": {},
      "source": [
        "**Tambien podemos combinar la variable previa con nuevos caracteres y pero no con otros tipos de datos**"
      ]
    },
    {
      "cell_type": "code",
      "execution_count": 15,
      "metadata": {},
      "outputs": [
        {
          "name": "stdout",
          "output_type": "stream",
          "text": [
            "Hello, Ada Lovelace!\n"
          ]
        }
      ],
      "source": [
        "message = \"Hello, \" + full_name.title() + \"!\"\n",
        "print(message)"
      ]
    },
    {
      "attachments": {},
      "cell_type": "markdown",
      "metadata": {},
      "source": [
        "**De igual forma podemos guardar el mensaje concatenado en una nueva variable**"
      ]
    },
    {
      "attachments": {},
      "cell_type": "markdown",
      "metadata": {},
      "source": [
        "* Adding Whitespace to Strings with Tabs or Newlines\n",
        "\n",
        "En programación, el espacio en blanco se refiere a cualquier carácter no imprimible, como\n",
        "espacios, tabulaciones y símbolos de final de línea. Puede usar espacios en blanco para organizar\n",
        "su salida para que sea más fácil de leer para los usuarios."
      ]
    },
    {
      "cell_type": "code",
      "execution_count": 16,
      "metadata": {},
      "outputs": [
        {
          "name": "stdout",
          "output_type": "stream",
          "text": [
            "Python\n",
            "\tPython\n"
          ]
        }
      ],
      "source": [
        "print(\"Python\")\n",
        "\n",
        "print(\"\\tPython\")\n",
        "\n",
        "# El \\t agrega en Python un valor conocido como tabulacion o identacion la cual es muy importante en funciones, ciclos y clases"
      ]
    },
    {
      "cell_type": "code",
      "execution_count": 17,
      "metadata": {},
      "outputs": [
        {
          "name": "stdout",
          "output_type": "stream",
          "text": [
            "Languages:\n",
            "Python\n",
            "C\n",
            "JavaScript\n"
          ]
        }
      ],
      "source": [
        "print(\"Languages:\\nPython\\nC\\nJavaScript\")"
      ]
    },
    {
      "attachments": {},
      "cell_type": "markdown",
      "metadata": {},
      "source": [
        "**Al usar \\n agregamos lo que se conoce como salto de linea**"
      ]
    },
    {
      "cell_type": "code",
      "execution_count": 18,
      "metadata": {},
      "outputs": [
        {
          "name": "stdout",
          "output_type": "stream",
          "text": [
            "Languages:\n",
            "\tPython\n",
            "\tC\n",
            "\tJavaScript\n"
          ]
        }
      ],
      "source": [
        "print(\"Languages:\\n\\tPython\\n\\tC\\n\\tJavaScript\")"
      ]
    },
    {
      "attachments": {},
      "cell_type": "markdown",
      "metadata": {},
      "source": [
        "**Podemos combinar ambos para formar una nueva impresion de pantalla**"
      ]
    },
    {
      "attachments": {},
      "cell_type": "markdown",
      "metadata": {},
      "source": [
        "* Stripping Whitespace\n",
        "\n",
        "Python puede buscar espacios en blanco adicionales en los lados derecho e izquierdo de un\n",
        "cadena. Para asegurarse de que no existe ningún espacio en blanco en el extremo derecho de una cadena, utilice\n",
        "El método rstrip()."
      ]
    },
    {
      "cell_type": "code",
      "execution_count": 19,
      "metadata": {},
      "outputs": [
        {
          "data": {
            "text/plain": [
              "'python '"
            ]
          },
          "execution_count": 19,
          "metadata": {},
          "output_type": "execute_result"
        }
      ],
      "source": [
        "favorite_language = 'python '\n",
        "favorite_language\n",
        "\n"
      ]
    },
    {
      "cell_type": "code",
      "execution_count": 20,
      "metadata": {},
      "outputs": [
        {
          "data": {
            "text/plain": [
              "'python '"
            ]
          },
          "execution_count": 20,
          "metadata": {},
          "output_type": "execute_result"
        }
      ],
      "source": [
        "favorite_language.rstrip()\n",
        "favorite_language"
      ]
    },
    {
      "cell_type": "code",
      "execution_count": 21,
      "metadata": {},
      "outputs": [
        {
          "data": {
            "text/plain": [
              "'python'"
            ]
          },
          "execution_count": 21,
          "metadata": {},
          "output_type": "execute_result"
        }
      ],
      "source": [
        "favorite_language = 'python '\n",
        "favorite_language = favorite_language.rstrip()\n",
        "favorite_language"
      ]
    },
    {
      "attachments": {},
      "cell_type": "markdown",
      "metadata": {},
      "source": [
        "**Eliminar espacios es importante sobre todo por un posible error de codificacion al momento de estar programando**"
      ]
    },
    {
      "attachments": {},
      "cell_type": "markdown",
      "metadata": {},
      "source": [
        "También puede quitar espacios en blanco del lado izquierdo de una cadena mediante el botón\n",
        "Método lstrip() o strip espacios en blanco de ambos lados a la vez usando strip():"
      ]
    },
    {
      "cell_type": "code",
      "execution_count": 22,
      "metadata": {},
      "outputs": [
        {
          "data": {
            "text/plain": [
              "' python'"
            ]
          },
          "execution_count": 22,
          "metadata": {},
          "output_type": "execute_result"
        }
      ],
      "source": [
        "favorite_language = ' python '\n",
        "favorite_language.rstrip()\n",
        "\n",
        "#Eliminando el espaciado de la izquierda"
      ]
    },
    {
      "cell_type": "code",
      "execution_count": 23,
      "metadata": {},
      "outputs": [
        {
          "data": {
            "text/plain": [
              "'python '"
            ]
          },
          "execution_count": 23,
          "metadata": {},
          "output_type": "execute_result"
        }
      ],
      "source": [
        "favorite_language = ' python '\n",
        "favorite_language.lstrip()\n",
        "#Eliminando el espaciado de la derecha\n"
      ]
    },
    {
      "cell_type": "code",
      "execution_count": 24,
      "metadata": {},
      "outputs": [
        {
          "data": {
            "text/plain": [
              "'python'"
            ]
          },
          "execution_count": 24,
          "metadata": {},
          "output_type": "execute_result"
        }
      ],
      "source": [
        "favorite_language = ' python '\n",
        "favorite_language.strip()\n",
        "\n",
        "#Eliminando ambos espaciados"
      ]
    },
    {
      "attachments": {},
      "cell_type": "markdown",
      "metadata": {},
      "source": [
        "* Errores con apostrofos o comillas simples y dobles"
      ]
    },
    {
      "cell_type": "code",
      "execution_count": 25,
      "metadata": {},
      "outputs": [
        {
          "name": "stdout",
          "output_type": "stream",
          "text": [
            "One of Python's strengths is its diverse community.\n"
          ]
        }
      ],
      "source": [
        "message = \"One of Python's strengths is its diverse community.\"\n",
        "print(message)"
      ]
    },
    {
      "cell_type": "code",
      "execution_count": 26,
      "metadata": {},
      "outputs": [
        {
          "ename": "SyntaxError",
          "evalue": "unterminated string literal (detected at line 1) (1265700866.py, line 1)",
          "output_type": "error",
          "traceback": [
            "\u001b[1;36m  Cell \u001b[1;32mIn [26], line 1\u001b[1;36m\u001b[0m\n\u001b[1;33m    message = 'One of Python's strengths is its diverse community.'\u001b[0m\n\u001b[1;37m                                                                  ^\u001b[0m\n\u001b[1;31mSyntaxError\u001b[0m\u001b[1;31m:\u001b[0m unterminated string literal (detected at line 1)\n"
          ]
        }
      ],
      "source": [
        "message = 'One of Python's strengths is its diverse community.'\n",
        "print(message)"
      ]
    },
    {
      "attachments": {},
      "cell_type": "markdown",
      "metadata": {},
      "source": [
        "**Como podemos ver el usar el mismo tipo de comilla causara errores al momento de ejecutar el codigo, es recomendable usar la forma de arriba con comillas dobles y simples combinadas**"
      ]
    },
    {
      "attachments": {},
      "cell_type": "markdown",
      "metadata": {},
      "source": [
        "## Numeros"
      ]
    },
    {
      "attachments": {},
      "cell_type": "markdown",
      "metadata": {},
      "source": [
        "Los números se usan con bastante frecuencia en la programación para mantener la puntuación en los juegos, representar\n",
        "datos en visualizaciones, almacenar información en aplicaciones web, etc.\n",
        "\n",
        "Python trata los números de varias maneras diferentes, dependiendo de cómo\n",
        "se están utilizando. Veamos primero cómo Python maneja los enteros, porque son los más sencillos con los que trabajar."
      ]
    },
    {
      "attachments": {},
      "cell_type": "markdown",
      "metadata": {},
      "source": [
        "### Enteros"
      ]
    },
    {
      "attachments": {},
      "cell_type": "markdown",
      "metadata": {},
      "source": [
        "* Operaciones basicas\n",
        "\n",
        "Se pueden realizar las operaciones basicas suma,resta,multiplicacion y division"
      ]
    },
    {
      "cell_type": "code",
      "execution_count": null,
      "metadata": {},
      "outputs": [
        {
          "name": "stdout",
          "output_type": "stream",
          "text": [
            "5\n",
            "1\n",
            "6\n",
            "1.5\n"
          ]
        }
      ],
      "source": [
        "s = 2 + 3\n",
        "\n",
        "r = 3 - 2\n",
        "\n",
        "m = 2 * 3\n",
        "\n",
        "d = 3 / 2\n",
        "\n",
        "print(s,r,m,d,sep=\"\\n\")"
      ]
    },
    {
      "attachments": {},
      "cell_type": "markdown",
      "metadata": {},
      "source": [
        "* Exponentes\n",
        "\n"
      ]
    },
    {
      "cell_type": "code",
      "execution_count": null,
      "metadata": {},
      "outputs": [
        {
          "data": {
            "text/plain": [
              "9"
            ]
          },
          "execution_count": 40,
          "metadata": {},
          "output_type": "execute_result"
        }
      ],
      "source": [
        "3 ** 2"
      ]
    },
    {
      "cell_type": "code",
      "execution_count": null,
      "metadata": {},
      "outputs": [
        {
          "data": {
            "text/plain": [
              "27"
            ]
          },
          "execution_count": 41,
          "metadata": {},
          "output_type": "execute_result"
        }
      ],
      "source": [
        "3 ** 3"
      ]
    },
    {
      "cell_type": "code",
      "execution_count": null,
      "metadata": {},
      "outputs": [
        {
          "data": {
            "text/plain": [
              "1000000"
            ]
          },
          "execution_count": 42,
          "metadata": {},
          "output_type": "execute_result"
        }
      ],
      "source": [
        "10 ** 6"
      ]
    },
    {
      "attachments": {},
      "cell_type": "markdown",
      "metadata": {},
      "source": [
        "Python también admite el orden de las operaciones, por lo que puede usar varios\n",
        "operaciones en una expresión. También puede utilizar paréntesis para modificar el\n",
        "orden de las operaciones para que Python pueda evaluar su expresión en el orden\n",
        "usted especifica. Por ejemplo:"
      ]
    },
    {
      "cell_type": "code",
      "execution_count": null,
      "metadata": {},
      "outputs": [
        {
          "data": {
            "text/plain": [
              "14"
            ]
          },
          "execution_count": 43,
          "metadata": {},
          "output_type": "execute_result"
        }
      ],
      "source": [
        "2 + 3*4"
      ]
    },
    {
      "cell_type": "code",
      "execution_count": null,
      "metadata": {},
      "outputs": [
        {
          "data": {
            "text/plain": [
              "20"
            ]
          },
          "execution_count": 44,
          "metadata": {},
          "output_type": "execute_result"
        }
      ],
      "source": [
        "(2 + 3) * 4"
      ]
    },
    {
      "attachments": {},
      "cell_type": "markdown",
      "metadata": {},
      "source": [
        "**El espacio entre los numeros y los operadores no representa importancia para Python**"
      ]
    },
    {
      "attachments": {},
      "cell_type": "markdown",
      "metadata": {},
      "source": [
        "### Flotantes"
      ]
    },
    {
      "attachments": {},
      "cell_type": "markdown",
      "metadata": {},
      "source": [
        "Python llama flotante a cualquier número con un punto decimal. Este término se utiliza en\n",
        "la mayoría de los lenguajes de programación, y se refiere al hecho de que un punto decimal\n",
        "puede aparecer en cualquier posición de un número."
      ]
    },
    {
      "cell_type": "code",
      "execution_count": null,
      "metadata": {},
      "outputs": [
        {
          "data": {
            "text/plain": [
              "5.1"
            ]
          },
          "execution_count": 45,
          "metadata": {},
          "output_type": "execute_result"
        }
      ],
      "source": [
        "0.1+5"
      ]
    },
    {
      "cell_type": "code",
      "execution_count": null,
      "metadata": {},
      "outputs": [
        {
          "data": {
            "text/plain": [
              "0.1"
            ]
          },
          "execution_count": 46,
          "metadata": {},
          "output_type": "execute_result"
        }
      ],
      "source": [
        "0.2 - 0.1"
      ]
    },
    {
      "cell_type": "code",
      "execution_count": null,
      "metadata": {},
      "outputs": [
        {
          "data": {
            "text/plain": [
              "0.2"
            ]
          },
          "execution_count": 47,
          "metadata": {},
          "output_type": "execute_result"
        }
      ],
      "source": [
        "2 * 0.1"
      ]
    },
    {
      "cell_type": "code",
      "execution_count": null,
      "metadata": {},
      "outputs": [
        {
          "data": {
            "text/plain": [
              "0.4"
            ]
          },
          "execution_count": 48,
          "metadata": {},
          "output_type": "execute_result"
        }
      ],
      "source": [
        "2 * 0.2"
      ]
    },
    {
      "cell_type": "code",
      "execution_count": null,
      "metadata": {},
      "outputs": [
        {
          "data": {
            "text/plain": [
              "0.30000000000000004"
            ]
          },
          "execution_count": 49,
          "metadata": {},
          "output_type": "execute_result"
        }
      ],
      "source": [
        "0.2 + 0.1"
      ]
    },
    {
      "cell_type": "code",
      "execution_count": null,
      "metadata": {},
      "outputs": [
        {
          "data": {
            "text/plain": [
              "0.30000000000000004"
            ]
          },
          "execution_count": 50,
          "metadata": {},
          "output_type": "execute_result"
        }
      ],
      "source": [
        "3 * 0.1"
      ]
    },
    {
      "attachments": {},
      "cell_type": "markdown",
      "metadata": {},
      "source": [
        "Python intenta\n",
        "encontrar una manera de representar el resultado con la mayor precisión posible, que a veces es\n",
        "difícil dado que las computadoras tienen que representar números internamente.\n",
        "\n",
        "**Es importante considerar que todas las operaciones con flotantes, daran un resultando con valor flotante**"
      ]
    },
    {
      "cell_type": "code",
      "execution_count": 27,
      "metadata": {},
      "outputs": [
        {
          "ename": "TypeError",
          "evalue": "can only concatenate str (not \"int\") to str",
          "output_type": "error",
          "traceback": [
            "\u001b[1;31m---------------------------------------------------------------------------\u001b[0m",
            "\u001b[1;31mTypeError\u001b[0m                                 Traceback (most recent call last)",
            "\u001b[1;32me:\\PROJECTS_2023\\Python_Personal_Repository\\Notebooks\\Conceptos_Basicos.ipynb Cell 81\u001b[0m in \u001b[0;36m2\n\u001b[0;32m      <a href='vscode-notebook-cell:/e%3A/PROJECTS_2023/Python_Personal_Repository/Notebooks/Conceptos_Basicos.ipynb#Y143sZmlsZQ%3D%3D?line=0'>1</a>\u001b[0m age \u001b[39m=\u001b[39m \u001b[39m23\u001b[39m\n\u001b[1;32m----> <a href='vscode-notebook-cell:/e%3A/PROJECTS_2023/Python_Personal_Repository/Notebooks/Conceptos_Basicos.ipynb#Y143sZmlsZQ%3D%3D?line=1'>2</a>\u001b[0m message \u001b[39m=\u001b[39m \u001b[39m\"\u001b[39m\u001b[39mHappy \u001b[39m\u001b[39m\"\u001b[39m \u001b[39m+\u001b[39m age \u001b[39m+\u001b[39m \u001b[39m\"\u001b[39m\u001b[39mrd Birthday!\u001b[39m\u001b[39m\"\u001b[39m\n\u001b[0;32m      <a href='vscode-notebook-cell:/e%3A/PROJECTS_2023/Python_Personal_Repository/Notebooks/Conceptos_Basicos.ipynb#Y143sZmlsZQ%3D%3D?line=2'>3</a>\u001b[0m \u001b[39mprint\u001b[39m(message)\n",
            "\u001b[1;31mTypeError\u001b[0m: can only concatenate str (not \"int\") to str"
          ]
        }
      ],
      "source": [
        "age = 23\n",
        "message = \"Happy \" + age + \"rd Birthday!\"\n",
        "print(message)"
      ]
    },
    {
      "attachments": {},
      "cell_type": "markdown",
      "metadata": {},
      "source": [
        "Cuando usamos variables tipo numericas y cadenas, y queramos concatenar debemos hacer uso de la conversion de datos o casteo como comunmente se le conoce."
      ]
    },
    {
      "cell_type": "code",
      "execution_count": null,
      "metadata": {},
      "outputs": [
        {
          "name": "stdout",
          "output_type": "stream",
          "text": [
            "Happy 23rd Birthday!\n"
          ]
        }
      ],
      "source": [
        "age = 23\n",
        "message = \"Happy \" + str(age) + \"rd Birthday!\"\n",
        "print(message)"
      ]
    },
    {
      "attachments": {},
      "cell_type": "markdown",
      "metadata": {},
      "source": [
        "## Comentarios"
      ]
    },
    {
      "attachments": {},
      "cell_type": "markdown",
      "metadata": {},
      "source": [
        "Los comentarios son una característica extremadamente útil en la mayoría de los lenguajes de programación.\n",
        "Todo lo que has escrito en tus programas hasta ahora es código Python.\n",
        "Los programas se vuelven más largos y complicados, debe agregar notas dentro de\n",
        "sus programas que describen su enfoque general del problema que está\n",
        "resolver."
      ]
    },
    {
      "cell_type": "code",
      "execution_count": 28,
      "metadata": {},
      "outputs": [
        {
          "name": "stdout",
          "output_type": "stream",
          "text": [
            "Hello Python people!\n"
          ]
        }
      ],
      "source": [
        "# Say hello to everyone.\n",
        "print(\"Hello Python people!\")"
      ]
    },
    {
      "attachments": {},
      "cell_type": "markdown",
      "metadata": {},
      "source": [
        "**El interprete de Python, ignorara cualquier linea que empiece con #, al decir que lo ignora no quiere decir que no pase por el interprete, sino que lo tomara como un comentario**"
      ]
    },
    {
      "attachments": {},
      "cell_type": "markdown",
      "metadata": {},
      "source": [
        "Cuando estés determinando si escribir un comentario, pregúntate si\n",
        "se tuvo que considerar varios enfoques antes de llegar a un\n",
        "forma de hacer que algo funcione; Si es así, escriba un comentario sobre su solución.\n",
        "\n",
        "Es mucho más fácil eliminar comentarios adicionales más adelante que volver atrás.\n",
        "y escribir comentarios para un programa escasamente comentado."
      ]
    },
    {
      "attachments": {},
      "cell_type": "markdown",
      "metadata": {},
      "source": [
        "**El uso de los comentarios es muy util tanto para ti como para otras personas que vean tu codigo.**"
      ]
    },
    {
      "attachments": {},
      "cell_type": "markdown",
      "metadata": {},
      "source": [
        "## Zen of Python"
      ]
    },
    {
      "attachments": {},
      "cell_type": "markdown",
      "metadata": {},
      "source": [
        "Los programadores experimentados de Python lo alentarán a evitar la complejidad\n",
        "y apunte a la simplicidad siempre que sea posible. La comunidad Python\n",
        "La filosofía está contenida en \"El Zen de Python\" de Tim Peters."
      ]
    },
    {
      "cell_type": "code",
      "execution_count": null,
      "metadata": {},
      "outputs": [
        {
          "name": "stdout",
          "output_type": "stream",
          "text": [
            "The Zen of Python, by Tim Peters\n",
            "\n",
            "Beautiful is better than ugly.\n",
            "Explicit is better than implicit.\n",
            "Simple is better than complex.\n",
            "Complex is better than complicated.\n",
            "Flat is better than nested.\n",
            "Sparse is better than dense.\n",
            "Readability counts.\n",
            "Special cases aren't special enough to break the rules.\n",
            "Although practicality beats purity.\n",
            "Errors should never pass silently.\n",
            "Unless explicitly silenced.\n",
            "In the face of ambiguity, refuse the temptation to guess.\n",
            "There should be one-- and preferably only one --obvious way to do it.\n",
            "Although that way may not be obvious at first unless you're Dutch.\n",
            "Now is better than never.\n",
            "Although never is often better than *right* now.\n",
            "If the implementation is hard to explain, it's a bad idea.\n",
            "If the implementation is easy to explain, it may be a good idea.\n",
            "Namespaces are one honking great idea -- let's do more of those!\n"
          ]
        }
      ],
      "source": [
        "import this"
      ]
    },
    {
      "attachments": {},
      "cell_type": "markdown",
      "metadata": {},
      "source": [
        "El Zen de Python, de Tim Peters\n",
        "\n",
        "Hermoso es mejor que feo.\n",
        "\n",
        "Explícito es mejor que implícito.\n",
        "\n",
        "Lo simple es mejor que lo complejo.\n",
        "\n",
        "Complejo es mejor que complicado.\n",
        "\n",
        "Plano es mejor que anidado.\n",
        "\n",
        "Disperso es mejor que denso.\n",
        "\n",
        "La legibilidad cuenta.\n",
        "\n",
        "Los casos especiales no son lo suficientemente especiales como para romper las reglas.\n",
        "\n",
        "Aunque la practicidad le gana a la pureza.\n",
        "\n",
        "Los errores nunca deben pasar en silencio.\n",
        "\n",
        "A menos que se silencie explícitamente.\n",
        "\n",
        "Frente a la ambigüedad, rechace la tentación de adivinar.\n",
        "\n",
        "Debe haber una, y preferiblemente solo una, forma obvia de hacerlo.\n",
        "\n",
        "Aunque esa manera puede no ser obvia al principio a menos que seas holandés.\n",
        "\n",
        "Ahora es mejor que nunca.\n",
        "\n",
        "Aunque nunca suele ser mejor que *ahora mismo* ahora.\n",
        "\n",
        "Si la implementación es difícil de explicar, es una mala idea.\n",
        "\n",
        "Si la implementación es fácil de explicar, puede ser una buena idea.\n",
        "\n",
        "Los espacios de nombres son una gran idea, ¡hagamos más de eso!"
      ]
    },
    {
      "attachments": {},
      "cell_type": "markdown",
      "metadata": {},
      "source": [
        "**El Zen de Python es muy importante al iniciar en este lenguaje, te recordara el porque estas programando en Python y el porque de como hacer las cosas**"
      ]
    },
    {
      "attachments": {},
      "cell_type": "markdown",
      "metadata": {},
      "source": [
        "# Ejercicios para el lector"
      ]
    },
    {
      "attachments": {},
      "cell_type": "markdown",
      "metadata": {},
      "source": [
        "* 2-1. Mensaje simple: almacene un mensaje en una variable y luego impríma ese mensaje.\n",
        "\n",
        "* 2-2. Mensajes simples: almacene un mensaje en una variable e imprima ese mensaje.\n",
        "Luego cambie el valor de su variable a un nuevo mensaje e imprima el nuevo mensaje."
      ]
    },
    {
      "attachments": {},
      "cell_type": "markdown",
      "metadata": {},
      "source": [
        "* 2-3 Mensaje personal: almacene el nombre de una persona en una variable e imprima un mensaje\n",
        "de esa persona Su mensaje debe ser simple, como, \"Hola Eric,\n",
        "¿Te gustaría aprender algo de Python hoy?”\n",
        "\n",
        "* 2-4. Casos de nombres: almacene el nombre de una persona en una variable y luego imprima el nombre de esa persona.\n",
        "nombre en minúsculas, mayúsculas y título.\n",
        "\n",
        "* 2-5. Cita famosa: encuentra una cita de una persona famosa que admires. Imprime el\n",
        "cita y el nombre de su autor. Su salida debe parecerse a la\n",
        "siguiente, incluyendo las comillas:\n",
        "Albert Einstein dijo una vez: “Una persona que nunca hizo una\n",
        "error nunca probé nada nuevo.”\n",
        "\n",
        "* 2-6. Cita famosa 2: Repita el ejercicio 2-5, pero esta vez guarde la información de la persona famosa.\n",
        "nombre en una variable llamada persona_famosa. Luego redacta tu mensaje\n",
        "y almacenarlo en una nueva variable llamada mensaje. Imprime tu mensaje.\n",
        "\n",
        "* 2-7. Eliminación de nombres: almacene el nombre de una persona e incluya algunos espacios en blanco\n",
        "caracteres al principio y al final del nombre. Asegúrese de usar cada\n",
        "combinación de caracteres, \"\\t\" y \"\\n\", al menos una vez.\n",
        "Imprima el nombre una vez, de modo que se muestre el espacio en blanco alrededor del nombre.\n",
        "Luego imprima el nombre usando cada una de las tres funciones de eliminación, lstrip(),\n",
        "rstrip() y tira()."
      ]
    },
    {
      "attachments": {},
      "cell_type": "markdown",
      "metadata": {},
      "source": [
        "* 2-8. Número Ocho: Escribir sumas, restas, multiplicaciones y divisiones\n",
        "operaciones que dan como resultado el número 8. Asegúrese de incluir sus operaciones\n",
        "en extractos impresos para ver los resultados. Debes crear cuatro líneas que se vean\n",
        "como esto:\n",
        "print(5 + 3)\n",
        "Su salida debería ser simplemente cuatro líneas con el número 8 apareciendo una vez\n",
        "en cada línea.\n",
        "\n",
        "* 2-9. Número Favorito: Guarda tu número favorito en una variable. Entonces, usando\n",
        "esa variable, cree un mensaje que revele su número favorito. imprime eso\n",
        "mensaje."
      ]
    },
    {
      "attachments": {},
      "cell_type": "markdown",
      "metadata": {},
      "source": [
        "* 2-10. Adición de comentarios: elija dos de los programas que ha escrito y\n",
        "agregue al menos un comentario a cada uno. Si no tienes nada específico que escribir\n",
        "debido a que sus programas son demasiado simples en este punto, solo agregue su nombre y\n",
        "la fecha actual en la parte superior de cada archivo de programa. Luego escribe una oración\n",
        "describiendo lo que hace el programa."
      ]
    },
    {
      "attachments": {},
      "cell_type": "markdown",
      "metadata": {},
      "source": [
        "* 2-11. Zen of Python: Ingrese import this en una sesión de terminal de Python y hojee\n",
        "a través de los principios adicionales."
      ]
    }
  ],
  "metadata": {
    "colab": {
      "collapsed_sections": [
        "uB3J9iDAg-DC"
      ],
      "provenance": []
    },
    "kernelspec": {
      "display_name": "Python 3",
      "name": "python3"
    },
    "language_info": {
      "codemirror_mode": {
        "name": "ipython",
        "version": 3
      },
      "file_extension": ".py",
      "mimetype": "text/x-python",
      "name": "python",
      "nbconvert_exporter": "python",
      "pygments_lexer": "ipython3",
      "version": "3.10.7"
    }
  },
  "nbformat": 4,
  "nbformat_minor": 0
}
