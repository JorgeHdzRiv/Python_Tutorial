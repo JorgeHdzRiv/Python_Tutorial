{
 "cells": [
  {
   "attachments": {},
   "cell_type": "markdown",
   "metadata": {},
   "source": [
    "# Introduccion"
   ]
  },
  {
   "attachments": {},
   "cell_type": "markdown",
   "metadata": {},
   "source": [
    "La mayoría de los programas están escritos para resolver un problema de usuario final. Para ello, por lo general es necesario obtener información del usuario. \n",
    "\n",
    "También aprenderá cómo mantener los programas funcionando siempre y cuando los usuarios quieran hacerlo, para que puedan entrar tanta información como sea necesario; entonces, su programa puede trabajar con esa información. \n",
    "\n",
    "Usted utilizará el bucle while mientras que mantiene los programas funcionando siempre que ciertas condiciones sigan siendo verdaderas. \n",
    "\n"
   ]
  },
  {
   "attachments": {},
   "cell_type": "markdown",
   "metadata": {},
   "source": [
    "# Cómo funciona la función input()"
   ]
  },
  {
   "attachments": {},
   "cell_type": "markdown",
   "metadata": {},
   "source": [
    "La función *input()* pausa el programa y espera que el usuario entre en un poco de texto. Una vez que Python recibe la entrada del usuario, la almacena en una variable para que sea conveniente para ti. \n",
    "\n",
    "Por ejemplo, el siguiente programa le pide al usuario que introduzca algún texto y, a continuación, mostrará ese mensaje al usuario: \n"
   ]
  },
  {
   "cell_type": "code",
   "execution_count": 1,
   "metadata": {},
   "outputs": [
    {
     "name": "stdout",
     "output_type": "stream",
     "text": [
      "hola\n"
     ]
    }
   ],
   "source": [
    "message = input(\"Tell me something, and I will repeat it back to you: \")\n",
    "print(message)"
   ]
  },
  {
   "attachments": {},
   "cell_type": "markdown",
   "metadata": {},
   "source": [
    "La función input() toma un argumento: el prompt, o las instrucciones, \n",
    "que queremos mostrar al usuario para que sepan qué hacer. \n",
    "\n",
    "En este ejemplo, cuando Python ejecuta la primera línea, el usuario ve el prompt decirme algo, y se lo repito de nuevo a usted: \n",
    "\n",
    "El programa espera mientras el usuario entra en su respuesta y continúa después de que el usuario ingrese. \n"
   ]
  },
  {
   "attachments": {},
   "cell_type": "markdown",
   "metadata": {},
   "source": [
    "## Escribiendo entradas limpias"
   ]
  },
  {
   "attachments": {},
   "cell_type": "markdown",
   "metadata": {},
   "source": [
    "Cada vez que utilice la función input(), debe incluir un indicador de seguimiento claro y fácil de seguir que le indique al usuario exactamente qué tipo de información está buscando.\n",
    "\n",
    "Cualquier instrucción que indique al usuario qué debe trabajar debe funcionar. Por ejemplo: "
   ]
  },
  {
   "cell_type": "code",
   "execution_count": 7,
   "metadata": {},
   "outputs": [
    {
     "name": "stdout",
     "output_type": "stream",
     "text": [
      "Hello, !\n"
     ]
    }
   ],
   "source": [
    "name = input(\"Please enter your name: \")\n",
    "print(\"Hello, \" + name + \"!\")"
   ]
  },
  {
   "attachments": {},
   "cell_type": "markdown",
   "metadata": {},
   "source": [
    "A veces quedra escribir un aviso que sea más largo que una línea. Por ejemplo, es posible que desee decirle al usuario por qué está solicitando cierta entrada.\n",
    "\n",
    "Puede almacenar su aviso en una variable y pasar esa variable a la función *input()*. Esto le permite construir su solicitud en varias líneas, luego escribir una declaración de entrada () limpia."
   ]
  },
  {
   "cell_type": "code",
   "execution_count": 8,
   "metadata": {},
   "outputs": [
    {
     "name": "stdout",
     "output_type": "stream",
     "text": [
      "\n",
      "Hello, !\n"
     ]
    }
   ],
   "source": [
    "prompt = \"If you tell us who you are, we can personalize the messages you see.\"\n",
    "prompt += \"\\nWhat is your first name? \"\n",
    "\n",
    "name = input(prompt)\n",
    "print(\"\\nHello, \" + name + \"!\")"
   ]
  },
  {
   "attachments": {},
   "cell_type": "markdown",
   "metadata": {},
   "source": [
    "## Uso de int() para aceptar entradas numéricas"
   ]
  },
  {
   "attachments": {},
   "cell_type": "markdown",
   "metadata": {},
   "source": [
    "Cuando usas la función *input()*, Python interpreta todo lo que ingresa el usuario como una cadena.\n",
    "\n",
    "Considere la siguiente sesión de interpretación, que solicita la edad del usuario:"
   ]
  },
  {
   "cell_type": "code",
   "execution_count": 1,
   "metadata": {},
   "outputs": [
    {
     "data": {
      "text/plain": [
       "'21'"
      ]
     },
     "execution_count": 1,
     "metadata": {},
     "output_type": "execute_result"
    }
   ],
   "source": [
    "age = input(\"How old are you? \")\n",
    "\n",
    "age"
   ]
  },
  {
   "attachments": {},
   "cell_type": "markdown",
   "metadata": {},
   "source": [
    "El usuario ingresa el número 21, pero cuando le preguntamos a Python por el valor de la edad, devuelve '21', la representación de cadena del valor numérico ingresado.\n",
    "\n",
    "Sabemos que Python interpretó la entrada como una cadena porque el número ahora está entre comillas. Si todo lo que quiere hacer es imprimir la entrada, esto funciona bien.\n",
    "\n",
    "Pero si intenta usar la entrada como un número, obtendrá un error:"
   ]
  },
  {
   "cell_type": "code",
   "execution_count": 10,
   "metadata": {},
   "outputs": [
    {
     "ename": "TypeError",
     "evalue": "'>=' not supported between instances of 'str' and 'int'",
     "output_type": "error",
     "traceback": [
      "\u001b[1;31m---------------------------------------------------------------------------\u001b[0m",
      "\u001b[1;31mTypeError\u001b[0m                                 Traceback (most recent call last)",
      "Cell \u001b[1;32mIn[10], line 3\u001b[0m\n\u001b[0;32m      1\u001b[0m age \u001b[39m=\u001b[39m \u001b[39minput\u001b[39m(\u001b[39m\"\u001b[39m\u001b[39mHow old are you? \u001b[39m\u001b[39m\"\u001b[39m)\n\u001b[1;32m----> 3\u001b[0m age \u001b[39m>\u001b[39;49m\u001b[39m=\u001b[39;49m \u001b[39m18\u001b[39;49m\n",
      "\u001b[1;31mTypeError\u001b[0m: '>=' not supported between instances of 'str' and 'int'"
     ]
    }
   ],
   "source": [
    "age = input(\"How old are you? \")\n",
    "\n",
    "age >= 18\n"
   ]
  },
  {
   "attachments": {},
   "cell_type": "markdown",
   "metadata": {},
   "source": [
    "Podemos resolver este problema usando la función int(), que le dice a Python que trate la entrada como un valor numérico. \n",
    "\n",
    "La función int() convierte una representación de cadena de un número en una representación numérica, como se muestra aquí:"
   ]
  },
  {
   "cell_type": "code",
   "execution_count": 2,
   "metadata": {},
   "outputs": [
    {
     "data": {
      "text/plain": [
       "True"
      ]
     },
     "execution_count": 2,
     "metadata": {},
     "output_type": "execute_result"
    }
   ],
   "source": [
    "age = input(\"How old are you? \") #21\n",
    "\n",
    "age = int(age)\n",
    "age >= 18\n"
   ]
  },
  {
   "attachments": {},
   "cell_type": "markdown",
   "metadata": {},
   "source": [
    "¿Cómo se usa la función *int()* en un programa real? Considere un programa que determina si las personas son lo suficientemente altas como para subirse a una montaña rusa:"
   ]
  },
  {
   "cell_type": "code",
   "execution_count": null,
   "metadata": {},
   "outputs": [
    {
     "name": "stdout",
     "output_type": "stream",
     "text": [
      "\n",
      "You'll be able to ride when you're a little older.\n"
     ]
    }
   ],
   "source": [
    "height = input(\"How tall are you, in inches? \")\n",
    "height = int(height)\n",
    "\n",
    "if height >= 36:\n",
    "    print(\"\\nYou're tall enough to ride!\")\n",
    "else:\n",
    "    print(\"\\nYou'll be able to ride when you're a little older.\")"
   ]
  },
  {
   "attachments": {},
   "cell_type": "markdown",
   "metadata": {},
   "source": [
    "Cuando utilice la entrada numérica para hacer cálculos y comparaciones, asegúrese de convertir primero el valor de entrada en una representación numérica."
   ]
  },
  {
   "attachments": {},
   "cell_type": "markdown",
   "metadata": {},
   "source": [
    "## El operador modulo"
   ]
  },
  {
   "attachments": {},
   "cell_type": "markdown",
   "metadata": {},
   "source": [
    "Una herramienta útil para trabajar con información numérica es el *operador módulo (%)*, que divide un número entre otro número y devuelve el resto:"
   ]
  },
  {
   "cell_type": "code",
   "execution_count": null,
   "metadata": {},
   "outputs": [
    {
     "name": "stdout",
     "output_type": "stream",
     "text": [
      "1\n",
      "2\n",
      "0\n"
     ]
    }
   ],
   "source": [
    "print(4 % 3)\n",
    "\n",
    "print(5 % 3)\n",
    "\n",
    "print(6 % 3)"
   ]
  },
  {
   "attachments": {},
   "cell_type": "markdown",
   "metadata": {},
   "source": [
    "El operador módulo no te dice cuántas veces cabe un número en otro; simplemente te dice cuál es el resto.\n",
    "\n",
    "Cuando un número es divisible por otro número, el resto es 0, por lo que el operador de módulo siempre devuelve 0. Puedes usar este hecho para determinar si un número es par o impar:"
   ]
  },
  {
   "cell_type": "code",
   "execution_count": null,
   "metadata": {},
   "outputs": [
    {
     "name": "stdout",
     "output_type": "stream",
     "text": [
      "\n",
      "The number 29 is odd.\n"
     ]
    }
   ],
   "source": [
    "number = input(\"Enter a number, and I'll tell you if it's even or odd: \")\n",
    "number = int(number)\n",
    "\n",
    "if number % 2 == 0:\n",
    "    print(\"\\nThe number \" + str(number) + \" is even.\")\n",
    "else:\n",
    "    print(\"\\nThe number \" + str(number) + \" is odd.\")"
   ]
  },
  {
   "attachments": {},
   "cell_type": "markdown",
   "metadata": {},
   "source": [
    "# Introduccion a los ciclos While"
   ]
  },
  {
   "attachments": {},
   "cell_type": "markdown",
   "metadata": {},
   "source": [
    "El bucle for toma una colección de elementos y ejecuta un bloque de código una vez para cada elemento de la colección. \n",
    "\n",
    "Por el contrario, el bucle while se ejecuta mientras una determinada condición sea verdadera."
   ]
  },
  {
   "attachments": {},
   "cell_type": "markdown",
   "metadata": {},
   "source": [
    "## El ciclo while en acción"
   ]
  },
  {
   "attachments": {},
   "cell_type": "markdown",
   "metadata": {},
   "source": [
    "Puede usar un bucle while para contar una serie de números.\n",
    "\n",
    "Por ejemplo, el siguiente ciclo while cuenta de 1 a 5:"
   ]
  },
  {
   "cell_type": "code",
   "execution_count": null,
   "metadata": {},
   "outputs": [
    {
     "name": "stdout",
     "output_type": "stream",
     "text": [
      "1\n",
      "2\n",
      "3\n",
      "4\n",
      "5\n"
     ]
    }
   ],
   "source": [
    "# Counting\n",
    "current_number = 1\n",
    "\n",
    "while current_number <= 5:\n",
    "    print(current_number)\n",
    "    current_number += 1"
   ]
  },
  {
   "attachments": {},
   "cell_type": "markdown",
   "metadata": {},
   "source": [
    "En la primera línea, empezamos a contar desde 1 estableciendo el valor de\n",
    "número_actual a 1. El ciclo while se configura para seguir ejecutándose siempre que el valor de número_actual sea menor o igual a 5. El código dentro del ciclo imprime el valor de número_actual y luego agrega 1 a ese valor con número_actual += 1 .\n",
    "\n",
    "(El operador += es una abreviatura de current_number = número_actual + 1.)"
   ]
  },
  {
   "attachments": {},
   "cell_type": "markdown",
   "metadata": {},
   "source": [
    "## Dejar que el usuario elija cuándo salir"
   ]
  },
  {
   "attachments": {},
   "cell_type": "markdown",
   "metadata": {},
   "source": [
    "Podemos hacer que el programa se ejecute todo el tiempo que el usuario quiera poniendo\n",
    "la mayor parte del programa dentro de un bucle while. Definiremos un valor de salida y luego mantendremos el programa ejecutándose mientras el usuario no haya ingresado el valor de salida:"
   ]
  },
  {
   "cell_type": "code",
   "execution_count": null,
   "metadata": {},
   "outputs": [
    {
     "name": "stdout",
     "output_type": "stream",
     "text": [
      "hola\n",
      "mundo\n",
      "quit\n"
     ]
    }
   ],
   "source": [
    "#parrot\n",
    "\n",
    "prompt = \"\\nTell me something, and I will repeat it back to you:\"\n",
    "prompt += \"\\nEnter 'quit' to end the program. \"\n",
    "\n",
    "message = \"\"\n",
    "while message != 'quit':\n",
    "    message = input(prompt)\n",
    "    print(message)"
   ]
  },
  {
   "attachments": {},
   "cell_type": "markdown",
   "metadata": {},
   "source": [
    "Este programa funciona bien, excepto que imprime la palabra 'salir' como si fuera un mensaje real. Una simple prueba *if* soluciona esto:"
   ]
  },
  {
   "cell_type": "code",
   "execution_count": null,
   "metadata": {},
   "outputs": [
    {
     "name": "stdout",
     "output_type": "stream",
     "text": [
      "hola\n",
      "\n",
      "d\n"
     ]
    }
   ],
   "source": [
    "prompt = \"\\nTell me something, and I will repeat it back to you:\"\n",
    "prompt += \"\\nEnter 'quit' to end the program. \"\n",
    "message = \"\"\n",
    "\n",
    "while message != 'quit':\n",
    "    message = input(prompt)\n",
    "    \n",
    "    if message != 'quit':\n",
    "        print(message)"
   ]
  },
  {
   "attachments": {},
   "cell_type": "markdown",
   "metadata": {},
   "source": [
    "**La diferencia radica en que al teclear la palabra \"quit\" ya no se nos muestra en pantalla, solo finaliza nuestro programa**"
   ]
  },
  {
   "attachments": {},
   "cell_type": "markdown",
   "metadata": {},
   "source": [
    "## Usando una bandera"
   ]
  },
  {
   "attachments": {},
   "cell_type": "markdown",
   "metadata": {},
   "source": [
    "Para un programa que debe ejecutarse sólo mientras se cumplan muchas condiciones,puede definir una variable que determine si todo el programa es o no está activo.\n",
    "\n",
    "Esta variable, llamada bandera, actúa como una señal para el programa. Nosotros podemos escribir nuestros programas para que se ejecuten mientras el indicador está establecido en True y dejen de ejecutarse\n",
    "cuando cualquiera de varios eventos establece el valor del indicador en False. \n",
    "\n",
    "Como resultado, nuestra declaración general while necesita verificar solo una condición: si o\n",
    "no la bandera es actualmente True. Luego, todas nuestras otras pruebas (para ver si un evento tiene\n",
    "ocurrió que debería establecer el indicador en False) se puede organizar perfectamente en el resto\n",
    "del programa."
   ]
  },
  {
   "cell_type": "code",
   "execution_count": null,
   "metadata": {},
   "outputs": [
    {
     "name": "stdout",
     "output_type": "stream",
     "text": [
      "hola\n"
     ]
    }
   ],
   "source": [
    "prompt = \"\\nTell me something, and I will repeat it back to you:\"\n",
    "prompt += \"\\nEnter 'quit' to end the program. \"\n",
    "\n",
    "active = True\n",
    "while active:\n",
    "    message = input(prompt)\n",
    "    if message == 'quit':\n",
    "        active = False\n",
    "    else:\n",
    "        print(message)"
   ]
  },
  {
   "attachments": {},
   "cell_type": "markdown",
   "metadata": {},
   "source": [
    "Este programa tiene la misma salida que el ejemplo anterior donde\n",
    "colocó la prueba condicional directamente en la instrucción while. Pero ahora que\n",
    "tener un indicador para indicar si el programa general está en un estado activo, sería fácil agregar más pruebas (como instrucciones ELIF) para eventos que\n",
    "debería hacer que active se convierta en False."
   ]
  },
  {
   "attachments": {},
   "cell_type": "markdown",
   "metadata": {},
   "source": [
    "## Usando break para salir de un bucle"
   ]
  },
  {
   "attachments": {},
   "cell_type": "markdown",
   "metadata": {},
   "source": [
    "Para salir de un bucle while inmediatamente sin ejecutar ningún código restante en el directorio, independientemente de los resultados de cualquier prueba condicional, utilice la instrucción break.\n",
    "\n",
    "La instrucción de interrupción dirige el flujo del programa; Puede usarlo para controlar\n",
    "qué líneas de código se ejecutan y cuáles no, por lo que el programa solo ejecuta el código que usted desea, cuando usted quiere.\n",
    "\n",
    "Por ejemplo, considere un programa que pregunta al usuario sobre los lugares que ha visitado. Podemos detener el bucle while en este programa llamando a break tan pronto\n",
    "Cuando el usuario introduce el valor 'Quit':"
   ]
  },
  {
   "cell_type": "code",
   "execution_count": null,
   "metadata": {},
   "outputs": [
    {
     "name": "stdout",
     "output_type": "stream",
     "text": [
      "I'd love to go to London!\n",
      "I'd love to go to Tokyo!\n"
     ]
    }
   ],
   "source": [
    "prompt = \"\\nPlease enter the name of a city you have visited:\"\n",
    "prompt += \"\\n(Enter 'quit' when you are finished.) \"\n",
    "\n",
    "while True:\n",
    "    city = input(prompt)\n",
    "    if city == 'quit':\n",
    "        break\n",
    "    else:\n",
    "        print(\"I'd love to go to \" + city.title() + \"!\")"
   ]
  },
  {
   "attachments": {},
   "cell_type": "markdown",
   "metadata": {},
   "source": [
    "**Puedes usar la instrucción break en cualquiera de los bucles de Python. Por ejemplo, podría usar\n",
    "Ibreak para salir de un bucle FOR que funciona a través de una lista o un diccionario.**"
   ]
  },
  {
   "attachments": {},
   "cell_type": "markdown",
   "metadata": {},
   "source": [
    "## Uso de continue en un bucle"
   ]
  },
  {
   "attachments": {},
   "cell_type": "markdown",
   "metadata": {},
   "source": [
    "En lugar de salir de un bucle por completo sin ejecutar el resto de su codigo, puede utilizar la instrucción continue para volver al principio de la basado en el resultado de una prueba condicional. \n",
    "\n",
    "Por ejemplo, considere un bucle que cuenta del 1 al 10, pero imprime solo los números impares en ese rango:"
   ]
  },
  {
   "cell_type": "code",
   "execution_count": null,
   "metadata": {},
   "outputs": [
    {
     "name": "stdout",
     "output_type": "stream",
     "text": [
      "1\n",
      "3\n",
      "5\n",
      "7\n",
      "9\n"
     ]
    }
   ],
   "source": [
    "current_number = 0\n",
    "\n",
    "while current_number < 10:\n",
    "    current_number += 1\n",
    "    if current_number % 2 == 0:\n",
    "        continue\n",
    "    print(current_number)"
   ]
  },
  {
   "attachments": {},
   "cell_type": "markdown",
   "metadata": {},
   "source": [
    "## Evitar bucles infinitos"
   ]
  },
  {
   "attachments": {},
   "cell_type": "markdown",
   "metadata": {},
   "source": [
    "Cada bucle necesita una forma de dejar de funcionar para que no continúe ejecutándose para siempre.\n",
    "Por ejemplo, este bucle de conteo debe contar del 1 al 5:"
   ]
  },
  {
   "cell_type": "code",
   "execution_count": null,
   "metadata": {},
   "outputs": [
    {
     "name": "stdout",
     "output_type": "stream",
     "text": [
      "1\n",
      "2\n",
      "3\n",
      "4\n",
      "5\n"
     ]
    }
   ],
   "source": [
    "x = 1\n",
    "while x <= 5:\n",
    "    print(x)\n",
    "    x += 1"
   ]
  },
  {
   "attachments": {},
   "cell_type": "markdown",
   "metadata": {},
   "source": [
    "Pero si omite accidentalmente la línea x += 1 (como se muestra a continuación), el bucle\n",
    "se ejecutará para siempre:"
   ]
  },
  {
   "cell_type": "code",
   "execution_count": 12,
   "metadata": {},
   "outputs": [
    {
     "data": {
      "text/plain": [
       "'\\nx = 1\\nwhile x <= 5:\\n    print(x)\\n'"
      ]
     },
     "execution_count": 12,
     "metadata": {},
     "output_type": "execute_result"
    }
   ],
   "source": [
    "# This loop runs forever!\n",
    "\"\"\"\n",
    "x = 1\n",
    "while x <= 5:\n",
    "    print(x)\n",
    "\"\"\"\n",
    "    "
   ]
  },
  {
   "attachments": {},
   "cell_type": "markdown",
   "metadata": {},
   "source": [
    "Cada programador escribe accidentalmente un bucle de tiempo infinito desde el tiempo\n",
    "al tiempo, especialmente cuando los bucles de un programa tienen condiciones de salida sutiles. Si\n",
    "su programa se atasca en un bucle infinito, presione ctrl-C o simplemente cierre el botón ventana de terminal que muestra la salida del programa.\n",
    "\n",
    "Para evitar escribir bucles infinitos, pruebe cada bucle y asegúrese de que el bucle se detiene cuando esperas. \n",
    "\n",
    "Si desea que su programa finalice cuando el usuario introduzca un determinado valor de entrada, ejecute el programa y escriba ese valor. Si el programa no termina, examine la forma en que su programa\n",
    "controla el valor que debería provocar el cierre del bucle. \n",
    "\n",
    "Asegúrese de que al menos una parte del programa puede hacer que la condición del bucle sea falsa o causarla\n",
    "para llegar a una declaración de descanso."
   ]
  },
  {
   "attachments": {},
   "cell_type": "markdown",
   "metadata": {},
   "source": [
    "# Usar un bucle while con listas y diccionarios"
   ]
  },
  {
   "attachments": {},
   "cell_type": "markdown",
   "metadata": {},
   "source": [
    "Hasta ahora, hemos trabajado con solo una pieza de información de usuario a la vez. \n",
    "\n",
    "Nosotros recibimos la entrada del usuario y luego se imprimió la entrada o una respuesta a ella.\n",
    "\n",
    "La próxima vez a través del bucle while, recibiríamos otro valor de entrada\n",
    "y responder a eso. Pero para realizar un seguimiento de muchos usuarios y piezas de información,necesitaremos usar listas y diccionarios con nuestros bucles while.\n",
    "\n",
    "Un bucle for es eficaz para recorrer una lista, pero no debe modificarlo\n",
    "una lista dentro de un bucle for porque Python tendrá problemas para realizar un seguimiento de la\n",
    "de la lista. \n",
    "\n",
    "Para modificar una lista a medida que avanza en ella, utilice un bucle while.\n",
    "\n",
    "El uso de bucles while con listas y diccionarios le permite recopilar, almacenar y\n",
    "Organice muchas entradas para examinar e informar más adelante."
   ]
  },
  {
   "attachments": {},
   "cell_type": "markdown",
   "metadata": {},
   "source": [
    "## Mover elementos de una lista a otra"
   ]
  },
  {
   "attachments": {},
   "cell_type": "markdown",
   "metadata": {},
   "source": [
    "Considere una lista de usuarios recién registrados pero no verificados de un sitio web.\n",
    " \n",
    "Después de verificar estos usuarios, ¿cómo podemos moverlos a una lista separada de usuarios confirmados? Una forma sería usar un bucle while para extraer usuarios de la lista de usuarios no confirmados a medida que los verificamos y luego agregarlos a una lista separada de usuarios confirmados. \n",
    "\n",
    "Así es como se vería ese código:"
   ]
  },
  {
   "cell_type": "code",
   "execution_count": 15,
   "metadata": {},
   "outputs": [
    {
     "name": "stdout",
     "output_type": "stream",
     "text": [
      "Verifying user: Candace\n",
      "Verifying user: Brian\n",
      "Verifying user: Alice\n",
      "\n",
      "The following users have been confirmed:\n",
      "Candace\n",
      "Brian\n",
      "Alice\n"
     ]
    }
   ],
   "source": [
    "# Start with users that need to be verified, and an empty list to hold confirmed users.\n",
    "\n",
    "unconfirmed_users = ['alice', 'brian', 'candace']\n",
    "confirmed_users = []\n",
    "\n",
    "# Verify each user until there are no more unconfirmed users.\n",
    "# Move each verified user into the list of confirmed users.\n",
    "while unconfirmed_users:\n",
    "    current_user = unconfirmed_users.pop()\n",
    "    \n",
    "    print(\"Verifying user: \" + current_user.title())\n",
    "    confirmed_users.append(current_user)\n",
    "\n",
    "# Display all confirmed users.\n",
    "print(\"\\nThe following users have been confirmed:\")\n",
    "for confirmed_user in confirmed_users:\n",
    "    print(confirmed_user.title())\n",
    "\n"
   ]
  },
  {
   "attachments": {},
   "cell_type": "markdown",
   "metadata": {},
   "source": [
    "## Eliminar todas las instancias de valores específicos de una lista"
   ]
  },
  {
   "attachments": {},
   "cell_type": "markdown",
   "metadata": {},
   "source": [
    "La función remove() funcionó porque apareció el valor que nos interesaba\n",
    "solo una vez en la lista. Pero, ¿qué sucede si desea eliminar todas las instancias de un valor?\n",
    "de una lista?\n",
    "\n",
    "Digamos que tiene una lista de mascotas con el valor 'cat' repetido varias veces. Para eliminar todas las instancias de ese valor, puede ejecutar un bucle while hasta que 'cat' no sea no\n",
    "más largo en la lista, como se muestra aquí:"
   ]
  },
  {
   "cell_type": "code",
   "execution_count": 16,
   "metadata": {},
   "outputs": [
    {
     "name": "stdout",
     "output_type": "stream",
     "text": [
      "['dog', 'cat', 'dog', 'goldfish', 'cat', 'rabbit', 'cat']\n",
      "['dog', 'dog', 'goldfish', 'rabbit']\n"
     ]
    }
   ],
   "source": [
    "#pets.py\n",
    "pets = ['dog', 'cat', 'dog', 'goldfish', 'cat', 'rabbit', 'cat']\n",
    "print(pets)\n",
    "\n",
    "while 'cat' in pets:\n",
    "    pets.remove('cat')\n",
    "    \n",
    "print(pets)"
   ]
  },
  {
   "attachments": {},
   "cell_type": "markdown",
   "metadata": {},
   "source": [
    "**Una vez dentro del bucle, Python elimina la primera instancia de 'cat',\n",
    "Vuelve a la línea while y, a continuación, vuelve a entrar en el bucle cuando encuentra que 'cat' es\n",
    "todavía en la lista. Elimina cada instancia de 'cat' hasta que el valor ya no está en\n",
    "la lista, momento en el que Python sale del bucle e imprime la lista de nuevo**"
   ]
  },
  {
   "attachments": {},
   "cell_type": "markdown",
   "metadata": {},
   "source": [
    "## Llenar un diccionario con la entrada del usuario"
   ]
  },
  {
   "attachments": {},
   "cell_type": "markdown",
   "metadata": {},
   "source": [
    "Puede solicitar tanta entrada como necesite en cada pasada durante un bucle. \n",
    "\n",
    "Hagamos un programa de sondeo en el que cada uno pase por el bucle solicita el nombre y la respuesta del participante. \n",
    "\n",
    "Almacenaremos los datos que reunimos en un diccionario, porque queremos conectar cada respuesta con un\n",
    "Usuario particular:"
   ]
  },
  {
   "cell_type": "code",
   "execution_count": 19,
   "metadata": {},
   "outputs": [
    {
     "name": "stdout",
     "output_type": "stream",
     "text": [
      "\n",
      "--- Poll Results ---\n",
      "Jes would like to climb everest.\n"
     ]
    }
   ],
   "source": [
    "#mountain_poll.py\n",
    "\n",
    "responses = {}\n",
    "\n",
    "# Set a flag to indicate that polling is active.\n",
    "polling_active = True\n",
    "\n",
    "while polling_active:\n",
    "    # Prompt for the person's name and response.\n",
    "    name = input(\"\\nWhat is your name? \")\n",
    "    response = input(\"Which mountain would you like to climb someday? \")\n",
    "    \n",
    "    # Store the response in the dictionary:\n",
    "    responses[name] = response\n",
    "\n",
    "    # Find out if anyone else is going to take the poll.\n",
    "    repeat = input(\"Would you like to let another person respond? (yes/ no) \")\n",
    "    if repeat == 'no':\n",
    "        polling_active = False\n",
    "\n",
    "# Polling is complete. Show the results.\n",
    "print(\"\\n--- Poll Results ---\")\n",
    "for name, response in responses.items():\n",
    "    print(name + \" would like to climb \" + response + \".\")"
   ]
  },
  {
   "attachments": {},
   "cell_type": "markdown",
   "metadata": {},
   "source": [
    "# Ejercicios"
   ]
  },
  {
   "attachments": {},
   "cell_type": "markdown",
   "metadata": {},
   "source": [
    "### 7-1. Coche de alquiler o renta: \n",
    "\n",
    "Escribe un programa que le pregunte al usuario qué tipo de coche de alquiler \n",
    "gustaría. \n",
    "\n",
    "Imprimir un mensaje sobre ese coche, como por ejemplo, Déjame ver si te puedo encontrar.a Subaru.el \n"
   ]
  },
  {
   "attachments": {},
   "cell_type": "markdown",
   "metadata": {},
   "source": [
    "### 7-2. Asiento Restaurante: \n",
    "\n",
    "Escribe un programa que le pregunte al usuario cuántas personas hay en su grupo de cena. \n",
    "\n",
    "Si la respuesta es más de ocho, imprima un mensaje que diga \n",
    "tendrán que esperar por una mesa. De lo contrario, informe que su mesa está lista. \n"
   ]
  },
  {
   "attachments": {},
   "cell_type": "markdown",
   "metadata": {},
   "source": [
    "### 7-3. Múltiplos de diez: \n",
    "\n",
    "Pida al usuario un número y, a continuación, informe si el número es un múltiplo de 10 o no. \n"
   ]
  },
  {
   "attachments": {},
   "cell_type": "markdown",
   "metadata": {},
   "source": [
    "### 7-4. Toppings de la pizza: \n",
    "\n",
    "Escriba un bucle que solicite al usuario que introduzca una serie de \n",
    "coberturas de pizza hasta que introduzca un valor 'quit'. \n",
    "\n",
    "Al entrar en cada relleno, imprimir un mensaje diciendo que vamos a añadir que el topping a su pizza. \n"
   ]
  },
  {
   "attachments": {},
   "cell_type": "markdown",
   "metadata": {},
   "source": [
    "### 7-5. Entradas Películas: \n",
    "\n",
    "Un cine con diferentes precios de boletos dependiendo de \n",
    "la edad de una persona. Si una persona es menor de 3 años, el billete es gratis; si están entre 3 y 12, el billete es de $10; y si tienen más de 12 años, el billete es de $15.\n",
    "\n",
    "Escriba un bucle en el que solicite a los usuarios su edad y luego dígale el costo \n",
    "de su boleto de película. \n"
   ]
  },
  {
   "attachments": {},
   "cell_type": "markdown",
   "metadata": {},
   "source": [
    "### 7-6. Tres salidas: \n",
    "\n",
    "Escriba versiones diferentes de Ejercicio 7-4 o Ejercicio 7-5 que hagan cada uno de los siguientes al menos una vez: \n",
    "\n",
    "* Utilice una prueba condicional en la instrucción while para detener el bucle. \n",
    "* Utilice una variable activa para controlar cuánto tiempo corre el bucle. \n",
    "* Utilice una instrucción break para salir del bucle cuando el usuario entra en un valor 'quit'. \n"
   ]
  },
  {
   "attachments": {},
   "cell_type": "markdown",
   "metadata": {},
   "source": [
    "### 7-7. Infinito: \n",
    "\n",
    "Escriba un bucle que nunca termina y ejecutelo. (Para finalizar el bucle, presione ctrl-C o cierre la ventana mostrando la salida.) \n"
   ]
  },
  {
   "attachments": {},
   "cell_type": "markdown",
   "metadata": {},
   "source": [
    "### 7-8. Deli: \n",
    "\n",
    "Haga una lista llamada sandwich_orders y rellénela con los nombres de varios \n",
    "sándwiches. Luego haga una lista vacía llamada finished_sandwiches. \n",
    "\n",
    "Haga un loop a través de la lista de las órdenes de sándwich e imprimir un mensaje para cada orden, como hice su sándwich de atún. \n",
    "\n",
    "A medida que se realiza cada sándwich, muévalo a la lista de sándwiches acabados. Después de que todos los bocadillos se han hecho, imprimir un mensaje enumerando cada sándwich que se hizo. \n"
   ]
  },
  {
   "attachments": {},
   "cell_type": "markdown",
   "metadata": {},
   "source": [
    "### 7-9. No Pastrami: \n",
    "\n",
    "Usando la lista sandwich_orders del Ejercicio 7-8, asegúrese de que el sandwich 'pastrami' aparezca en la lista al menos tres veces. \n",
    "\n",
    "Agregue el código cerca del principio de su programa para imprimir un mensaje diciendo que el deli tiene \n",
    "se agotan de los pastrami y, a continuación, utilizar un bucle while para eliminar todas las ocurrencias de 'pastrami' de sandwich_orders. \n",
    "\n",
    "Asegúrese de que no hay bocadillos de pastrami terminados en sandwich_acabados. \n"
   ]
  },
  {
   "attachments": {},
   "cell_type": "markdown",
   "metadata": {},
   "source": [
    "### 7-10. Vacaciones de ensueño: \n",
    "\n",
    "Escribe un programa que encuesta a los usuarios sobre sus vacaciones de ensueños. \n",
    "\n",
    "Escribir un aviso similar a si pudieras visitar un lugar en el mundo, ¿a dónde irías? Incluir un bloque de código que imprime los resultados de la encuesta. \n"
   ]
  }
 ],
 "metadata": {
  "kernelspec": {
   "display_name": "Python 3",
   "language": "python",
   "name": "python3"
  },
  "language_info": {
   "codemirror_mode": {
    "name": "ipython",
    "version": 3
   },
   "file_extension": ".py",
   "mimetype": "text/x-python",
   "name": "python",
   "nbconvert_exporter": "python",
   "pygments_lexer": "ipython3",
   "version": "3.10.7"
  },
  "orig_nbformat": 4
 },
 "nbformat": 4,
 "nbformat_minor": 2
}
