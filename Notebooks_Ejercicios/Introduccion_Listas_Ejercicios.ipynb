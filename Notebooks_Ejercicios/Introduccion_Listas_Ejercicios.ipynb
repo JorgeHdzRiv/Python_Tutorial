{
 "cells": [
  {
   "attachments": {},
   "cell_type": "markdown",
   "metadata": {},
   "source": [
    "# Ejercicios"
   ]
  },
  {
   "attachments": {},
   "cell_type": "markdown",
   "metadata": {},
   "source": [
    "#### 3-1. Names: \n",
    "Store the names of a few of your friends in a list called names. Print\n",
    "each person’s name by accessing each element in the list, one at a time.\n",
    "\n",
    "#### 3-2. Greetings: \n",
    "Start with the list you used in Exercise 3-1, but instead of just\n",
    "printing each person’s name, print a message to them. The text of each message\n",
    "should be the same, but each message should be personalized with the\n",
    "person’s name.\n",
    "\n",
    "#### 3-3. Your Own List: \n",
    "Think of your favorite mode of transportation, such as a\n",
    "motorcycle or a car, and make a list that stores several examples. Use your list\n",
    "to print a series of statements about these items, such as “I would like to own a\n",
    "Honda motorcycle.”"
   ]
  },
  {
   "attachments": {},
   "cell_type": "markdown",
   "metadata": {},
   "source": [
    "#### 3-4. Guest List: \n",
    "If you could invite anyone, living or deceased, to dinner, who would you invite? Make a list that includes at least three people you’d like to\n",
    "invite to dinner. Then use your list to print a message to each person, inviting\n",
    "them to dinner.\n",
    "\n",
    "#### 3-5. Changing Guest List: \n",
    "You just heard that one of your guests can’t make the\n",
    "dinner, so you need to send out a new set of invitations. You’ll have to think of\n",
    "someone else to invite.\n",
    "\n",
    "* Start with your program from Exercise 3-4. Add a print statement at the\n",
    "end of your program stating the name of the guest who can’t make it.\n",
    "* Modify your list, replacing the name of the guest who can’t make it with\n",
    "the name of the new person you are inviting.\n",
    "* Print a second set of invitation messages, one for each person who is still\n",
    "in your list.\n",
    "\n",
    "#### 3-6. More Guests: \n",
    "You just found a bigger dinner table, so now more space is\n",
    "available. Think of three more guests to invite to dinner.\n",
    "* Start with your program from Exercise 3-4 or Exercise 3-5. Add a print\n",
    "statement to the end of your program informing people that you found a\n",
    "bigger dinner table.\n",
    "* Use insert() to add one new guest to the beginning of your list.\n",
    "* Use insert() to add one new guest to the middle of your list.\n",
    "* Use append() to add one new guest to the end of your list.\n",
    "* Print a new set of invitation messages, one for each person in your list.\n",
    "\n",
    "#### 3-7. Shrinking Guest List: \n",
    "You just found out that your new dinner table won’t\n",
    "arrive in time for the dinner, and you have space for only two guests.\n",
    "* Start with your program from Exercise 3-6. Add a new line that prints a\n",
    "message saying that you can invite only two people for dinner.\n",
    "* Use pop() to remove guests from your list one at a time until only two\n",
    "names remain in your list. Each time you pop a name from your list, print\n",
    "a message to that person letting them know you’re sorry you can’t invite\n",
    "them to dinner.\n",
    "* Print a message to each of the two people still on your list, letting them\n",
    "know they’re still invited.\n",
    "* Use del to remove the last two names from your list, so you have an empty\n",
    "list. Print your list to make sure you actually have an empty list at the end\n",
    "of your program."
   ]
  },
  {
   "attachments": {},
   "cell_type": "markdown",
   "metadata": {},
   "source": [
    "#### 3-8. Seeing the World: \n",
    "Think of at least five places in the world you’d like to visit.\n",
    "* Store the locations in a list. Make sure the list is not in alphabetical order.\n",
    "* Print your list in its original order. Don’t worry about printing the list neatly,\n",
    "just print it as a raw Python list.\n",
    "* Use sorted() to print your list in alphabetical order without modifying the\n",
    "actual list.\n",
    "* Show that your list is still in its original order by printing it.\n",
    "* Use sorted() to print your list in reverse alphabetical order without changing\n",
    "the order of the original list.\n",
    "* Show that your list is still in its original order by printing it again.\n",
    "* Use reverse() to change the order of your list. Print the list to show that its\n",
    "order has changed.\n",
    "* Use reverse() to change the order of your list again. Print the list to show\n",
    "it’s back to its original order.\n",
    "* Use sort() to change your list so it’s stored in alphabetical order. Print the\n",
    "list to show that its order has been changed.\n",
    "* Use sort() to change your list so it’s stored in reverse alphabetical order.\n",
    "Print the list to show that its order has changed."
   ]
  },
  {
   "attachments": {},
   "cell_type": "markdown",
   "metadata": {},
   "source": [
    "#### 3-9. Dinner Guests: \n",
    "Working with one of the programs from Exercises 3-4\n",
    "through 3-7, use len() to print a message indicating the number\n",
    "of people you are inviting to dinner."
   ]
  },
  {
   "attachments": {},
   "cell_type": "markdown",
   "metadata": {},
   "source": [
    "#### 3-10. Every Function: \n",
    "Think of something you could store in a list. \n",
    "\n",
    "For example,you could make a list of mountains, rivers, countries, cities, languages, or anything\n",
    "else you’d like. \n",
    "\n",
    "Write a program that creates a list containing these items and then uses each function introduced in this chapter at least once."
   ]
  },
  {
   "attachments": {},
   "cell_type": "markdown",
   "metadata": {},
   "source": [
    "#### 3-11. Intentional Error: \n",
    "If you haven’t received an index error in one of your\n",
    "programs yet, try to make one happen. Change an index in one of your programs\n",
    "to produce an index error. Make sure you correct the error before closing\n",
    "the program."
   ]
  }
 ],
 "metadata": {
  "kernelspec": {
   "display_name": "Python 3",
   "language": "python",
   "name": "python3"
  },
  "language_info": {
   "name": "python",
   "version": "3.10.7"
  },
  "orig_nbformat": 4
 },
 "nbformat": 4,
 "nbformat_minor": 2
}
