{
 "cells": [
  {
   "attachments": {},
   "cell_type": "markdown",
   "metadata": {},
   "source": [
    "# Ejercicios"
   ]
  },
  {
   "attachments": {},
   "cell_type": "markdown",
   "metadata": {},
   "source": [
    "#### 3-1. Nombres: \n",
    "Guarde los nombres de algunos de sus amigos en una lista llamada nombres. \n",
    "\n",
    "Imprimir el nombre de cada persona accediendo a cada elemento de la lista, uno a la vez."
   ]
  },
  {
   "cell_type": "code",
   "execution_count": 2,
   "metadata": {},
   "outputs": [
    {
     "name": "stdout",
     "output_type": "stream",
     "text": [
      "Mis amigos son: \n",
      "Juan\n",
      "Carlos\n",
      "Jesus\n",
      "Omar\n"
     ]
    }
   ],
   "source": [
    "names = ['Juan','Carlos','Jesus','Omar']\n",
    "\n",
    "print(\"Mis amigos son: \")\n",
    "for name in names:\n",
    "    print(name)"
   ]
  },
  {
   "attachments": {},
   "cell_type": "markdown",
   "metadata": {},
   "source": [
    "#### 3-2. Saludos: \n",
    "Comience con la lista que usó en el Ejercicio 3-1, pero en lugar de solo\n",
    "imprimiendo el nombre de cada persona, imprima un mensaje para ellos. \n",
    "\n",
    "El texto de cada mensaje debe ser el mismo, pero cada mensaje debe estar personalizado con el\n",
    "nombre de persona."
   ]
  },
  {
   "cell_type": "code",
   "execution_count": 3,
   "metadata": {},
   "outputs": [
    {
     "name": "stdout",
     "output_type": "stream",
     "text": [
      "Te presento a mi amigo Juan\n",
      "Te presento a mi amigo Carlos\n",
      "Te presento a mi amigo Jesus\n",
      "Te presento a mi amigo Omar\n"
     ]
    }
   ],
   "source": [
    "names = ['Juan','Carlos','Jesus','Omar']\n",
    "\n",
    "for name in names:\n",
    "    print(\"Te presento a mi amigo \"+name)"
   ]
  },
  {
   "attachments": {},
   "cell_type": "markdown",
   "metadata": {},
   "source": [
    "#### 3-3. Tu propia lista: \n",
    "Piense en su medio de transporte favorito, como una motocicleta o un automóvil, y haga una lista que almacene varios ejemplos. \n",
    "\n",
    "Usa tu lista para imprimir una serie de afirmaciones sobre estos elementos, como \"Me gustaría tener un\n",
    "Motocicleta Honda.”.”"
   ]
  },
  {
   "cell_type": "code",
   "execution_count": 6,
   "metadata": {},
   "outputs": [
    {
     "name": "stdout",
     "output_type": "stream",
     "text": [
      "Me gustaria tener un carro: Audi\n",
      "Me gustaria tener un carro: Mazda\n",
      "Me gustaria tener un carro: Nissan\n",
      "Me gustaria tener un carro: Toyota\n",
      "Me gustaria tener un carro: Tesla\n"
     ]
    }
   ],
   "source": [
    "cars = ['audi','mazda','nissan','toyota','tesla']\n",
    "\n",
    "for car in cars:\n",
    "    print(\"Me gustaria tener un carro: \"+car.title())"
   ]
  },
  {
   "attachments": {},
   "cell_type": "markdown",
   "metadata": {},
   "source": [
    "#### 3-4. Lista de invitados: \n",
    "Si pudieras invitar a alguien, vivo o fallecido, a cenar, ¿a quién invitarías? Haz una lista que incluya al menos tres personas a las que te gustaría invitar a cenar. \n",
    "\n",
    "Luego use su lista para imprimir un mensaje a cada persona, invitando a ellos a cenar."
   ]
  },
  {
   "cell_type": "code",
   "execution_count": 7,
   "metadata": {},
   "outputs": [
    {
     "name": "stdout",
     "output_type": "stream",
     "text": [
      "Me gustaria invitar a cenar a: Shakira\n",
      "Me gustaria invitar a cenar a: Henry Cavill\n",
      "Me gustaria invitar a cenar a: Messi\n",
      "Me gustaria invitar a cenar a: Cristiano Ronaldo\n",
      "Me gustaria invitar a cenar a: Nikola Tesla\n"
     ]
    }
   ],
   "source": [
    "guests = ['shakira','henry cavill','messi','cristiano ronaldo','nikola tesla']\n",
    "\n",
    "for guest in guests:\n",
    "    print(\"Me gustaria invitar a cenar a: \"+guest.title())"
   ]
  },
  {
   "attachments": {},
   "cell_type": "markdown",
   "metadata": {},
   "source": [
    "#### 3-5. Cambiando la lista de invitados: \n",
    "Acabas de escuchar que uno de tus invitados no puede asistir\n",
    "cena, por lo que debe enviar un nuevo conjunto de invitaciones. tendrás que pensar en\n",
    "otra persona a quien invitar.\n",
    "\n",
    "* Comience con su programa del Ejercicio 3-4. Agregue una declaración de impresión en el\n",
    "final de su programa indicando el nombre del invitado que no puede asistir.\n",
    "* Modifique su lista, reemplazando el nombre del invitado que no puede hacerlo con\n",
    "el nombre de la nueva persona que estás invitando.\n",
    "* Imprima un segundo conjunto de mensajes de invitación, uno para cada persona que todavía está\n",
    "en tu lista"
   ]
  },
  {
   "cell_type": "code",
   "execution_count": 14,
   "metadata": {},
   "outputs": [
    {
     "name": "stdout",
     "output_type": "stream",
     "text": [
      "Me gustaria invitar a cenar a: Shakira\n",
      "Me gustaria invitar a cenar a: Henry Cavill\n",
      "Me gustaria invitar a cenar a: Messi\n",
      "Me gustaria invitar a cenar a: Cristiano Ronaldo\n",
      "Me gustaria invitar a cenar a: Nikola Tesla\n",
      "Messi no puede asistir\n",
      "\n",
      "Nuevas invitaciones\n",
      "\n",
      "Me gustaria invitar a cenar a: Shakira\n",
      "Me gustaria invitar a cenar a: Henry Cavill\n",
      "Me gustaria invitar a cenar a: Cristiano Ronaldo\n",
      "Me gustaria invitar a cenar a: Nikola Tesla\n",
      "Me gustaria invitar a cenar a: Ronaldo\n"
     ]
    }
   ],
   "source": [
    "guests = ['shakira','henry cavill','messi','cristiano ronaldo','nikola tesla']\n",
    "\n",
    "for guest in guests:\n",
    "    print(\"Me gustaria invitar a cenar a: \"+guest.title())\n",
    "    \n",
    "print(guests[2].title()+\" no puede asistir\")\n",
    "\n",
    "guests.remove('messi')\n",
    "\n",
    "print(\"\\nNuevas invitaciones\\n\")\n",
    "\n",
    "guests.append('ronaldo')\n",
    "\n",
    "for guest in guests:\n",
    "    print(\"Me gustaria invitar a cenar a: \"+guest.title())"
   ]
  },
  {
   "attachments": {},
   "cell_type": "markdown",
   "metadata": {},
   "source": [
    "#### 3-6. Mas invitados: \n",
    "Acabas de encontrar una mesa de comedor más grande, así que ahora hay más espacio\n",
    "disponible. Piense en tres invitados más para invitar a cenar.\n",
    "\n",
    "* Comience con su programa del Ejercicio 3-4 o del Ejercicio 3-5. Añadir una impresión\n",
    "declaración al final de su programa informando a las personas que encontró un\n",
    "mesa de comedor más grande.\n",
    "* Use insert() para agregar un nuevo invitado al comienzo de su lista.\n",
    "* Use insert() para agregar un nuevo invitado al medio de su lista.\n",
    "* Use append() para agregar un nuevo invitado al final de su lista.\n",
    "* Imprima un nuevo conjunto de mensajes de invitación, uno para cada persona en su lista."
   ]
  },
  {
   "cell_type": "code",
   "execution_count": 19,
   "metadata": {},
   "outputs": [
    {
     "name": "stdout",
     "output_type": "stream",
     "text": [
      "Invitados actuales:  ['shakira', 'henry cavill', 'messi', 'cristiano ronaldo', 'nikola tesla']\n",
      "Los invitados actuales son:  6\n",
      "\n",
      "Enviar invitacion a: Ronaldo\n",
      "Enviar invitacion a: Shakira\n",
      "Enviar invitacion a: Henry Cavill\n",
      "Enviar invitacion a: Obama\n",
      "Enviar invitacion a: Messi\n",
      "Enviar invitacion a: Cristiano Ronaldo\n",
      "Enviar invitacion a: Nikola Tesla\n",
      "Enviar invitacion a: Bruce Lee\n"
     ]
    }
   ],
   "source": [
    "guests = ['shakira','henry cavill','messi','cristiano ronaldo','nikola tesla']\n",
    "\n",
    "print(\"Invitados actuales: \",guests)\n",
    "\n",
    "guests.insert(0,'ronaldo')\n",
    "print(\"Los invitados actuales son: \",len(guests))\n",
    "\n",
    "guests.insert(3,'obama')\n",
    "\n",
    "guests.append('bruce lee')\n",
    "\n",
    "print()\n",
    "for guest in guests:\n",
    "    print(\"Enviar invitacion a: \"+guest.title())\n"
   ]
  },
  {
   "attachments": {},
   "cell_type": "markdown",
   "metadata": {},
   "source": [
    "#### 3-7. Lista de invitados cada vez más pequeña: \n",
    "Acabas de descubrir que tu nueva mesa de comedor no\n",
    "llegue a tiempo para la cena, y tiene espacio para solo dos invitados.\n",
    "\n",
    "* Comience con su programa del Ejercicio 3-6. Agregue una nueva línea que imprima un\n",
    "mensaje que dice que solo puede invitar a dos personas a cenar.\n",
    "* Use pop () para eliminar invitados de su lista uno a la vez hasta que solo dos\n",
    "los nombres permanecen en su lista. Cada vez que saque un nombre de su lista, imprima\n",
    "un mensaje para esa persona haciéndole saber que lamentas no poder invitar\n",
    "ellos a cenar.\n",
    "* Imprima un mensaje para cada una de las dos personas que todavía están en su lista, dejándoles\n",
    "saben que todavía están invitados.\n",
    "* Use del para eliminar los dos últimos nombres de su lista, de modo que tenga un espacio vacío\n",
    "lista. Imprima su lista para asegurarse de que realmente tiene una lista vacía al final\n",
    "de tu programa"
   ]
  },
  {
   "cell_type": "code",
   "execution_count": 65,
   "metadata": {},
   "outputs": [
    {
     "name": "stdout",
     "output_type": "stream",
     "text": [
      "Invitados actuales:  ['shakira', 'henry cavill', 'messi', 'cristiano ronaldo', 'nikola tesla']\n",
      "La lista de invitados actual es:  ['ronaldo', 'shakira', 'henry cavill', 'obama', 'messi', 'cristiano ronaldo', 'nikola tesla', 'bruce lee']\n",
      "\n",
      "Solo se puede invitar a cenar a dos personas de: 8 en la lista\n",
      "\n",
      "Lo siento Bruce Lee no puedo invitarte\n",
      "Lo siento Nikola Tesla no puedo invitarte\n",
      "Lo siento Cristiano Ronaldo no puedo invitarte\n",
      "Lo siento Messi no puedo invitarte\n",
      "Lo siento Obama no puedo invitarte\n",
      "Lo siento Henry Cavill no puedo invitarte\n",
      "\n",
      "Nuevos invitados de nueva lista\n",
      "\n",
      "Te invito a mi fiesta: Ronaldo\n",
      "Te invito a mi fiesta: Shakira\n",
      "[]\n"
     ]
    }
   ],
   "source": [
    "#Pasos del ejercicio anterior\n",
    "guests = ['shakira','henry cavill','messi','cristiano ronaldo','nikola tesla']\n",
    "\n",
    "print(\"Invitados actuales: \",guests)\n",
    "\n",
    "guests.insert(0,'ronaldo')\n",
    "\n",
    "guests.insert(3,'obama')\n",
    "\n",
    "guests.append('bruce lee')\n",
    "\n",
    "print(\"La lista de invitados actual es: \",guests)\n",
    "\n",
    "print(\"\\nSolo se puede invitar a cenar a dos personas de:\",len(guests),\"en la lista\\n\")\n",
    "\n",
    "#Ciclo while para eliminar invitados si la lista es mayor a dos personas\n",
    "while len(guests) > 2:\n",
    "    last_guest = guests.pop()\n",
    "    print(\"Lo siento \"+last_guest.title()+\" no puedo invitarte\")\n",
    "\n",
    "print(\"\\nNuevos invitados de nueva lista\\n\")\n",
    "\n",
    "#Enviando invitacion a solo dos personas\n",
    "for guest in guests:\n",
    "    print(\"Te invito a mi fiesta: \"+guest.title())\n",
    "\n",
    "#Eliminando los dos ultimos invitados    \n",
    "del(guests[0])\n",
    "del(guests[0])\n",
    "\n",
    "print(guests)\n",
    "    "
   ]
  },
  {
   "attachments": {},
   "cell_type": "markdown",
   "metadata": {},
   "source": [
    "#### 3-8. Viendo el mundo: \n",
    "Piensa en al menos cinco lugares del mundo que te gustaría visitar.\n",
    "\n",
    "* Almacenar las ubicaciones en una lista. Asegúrese de que la lista no esté en orden alfabético.\n",
    "* Imprime tu lista en su orden original. No se preocupe por imprimir la lista ordenadamente,\n",
    "simplemente imprímalo como una lista de Python sin procesar.\n",
    "* Use sorted() para imprimir su lista en orden alfabético sin modificar el\n",
    "lista real.\n",
    "* Demuestre que su lista todavía está en su orden original imprimiéndola.\n",
    "* Use sorted() para imprimir su lista en orden alfabético inverso sin cambiar\n",
    "el orden de la lista original.\n",
    "* Demuestra que tu lista todavía está en su orden original imprimiéndola de nuevo.\n",
    "* Use reverse() para cambiar el orden de su lista. Imprima la lista para mostrar que su\n",
    "el orden ha cambiado.\n",
    "* Use reverse() para cambiar el orden de su lista nuevamente. Imprima la lista para mostrar\n",
    "ha vuelto a su orden original.\n",
    "* Use sort() para cambiar su lista para que se almacene en orden alfabético. Imprime el\n",
    "lista para mostrar que su orden ha sido cambiado.\n",
    "* Use sort() para cambiar su lista para que se almacene en orden alfabético inverso.\n",
    "Imprima la lista para mostrar que su orden ha cambiado."
   ]
  },
  {
   "cell_type": "code",
   "execution_count": 86,
   "metadata": {},
   "outputs": [
    {
     "name": "stdout",
     "output_type": "stream",
     "text": [
      "\n",
      "Primera lista ['japon', 'alemania', 'grecia', 'francia', 'brasil']\n",
      "\n",
      "Lista ordenada con sorted ['alemania', 'brasil', 'francia', 'grecia', 'japon']\n",
      "\n",
      "Lista original ['japon', 'alemania', 'grecia', 'francia', 'brasil']\n",
      "\n",
      "La lista en reversa es: ['brasil', 'francia', 'grecia', 'alemania', 'japon']\n",
      "\n",
      "La lista en reversa nuevamente es: ['japon', 'alemania', 'grecia', 'francia', 'brasil']\n",
      "\n",
      "La lista ordenada con sort es: ['alemania', 'brasil', 'francia', 'grecia', 'japon']\n",
      "\n",
      "La lista ordenada con sort inverso es: ['japon', 'grecia', 'francia', 'brasil', 'alemania']\n"
     ]
    }
   ],
   "source": [
    "places = ['japon','alemania','grecia','francia','brasil']\n",
    "\n",
    "print(\"\\nPrimera lista\",places)\n",
    "\n",
    "#Usando sorted()\n",
    "print(\"\\nLista ordenada con sorted\",sorted(places))\n",
    "\n",
    "#Lista original\n",
    "print(\"\\nLista original\",places)\n",
    "\n",
    "#Impresion inversa\n",
    "places.reverse()\n",
    "print(\"\\nLa lista en reversa es:\",places)\n",
    "\n",
    "#Reversa para lista original\n",
    "places.reverse()\n",
    "print(\"\\nLa lista en reversa nuevamente es:\",places)\n",
    "\n",
    "#Sort\n",
    "places.sort()\n",
    "print(\"\\nLa lista ordenada con sort es:\",places)\n",
    "\n",
    "#Sort argumento reverse\n",
    "places.sort(reverse=True)\n",
    "print(\"\\nLa lista ordenada con sort inverso es:\",places)"
   ]
  },
  {
   "attachments": {},
   "cell_type": "markdown",
   "metadata": {},
   "source": [
    "#### 3-9. Invitados a la cena: \n",
    "Trabajando con uno de los programas de los Ejercicios 3-4\n",
    "hasta 3-7, use len() para imprimir un mensaje que indique el número\n",
    "de personas a las que está invitando a cenar."
   ]
  },
  {
   "cell_type": "code",
   "execution_count": 88,
   "metadata": {},
   "outputs": [
    {
     "name": "stdout",
     "output_type": "stream",
     "text": [
      "Invitados actuales:  ['shakira', 'henry cavill', 'messi', 'cristiano ronaldo', 'nikola tesla']\n",
      "El numero de invitados es: 5\n"
     ]
    }
   ],
   "source": [
    "guests = ['shakira','henry cavill','messi','cristiano ronaldo','nikola tesla']\n",
    "\n",
    "print(\"Invitados actuales: \",guests)\n",
    "\n",
    "print(\"El numero de invitados es:\",len(guests))"
   ]
  },
  {
   "attachments": {},
   "cell_type": "markdown",
   "metadata": {},
   "source": [
    "#### 3-10. Cada funcion: \n",
    "Piensa en algo que podrías almacenar en una lista.\n",
    "\n",
    "Por ejemplo, podrías hacer una lista de montañas, ríos, países, ciudades, idiomas o cualquier cosa.\n",
    "más te gustaría.\n",
    "\n",
    "Escriba un programa que cree una lista que contenga estos elementos y luego use cada función presentada en este capítulo al menos una vez."
   ]
  },
  {
   "cell_type": "code",
   "execution_count": 95,
   "metadata": {},
   "outputs": [
    {
     "name": "stdout",
     "output_type": "stream",
     "text": [
      "El orden de la lista alfabetico es:  ['aguacate', 'fresa', 'manzana', 'pera']\n",
      "\n",
      "En la lista hay:  manzana\n",
      "Su indice es: 0\n",
      "En la lista hay:  aguacate\n",
      "Su indice es: 1\n",
      "En la lista hay:  pera\n",
      "Su indice es: 2\n",
      "En la lista hay:  fresa\n",
      "Su indice es: 3\n"
     ]
    }
   ],
   "source": [
    "fruits = ['manzana','aguacate','pera','fresa']\n",
    "\n",
    "print(\"El orden de la lista alfabetico es: \",sorted(fruits))\n",
    "\n",
    "print()\n",
    "for fruit in fruits:\n",
    "    print(\"En la lista hay: \",fruit)\n",
    "    print(\"Su indice es:\",fruits.index(fruit))"
   ]
  },
  {
   "attachments": {},
   "cell_type": "markdown",
   "metadata": {},
   "source": [
    "#### 3-11. Error intencional: \n",
    "Si no ha recibido un error de índice en uno de sus\n",
    "programas todavía, trate de hacer que uno suceda. \n",
    "\n",
    "Cambiar un índice en uno de sus programas para producir un error de índice. \n",
    "\n",
    "Asegúrese de corregir el error antes de cerrar el programa."
   ]
  },
  {
   "cell_type": "code",
   "execution_count": 96,
   "metadata": {},
   "outputs": [
    {
     "ename": "IndexError",
     "evalue": "list index out of range",
     "output_type": "error",
     "traceback": [
      "\u001b[1;31m---------------------------------------------------------------------------\u001b[0m",
      "\u001b[1;31mIndexError\u001b[0m                                Traceback (most recent call last)",
      "\u001b[1;32me:\\PROJECTS_2023\\Python_Personal_Repository\\Notebooks_Ejercicios\\Introduccion_Listas_Ejercicios.ipynb Cell 23\u001b[0m in \u001b[0;36m3\n\u001b[0;32m      <a href='vscode-notebook-cell:/e%3A/PROJECTS_2023/Python_Personal_Repository/Notebooks_Ejercicios/Introduccion_Listas_Ejercicios.ipynb#X34sZmlsZQ%3D%3D?line=0'>1</a>\u001b[0m fruits \u001b[39m=\u001b[39m [\u001b[39m'\u001b[39m\u001b[39mmanzana\u001b[39m\u001b[39m'\u001b[39m,\u001b[39m'\u001b[39m\u001b[39maguacate\u001b[39m\u001b[39m'\u001b[39m,\u001b[39m'\u001b[39m\u001b[39mpera\u001b[39m\u001b[39m'\u001b[39m,\u001b[39m'\u001b[39m\u001b[39mfresa\u001b[39m\u001b[39m'\u001b[39m]\n\u001b[1;32m----> <a href='vscode-notebook-cell:/e%3A/PROJECTS_2023/Python_Personal_Repository/Notebooks_Ejercicios/Introduccion_Listas_Ejercicios.ipynb#X34sZmlsZQ%3D%3D?line=2'>3</a>\u001b[0m \u001b[39mprint\u001b[39m(fruits[\u001b[39m5\u001b[39m])\n",
      "\u001b[1;31mIndexError\u001b[0m: list index out of range"
     ]
    }
   ],
   "source": [
    "fruits = ['manzana','aguacate','pera','fresa']\n",
    "\n",
    "print(fruits[5])"
   ]
  },
  {
   "cell_type": "code",
   "execution_count": 102,
   "metadata": {},
   "outputs": [
    {
     "name": "stdout",
     "output_type": "stream",
     "text": [
      "Lo siento tu indice es mayor a la lista\n",
      "La fruta en el indice  1 es: aguacate\n"
     ]
    }
   ],
   "source": [
    "fruits = ['manzana','aguacate','pera','fresa']\n",
    "\n",
    "#Corrigiendo o evitando el error\n",
    "max_index = len(fruits)-1\n",
    "\n",
    "#Programa sencillo\n",
    "indice_usuario = int(input(\"Indice: \"))\n",
    "\n",
    "while indice_usuario > max_index:\n",
    "    print(\"Lo siento tu indice es mayor a la lista\")\n",
    "    indice_usuario = int(input(\"Indice: \"))\n",
    "\n",
    "print(\"La fruta en el indice\",indice_usuario,\"es:\",fruits[indice_usuario])\n",
    "\n"
   ]
  }
 ],
 "metadata": {
  "kernelspec": {
   "display_name": "Python 3",
   "language": "python",
   "name": "python3"
  },
  "language_info": {
   "codemirror_mode": {
    "name": "ipython",
    "version": 3
   },
   "file_extension": ".py",
   "mimetype": "text/x-python",
   "name": "python",
   "nbconvert_exporter": "python",
   "pygments_lexer": "ipython3",
   "version": "3.10.7"
  },
  "orig_nbformat": 4
 },
 "nbformat": 4,
 "nbformat_minor": 2
}
