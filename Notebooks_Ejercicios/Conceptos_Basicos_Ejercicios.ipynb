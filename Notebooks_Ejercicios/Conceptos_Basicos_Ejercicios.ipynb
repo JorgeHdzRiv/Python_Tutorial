{
 "cells": [
  {
   "attachments": {},
   "cell_type": "markdown",
   "metadata": {},
   "source": [
    "# Ejercicios para el lector"
   ]
  },
  {
   "attachments": {},
   "cell_type": "markdown",
   "metadata": {},
   "source": [
    "* 2-1. Mensaje simple: almacene un mensaje en una variable y luego impríma ese mensaje.\n",
    "\n",
    "* 2-2. Mensajes simples: almacene un mensaje en una variable e imprima ese mensaje.\n",
    "Luego cambie el valor de su variable a un nuevo mensaje e imprima el nuevo mensaje."
   ]
  },
  {
   "cell_type": "code",
   "execution_count": 1,
   "metadata": {},
   "outputs": [
    {
     "name": "stdout",
     "output_type": "stream",
     "text": [
      "Hola mundo\n"
     ]
    }
   ],
   "source": [
    "#2.1\n",
    "mensaje = \"Hola mundo\"\n",
    "print(mensaje)"
   ]
  },
  {
   "cell_type": "code",
   "execution_count": 2,
   "metadata": {},
   "outputs": [
    {
     "name": "stdout",
     "output_type": "stream",
     "text": [
      "Hola mundo\n",
      "Hola planeta\n"
     ]
    }
   ],
   "source": [
    "#2.2\n",
    "mensaje = \"Hola mundo\"\n",
    "print(mensaje)\n",
    "\n",
    "mensaje = \"Hola planeta\"\n",
    "print(mensaje)"
   ]
  },
  {
   "attachments": {},
   "cell_type": "markdown",
   "metadata": {},
   "source": [
    "* 2-3 Mensaje personal: almacene el nombre de una persona en una variable e imprima un mensaje\n",
    "de esa persona Su mensaje debe ser simple, como, \"Hola Eric,\n",
    "¿Te gustaría aprender algo de Python hoy?”\n",
    "\n",
    "* 2-4. Casos de nombres: almacene el nombre de una persona en una variable y luego imprima el nombre de esa persona.\n",
    "nombre en minúsculas, mayúsculas y título.\n",
    "\n",
    "* 2-5. Cita famosa: encuentra una cita de una persona famosa que admires. Imprime el\n",
    "cita y el nombre de su autor. Su salida debe parecerse a la\n",
    "siguiente, incluyendo las comillas:\n",
    "Albert Einstein dijo una vez: “Una persona que nunca hizo una\n",
    "error nunca probé nada nuevo.”\n",
    "\n",
    "* 2-6. Cita famosa 2: Repita el ejercicio 2-5, pero esta vez guarde la información de la persona famosa.\n",
    "nombre en una variable llamada persona_famosa. Luego redacta tu mensaje\n",
    "y almacenarlo en una nueva variable llamada mensaje. Imprime tu mensaje.\n",
    "\n",
    "* 2-7. Eliminación de nombres: almacene el nombre de una persona e incluya algunos espacios en blanco\n",
    "caracteres al principio y al final del nombre. Asegúrese de usar cada\n",
    "combinación de caracteres, \"\\t\" y \"\\n\", al menos una vez.\n",
    "Imprima el nombre una vez, de modo que se muestre el espacio en blanco alrededor del nombre.\n",
    "Luego imprima el nombre usando cada una de las tres funciones de eliminación, lstrip(),\n",
    "rstrip() y tira()."
   ]
  },
  {
   "cell_type": "code",
   "execution_count": 3,
   "metadata": {},
   "outputs": [
    {
     "name": "stdout",
     "output_type": "stream",
     "text": [
      "Hola Juan te gustaria aprender Python hoy\n"
     ]
    }
   ],
   "source": [
    "#2.3\n",
    "\n",
    "nombre = \"Juan\"\n",
    "print(\"Hola \"+nombre+\" te gustaria aprender Python hoy\")"
   ]
  },
  {
   "cell_type": "code",
   "execution_count": 7,
   "metadata": {},
   "outputs": [
    {
     "name": "stdout",
     "output_type": "stream",
     "text": [
      "juan\n",
      "JUAN\n",
      "Juan\n"
     ]
    }
   ],
   "source": [
    "#2.4\n",
    "\n",
    "nombre = \"Juan\"\n",
    "print(nombre.lower())\n",
    "\n",
    "print(nombre.upper())\n",
    "\n",
    "print(nombre.title())"
   ]
  },
  {
   "cell_type": "code",
   "execution_count": 10,
   "metadata": {},
   "outputs": [
    {
     "name": "stdout",
     "output_type": "stream",
     "text": [
      "Nikola Tesla dijo una vez: \"Nuestros sentidos nos permiten percibir sólo una pequeña porción del mundo exterior\"\n"
     ]
    }
   ],
   "source": [
    "#2.5\n",
    "\n",
    "print('Nikola Tesla' + ' dijo una vez: ' + '\"Nuestros sentidos nos permiten percibir sólo una pequeña porción del mundo exterior\"')"
   ]
  },
  {
   "cell_type": "code",
   "execution_count": 12,
   "metadata": {},
   "outputs": [
    {
     "name": "stdout",
     "output_type": "stream",
     "text": [
      "Nikola Tesla dijo una vez: \"Nuestros sentidos nos permiten percibir sólo una pequeña porción del mundo exterior\"\n"
     ]
    }
   ],
   "source": [
    "#2.6\n",
    "\n",
    "autor = 'Nikola Tesla'\n",
    "mensaje = (autor  + ' dijo una vez: ' + '\"Nuestros sentidos nos permiten percibir sólo una pequeña porción del mundo exterior\"')\n",
    "print(mensaje)"
   ]
  },
  {
   "cell_type": "code",
   "execution_count": 20,
   "metadata": {},
   "outputs": [
    {
     "name": "stdout",
     "output_type": "stream",
     "text": [
      "\t Juan \t \n",
      "Juan \t \n",
      "\t Juan\n",
      "Juan\n"
     ]
    }
   ],
   "source": [
    "#2.7\n",
    "\n",
    "nombre = \"\\t Juan \\t \" \n",
    "print(nombre)\n",
    "\n",
    "print(nombre.lstrip())\n",
    "\n",
    "print(nombre.rstrip())\n",
    "\n",
    "print(nombre.strip())"
   ]
  },
  {
   "attachments": {},
   "cell_type": "markdown",
   "metadata": {},
   "source": [
    "* 2-8. Número Ocho: Escribir sumas, restas, multiplicaciones y divisiones\n",
    "operaciones que dan como resultado el número 8. Asegúrese de incluir sus operaciones\n",
    "en extractos impresos para ver los resultados. Debes crear cuatro líneas que se vean\n",
    "como esto:\n",
    "print(5 + 3)\n",
    "Su salida debería ser simplemente cuatro líneas con el número 8 apareciendo una vez\n",
    "en cada línea.\n",
    "\n",
    "* 2-9. Número Favorito: Guarda tu número favorito en una variable. Entonces, usando\n",
    "esa variable, cree un mensaje que revele su número favorito. imprime eso\n",
    "mensaje."
   ]
  },
  {
   "cell_type": "code",
   "execution_count": 21,
   "metadata": {},
   "outputs": [
    {
     "name": "stdout",
     "output_type": "stream",
     "text": [
      "8\n",
      "8\n",
      "8\n",
      "8.0\n"
     ]
    }
   ],
   "source": [
    "#2.8\n",
    "print(10-2)\n",
    "print(4*2)\n",
    "print(4+4)\n",
    "print(64/8)"
   ]
  },
  {
   "cell_type": "code",
   "execution_count": 22,
   "metadata": {},
   "outputs": [
    {
     "name": "stdout",
     "output_type": "stream",
     "text": [
      "Mi numero favorito es:  7\n"
     ]
    }
   ],
   "source": [
    "#2.9\n",
    "\n",
    "numero = 7\n",
    "\n",
    "print(\"Mi numero favorito es: \",numero)"
   ]
  },
  {
   "attachments": {},
   "cell_type": "markdown",
   "metadata": {},
   "source": [
    "* 2-10. Adición de comentarios: elija dos de los programas que ha escrito y\n",
    "agregue al menos un comentario a cada uno. Si no tienes nada específico que escribir\n",
    "debido a que sus programas son demasiado simples en este punto, solo agregue su nombre y\n",
    "la fecha actual en la parte superior de cada archivo de programa. Luego escribe una oración\n",
    "describiendo lo que hace el programa."
   ]
  },
  {
   "cell_type": "code",
   "execution_count": 23,
   "metadata": {},
   "outputs": [
    {
     "name": "stdout",
     "output_type": "stream",
     "text": [
      "Hola usuario\n"
     ]
    }
   ],
   "source": [
    "#2.10\n",
    "\n",
    "#Uso de comentarios\n",
    "\n",
    "print(\"Hola usuario\") #Imprime el mensaje: Hola usuario"
   ]
  },
  {
   "attachments": {},
   "cell_type": "markdown",
   "metadata": {},
   "source": [
    "* 2-11. Zen of Python: Ingrese import this en una sesión de terminal de Python y hojee\n",
    "a través de los principios adicionales."
   ]
  },
  {
   "cell_type": "code",
   "execution_count": 24,
   "metadata": {},
   "outputs": [
    {
     "name": "stdout",
     "output_type": "stream",
     "text": [
      "The Zen of Python, by Tim Peters\n",
      "\n",
      "Beautiful is better than ugly.\n",
      "Explicit is better than implicit.\n",
      "Simple is better than complex.\n",
      "Complex is better than complicated.\n",
      "Flat is better than nested.\n",
      "Sparse is better than dense.\n",
      "Readability counts.\n",
      "Special cases aren't special enough to break the rules.\n",
      "Although practicality beats purity.\n",
      "Errors should never pass silently.\n",
      "Unless explicitly silenced.\n",
      "In the face of ambiguity, refuse the temptation to guess.\n",
      "There should be one-- and preferably only one --obvious way to do it.\n",
      "Although that way may not be obvious at first unless you're Dutch.\n",
      "Now is better than never.\n",
      "Although never is often better than *right* now.\n",
      "If the implementation is hard to explain, it's a bad idea.\n",
      "If the implementation is easy to explain, it may be a good idea.\n",
      "Namespaces are one honking great idea -- let's do more of those!\n"
     ]
    }
   ],
   "source": [
    "import this"
   ]
  }
 ],
 "metadata": {
  "kernelspec": {
   "display_name": "Python 3",
   "language": "python",
   "name": "python3"
  },
  "language_info": {
   "codemirror_mode": {
    "name": "ipython",
    "version": 3
   },
   "file_extension": ".py",
   "mimetype": "text/x-python",
   "name": "python",
   "nbconvert_exporter": "python",
   "pygments_lexer": "ipython3",
   "version": "3.10.7"
  },
  "orig_nbformat": 4
 },
 "nbformat": 4,
 "nbformat_minor": 2
}
