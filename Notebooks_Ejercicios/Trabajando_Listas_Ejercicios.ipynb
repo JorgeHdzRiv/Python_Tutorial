{
 "cells": [
  {
   "attachments": {},
   "cell_type": "markdown",
   "metadata": {},
   "source": [
    "# Ejercicios"
   ]
  },
  {
   "attachments": {},
   "cell_type": "markdown",
   "metadata": {},
   "source": [
    "### 4-1. Pizzas: \n",
    "Piensa en al menos tres tipos de tu pizza favorita. Almacene estos \n",
    "nombres de pizzas en una lista, y luego use un bucle **for** para imprimir el nombre de cada pizza. \n",
    "\n",
    "* Modificar su bucle para imprimir una frase con el nombre de la pizza \n",
    "en lugar de imprimir sólo el nombre de la pizza. Para cada pizza se debe \n",
    "tienen una línea de salida que contiene una simple declaración como me gusta la pizza de pepperoni. \n",
    "\n",
    "* Añada una línea al final de su programa, fuera del bucle for, que indica \n",
    "cuánto te gusta la pizza. La salida debe consistir de tres o más líneas \n",
    "acerca de los tipos de pizza que te gusta y luego una frase adicional, como \n",
    "¡Me encanta pizza! \n"
   ]
  },
  {
   "cell_type": "code",
   "execution_count": 1,
   "metadata": {},
   "outputs": [
    {
     "name": "stdout",
     "output_type": "stream",
     "text": [
      "Me gusta mucho la pizza italiana\n",
      "Me gusta mucho la pizza pepperoni\n",
      "Me gusta mucho la pizza napolitana\n",
      "Me encanta la pizza!!!\n"
     ]
    }
   ],
   "source": [
    "pizzas = [\"italiana\",\"pepperoni\",\"napolitana\"]\n",
    "\n",
    "for pizza in pizzas:\n",
    "    print(\"Me gusta mucho la pizza \"+pizza)\n",
    "\n",
    "print(\"Me encanta la pizza!!!\")\n",
    "\n"
   ]
  },
  {
   "attachments": {},
   "cell_type": "markdown",
   "metadata": {},
   "source": [
    "### 4-2. Animales: \n",
    "Piense en al menos tres animales diferentes que tengan una característica común. \n",
    "Almacene los nombres de estos animales en una lista y, a continuación, utilice un bucle para \n",
    "imprimir el nombre de cada animal. \n",
    "\n",
    "* Modificar su programa para imprimir una declaración sobre cada animal, como \n",
    "Un perro sería una gran mascota. \n",
    "* Agregue una línea al final de su programa indicando lo que estos animales tienen en \n",
    "común. Puede imprimir una frase como Cualquiera de estos animales sería \n",
    "hacer una gran mascota! \n"
   ]
  },
  {
   "cell_type": "code",
   "execution_count": 2,
   "metadata": {},
   "outputs": [
    {
     "name": "stdout",
     "output_type": "stream",
     "text": [
      "Seria buena opcion tener de mascota un gato\n",
      "No es buena idea tener un leon de mascota\n",
      "No es buena idea tener un puma de mascota\n",
      "Todos estos animales son felinos\n"
     ]
    }
   ],
   "source": [
    "animales = [\"gato\",\"leon\",\"puma\"]\n",
    "\n",
    "for animal in animales:\n",
    "    if animal == \"gato\":\n",
    "        print(\"Seria buena opcion tener de mascota un \"+animal)\n",
    "    else:\n",
    "        print(\"No es buena idea tener un \"+animal+\" de mascota\")\n",
    "\n",
    "print(\"Todos estos animales son felinos\")"
   ]
  },
  {
   "attachments": {},
   "cell_type": "markdown",
   "metadata": {},
   "source": [
    "### 4-3. Contando a Veinte:\n",
    "Utilice un bucle para imprimir los números de 1 a 20."
   ]
  },
  {
   "cell_type": "code",
   "execution_count": 3,
   "metadata": {},
   "outputs": [
    {
     "name": "stdout",
     "output_type": "stream",
     "text": [
      "1\n",
      "2\n",
      "3\n",
      "4\n",
      "5\n",
      "6\n",
      "7\n",
      "8\n",
      "9\n",
      "10\n",
      "11\n",
      "12\n",
      "13\n",
      "14\n",
      "15\n",
      "16\n",
      "17\n",
      "18\n",
      "19\n",
      "20\n"
     ]
    }
   ],
   "source": [
    "for num in range(1,21):\n",
    "    print(num)"
   ]
  },
  {
   "attachments": {},
   "cell_type": "markdown",
   "metadata": {},
   "source": [
    "### 4-4. Un millón:\n",
    "\n",
    "Haga una lista de los números de uno a un millón, y luego \n",
    "utilizar un bucle para imprimir los números. (Si la salida se está tardando demasiado, deténla por \n",
    "presionando ctrl-C o cerrando la ventana de salida.) \n"
   ]
  },
  {
   "cell_type": "code",
   "execution_count": 17,
   "metadata": {},
   "outputs": [
    {
     "name": "stdout",
     "output_type": "stream",
     "text": [
      "0\n",
      "100000\n",
      "200000\n",
      "300000\n",
      "400000\n",
      "500000\n",
      "600000\n",
      "700000\n",
      "800000\n",
      "900000\n",
      "1000000\n"
     ]
    }
   ],
   "source": [
    "#En los argumentos se tiene un paso de 100,000 el tercer argumento de la funcion, para acelerar la cuenta \n",
    "for num in range(0,1000001,100000):\n",
    "    print(num)"
   ]
  },
  {
   "attachments": {},
   "cell_type": "markdown",
   "metadata": {},
   "source": [
    "### 4-5. Sumando un millón:\n",
    "\n",
    "Haga una lista de los números de uno a un millón, y luego usar min() y max() para asegurarse de que su lista realmente comienza en uno y \n",
    "termina en un millón. \n",
    "\n",
    "Además, utilice la función sum() para ver la rapidez con que Python puede \n",
    "añadir un millón de números. "
   ]
  },
  {
   "cell_type": "code",
   "execution_count": 5,
   "metadata": {},
   "outputs": [
    {
     "name": "stdout",
     "output_type": "stream",
     "text": [
      "0\n",
      "1000000\n"
     ]
    }
   ],
   "source": [
    "nums = []\n",
    "for num in range(0,1000001,1000):\n",
    "    nums.append(num)\n",
    "\n",
    "print(min(nums)) #Numero menor de la lista de numeros\n",
    "print(max(nums)) #Numero mayor de la lista de numeros"
   ]
  },
  {
   "attachments": {},
   "cell_type": "markdown",
   "metadata": {},
   "source": [
    "### 4-6. Números impares:\n",
    "\n",
    "Utilice el tercer argumento de la función range() para hacer una lista \n",
    "de los números impares de 1 a 20. \n",
    "\n",
    "Utilice un bucle para imprimir cada número. \n"
   ]
  },
  {
   "cell_type": "code",
   "execution_count": 6,
   "metadata": {},
   "outputs": [
    {
     "name": "stdout",
     "output_type": "stream",
     "text": [
      "Los numeros impares empezando desde el 1 son: \n",
      "1\n",
      "3\n",
      "5\n",
      "7\n",
      "9\n",
      "11\n",
      "13\n",
      "15\n",
      "17\n",
      "19\n"
     ]
    }
   ],
   "source": [
    "print(\"Los numeros impares empezando desde el 1 son: \")\n",
    "for num in range(1,21,2):\n",
    "    print(num)"
   ]
  },
  {
   "attachments": {},
   "cell_type": "markdown",
   "metadata": {},
   "source": [
    "### 4-7. Tres: \n",
    "\n",
    "Haga una lista de los múltiplos de 3 de 3 a 30. Utilice un bucle para \n",
    "imprima los números de la lista. \n"
   ]
  },
  {
   "cell_type": "code",
   "execution_count": 7,
   "metadata": {},
   "outputs": [
    {
     "name": "stdout",
     "output_type": "stream",
     "text": [
      "3\n",
      "6\n",
      "9\n",
      "12\n",
      "15\n",
      "18\n",
      "21\n",
      "24\n",
      "27\n",
      "30\n"
     ]
    }
   ],
   "source": [
    "for num in range(3,31,3):\n",
    "    print(num)"
   ]
  },
  {
   "attachments": {},
   "cell_type": "markdown",
   "metadata": {},
   "source": [
    "### 4-8. Cubos: \n",
    "\n",
    "Un número elevado a la tercera potencia se denomina cubo. \n",
    "\n",
    "Por ejemplo, el cubo de 2 se escribe como 2**3 en Python. \n",
    "\n",
    "Haga una lista de los primeros 10 cubos (eso \n",
    "es, el cubo de cada entero de 1 a 10), y utilizar un bucle para imprimir \n",
    "el valor de cada cubo. "
   ]
  },
  {
   "cell_type": "code",
   "execution_count": 8,
   "metadata": {},
   "outputs": [
    {
     "name": "stdout",
     "output_type": "stream",
     "text": [
      "El cubo de 1 es: 1\n",
      "El cubo de 2 es: 8\n",
      "El cubo de 3 es: 27\n",
      "El cubo de 4 es: 64\n",
      "El cubo de 5 es: 125\n",
      "El cubo de 6 es: 216\n",
      "El cubo de 7 es: 343\n",
      "El cubo de 8 es: 512\n",
      "El cubo de 9 es: 729\n",
      "El cubo de 10 es: 1000\n"
     ]
    }
   ],
   "source": [
    "for num in range(1,11):\n",
    "    print(\"El cubo de\",num,\"es:\",num**3)"
   ]
  },
  {
   "attachments": {},
   "cell_type": "markdown",
   "metadata": {},
   "source": [
    "### 4-9. Comprensión Cubo:\n",
    "\n",
    "Utilice una lista de comprensión para generar una lista de los primeros 10 cubos."
   ]
  },
  {
   "cell_type": "code",
   "execution_count": 9,
   "metadata": {},
   "outputs": [
    {
     "name": "stdout",
     "output_type": "stream",
     "text": [
      "La lista de cubos es: \n"
     ]
    },
    {
     "data": {
      "text/plain": [
       "[1, 8, 27, 64, 125, 216, 343, 512, 729, 1000]"
      ]
     },
     "execution_count": 9,
     "metadata": {},
     "output_type": "execute_result"
    }
   ],
   "source": [
    "cubos = [num**3 for num in range(1,11)]\n",
    "\n",
    "print(\"La lista de cubos es: \")\n",
    "cubos"
   ]
  },
  {
   "attachments": {},
   "cell_type": "markdown",
   "metadata": {},
   "source": [
    "### 4-10. Rebanadas: \n",
    "\n",
    "Con uno de los programas que escribió, añada varios \n",
    "al final del programa que haga lo siguiente: \n",
    "\n",
    "* Imprimir el mensaje, Los tres primeros elementos de la lista son:. A continuación, utilice un segmento en \n",
    "imprima los tres primeros elementos de la lista de los programas. \n",
    "* Imprimir el mensaje, Tres elementos de la mitad de la lista son:. Utilice un segmento \n",
    "para imprimir tres elementos desde el centro de la lista. \n",
    "* Imprimir el mensaje, Los tres últimos elementos de la lista son:. Utilice un segmento para imprimir \n",
    "los últimos tres elementos de la lista. \n"
   ]
  },
  {
   "cell_type": "code",
   "execution_count": 10,
   "metadata": {},
   "outputs": [
    {
     "name": "stdout",
     "output_type": "stream",
     "text": [
      "La lista de cubos es: \n",
      "[1, 8, 27, 64, 125, 216, 343, 512, 729, 1000]\n",
      "\n",
      "Los tres primeros elementos de la lista cubos son:\n",
      "1\n",
      "8\n",
      "27\n",
      "\n",
      "Los tres elementos de la mitad son:\n",
      "64\n",
      "125\n",
      "216\n",
      "\n",
      "Los tres ultimos elementos son:\n",
      "512\n",
      "729\n",
      "1000\n"
     ]
    }
   ],
   "source": [
    "cubos = [num**3 for num in range(1,11)]\n",
    "\n",
    "print(\"La lista de cubos es: \")\n",
    "print(cubos)\n",
    "\n",
    "print(\"\\nLos tres primeros elementos de la lista cubos son:\")\n",
    "for cubo in cubos[0:3]:\n",
    "    print(cubo)\n",
    "\n",
    "print(\"\\nLos tres elementos de la mitad son:\")\n",
    "for cubo in cubos[3:6]:\n",
    "    print(cubo)\n",
    "\n",
    "print(\"\\nLos tres ultimos elementos son:\")\n",
    "for cubo in cubos[7:]:\n",
    "    print(cubo)"
   ]
  },
  {
   "attachments": {},
   "cell_type": "markdown",
   "metadata": {},
   "source": [
    "### 4-11. Mis Pizzas, Tus Pizzas:\n",
    "Comience con su programa de Ejercicio 4-1 \n",
    "\n",
    "Haz una copia de la lista de pizzas, y llámalo amigo_pizzas. \n",
    "A continuación, haga lo siguiente: \n",
    "* Añada una nueva pizza a la lista original. \n",
    "* Añadir una pizza diferente a la lista de amigos_pizzas. \n",
    "* Demuestra que tienes dos listas separadas. Imprimir el mensaje, Mi \n",
    "pizzas favoritas son:, y luego utilizar un bucle para imprimir la primera lista. Imprimir el mensaje, \n",
    "Mi amigo es pizzas favoritas son:, y luego utilizar un bucle para imprimir el segundo \n",
    "lista. Asegúrese de que cada pizza nueva esté almacenada en la lista apropiada. \n"
   ]
  },
  {
   "cell_type": "code",
   "execution_count": 11,
   "metadata": {},
   "outputs": [
    {
     "name": "stdout",
     "output_type": "stream",
     "text": [
      "\n",
      "Mis pizzas favoritas son:\n",
      "italiana\n",
      "pepperoni\n",
      "napolitana\n",
      "hawaiana\n",
      "\n",
      "Las pizzas favoritas de mi amigo son:\n",
      "italiana\n",
      "pepperoni\n",
      "napolitana\n",
      "queso\n"
     ]
    }
   ],
   "source": [
    "pizzas = [\"italiana\",\"pepperoni\",\"napolitana\"]\n",
    "\n",
    "#Copia de la lista\n",
    "amigo_pizzas = pizzas[:]\n",
    "\n",
    "#Nueva pizza a la lista original\n",
    "pizzas.append(\"hawaiana\")\n",
    "\n",
    "#Pizza a la lista amigo\n",
    "amigo_pizzas.append(\"queso\")\n",
    "\n",
    "print(\"\\nMis pizzas favoritas son:\")\n",
    "for pizza in pizzas:\n",
    "    print(pizza)\n",
    "\n",
    "print(\"\\nLas pizzas favoritas de mi amigo son:\")\n",
    "for a_pizza in amigo_pizzas:\n",
    "    print(a_pizza)"
   ]
  },
  {
   "attachments": {},
   "cell_type": "markdown",
   "metadata": {},
   "source": [
    "### 4-12. Mas bucles: \n",
    "\n",
    "Todas las versiones de foods.py en esta sección han evitado el uso de \n",
    "para los bucles cuando se imprime para ahorrar espacio. Elija una versión de foods.py y \n",
    "escribir dos bucles para imprimir cada lista de alimentos. \n"
   ]
  },
  {
   "cell_type": "code",
   "execution_count": 12,
   "metadata": {},
   "outputs": [
    {
     "name": "stdout",
     "output_type": "stream",
     "text": [
      "My favorite foods are:\n",
      "['pizza', 'falafel', 'carrot cake']\n",
      "\n",
      "My friend's favorite foods are:\n",
      "['pizza', 'falafel', 'carrot cake']\n"
     ]
    }
   ],
   "source": [
    "#foods.py\n",
    "\n",
    "my_foods = ['pizza', 'falafel', 'carrot cake']\n",
    "friend_foods = my_foods[:]\n",
    "\n",
    "print(\"My favorite foods are:\")\n",
    "print(my_foods)\n",
    "\n",
    "print(\"\\nMy friend's favorite foods are:\")\n",
    "print(friend_foods)"
   ]
  },
  {
   "cell_type": "code",
   "execution_count": 13,
   "metadata": {},
   "outputs": [
    {
     "name": "stdout",
     "output_type": "stream",
     "text": [
      "My favorite foods are:\n",
      "pizza\n",
      "falafel\n",
      "carrot cake\n",
      "\n",
      "My friend's favorite foods are:\n",
      "pizza\n",
      "falafel\n",
      "carrot cake\n"
     ]
    }
   ],
   "source": [
    "my_foods = ['pizza', 'falafel', 'carrot cake']\n",
    "friend_foods = my_foods[:]\n",
    "\n",
    "print(\"My favorite foods are:\")\n",
    "for food in my_foods:\n",
    "    print(food)\n",
    "\n",
    "print(\"\\nMy friend's favorite foods are:\")\n",
    "for f_food in friend_foods:\n",
    "    print(f_food)"
   ]
  },
  {
   "attachments": {},
   "cell_type": "markdown",
   "metadata": {},
   "source": [
    "### 4-13. Buffet: \n",
    "Un restaurante de estilo bufe ofrece sólo cinco alimentos básicos. Piense en cinco alimentos simples, y guárdelos en una tupla.\n",
    "\n",
    "* Utilice un bucle para imprimir cada alimento que ofrece el restaurante. \n",
    "* Trate de modificar uno de los elementos, y asegúrese de que Python rechaza el \n",
    "cambiar. \n",
    "* El restaurante cambia su menú, reemplazando dos de los elementos con diferentes \n",
    "alimentos. Agregue un bloque de código que reescriba la tupla y, a continuación, utilice un print\n",
    "para imprimir cada uno de los elementos del menú revisado. \n"
   ]
  },
  {
   "cell_type": "code",
   "execution_count": 14,
   "metadata": {},
   "outputs": [
    {
     "name": "stdout",
     "output_type": "stream",
     "text": [
      "\n",
      "Los alimentos del buffet son:\n",
      "carne\n",
      "arroz\n",
      "verduras\n",
      "sopa\n",
      "pescado\n"
     ]
    }
   ],
   "source": [
    "alimentos = (\"carne\",\"arroz\",\"verduras\",\"sopa\",\"pescado\")\n",
    "\n",
    "print(\"\\nLos alimentos del buffet son:\")\n",
    "for alimento in alimentos:\n",
    "    print(alimento)"
   ]
  },
  {
   "cell_type": "code",
   "execution_count": 15,
   "metadata": {},
   "outputs": [
    {
     "ename": "TypeError",
     "evalue": "'tuple' object does not support item assignment",
     "output_type": "error",
     "traceback": [
      "\u001b[1;31m---------------------------------------------------------------------------\u001b[0m",
      "\u001b[1;31mTypeError\u001b[0m                                 Traceback (most recent call last)",
      "\u001b[1;32me:\\PROJECTS_2023\\Python_Personal_Repository\\Notebooks_Ejercicios\\Trabajando_Listas_Ejercicios.ipynb Cell 29\u001b[0m in \u001b[0;36m4\n\u001b[0;32m      <a href='vscode-notebook-cell:/e%3A/PROJECTS_2023/Python_Personal_Repository/Notebooks_Ejercicios/Trabajando_Listas_Ejercicios.ipynb#X40sZmlsZQ%3D%3D?line=0'>1</a>\u001b[0m alimentos \u001b[39m=\u001b[39m (\u001b[39m\"\u001b[39m\u001b[39mcarne\u001b[39m\u001b[39m\"\u001b[39m,\u001b[39m\"\u001b[39m\u001b[39marroz\u001b[39m\u001b[39m\"\u001b[39m,\u001b[39m\"\u001b[39m\u001b[39mverduras\u001b[39m\u001b[39m\"\u001b[39m,\u001b[39m\"\u001b[39m\u001b[39msopa\u001b[39m\u001b[39m\"\u001b[39m,\u001b[39m\"\u001b[39m\u001b[39mpescado\u001b[39m\u001b[39m\"\u001b[39m)\n\u001b[0;32m      <a href='vscode-notebook-cell:/e%3A/PROJECTS_2023/Python_Personal_Repository/Notebooks_Ejercicios/Trabajando_Listas_Ejercicios.ipynb#X40sZmlsZQ%3D%3D?line=2'>3</a>\u001b[0m \u001b[39m#Provocando el error\u001b[39;00m\n\u001b[1;32m----> <a href='vscode-notebook-cell:/e%3A/PROJECTS_2023/Python_Personal_Repository/Notebooks_Ejercicios/Trabajando_Listas_Ejercicios.ipynb#X40sZmlsZQ%3D%3D?line=3'>4</a>\u001b[0m alimentos[\u001b[39m0\u001b[39m] \u001b[39m=\u001b[39m \u001b[39m\"\u001b[39m\u001b[39mcamarones\u001b[39m\u001b[39m\"\u001b[39m\n",
      "\u001b[1;31mTypeError\u001b[0m: 'tuple' object does not support item assignment"
     ]
    }
   ],
   "source": [
    "alimentos = (\"carne\",\"arroz\",\"verduras\",\"sopa\",\"pescado\")\n",
    "\n",
    "#Provocando el error\n",
    "alimentos[0] = \"camarones\""
   ]
  },
  {
   "cell_type": "code",
   "execution_count": 16,
   "metadata": {},
   "outputs": [
    {
     "name": "stdout",
     "output_type": "stream",
     "text": [
      "Los nuevos alimentos son:\n",
      "camarones\n",
      "arroz\n",
      "espincas\n",
      "sopa\n",
      "pescado\n"
     ]
    }
   ],
   "source": [
    "alimentos = (\"carne\",\"arroz\",\"verduras\",\"sopa\",\"pescado\")\n",
    "\n",
    "#Cambiando alimentos\n",
    "alimentos = (\"camarones\",\"arroz\",\"espincas\",\"sopa\",\"pescado\")\n",
    "\n",
    "print(\"Los nuevos alimentos son:\")\n",
    "for alimento in alimentos:\n",
    "    print(alimento)\n"
   ]
  },
  {
   "attachments": {},
   "cell_type": "markdown",
   "metadata": {},
   "source": [
    "### 4-14. PEP 8: \n",
    "\n",
    "Mire a través de la guía de estilo PEP 8 original en https://python.org/dev/peps/pep-0008/. \n",
    "\n"
   ]
  },
  {
   "attachments": {},
   "cell_type": "markdown",
   "metadata": {},
   "source": [
    "### 4-15. Code Review: \n",
    "\n",
    "Elija tres de los programas que usted ha escrito y modifique cada uno para cumplir con PEP 8: \n",
    "* Utilice cuatro espacios para cada nivel de sangria. \n",
    "* Use menos de 80 caracteres en cada línea, y configure su editor para mostrar un \n",
    "directriz vertical en la posición del 80º carácter. \n",
    "* No utilice las líneas en blanco excesivamente en sus archivos de programa. \n"
   ]
  }
 ],
 "metadata": {
  "kernelspec": {
   "display_name": "Python 3",
   "language": "python",
   "name": "python3"
  },
  "language_info": {
   "codemirror_mode": {
    "name": "ipython",
    "version": 3
   },
   "file_extension": ".py",
   "mimetype": "text/x-python",
   "name": "python",
   "nbconvert_exporter": "python",
   "pygments_lexer": "ipython3",
   "version": "3.10.7"
  },
  "orig_nbformat": 4
 },
 "nbformat": 4,
 "nbformat_minor": 2
}
