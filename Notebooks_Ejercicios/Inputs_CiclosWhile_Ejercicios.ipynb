{
 "cells": [
  {
   "attachments": {},
   "cell_type": "markdown",
   "metadata": {},
   "source": [
    "# Ejercicios"
   ]
  },
  {
   "attachments": {},
   "cell_type": "markdown",
   "metadata": {},
   "source": [
    "### 7-1. Coche de alquiler o renta: \n",
    "\n",
    "Escribe un programa que le pregunte al usuario qué tipo de coche de alquiler \n",
    "gustaría. \n",
    "\n",
    "Imprimir un mensaje sobre ese coche, como por ejemplo, Déjame ver si te puedo encontrar el Subaru\n"
   ]
  },
  {
   "cell_type": "code",
   "execution_count": 1,
   "metadata": {},
   "outputs": [
    {
     "name": "stdout",
     "output_type": "stream",
     "text": [
      "El Mazda es un excelente coche, muy rapido\n",
      "Tenemos un Mazda en renta\n"
     ]
    }
   ],
   "source": [
    "car = input(\"Que tipo de carro te gustaria: \")\n",
    "\n",
    "print(f\"El {car} es un excelente coche, muy rapido\")\n",
    "print(f\"Tenemos un {car} en renta\")\n",
    "\n"
   ]
  },
  {
   "attachments": {},
   "cell_type": "markdown",
   "metadata": {},
   "source": [
    "### 7-2. Asiento Restaurante: \n",
    "\n",
    "Escribe un programa que le pregunte al usuario cuántas personas hay en su grupo de cena. \n",
    "\n",
    "Si la respuesta es más de ocho, imprima un mensaje que diga \n",
    "tendrán que esperar por una mesa. De lo contrario, informe que su mesa está lista. \n"
   ]
  },
  {
   "cell_type": "code",
   "execution_count": 2,
   "metadata": {},
   "outputs": [
    {
     "name": "stdout",
     "output_type": "stream",
     "text": [
      "Lo siento no tenemos espacio para 9 personas\n",
      "Espere por favor\n"
     ]
    }
   ],
   "source": [
    "cantidad = int(input(\"Cuantas personas hay en su grupo?\"))\n",
    "\n",
    "if cantidad > 8:\n",
    "    print(f\"Lo siento no tenemos espacio para {cantidad} personas\")\n",
    "    print(\"Espere por favor\")\n",
    "else:\n",
    "    print(f\"Tenemos espacio para {cantidad} personas\")\n",
    "    print(\"Su mesa esta lista\")\n",
    "\n",
    "    "
   ]
  },
  {
   "attachments": {},
   "cell_type": "markdown",
   "metadata": {},
   "source": [
    "### 7-3. Múltiplos de diez: \n",
    "\n",
    "Pida al usuario un número y, a continuación, informe si el número es un múltiplo de 10 o no. \n"
   ]
  },
  {
   "cell_type": "code",
   "execution_count": 3,
   "metadata": {},
   "outputs": [
    {
     "name": "stdout",
     "output_type": "stream",
     "text": [
      "El numero 12 no es multiplo de 10\n"
     ]
    }
   ],
   "source": [
    "numero = int(input(\"Introduzca un numero: \"))\n",
    "\n",
    "if numero % 10 == 0:\n",
    "    print(f\"El numero {numero} es multiplo de 10\")\n",
    "else:\n",
    "    print(f\"El numero {numero} no es multiplo de 10\")"
   ]
  },
  {
   "attachments": {},
   "cell_type": "markdown",
   "metadata": {},
   "source": [
    "### 7-4. Toppings de la pizza: \n",
    "\n",
    "Escriba un bucle que solicite al usuario que introduzca una serie de \n",
    "coberturas de pizza hasta que introduzca un valor 'quit'. \n",
    "\n",
    "Al entrar en cada relleno, imprimir un mensaje diciendo que vamos a añadir que el topping a su pizza. \n"
   ]
  },
  {
   "cell_type": "code",
   "execution_count": 4,
   "metadata": {},
   "outputs": [
    {
     "name": "stdout",
     "output_type": "stream",
     "text": [
      "Vamos a agregar camarones a su pizza\n"
     ]
    }
   ],
   "source": [
    "prompt = \"Introduzca los toopings\"\n",
    "prompt += \"\\n pulse 'quit' para salir\"\n",
    "\n",
    "bandera = True\n",
    "\n",
    "while bandera:\n",
    "    tooping = input(prompt)\n",
    "    if tooping == \"quit\":\n",
    "        bandera = False\n",
    "    else:\n",
    "        print(f\"Vamos a agregar {tooping} a su pizza\")"
   ]
  },
  {
   "attachments": {},
   "cell_type": "markdown",
   "metadata": {},
   "source": [
    "### 7-5. Entradas Películas: \n",
    "\n",
    "Un cine con diferentes precios de boletos dependiendo de \n",
    "la edad de una persona. Si una persona es menor de 3 años, el billete es gratis; si están entre 3 y 12, el billete es de $10; y si tienen más de 12 años, el billete es de $15.\n",
    "\n",
    "Escriba un bucle en el que solicite a los usuarios su edad y luego dígale el costo \n",
    "de su boleto de película. \n"
   ]
  },
  {
   "cell_type": "code",
   "execution_count": 5,
   "metadata": {},
   "outputs": [
    {
     "name": "stdout",
     "output_type": "stream",
     "text": [
      "Su edad es 29 tendra que pagar $15\n",
      "Su edad es 34 tendra que pagar $15\n",
      "Hasta luego!!!\n"
     ]
    }
   ],
   "source": [
    "prompt = \"Introduzca la edad del usuario en años\"\n",
    "prompt += \"\\n pulse '0' para salir\"\n",
    "\n",
    "bandera = True\n",
    "\n",
    "while bandera:\n",
    "    edad = int(input(prompt))\n",
    "    if edad < 0:\n",
    "        print(\"Su edad no puede ser negativa, introduzca nuevamente su edad\")\n",
    "    elif edad == 0:\n",
    "        print(\"Hasta luego!!!\")\n",
    "        bandera = False\n",
    "    elif edad > 0 and edad < 3:\n",
    "        print(f\"Su edad es {edad} asi que su billete es gratis\")\n",
    "    elif edad >= 3 and edad < 12 :\n",
    "        print(f\"Su edad es {edad} tendra que pagar $10\")\n",
    "    else:\n",
    "        print(f\"Su edad es {edad} tendra que pagar $15\")"
   ]
  },
  {
   "attachments": {},
   "cell_type": "markdown",
   "metadata": {},
   "source": [
    "### 7-6. Tres salidas: \n",
    "\n",
    "Escriba versiones diferentes de Ejercicio 7-4 o Ejercicio 7-5 que hagan cada uno de los siguientes al menos una vez: \n",
    "\n",
    "* Utilice una prueba condicional en la instrucción while para detener el bucle. \n",
    "* Utilice una variable activa para controlar cuánto tiempo corre el bucle. \n",
    "* Utilice una instrucción break para salir del bucle cuando el usuario entra en un valor 'quit'. \n"
   ]
  },
  {
   "cell_type": "code",
   "execution_count": 6,
   "metadata": {},
   "outputs": [
    {
     "name": "stdout",
     "output_type": "stream",
     "text": [
      "Gracias por su preferencia\n",
      "\n",
      "El numero maximo de toopings son 3\n"
     ]
    }
   ],
   "source": [
    "#En base al ejercicio 7.4\n",
    "prompt = \"Introduzca los toopings\"\n",
    "prompt += \"\\n pulse 'quit' para salir\"\n",
    "\n",
    "i = 1 \n",
    "\n",
    "while i <= 3:\n",
    "    tooping = input(prompt)\n",
    "    if tooping == \"quit\":\n",
    "        print(\"Gracias por su preferencia\")\n",
    "        break\n",
    "    else:\n",
    "        print(f\"Vamos a agregar {tooping} a su pizza\")\n",
    "    i += 1\n",
    "\n",
    "print(\"\\nEl numero maximo de toopings son 3\")\n"
   ]
  },
  {
   "attachments": {},
   "cell_type": "markdown",
   "metadata": {},
   "source": [
    "### 7-7. Infinito: \n",
    "\n",
    "Escriba un bucle que nunca termina y ejecutelo. (Para finalizar el bucle, presione ctrl-C o cierre la ventana mostrando la salida.) \n"
   ]
  },
  {
   "cell_type": "code",
   "execution_count": 7,
   "metadata": {},
   "outputs": [
    {
     "data": {
      "text/plain": [
       "'\\ni = 1\\nwhile i <= 3:\\n    print(i)\\n'"
      ]
     },
     "execution_count": 7,
     "metadata": {},
     "output_type": "execute_result"
    }
   ],
   "source": [
    "#No ejecutar, sera un bucle infinito\n",
    "\"\"\"\n",
    "i = 1\n",
    "while i <= 3:\n",
    "    print(i)\n",
    "\"\"\"\n",
    "\n",
    "#Si quieres probar quitar comentarios en parentesis"
   ]
  },
  {
   "attachments": {},
   "cell_type": "markdown",
   "metadata": {},
   "source": [
    "### 7-8. Deli: \n",
    "\n",
    "Haga una lista llamada sandwich_orders y rellénela con los nombres de varios \n",
    "sándwiches. Luego haga una lista vacía llamada finished_sandwiches. \n",
    "\n",
    "Haga un loop a través de la lista de las órdenes de sándwich e imprimir un mensaje para cada orden, como hice su sándwich de atún. \n",
    "\n",
    "A medida que se realiza cada sándwich, muévalo a la lista de sándwiches acabados. Después de que todos los bocadillos se han hecho, imprimir un mensaje enumerando cada sándwich que se hizo. \n"
   ]
  },
  {
   "cell_type": "code",
   "execution_count": 8,
   "metadata": {},
   "outputs": [
    {
     "name": "stdout",
     "output_type": "stream",
     "text": [
      "Hice su sandwich de vegetales\n",
      "Hice su sandwich de atun\n",
      "Hice su sandwich de jamon\n",
      "\n",
      "Sandwiches realizados: \n",
      "\n",
      "Se hizo el sandwich de Vegetales\n",
      "Se hizo el sandwich de Atun\n",
      "Se hizo el sandwich de Jamon\n"
     ]
    }
   ],
   "source": [
    "sandwich_orders = [\"jamon\",\"atun\",\"vegetales\"]\n",
    "finished_sandwiches = []\n",
    "\n",
    "while sandwich_orders:\n",
    "    current_sandwich = sandwich_orders.pop()\n",
    "    print(f\"Hice su sandwich de {current_sandwich}\")\n",
    "\n",
    "    finished_sandwiches.append(current_sandwich)\n",
    "\n",
    "print(\"\\nSandwiches realizados: \\n\")\n",
    "for finish_sandwich in finished_sandwiches:\n",
    "    print(f\"Se hizo el sandwich de {finish_sandwich.title()}\")"
   ]
  },
  {
   "attachments": {},
   "cell_type": "markdown",
   "metadata": {},
   "source": [
    "### 7-9. No Pastrami: \n",
    "\n",
    "Usando la lista sandwich_orders del Ejercicio 7-8, asegúrese de que el sandwich 'pastrami' aparezca en la lista al menos tres veces. \n",
    "\n",
    "Agregue el código cerca del principio de su programa para imprimir un mensaje diciendo que el deli tiene \n",
    "se agotan de los pastrami y, a continuación, utilizar un bucle while para eliminar todas las ocurrencias de 'pastrami' de sandwich_orders. \n",
    "\n",
    "Asegúrese de que no hay bocadillos de pastrami terminados en sandwich_acabados. \n"
   ]
  },
  {
   "cell_type": "code",
   "execution_count": 9,
   "metadata": {},
   "outputs": [
    {
     "name": "stdout",
     "output_type": "stream",
     "text": [
      "No hay sandiwches de pastrami\n",
      "\n",
      "Hice su sandwich de vegetales\n",
      "Hice su sandwich de atun\n",
      "Hice su sandwich de jamon\n",
      "\n",
      "Sandwiches realizados: \n",
      "\n",
      "Se hizo el sandwich de Vegetales\n",
      "Se hizo el sandwich de Atun\n",
      "Se hizo el sandwich de Jamon\n"
     ]
    }
   ],
   "source": [
    "sandwich_orders = [\"jamon\",\"pastrami\",\"atun\",\"pastrami\",\"vegetales\",\"pastrami\"]\n",
    "finished_sandwiches = []\n",
    "\n",
    "print(\"No hay sandiwches de pastrami\\n\")\n",
    "while sandwich_orders:\n",
    "    while \"pastrami\" in sandwich_orders:\n",
    "        sandwich_orders.remove(\"pastrami\")\n",
    "    current_sandwich = sandwich_orders.pop()\n",
    "    print(f\"Hice su sandwich de {current_sandwich}\")\n",
    "\n",
    "    finished_sandwiches.append(current_sandwich)\n",
    "\n",
    "print(\"\\nSandwiches realizados: \\n\")\n",
    "for finish_sandwich in finished_sandwiches:\n",
    "    print(f\"Se hizo el sandwich de {finish_sandwich.title()}\")"
   ]
  },
  {
   "attachments": {},
   "cell_type": "markdown",
   "metadata": {},
   "source": [
    "### 7-10. Vacaciones de ensueño: \n",
    "\n",
    "Escribe un programa que encuesta a los usuarios sobre sus vacaciones de ensueños. \n",
    "\n",
    "Escribir un aviso similar a si pudieras visitar un lugar en el mundo, ¿a dónde irías? Incluir un bloque de código que imprime los resultados de la encuesta. \n"
   ]
  },
  {
   "cell_type": "code",
   "execution_count": 11,
   "metadata": {},
   "outputs": [
    {
     "name": "stdout",
     "output_type": "stream",
     "text": [
      "\n",
      "--- Resultados ---\n",
      "Las vacaciones ideales de Jorge son en Londres\n",
      "Las vacaciones ideales de Juan son en Cancun\n"
     ]
    }
   ],
   "source": [
    "encuesta = {}\n",
    "\n",
    "bandera = True\n",
    "\n",
    "while bandera:\n",
    "    nombre = input(\"\\nCual es tu nombre? \")\n",
    "    lugar = input(\"Que lugar seria el de tus vacaciones ideales? \")\n",
    "    \n",
    "    encuesta[nombre] = lugar\n",
    "\n",
    "    repeticion = input(\"Quieres agregar mas personas? (si/no)\")\n",
    "    if repeticion == 'no':\n",
    "        bandera = False\n",
    "\n",
    "# Resultados de la encuesta\n",
    "print(\"\\n--- Resultados ---\")\n",
    "for nombre,lugar in encuesta.items():\n",
    "    print(f\"Las vacaciones ideales de {nombre} son en {lugar}\")"
   ]
  }
 ],
 "metadata": {
  "kernelspec": {
   "display_name": "Python 3",
   "language": "python",
   "name": "python3"
  },
  "language_info": {
   "codemirror_mode": {
    "name": "ipython",
    "version": 3
   },
   "file_extension": ".py",
   "mimetype": "text/x-python",
   "name": "python",
   "nbconvert_exporter": "python",
   "pygments_lexer": "ipython3",
   "version": "3.10.7"
  },
  "orig_nbformat": 4
 },
 "nbformat": 4,
 "nbformat_minor": 2
}
