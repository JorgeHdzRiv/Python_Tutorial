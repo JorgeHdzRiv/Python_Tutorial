{
 "cells": [
  {
   "attachments": {},
   "cell_type": "markdown",
   "metadata": {},
   "source": [
    "# Ejercicios"
   ]
  },
  {
   "attachments": {},
   "cell_type": "markdown",
   "metadata": {},
   "source": [
    "### 5-1. Pruebas condicionales:\n",
    "\n",
    "Escribe una serie de pruebas condicionales. \n",
    "\n",
    "Imprime una declaración describiendo cada prueba y tu predicción para los resultados de cada prueba. Su código \n",
    "debe verse algo como esto: \n",
    "\n",
    "\n",
    "coche = 'subaru' \n",
    "\n",
    "print(\"¿Es el coche == 'subaru'? Yo predicho Verdadero.\") \n",
    "\n",
    "print(coche == 'subaru') \n",
    "\n",
    "print(\"\\nEs el coche == 'audi'? Yo predicho False.\") \n",
    "\n",
    "print(coche == 'audi') \n",
    "\n",
    "\n",
    "* Mira de cerca tus resultados, y asegúrate de entender por qué cada línea de \n",
    "evalúa como True o False. \n",
    "* Crear al menos 10 pruebas. Tener al menos 5 pruebas de evaluación a True y otro \n",
    "5 tests evaluan a False. \n"
   ]
  },
  {
   "cell_type": "code",
   "execution_count": 7,
   "metadata": {},
   "outputs": [
    {
     "name": "stdout",
     "output_type": "stream",
     "text": [
      "Si el carro es subaru el resultado sera verdadero\n",
      "True\n",
      "Si el carro por ejemplo es audi u otro, sera falso\n",
      "False\n",
      "False\n",
      "Si el carro el diferente de otra marca que no sea subaru el resultado sera True\n",
      "True\n",
      "True\n"
     ]
    }
   ],
   "source": [
    "car = \"subaru\"\n",
    "print(\"Si el carro es subaru\"+\" el resultado sera verdadero\")\n",
    "print(car == \"subaru\") #Imprime verdadero\n",
    "print(\"Si el carro por ejemplo es audi u otro, sera falso\")\n",
    "print(car == \"audi\")\n",
    "print(car == \"ferrari\")\n",
    "\n",
    "print(\"Si el carro el diferente de otra marca que no sea subaru\"+\" el resultado sera True\")\n",
    "print(car != \"mazda\")\n",
    "print(car != \"lambo\")"
   ]
  },
  {
   "attachments": {},
   "cell_type": "markdown",
   "metadata": {},
   "source": [
    "### 5-2. Más pruebas condicionales:\n",
    "\n",
    "Usted no tiene que limitar el número de pruebas que se crean a 10. Si desea probar más comparaciones, escriba más pruebas y agregue \n",
    "a conditional_tests el ejercicio 5.1. Tener al menos un resultado True y uno False para \n",
    "cada uno de los siguientes: \n",
    "\n",
    "* Pruebas de igualdad y desigualdad con cadenas \n",
    "* Pruebas usando la función lower() \n",
    "* Pruebas numéricas que implican igualdad y desigualdad, mayor que y \n",
    "menor que, mayor o igual a, y menor o igual que \n",
    "* Pruebas usando la palabra clave y la palabra clave \n",
    "* Probar si un elemento está en una lista \n",
    "* Probar si un elemento no está en una lista \n"
   ]
  },
  {
   "cell_type": "code",
   "execution_count": 14,
   "metadata": {},
   "outputs": [
    {
     "name": "stdout",
     "output_type": "stream",
     "text": [
      "Pruebas de igual y desigualdad\n",
      "False\n",
      "True\n",
      "True\n",
      "True\n",
      "\n",
      "Pruebas con funcion lower\n",
      "True\n",
      "\n",
      "Pruebas numericas\n",
      "True\n",
      "True\n",
      "True\n",
      "True\n",
      "False\n",
      "True\n",
      "\n",
      "Palabra clave\n",
      "False\n",
      "True\n",
      "\n",
      "Probando elemento de la lista\n",
      "False\n",
      "True\n"
     ]
    }
   ],
   "source": [
    "car = \"subaru\"\n",
    "\n",
    "#Pruebas de igualdad y desigualdad\n",
    "print(\"Pruebas de igual y desigualdad\")\n",
    "print(car == \"audi\")\n",
    "print(car != \"mazda\")\n",
    "print(car == \"subaru\")\n",
    "print(car != \"mazda\")\n",
    "\n",
    "#Pruebas con lower\n",
    "new_car = \"Subaru\"\n",
    "print(\"\\nPruebas con funcion lower\")\n",
    "print(new_car.lower() == car)\n",
    "\n",
    "#Numericas\n",
    "num = 10\n",
    "print(\"\\nPruebas numericas\")\n",
    "print(num > 5)\n",
    "print(num < 20)\n",
    "print(num == 10)\n",
    "print(num != 30)\n",
    "print(num <= 5)\n",
    "print(num >= 10)\n",
    "\n",
    "#Palabra clave\n",
    "print(\"\\nPalabra clave\")\n",
    "print(new_car == car)\n",
    "print(new_car != car)\n",
    "\n",
    "lista = [1,2,3,4,5]\n",
    "print(\"\\nProbando elemento de la lista\")\n",
    "num = 10\n",
    "#Probar si un elemento esta en la lista\n",
    "print(num in lista)\n",
    "\n",
    "#Probar si un elemento no esta en la lista\n",
    "\n",
    "print(num not in lista)"
   ]
  },
  {
   "attachments": {},
   "cell_type": "markdown",
   "metadata": {},
   "source": [
    "### 5-3. Alien Colors #1: \n",
    "\n",
    "Imagina que un alienígena acaba de disparar en un juego. Cree una variable denominada alien_color y asígnele un valor de 'verde', 'amarillo' o 'rojo'. \n",
    "\n",
    "* Escribir una declaración si para probar si el color del alien es verde. Si lo es, imprima \n",
    "un mensaje que el jugador acaba de ganar 5 puntos. \n",
    "\n",
    "* Escribir una versión de este programa que pasa la prueba de si y otra que \n",
    "falla. (La versión que falla no tendrá salida.) \n"
   ]
  },
  {
   "cell_type": "code",
   "execution_count": 15,
   "metadata": {},
   "outputs": [
    {
     "name": "stdout",
     "output_type": "stream",
     "text": [
      "Acabas de ganar 5 puntos\n"
     ]
    }
   ],
   "source": [
    "alien_color = \"verde\"\n",
    "\n",
    "if alien_color == \"verde\":\n",
    "    print(\"Acabas de ganar 5 puntos\")"
   ]
  },
  {
   "cell_type": "code",
   "execution_count": 16,
   "metadata": {},
   "outputs": [],
   "source": [
    "alien_color = \"rojo\"\n",
    "\n",
    "if alien_color == \"verde\":\n",
    "    print(\"Acabas de ganar 5 puntos\")"
   ]
  },
  {
   "attachments": {},
   "cell_type": "markdown",
   "metadata": {},
   "source": [
    "### 5-4. Alien Colors #2: \n",
    "\n",
    "Elija un color para un alien como lo hizo en el Ejercicio 5-3, y escribir una cadena de if-else.\n",
    "\n",
    "* Si el color del alien es verde, imprima una declaración que el jugador acaba de ganar \n",
    "5 puntos por disparar al alienígena. \n",
    "* Si el color de los alienígenas no es verde, imprima una declaración que el jugador acaba de ganar \n",
    "10 puntos. \n",
    "* Escribir una versión de este programa que ejecuta el bloque de if y otro que \n",
    "ejecuta el bloque else. \n"
   ]
  },
  {
   "cell_type": "code",
   "execution_count": 17,
   "metadata": {},
   "outputs": [
    {
     "name": "stdout",
     "output_type": "stream",
     "text": [
      "Acabas de ganar 5 puntos\n"
     ]
    }
   ],
   "source": [
    "alien_color = \"verde\"\n",
    "\n",
    "if alien_color == \"verde\":\n",
    "    print(\"Acabas de ganar 5 puntos\")\n",
    "else:\n",
    "    print(\"Acabas de ganar 10 puntos\")"
   ]
  },
  {
   "cell_type": "code",
   "execution_count": 18,
   "metadata": {},
   "outputs": [
    {
     "name": "stdout",
     "output_type": "stream",
     "text": [
      "Acabas de ganar 10 puntos\n"
     ]
    }
   ],
   "source": [
    "alien_color = \"rojo\"\n",
    "\n",
    "if alien_color == \"verde\":\n",
    "    print(\"Acabas de ganar 5 puntos\")\n",
    "else:\n",
    "    print(\"Acabas de ganar 10 puntos\")"
   ]
  },
  {
   "attachments": {},
   "cell_type": "markdown",
   "metadata": {},
   "source": [
    "#### 5-5. Alien Colors #3: \n",
    "\n",
    "Convierta la cadena de if-else del Ejercicio 5-4 en una cadena if-elif-else. \n",
    "\n",
    "* Si el alien es verde, imprima un mensaje que el jugador ganó 5 puntos. \n",
    "* Si el alien es amarillo, imprima un mensaje que el jugador ganó 10 puntos. \n",
    "* Si el alien es rojo, imprima un mensaje que el jugador ganó 15 puntos. \n",
    "* Escribe tres versiones de este programa, asegurándose de que cada mensaje esté impreso \n",
    "para el color adecuado alienígena. \n"
   ]
  },
  {
   "cell_type": "code",
   "execution_count": 19,
   "metadata": {},
   "outputs": [
    {
     "name": "stdout",
     "output_type": "stream",
     "text": [
      "Acabas de ganar 5 puntos\n"
     ]
    }
   ],
   "source": [
    "#Colores disponibles: verde,amarillo,rojo\n",
    "alien_color = \"verde\"\n",
    "\n",
    "if alien_color == \"verde\":\n",
    "    print(\"Acabas de ganar 5 puntos\")\n",
    "elif alien_color == \"amarillo\":\n",
    "    print(\"Acabas de ganar 10 puntos\")\n",
    "elif alien_color == \"rojo\":\n",
    "    print(\"Acabas de ganar 15 puntos\")\n"
   ]
  },
  {
   "cell_type": "code",
   "execution_count": 20,
   "metadata": {},
   "outputs": [
    {
     "name": "stdout",
     "output_type": "stream",
     "text": [
      "Acabas de ganar 10 puntos\n"
     ]
    }
   ],
   "source": [
    "#Colores disponibles: verde,amarillo,rojo\n",
    "alien_color = \"amarillo\"\n",
    "\n",
    "if alien_color == \"verde\":\n",
    "    print(\"Acabas de ganar 5 puntos\")\n",
    "elif alien_color == \"amarillo\":\n",
    "    print(\"Acabas de ganar 10 puntos\")\n",
    "elif alien_color == \"rojo\":\n",
    "    print(\"Acabas de ganar 15 puntos\")"
   ]
  },
  {
   "cell_type": "code",
   "execution_count": 21,
   "metadata": {},
   "outputs": [
    {
     "name": "stdout",
     "output_type": "stream",
     "text": [
      "Acabas de ganar 15 puntos\n"
     ]
    }
   ],
   "source": [
    "#Colores disponibles: verde,amarillo,rojo\n",
    "alien_color = \"rojo\"\n",
    "\n",
    "if alien_color == \"verde\":\n",
    "    print(\"Acabas de ganar 5 puntos\")\n",
    "elif alien_color == \"amarillo\":\n",
    "    print(\"Acabas de ganar 10 puntos\")\n",
    "elif alien_color == \"rojo\":\n",
    "    print(\"Acabas de ganar 15 puntos\")"
   ]
  },
  {
   "attachments": {},
   "cell_type": "markdown",
   "metadata": {},
   "source": [
    "### 5-6. Etapas de la Vida:\n",
    "\n",
    "Escribe una cadena de if-elif-else que determina la etapa de una persona en la vida. \n",
    "\n",
    "Establezca un valor para la edad variable y luego: \n",
    "\n",
    "* Si la persona tiene menos de 2 años, imprima un mensaje que la persona es \n",
    "un bebé. \n",
    "* Si la persona tiene por lo menos 2 años de edad, pero menos de 4, imprima un mensaje que \n",
    "la persona es un niño pequeño. \n",
    "* Si la persona tiene por lo menos 4 años de edad, pero menos de 13, imprima un mensaje que \n",
    "la persona es un niño. \n",
    "* Si la persona tiene por lo menos 13 años de edad, pero menos de 20, imprima un mensaje que \n",
    "la persona es una adolescente. \n",
    "* Si la persona tiene por lo menos 20 años de edad pero menos de 65, imprima un mensaje que \n",
    "la persona es adulta. \n",
    "* Si la persona tiene 65 años o más, imprima un mensaje de que la persona es de la tercera edad"
   ]
  },
  {
   "cell_type": "code",
   "execution_count": 35,
   "metadata": {},
   "outputs": [
    {
     "name": "stdout",
     "output_type": "stream",
     "text": [
      "Esta persona es de la tercera edad\n"
     ]
    }
   ],
   "source": [
    "edad = 70\n",
    "\n",
    "if edad < 2 and edad > 0: #Asi evitamos que una persona introduzca una edad negativa\n",
    "    print(\"Esta persona es un bebe\")\n",
    "elif edad < 4 and edad >= 2:\n",
    "    print(\"Esta persona es un niño pequeño\")\n",
    "elif edad < 13 and edad >= 4:\n",
    "    print(\"Esta persona es un niño\")\n",
    "elif edad < 20 and edad >= 13:\n",
    "    print(\"Esta persona es un adolescente\")\n",
    "elif edad < 65 and edad >= 20:\n",
    "    print(\"Esta persona es adulta\")\n",
    "else:\n",
    "    print(\"Esta persona es de la tercera edad\")"
   ]
  },
  {
   "attachments": {},
   "cell_type": "markdown",
   "metadata": {},
   "source": [
    "### 5-7. Fruta Favorita: \n",
    "\n",
    "Haz una lista de tus frutas favoritas y luego escribe una serie de\n",
    "Independiente si declaraciones que comprueban ciertas frutas en su lista.\n",
    "\n",
    "* Haz una lista de tus tres frutas favoritas y llámalo favorite_fruits.\n",
    "* Escribe cinco declaraciones if. Cada uno debe verificar si un cierto tipo de fruta\n",
    "está en tu lista. Si la fruta está en su lista, el bloque if debe imprimir una declaración,\n",
    "como ¡Realmente me gustan los plátanos!"
   ]
  },
  {
   "cell_type": "code",
   "execution_count": 39,
   "metadata": {},
   "outputs": [
    {
     "name": "stdout",
     "output_type": "stream",
     "text": [
      "Me encanta la manzana\n",
      "Me encanta el mango\n",
      "Me encanta la fresa\n"
     ]
    }
   ],
   "source": [
    "favorite_fruits = [\"manzana\",\"mango\",\"fresa\"]\n",
    "\n",
    "for fruit in favorite_fruits:\n",
    "    if fruit == \"mango\":\n",
    "        print(\"Me encanta el mango\")\n",
    "    elif fruit == \"platano\":\n",
    "        print(\"Me encanta el platano\")\n",
    "    elif fruit == \"mango\":\n",
    "        print(\"Me gusta el mango\")\n",
    "    elif fruit == \"fresa\":\n",
    "        print(\"Me encanta la fresa\")\n",
    "    elif fruit == \"manzana\":\n",
    "        print(\"Me encanta la manzana\")\n",
    "    else:\n",
    "        print(\"No me gusta esa fruta\")"
   ]
  },
  {
   "attachments": {},
   "cell_type": "markdown",
   "metadata": {},
   "source": [
    "### 5-8. Hola Admin: \n",
    "Haz una lista de cinco o más nombres de usuario, incluido el nombre 'admin'. \n",
    "\n",
    "Imagina que estás escribiendo código que imprimirá un saludo a cada usuario\n",
    "después de iniciar sesión en un sitio web. Recorre la lista e imprime un saludo en\n",
    "Cada usuario:\n",
    "* Si el nombre de usuario es 'admin', imprima un saludo especial, como Hello admin,\n",
    "¿Le gustaría ver un informe de estado?\n",
    "* De lo contrario, imprima un saludo genérico, como Hola Eric, gracias por iniciar sesión\n",
    "en otra vez."
   ]
  },
  {
   "cell_type": "code",
   "execution_count": 41,
   "metadata": {},
   "outputs": [
    {
     "name": "stdout",
     "output_type": "stream",
     "text": [
      "Hola omar bienvenido\n",
      "Hola jesus bienvenido\n",
      "Hola admin le gustaria ver un informe de su estado\n",
      "Hola juan bienvenido\n",
      "Hola jorge bienvenido\n"
     ]
    }
   ],
   "source": [
    "users = ['omar','jesus','admin','juan','jorge']\n",
    "\n",
    "for user in users:\n",
    "    if user == \"admin\":\n",
    "        print(\"Hola admin le gustaria ver un informe de su estado\")\n",
    "    else:\n",
    "        print(\"Hola \"+user+\" bienvenido\")"
   ]
  },
  {
   "attachments": {},
   "cell_type": "markdown",
   "metadata": {},
   "source": [
    "### 5-9. No Usuarios: \n",
    "Agregue una prueba if a hello_admin.py para asegurarse de que la lista de usuarios no esté vacía.\n",
    "\n",
    "* Si la lista está vacía, imprima el mensaje ¡Necesitamos encontrar algunos usuarios!\n",
    "* Elimine todos los nombres de usuario de su lista y asegúrese de que sean correctos\n",
    "se imprime."
   ]
  },
  {
   "cell_type": "code",
   "execution_count": 42,
   "metadata": {},
   "outputs": [
    {
     "name": "stdout",
     "output_type": "stream",
     "text": [
      "Hola omar bienvenido\n",
      "Hola jesus bienvenido\n",
      "Hola admin le gustaria ver un informe de su estado\n",
      "Hola juan bienvenido\n",
      "Hola jorge bienvenido\n"
     ]
    }
   ],
   "source": [
    "users = ['omar','jesus','admin','juan','jorge']\n",
    "\n",
    "if users:\n",
    "    for user in users:\n",
    "        if user == \"admin\":\n",
    "            print(\"Hola admin le gustaria ver un informe de su estado\")\n",
    "        else:\n",
    "            print(\"Hola \"+user+\" bienvenido\")"
   ]
  },
  {
   "cell_type": "code",
   "execution_count": 43,
   "metadata": {},
   "outputs": [
    {
     "name": "stdout",
     "output_type": "stream",
     "text": [
      "La lista esta vacia agregue personas\n"
     ]
    }
   ],
   "source": [
    "users = []\n",
    "\n",
    "if users:\n",
    "    for user in users:\n",
    "        if user == \"admin\":\n",
    "            print(\"Hola admin le gustaria ver un informe de su estado\")\n",
    "        else:\n",
    "            print(\"Hola \"+user+\" bienvenido\")\n",
    "else:\n",
    "    print(\"La lista esta vacia agregue personas\")"
   ]
  },
  {
   "attachments": {},
   "cell_type": "markdown",
   "metadata": {},
   "source": [
    "### 5-10. Checando nombres de usuarios: \n",
    "\n",
    "Haga lo siguiente para crear un programa que simule cómo los sitios web aseguran que todos tengan un nombre de usuario único.\n",
    "\n",
    "* Haga una lista de cinco o más nombres de usuario llamados current_users.\n",
    "* Haga otra lista de cinco nombres de usuario llamada new_users. Asegúrese de que uno o\n",
    "dos de los nuevos nombres de usuario también están en la lista current_users.\n",
    "* Recorra la lista new_users para ver si cada nuevo nombre de usuario ya ha\n",
    "ha sido usado. Si es así, imprima un mensaje de que la persona deberá ingresar un\n",
    "nuevo nombre de usuario. Si no se ha utilizado un nombre de usuario, imprima un mensaje que diga\n",
    "que el nombre de usuario está disponible.\n",
    "* Asegúrese de que su comparación no distinga entre mayúsculas y minúsculas. Si se ha utilizado 'Juan',\n",
    "No se debe aceptar 'JUAN'."
   ]
  },
  {
   "cell_type": "code",
   "execution_count": 49,
   "metadata": {},
   "outputs": [
    {
     "name": "stdout",
     "output_type": "stream",
     "text": [
      "Tu usuario: jackie,esta disponible\n",
      "Tu usuario: sara,esta disponible\n",
      "Necesitas ingresar otro nombre de usuario, el nombre: jorge,no esta disponible\n",
      "Necesitas ingresar otro nombre de usuario, el nombre: JUAN,no esta disponible\n"
     ]
    }
   ],
   "source": [
    "current_users = ['omar','jesus','admin','juan','jorge']\n",
    "new_users = ['jackie','sara','jorge','JUAN']\n",
    "\n",
    "for user in new_users:\n",
    "    if user.lower() in current_users:\n",
    "        print(\"Necesitas ingresar otro nombre de usuario, el nombre: \"+user+\",no esta disponible\")\n",
    "    else:\n",
    "        print(\"Tu usuario: \"+user+\",esta disponible\")"
   ]
  },
  {
   "attachments": {},
   "cell_type": "markdown",
   "metadata": {},
   "source": [
    "### 5-11. Números ordinales:\n",
    "\n",
    "Los números ordinales indican su posición en una lista, como 1º o 2º. La mayoría de los números ordinales terminan en th, excepto 1, 2 y 3.\n",
    "* Guarde los números del 1 al 9 en una lista.\n",
    "* Bucle a través de la lista.\n",
    "* Use una cadena if-elif-else dentro del bucle para imprimir el final ordinal adecuado\n",
    "para cada número. Su salida debe decir \"1st 2nd 3rd 4th 5th 6th\n",
    "7th 8th 9th\", y cada resultado debe estar en una línea separada."
   ]
  },
  {
   "cell_type": "code",
   "execution_count": 56,
   "metadata": {},
   "outputs": [
    {
     "name": "stdout",
     "output_type": "stream",
     "text": [
      "Los numeros ordinales son:\n",
      "\n",
      "1st\n",
      "2nd\n",
      "3rd\n",
      "4th\n",
      "5th\n",
      "6th\n",
      "7th\n",
      "8th\n",
      "9th\n"
     ]
    }
   ],
   "source": [
    "numeros = [num for num in range(1,10)]\n",
    "\n",
    "print(\"Los numeros ordinales son:\\n\")\n",
    "for numero in numeros:\n",
    "    if numero == 1:\n",
    "        print(numero,\"st\",sep=\"\")\n",
    "    elif numero == 2:\n",
    "        print(numero,\"nd\",sep=\"\")\n",
    "    elif numero == 3:\n",
    "        print(numero,\"rd\",sep=\"\")\n",
    "    else:\n",
    "        print(numero,\"th\",sep=\"\")"
   ]
  }
 ],
 "metadata": {
  "kernelspec": {
   "display_name": "Python 3",
   "language": "python",
   "name": "python3"
  },
  "language_info": {
   "codemirror_mode": {
    "name": "ipython",
    "version": 3
   },
   "file_extension": ".py",
   "mimetype": "text/x-python",
   "name": "python",
   "nbconvert_exporter": "python",
   "pygments_lexer": "ipython3",
   "version": "3.10.7"
  },
  "orig_nbformat": 4
 },
 "nbformat": 4,
 "nbformat_minor": 2
}
