{
 "cells": [
  {
   "attachments": {},
   "cell_type": "markdown",
   "metadata": {},
   "source": [
    "# Ejercicios"
   ]
  },
  {
   "attachments": {},
   "cell_type": "markdown",
   "metadata": {},
   "source": [
    "### 6-1. Persona: \n",
    "Use un diccionario para almacenar información sobre una persona que conoce.\n",
    "\n",
    "Almacene su nombre, apellido, edad y la ciudad en la que viven. Tú\n",
    "Debe tener claves como first_name, last_name, edad y ciudad. Imprimir cada uno\n",
    "pieza de información almacenada en su diccionario."
   ]
  },
  {
   "cell_type": "code",
   "execution_count": 1,
   "metadata": {},
   "outputs": [
    {
     "name": "stdout",
     "output_type": "stream",
     "text": [
      "\n",
      "Llave:  first_name\n",
      "Valor:  Jorge\n",
      "\n",
      "Llave:  age\n",
      "Valor:  26\n",
      "\n",
      "Llave:  city\n",
      "Valor:  Mexico\n"
     ]
    }
   ],
   "source": [
    "person = {\n",
    "    \"first_name\" : \"Jorge\",\n",
    "    \"age\" : 26,\n",
    "    \"city\" : \"Mexico\"\n",
    "}\n",
    "\n",
    "for key,value in person.items():\n",
    "    print(\"\\nLlave: \",key)\n",
    "    print(\"Valor: \",value)\n",
    "\n"
   ]
  },
  {
   "attachments": {},
   "cell_type": "markdown",
   "metadata": {},
   "source": [
    "### 6-2. Numeros favoritos: \n",
    "Use un diccionario para almacenar los números favoritos de las personas.\n",
    "\n",
    "Piense en cinco nombres y úselos como claves en su diccionario. Piensa en un numero favorito\n",
    "para cada persona, y almacena cada uno como un valor en su diccionario. \n",
    "\n",
    "Imprime el nombre de cada persona y su número favorito. Para aún más diversión, sondea algunos\n",
    "amigos y obtener algunos datos reales para su programa."
   ]
  },
  {
   "cell_type": "code",
   "execution_count": 2,
   "metadata": {},
   "outputs": [
    {
     "name": "stdout",
     "output_type": "stream",
     "text": [
      "\n",
      "El numero favorito de Juan es: 2\n",
      "\n",
      "El numero favorito de Jose es: 3\n",
      "\n",
      "El numero favorito de Ana es: 18\n",
      "\n",
      "El numero favorito de Rita es: 96\n",
      "\n",
      "El numero favorito de Perla es: 12\n"
     ]
    }
   ],
   "source": [
    "numbers = {\n",
    "    \"Juan\" : 2,\n",
    "    \"Jose\" : 3,\n",
    "    \"Ana\" : 18,\n",
    "    \"Rita\" : 96,\n",
    "    \"Perla\" : 12\n",
    "}\n",
    "\n",
    "for name,number in numbers.items():\n",
    "    print(f\"\\nEl numero favorito de {name} es: {number}\")\n"
   ]
  },
  {
   "attachments": {},
   "cell_type": "markdown",
   "metadata": {},
   "source": [
    "### 6-3. Glosario: \n",
    "\n",
    "Un diccionario Python se puede utilizar para modelar un diccionario real.\n",
    "\n",
    "Sin embargo, para evitar confusiones, llamémoslo glosario.\n",
    "\n",
    "* Piensa en cinco palabras de programación que has aprendido. \n",
    "Use estas palabras como las claves en su glosario y almacene sus significados como valores.\n",
    "\n",
    "* Imprima cada palabra y su significado como salida cuidadosamente formateada. Usted podría\n",
    "Imprima la palabra seguida de dos puntos y luego su significado, o imprima la palabra\n",
    "en una línea y luego imprima su significado con sangría en una segunda línea. Utilice el botón\n",
    "Carácter de nueva línea (\\n) para insertar una línea en blanco entre cada significado de palabra\n",
    "emparejar en su salida."
   ]
  },
  {
   "cell_type": "code",
   "execution_count": 3,
   "metadata": {},
   "outputs": [
    {
     "name": "stdout",
     "output_type": "stream",
     "text": [
      "\n",
      "Palabra:  variable\n",
      "Valor que se da en memoria\n",
      "\n",
      "Palabra:  ciclo\n",
      "Numero de repeticiones de una accion\n",
      "\n",
      "Palabra:  metodo\n",
      "Codigo incorporado dentro de una funcion\n",
      "\n",
      "Palabra:  PEP8\n",
      "Metodologia de buenas practicas de codigo\n",
      "\n",
      "Palabra:  lista\n",
      "Valores dentro de una coleccion\n"
     ]
    }
   ],
   "source": [
    "glosary = {\n",
    "    \"variable\" : \"Valor que se da en memoria\",\n",
    "    \"ciclo\" : \"Numero de repeticiones de una accion\",\n",
    "    \"metodo\" : \"Codigo incorporado dentro de una funcion\",\n",
    "    \"PEP8\" : \"Metodologia de buenas practicas de codigo\",\n",
    "    \"lista\" : \"Valores dentro de una coleccion\"\n",
    "}\n",
    "\n",
    "for key in glosary.keys():\n",
    "    print(\"\\nPalabra: \",key)\n",
    "    print(glosary[key])"
   ]
  },
  {
   "attachments": {},
   "cell_type": "markdown",
   "metadata": {},
   "source": [
    "### 6-4. Glosario 2: \n",
    "\n",
    "Ahora que sabe cómo recorrer un diccionario, limpie\n",
    "el código del ejercicio 6-3 reemplazando su serie de impresión\n",
    "con un bucle que recorre las claves y los valores del diccionario.\n",
    "\n",
    "Cuando esté seguro de que su bucle funciona, agregue cinco términos más de Python a su\n",
    "glosario. Cuando vuelva a ejecutar el programa, estas nuevas palabras y significados\n",
    "debe incluirse automáticamente en la salida."
   ]
  },
  {
   "cell_type": "code",
   "execution_count": 4,
   "metadata": {},
   "outputs": [
    {
     "name": "stdout",
     "output_type": "stream",
     "text": [
      "\n",
      "Palabra:  variable\n",
      "Valor que se da en memoria\n",
      "\n",
      "Palabra:  ciclo\n",
      "Numero de repeticiones de una accion\n",
      "\n",
      "Palabra:  metodo\n",
      "Codigo incorporado dentro de una funcion\n",
      "\n",
      "Palabra:  PEP8\n",
      "Metodologia de buenas practicas de codigo\n",
      "\n",
      "Palabra:  lista\n",
      "Valores dentro de una coleccion\n",
      "\n",
      "Actualizando el diccionario\n",
      "\n",
      "Palabra:  variable\n",
      "Valor que se da en memoria\n",
      "\n",
      "Palabra:  ciclo\n",
      "Numero de repeticiones de una accion\n",
      "\n",
      "Palabra:  metodo\n",
      "Codigo incorporado dentro de una funcion\n",
      "\n",
      "Palabra:  PEP8\n",
      "Metodologia de buenas practicas de codigo\n",
      "\n",
      "Palabra:  lista\n",
      "Valores dentro de una coleccion\n",
      "\n",
      "Palabra:  validacion\n",
      "Forma de validar datos por medio de expresiones logicas\n",
      "\n",
      "Palabra:  items\n",
      "Valores dentro de un diccionario\n"
     ]
    }
   ],
   "source": [
    "glosary = {\n",
    "    \"variable\" : \"Valor que se da en memoria\",\n",
    "    \"ciclo\" : \"Numero de repeticiones de una accion\",\n",
    "    \"metodo\" : \"Codigo incorporado dentro de una funcion\",\n",
    "    \"PEP8\" : \"Metodologia de buenas practicas de codigo\",\n",
    "    \"lista\" : \"Valores dentro de una coleccion\"\n",
    "}\n",
    "\n",
    "for key in glosary.keys():\n",
    "    print(\"\\nPalabra: \",key)\n",
    "    print(glosary[key])\n",
    "\n",
    "print(\"\\nActualizando el diccionario\")\n",
    "\n",
    "glosary[\"validacion\"] = \"Forma de validar datos por medio de expresiones logicas\"\n",
    "glosary[\"items\"] = \"Valores dentro de un diccionario\"\n",
    "\n",
    "for key in glosary.keys():\n",
    "    print(\"\\nPalabra: \",key)\n",
    "    print(glosary[key])"
   ]
  },
  {
   "attachments": {},
   "cell_type": "markdown",
   "metadata": {},
   "source": [
    "### 6-5. Rios: \n",
    "Hacer un diccionario que contenga tres ríos principales y el país\n",
    "Cada río corre a través. Un par clave-valor podría ser 'nilo': 'egipto'.\n",
    "* Use un bucle para imprimir una oración sobre cada río, como El Nilo corre\n",
    "a través de Egipto.\n",
    "* Utilice un bucle para imprimir el nombre de cada río incluido en el diccionario.\n",
    "* Utilice un bucle para imprimir el nombre de cada país incluido en el diccionario."
   ]
  },
  {
   "cell_type": "code",
   "execution_count": 5,
   "metadata": {},
   "outputs": [
    {
     "name": "stdout",
     "output_type": "stream",
     "text": [
      "El rio nilo,corre por Egipto\n",
      "El rio bravo,corre por Mexico\n",
      "El rio mississippi,corre por Missouri\n"
     ]
    }
   ],
   "source": [
    "rios = {\n",
    "    \"nilo\" : \"Egipto\",\n",
    "    \"bravo\" : \"Mexico\",\n",
    "    \"mississippi\" : \"Missouri\"\n",
    "}\n",
    "\n",
    "for key,value in rios.items():\n",
    "    print(f\"El rio {key},corre por {value}\")"
   ]
  },
  {
   "attachments": {},
   "cell_type": "markdown",
   "metadata": {},
   "source": [
    "### 6-6. Interrogación: \n",
    "\n",
    "Utilice el código en favorite_languages.\n",
    "\n",
    "* Haga una lista de personas que deben tomar la encuesta de idiomas favoritos. Incluír\n",
    "algunos nombres que ya están en el diccionario y otros que no.\n",
    "\n",
    "* Repase la lista de personas que deben realizar la encuesta. Si tienen\n",
    "Ya tomada la encuesta, imprima un mensaje agradeciéndoles por responder.\n",
    "\n",
    "Si aún no han realizado la encuesta, imprima un mensaje invitándolos a participar en\n",
    "la encuesta."
   ]
  },
  {
   "cell_type": "code",
   "execution_count": 6,
   "metadata": {},
   "outputs": [
    {
     "name": "stdout",
     "output_type": "stream",
     "text": [
      "\n",
      "jen debes tomar la encuesta\n",
      "\n",
      "sarah gracias por realizar la encuesta\n",
      "\n",
      "edward gracias por realizar la encuesta\n",
      "\n",
      "phil debes tomar la encuesta\n"
     ]
    }
   ],
   "source": [
    "favorite_languages = {\n",
    "'jen': 'python',\n",
    "'sarah': 'c',\n",
    "'edward': 'ruby',\n",
    "'phil': 'python',\n",
    "}\n",
    "\n",
    "people = [\"jen\",\"james\",\"carl\",\"june\",\"phil\"]\n",
    "\n",
    "for key in favorite_languages.keys():\n",
    "    if key in people:\n",
    "        print(f\"\\n{key} debes tomar la encuesta\")\n",
    "    else:\n",
    "        print(f\"\\n{key} gracias por realizar la encuesta\")"
   ]
  },
  {
   "attachments": {},
   "cell_type": "markdown",
   "metadata": {},
   "source": [
    "### 6-7. Personas 2: \n",
    "Comience con el programa que escribió para el Ejercicio 6-1.\n",
    "\n",
    "Haga dos nuevos diccionarios que representen a diferentes personas y almacene los tres\n",
    "diccionarios en una lista llamada personas. Recorre tu lista de personas. A medida que recorre la lista, imprime todo lo que sabes sobre cada persona."
   ]
  },
  {
   "cell_type": "code",
   "execution_count": 7,
   "metadata": {},
   "outputs": [
    {
     "name": "stdout",
     "output_type": "stream",
     "text": [
      "\n",
      "Persona 1\n",
      "\n",
      "Llave:  first_name\n",
      "Valor:  Jorge\n",
      "\n",
      "Llave:  age\n",
      "Valor:  26\n",
      "\n",
      "Llave:  city\n",
      "Valor:  Mexico\n",
      "\n",
      "Persona 2\n",
      "\n",
      "Llave:  first_name\n",
      "Valor:  Juan\n",
      "\n",
      "Llave:  age\n",
      "Valor:  17\n",
      "\n",
      "Llave:  city\n",
      "Valor:  Mexico\n",
      "\n",
      "Persona 3\n",
      "\n",
      "Llave:  first_name\n",
      "Valor:  Vladimir\n",
      "\n",
      "Llave:  age\n",
      "Valor:  56\n",
      "\n",
      "Llave:  city\n",
      "Valor:  Rusia\n"
     ]
    }
   ],
   "source": [
    "first_person = {\n",
    "    \"first_name\" : \"Jorge\",\n",
    "    \"age\" : 26,\n",
    "    \"city\" : \"Mexico\"\n",
    "}\n",
    "\n",
    "second_person = {\n",
    "    \"first_name\" : \"Juan\",\n",
    "    \"age\" : 17,\n",
    "    \"city\" : \"Mexico\"\n",
    "}\n",
    "\n",
    "third_person = {\n",
    "    \"first_name\" : \"Vladimir\",\n",
    "    \"age\" : 56,\n",
    "    \"city\" : \"Rusia\"\n",
    "}\n",
    "\n",
    "persons = [first_person,second_person,third_person]\n",
    "\n",
    "i = 1\n",
    "for person in persons:\n",
    "    print(f\"\\nPersona {i}\")\n",
    "    for key,value in person.items():\n",
    "        print(\"\\nLlave: \",key)\n",
    "        print(\"Valor: \",value)\n",
    "    i += 1\n",
    "    "
   ]
  },
  {
   "attachments": {},
   "cell_type": "markdown",
   "metadata": {},
   "source": [
    "### 6-8. Mascotas: \n",
    "\n",
    "Haz varios diccionarios, donde el nombre de cada diccionario sea el nombre de una mascota. \n",
    "\n",
    "En cada diccionario, incluya el tipo de animal y el nombre del propietario. \n",
    "\n",
    "Guarde estos diccionarios en una lista llamada mascotas. A continuación, recorra su lista\n",
    "Y a medida que lo haces, imprime todo lo que sabes sobre cada mascota."
   ]
  },
  {
   "cell_type": "code",
   "execution_count": 8,
   "metadata": {},
   "outputs": [
    {
     "name": "stdout",
     "output_type": "stream",
     "text": [
      "\n",
      "Mascota 1\n",
      "nombre : luffy\n",
      "tipo : gato\n",
      "propietario : Jorge\n",
      "\n",
      "Mascota 2\n",
      "nombre : firulais\n",
      "tipo : perro\n",
      "propietario : Javier\n",
      "\n",
      "Mascota 3\n",
      "nombre : nemo\n",
      "tipo : pez\n",
      "propietario : Ana\n"
     ]
    }
   ],
   "source": [
    "luffy = {\n",
    "    \"nombre\" : \"luffy\",\n",
    "    \"tipo\" : \"gato\",\n",
    "    \"propietario\" : \"Jorge\"\n",
    "}\n",
    "\n",
    "firulais = {\n",
    "    \"nombre\" : \"firulais\",\n",
    "    \"tipo\" : \"perro\",\n",
    "    \"propietario\" : \"Javier\"\n",
    "}\n",
    "\n",
    "nemo = {\n",
    "    \"nombre\" : \"nemo\",\n",
    "    \"tipo\" : \"pez\",\n",
    "    \"propietario\" : \"Ana\"\n",
    "}\n",
    "\n",
    "mascotas = [luffy,firulais,nemo]\n",
    "\n",
    "i = 1\n",
    "for mascota in mascotas:\n",
    "    print(f\"\\nMascota {i}\")\n",
    "    for key,value in mascota.items():\n",
    "        print(f\"{key} : {value}\")\n",
    "    i+=1  \n",
    "\n"
   ]
  },
  {
   "attachments": {},
   "cell_type": "markdown",
   "metadata": {},
   "source": [
    "### 6-9. Lugares favoritos: \n",
    "\n",
    "Haz un diccionario llamado favorite_places. \n",
    "\n",
    "Piense en tres nombres para usar como claves en el diccionario y almacene de uno a tres lugares favoritos\n",
    "para cada persona. Para hacer este ejercicio un poco más interesante, pregunta a algunos amigos\n",
    "por nombrar algunos de sus lugares favoritos. \n",
    "\n",
    "Recorra el diccionario e imprima el nombre de cada persona y sus lugares favoritos."
   ]
  },
  {
   "cell_type": "code",
   "execution_count": 9,
   "metadata": {},
   "outputs": [
    {
     "name": "stdout",
     "output_type": "stream",
     "text": [
      "\n",
      "Clave: pizza\n",
      "\tLugars: Italia\n",
      "\tPersona: Juan\n",
      "\n",
      "Clave: sushi\n",
      "\tLugars: Japon\n",
      "\tPersona: Jorge\n",
      "\n",
      "Clave: tacos\n",
      "\tLugars: Mexico\n",
      "\tPersona: Fernanda\n"
     ]
    }
   ],
   "source": [
    "favorite_places = {\n",
    "    \"pizza\" : {\n",
    "        \"place\" : \"italia\",\n",
    "        \"person\" : \"Juan\"\n",
    "    },\n",
    "    \"sushi\" : {\n",
    "        \"place\" : \"japon\",\n",
    "        \"person\" : \"Jorge\"\n",
    "    },\n",
    "    \"tacos\" : {\n",
    "        \"place\" : \"mexico\",\n",
    "        \"person\" : \"Fernanda\"\n",
    "    },\n",
    "}\n",
    "\n",
    "for clave,place_valores in favorite_places.items():\n",
    "    print(\"\\nClave: \" + clave)\n",
    "    place = place_valores['place'] \n",
    "    person = place_valores['person'] \n",
    "    \n",
    "    print(\"\\tLugars: \" + place.title())\n",
    "    print(\"\\tPersona: \" + person.title())"
   ]
  },
  {
   "attachments": {},
   "cell_type": "markdown",
   "metadata": {},
   "source": [
    "### 6-10. Numeros favoritos 2: \n",
    "\n",
    "Modifique su programa 6.2 para que cada persona pueda tener más de un número favorito. Luego imprima el nombre de cada persona junto con sus números favoritos."
   ]
  },
  {
   "cell_type": "code",
   "execution_count": 10,
   "metadata": {},
   "outputs": [
    {
     "name": "stdout",
     "output_type": "stream",
     "text": [
      "\n",
      "Los numeros favoritos de Juan son: [2, 15]\n",
      "\n",
      "Los numeros favoritos de Jose son: [3, 22]\n",
      "\n",
      "Los numeros favoritos de Ana son: [18, 55, 17]\n",
      "\n",
      "Los numeros favoritos de Rita son: [96, 45, 99]\n",
      "\n",
      "Los numeros favoritos de Perla son: [12, 4, 3, 1]\n"
     ]
    }
   ],
   "source": [
    "numbers = {\n",
    "    \"Juan\" : [2,15],\n",
    "    \"Jose\" : [3,22],\n",
    "    \"Ana\" : [18,55,17],\n",
    "    \"Rita\" : [96,45,99],\n",
    "    \"Perla\" : [12,4,3,1]\n",
    "}\n",
    "\n",
    "for name,number in numbers.items():\n",
    "    print(f\"\\nLos numeros favoritos de {name} son: {number}\")"
   ]
  },
  {
   "attachments": {},
   "cell_type": "markdown",
   "metadata": {},
   "source": [
    "### 6-11. Ciudades: \n",
    "\n",
    "Haz un diccionario llamado ciudades, utilice los nombres de tres ciudades como en el diccionario. \n",
    "\n",
    "Cree un diccionario de información sobre cada ciudad e incluya el país en el que se encuentra la ciudad, su población aproximada y un dato sobre esa ciudad. \n",
    "\n",
    "Las claves para el diccionario de cada ciudad deben ser algo así como país, población y hecho. Imprime el nombre de cada ciudad y toda la información que has almacenado sobre ella."
   ]
  },
  {
   "cell_type": "code",
   "execution_count": 11,
   "metadata": {},
   "outputs": [
    {
     "name": "stdout",
     "output_type": "stream",
     "text": [
      "\n",
      "Ciudad: Texas\n",
      "\tPais: Eua\n",
      "\tPoblacion:  30000000\n",
      "\tDato: Es La Ciudad De Las Apuestas\n",
      "\n",
      "Ciudad: Guanajuato\n",
      "\tPais: Mexico\n",
      "\tPoblacion:  194500\n",
      "\tDato: Es La Ciudad De Las Momias Y Pueblo Magico\n",
      "\n",
      "Ciudad: Kyoto\n",
      "\tPais: Japon\n",
      "\tPoblacion:  1475000\n",
      "\tDato: Ciudad De Las Geishas\n"
     ]
    }
   ],
   "source": [
    "cities = {\n",
    "    \"texas\" : {\n",
    "        \"country\" : \"EUA\",\n",
    "        \"poblation\" : 30000000,\n",
    "        \"curiosity\" : \"Es la ciudad de las apuestas\"\n",
    "    },\n",
    "    \"guanajuato\" : {\n",
    "        \"country\" : \"Mexico\",\n",
    "        \"poblation\" : 194500,\n",
    "        \"curiosity\" : \"Es la ciudad de las momias y pueblo magico\"\n",
    "    },\n",
    "    \"kyoto\" : {\n",
    "        \"country\" : \"Japon\",\n",
    "        \"poblation\" : 1475000,\n",
    "        \"curiosity\" : \"Ciudad de las geishas\"\n",
    "    }\n",
    "}\n",
    "\n",
    "for ciudad,ciudad_info in cities.items():\n",
    "    print(\"\\nCiudad: \" + ciudad.title())\n",
    "    pais = ciudad_info['country'] \n",
    "    poblacion = ciudad_info['poblation'] \n",
    "    dato = ciudad_info[\"curiosity\"]\n",
    "    \n",
    "    print(\"\\tPais: \" + pais.title())\n",
    "    print(\"\\tPoblacion: \" , poblacion)\n",
    "    print(\"\\tDato: \" + dato.title())"
   ]
  },
  {
   "attachments": {},
   "cell_type": "markdown",
   "metadata": {},
   "source": [
    "### 6-12. Extensiones: \n",
    "\n",
    "Ahora estamos trabajando con ejemplos que son lo suficientemente complejos como para que puedan ampliarse de muchas maneras. Utilice uno de los programas de ejemplo y amplíelo agregando nuevas claves y valores, cambiando\n",
    "el contexto del programa o mejorar el formato de la salida."
   ]
  },
  {
   "cell_type": "code",
   "execution_count": 12,
   "metadata": {},
   "outputs": [
    {
     "name": "stdout",
     "output_type": "stream",
     "text": [
      "El rio nilo,corre por Egipto\n",
      "El rio bravo es orgullosamente parte de Mexico\n",
      "El rio mississippi es complicado de pronunciar\n"
     ]
    }
   ],
   "source": [
    "rios = {\n",
    "    \"nilo\" : \"Egipto\",\n",
    "    \"bravo\" : \"Mexico\",\n",
    "    \"mississippi\" : \"Missouri\"\n",
    "}\n",
    "\n",
    "for key,value in rios.items():\n",
    "    if key == \"bravo\":\n",
    "        print(\"El rio bravo es orgullosamente parte de Mexico\")\n",
    "    elif key == \"mississippi\":\n",
    "        print(f\"El rio {key} es complicado de pronunciar\")\n",
    "    else:\n",
    "        print(f\"El rio {key},corre por {value}\")\n"
   ]
  }
 ],
 "metadata": {
  "kernelspec": {
   "display_name": "Python 3",
   "language": "python",
   "name": "python3"
  },
  "language_info": {
   "codemirror_mode": {
    "name": "ipython",
    "version": 3
   },
   "file_extension": ".py",
   "mimetype": "text/x-python",
   "name": "python",
   "nbconvert_exporter": "python",
   "pygments_lexer": "ipython3",
   "version": "3.10.7"
  },
  "orig_nbformat": 4
 },
 "nbformat": 4,
 "nbformat_minor": 2
}
