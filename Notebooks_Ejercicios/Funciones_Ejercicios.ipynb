{
 "cells": [
  {
   "attachments": {},
   "cell_type": "markdown",
   "metadata": {},
   "source": [
    "# Ejercicios"
   ]
  },
  {
   "attachments": {},
   "cell_type": "markdown",
   "metadata": {},
   "source": [
    "### 8-1. Mensaje: \n",
    "\n",
    "Escribir una función llamada display_message() que imprima una oración\n",
    "\n",
    "Decirle a todos lo que está aprendiendo. Llame a la funcion y asegúrate de que el mensaje se muestra correctamente."
   ]
  },
  {
   "cell_type": "code",
   "execution_count": 1,
   "metadata": {},
   "outputs": [
    {
     "name": "stdout",
     "output_type": "stream",
     "text": [
      "Hola mundo, aprendiendo funciones\n",
      "\n",
      "Metodo con parametro\n",
      "Hola un gusto saludarte\n"
     ]
    }
   ],
   "source": [
    "def display_message():\n",
    "    print(\"Hola mundo, aprendiendo funciones\")\n",
    "\n",
    "def display_message2(message):\n",
    "    print(\"\\nMetodo con parametro\")\n",
    "    print(f\"Hola {message}\")\n",
    "\n",
    "display_message()\n",
    "display_message2(\"un gusto saludarte\")"
   ]
  },
  {
   "attachments": {},
   "cell_type": "markdown",
   "metadata": {},
   "source": [
    "### 8-2. Libro favorito: \n",
    "\n",
    "Escriba una función llamada favorite_book() que acepte un parámetro, título. La función debe imprimir un mensaje, como Uno de mis libros favoritos es Alicia en el País de las Maravillas. Llame a la función asegurándose de que incluya un título de libro como argumento en la llamada a la función."
   ]
  },
  {
   "cell_type": "code",
   "execution_count": 1,
   "metadata": {},
   "outputs": [
    {
     "name": "stdout",
     "output_type": "stream",
     "text": [
      "Uno de mis libros favoritos es: Divergente\n"
     ]
    }
   ],
   "source": [
    "def favorite_book(titulo):\n",
    "    print(f\"Uno de mis libros favoritos es: {titulo}\")\n",
    "\n",
    "favorite_book(\"Divergente\")"
   ]
  },
  {
   "attachments": {},
   "cell_type": "markdown",
   "metadata": {},
   "source": [
    "### 8-3. Camiseta: \n",
    "\n",
    "Escribe una función llamada make_shirt() que acepte un tamaño y el texto de un mensaje que debe imprimirse en la camiseta. La función debe imprimir una oración que resuma el tamaño de la camisa y el mensaje impreso en ella.\n",
    "\n",
    "Llame a la función una vez usando argumentos posicionales para hacer una camisa. Llame a la función por segunda vez usando argumentos de palabras clave."
   ]
  },
  {
   "cell_type": "code",
   "execution_count": 2,
   "metadata": {},
   "outputs": [
    {
     "name": "stdout",
     "output_type": "stream",
     "text": [
      "El size de la camiseta es l y el mensaje sera love python\n",
      "El size de la camiseta es m y el mensaje sera hello world!\n"
     ]
    }
   ],
   "source": [
    "def make_shirt(size,text):\n",
    "    print(f\"El size de la camiseta es {size} y el mensaje sera {text}\")\n",
    "\n",
    "make_shirt(\"l\",\"love python\")\n",
    "make_shirt(text=\"hello world!\",size=\"m\")\n"
   ]
  },
  {
   "attachments": {},
   "cell_type": "markdown",
   "metadata": {},
   "source": [
    "### 8-4. Camisas grandes: \n",
    "\n",
    "Modifique la función make_shirt() para que las camisas sean grandes por defecto con un mensaje que diga I love Python. \n",
    "\n",
    "Haga una camisa grande y una camisa mediana con el mensaje predeterminado, y una camisa de cualquier tamaño con un mensaje diferente."
   ]
  },
  {
   "cell_type": "code",
   "execution_count": 3,
   "metadata": {},
   "outputs": [
    {
     "name": "stdout",
     "output_type": "stream",
     "text": [
      "El size de la camiseta es l y el mensaje sera I love Python\n",
      "El size de la camiseta es m y el mensaje sera I love Python\n",
      "El size de la camiseta es l y el mensaje sera I like Python\n"
     ]
    }
   ],
   "source": [
    "def make_shirt(size=\"l\",text=\"I love Python\"):\n",
    "    print(f\"El size de la camiseta es {size} y el mensaje sera {text}\")\n",
    "\n",
    "make_shirt()\n",
    "make_shirt(\"m\")\n",
    "make_shirt(text=\"I like Python\")"
   ]
  },
  {
   "attachments": {},
   "cell_type": "markdown",
   "metadata": {},
   "source": [
    "### 8-5. Ciudades: \n",
    "\n",
    "Escribe una función llamada describe_city() que acepte el nombre de una ciudad y su país. La función debe imprimir una oración simple, como Reykjavik está en Islandia. Asigne al parámetro del país un valor predeterminado.\n",
    "\n",
    "Llame a su función para tres ciudades diferentes, al menos una de las cuales no está en el país predeterminado."
   ]
  },
  {
   "cell_type": "code",
   "execution_count": 5,
   "metadata": {},
   "outputs": [
    {
     "name": "stdout",
     "output_type": "stream",
     "text": [
      "Tokyo esta en Japon\n",
      "Guadalajara esta en Mexico\n",
      "Chicago esta en EUA\n"
     ]
    }
   ],
   "source": [
    "def describe_city(city,country=\"Mexico\"):\n",
    "    print(f\"{city} esta en {country}\")\n",
    "\n",
    "describe_city(\"Tokyo\",\"Japon\")\n",
    "describe_city(\"Guadalajara\")\n",
    "describe_city(\"Chicago\",\"EUA\")"
   ]
  },
  {
   "attachments": {},
   "cell_type": "markdown",
   "metadata": {},
   "source": [
    "### 8-6. Nombres de ciudades:\n",
    " \n",
    "Escribe una función llamada city_country() que tome el nombre de una ciudad y su país. La función debe devolver una cadena con este formato: \"Santiago, Chile\"\n",
    "\n",
    "Llame a su función con al menos tres pares ciudad-país e imprima el valor que se devuelve."
   ]
  },
  {
   "cell_type": "code",
   "execution_count": 7,
   "metadata": {},
   "outputs": [
    {
     "name": "stdout",
     "output_type": "stream",
     "text": [
      "Tokyo,Japon\n",
      "Guadalajara,Mexico\n",
      "Roma,Italia\n"
     ]
    }
   ],
   "source": [
    "def city_country(city,country):\n",
    "    print(f\"{city.title()},{country.title()}\")\n",
    "\n",
    "city_country(\"Tokyo\",\"Japon\")\n",
    "city_country(\"Guadalajara\",\"Mexico\")\n",
    "city_country(\"Roma\",\"Italia\")"
   ]
  },
  {
   "attachments": {},
   "cell_type": "markdown",
   "metadata": {},
   "source": [
    "### 8-7. Álbum: \n",
    "\n",
    "Escribe una función llamada make_album() que cree un diccionario que describa un álbum de música. La función debe incluir un nombre de artista y un título de álbum, y debe devolver un diccionario que contenga estas dos piezas de información. Utilice la función para crear tres diccionarios que representen diferentes álbumes. \n",
    "\n",
    "Imprima cada valor devuelto para mostrar que los diccionarios almacenan correctamente la información del álbum.\n",
    "\n",
    "Agregue un parámetro opcional a make_album() que le permita almacenar el número de pistas en un álbum. Si la línea de llamada incluye un valor para el número de pistas, agregue ese valor al diccionario del álbum. Realice al menos una nueva llamada de función que incluya el número de pistas de un álbum."
   ]
  },
  {
   "cell_type": "code",
   "execution_count": 20,
   "metadata": {},
   "outputs": [
    {
     "name": "stdout",
     "output_type": "stream",
     "text": [
      "artist:Tiesto\n",
      "title:Maximal Crazy\n",
      "songs:3\n",
      "\n",
      "artist:Lana del Rey\n",
      "title:Born to Die\n",
      "songs:15\n",
      "\n",
      "artist:Skillet\n",
      "title:Rise\n",
      "\n"
     ]
    }
   ],
   "source": [
    "def make_album(artist,title,songs=0):\n",
    "    if songs:\n",
    "        album = {\"artist\":artist,\"title\":title,\"songs\":songs}\n",
    "    else:\n",
    "        album = {\"artist\":artist,\"title\":title}\n",
    "\n",
    "    for key,value in album.items():\n",
    "        print(f\"{key}:{value}\")   \n",
    "    print() \n",
    "\n",
    "make_album(\"Tiesto\",\"Maximal Crazy\",3)\n",
    "make_album(\"Lana del Rey\",\"Born to Die\",15)\n",
    "make_album(\"Skillet\",\"Rise\")"
   ]
  },
  {
   "attachments": {},
   "cell_type": "markdown",
   "metadata": {},
   "source": [
    "### 8-8. Álbumes de usuario: \n",
    "\n",
    "Comience con su programa del Ejercicio 8-7. Escribe un bucle while que permita a los usuarios introducir el artista y el título de un álbum. \n",
    "\n",
    "Una vez que tenga esa información, llame a make_album() con la entrada del usuario e imprima el diccionario que se creó. Asegúrese de incluir un valor quit en el bucle while."
   ]
  },
  {
   "cell_type": "code",
   "execution_count": 24,
   "metadata": {},
   "outputs": [
    {
     "name": "stdout",
     "output_type": "stream",
     "text": [
      "artist:Lana\n",
      "title:Born\n",
      "\n",
      "artist:Tiesto\n",
      "title:Maximal\n",
      "songs:12\n",
      "\n"
     ]
    }
   ],
   "source": [
    "def make_album():\n",
    "    bandera = True\n",
    "    while bandera:\n",
    "        artist = input(\"Cual es el artista?\")\n",
    "        title = input(\"Titulo del album: \")\n",
    "        songs = int(input(\"Canciones del album: \"))\n",
    "        respuesta =input(\"Si desea salir escriba quit\")\n",
    "        if respuesta == \"quit\":\n",
    "            bandera = False\n",
    "        if songs:\n",
    "            album = {\"artist\":artist,\"title\":title,\"songs\":songs}\n",
    "        else:\n",
    "            album = {\"artist\":artist,\"title\":title}\n",
    "\n",
    "        for key,value in album.items():\n",
    "            print(f\"{key}:{value}\")   \n",
    "        print() \n",
    "\n",
    "make_album()\n",
    "\n"
   ]
  },
  {
   "attachments": {},
   "cell_type": "markdown",
   "metadata": {},
   "source": [
    "### 8-9. Magos: \n",
    "\n",
    "Haz una lista de los nombres de los magos. Pasar la lista a una función\n",
    "llamado show_magicians(), que imprime el nombre de cada mago en la lista."
   ]
  },
  {
   "cell_type": "code",
   "execution_count": 26,
   "metadata": {},
   "outputs": [
    {
     "name": "stdout",
     "output_type": "stream",
     "text": [
      "Mago legendario: Harry\n",
      "Mago legendario: Merlin\n",
      "Mago legendario: Oz\n"
     ]
    }
   ],
   "source": [
    "def show_magicians(mages):\n",
    "    for mage in mages:\n",
    "        print(f\"Mago legendario: {mage.title()}\")\n",
    "\n",
    "mages_list = [\"Harry\",\"Merlin\",\"oz\"]\n",
    "show_magicians(mages_list)"
   ]
  },
  {
   "attachments": {},
   "cell_type": "markdown",
   "metadata": {},
   "source": [
    "### 8-10. Grandes Magos: \n",
    "\n",
    "Comience con una copia de su programa del Ejercicio 8-9.\n",
    "\n",
    "Escribe una función llamada make_great() que modifique la lista de magos añadiendo la frase el Grande al nombre de cada mago. Llame a show_magicians() para ver que la lista ha sido modificada."
   ]
  },
  {
   "cell_type": "code",
   "execution_count": 31,
   "metadata": {},
   "outputs": [
    {
     "name": "stdout",
     "output_type": "stream",
     "text": [
      "Mago legendario: Harry El Grande\n",
      "Mago legendario: Merlin El Grande\n",
      "Mago legendario: Oz El Grande\n"
     ]
    }
   ],
   "source": [
    "def make_great(mages):\n",
    "    mages_modified = []\n",
    "    for mage in mages:\n",
    "        mages_modified.append(f\"{mage} el grande\")\n",
    "    return mages_modified\n",
    "\n",
    "def show_magicians(mages):\n",
    "    for mage in mages:\n",
    "        print(f\"Mago legendario: {mage.title()}\")\n",
    "\n",
    "\n",
    "mages_list = [\"Harry\",\"Merlin\",\"oz\"]\n",
    "show_magicians(make_great(mages_list))\n",
    "\n"
   ]
  },
  {
   "attachments": {},
   "cell_type": "markdown",
   "metadata": {},
   "source": [
    "### 8-11. Magos sin cambios: \n",
    "\n",
    "Comience con su trabajo del ejercicio 8-10. Llame a la función make_great() con una copia de la lista de nombres de magos. \n",
    "\n",
    "Dado que la lista original no cambiará, devuelva la nueva lista y almacénela en una lista independiente.\n",
    "\n",
    "Llama a show_magicians() con cada lista para mostrar que tienes una lista de los nombres originales y una lista con el gran agregado al nombre de cada mago."
   ]
  },
  {
   "cell_type": "code",
   "execution_count": 3,
   "metadata": {},
   "outputs": [
    {
     "name": "stdout",
     "output_type": "stream",
     "text": [
      "Mago legendario: Harry El Grande\n",
      "Mago legendario: Merlin El Grande\n",
      "Mago legendario: Oz El Grande\n",
      "\n",
      "Lista originial \n",
      "\n",
      "Mago legendario: Harry\n",
      "Mago legendario: Merlin\n",
      "Mago legendario: Oz\n"
     ]
    }
   ],
   "source": [
    "def make_great(mages):\n",
    "    mages_modified = []\n",
    "    for mage in mages:\n",
    "        mages_modified.append(f\"{mage} el grande\")\n",
    "    return mages_modified\n",
    "\n",
    "def show_magicians(mages):\n",
    "    for mage in mages:\n",
    "        print(f\"Mago legendario: {mage.title()}\")\n",
    "\n",
    "\n",
    "mages_list = [\"Harry\",\"Merlin\",\"oz\"]\n",
    "mages_modified = make_great(mages_list)\n",
    "show_magicians(mages_modified)\n",
    "print(\"\\nLista originial \\n\")\n",
    "show_magicians(mages_list)"
   ]
  },
  {
   "attachments": {},
   "cell_type": "markdown",
   "metadata": {},
   "source": [
    "### 8-12. Sándwiches: \n",
    "\n",
    "Escribe una función que acepte una lista de elementos que una persona quiere en un sándwich. \n",
    "\n",
    "La función debe tener un parámetro que recopile tantos elementos como proporcione la llamada a la función y debe imprimir un resumen del sándwich que se está pidiendo. \n",
    "\n",
    "Llame a la función tres veces, utilizando un número diferente de argumentos cada vez."
   ]
  },
  {
   "cell_type": "code",
   "execution_count": 8,
   "metadata": {},
   "outputs": [
    {
     "name": "stdout",
     "output_type": "stream",
     "text": [
      "\n",
      "Haciendo un sandwich con: \n",
      "-  atun\n",
      "-  jitomate\n",
      "-  mayonesa\n",
      "\n",
      "Haciendo un sandwich con: \n",
      "-  jamon\n",
      "\n",
      "Haciendo un sandwich con: \n",
      "-  salami\n",
      "-  verduras\n"
     ]
    }
   ],
   "source": [
    "def make_sandwich(*ingredients):\n",
    "    print(\"\\nHaciendo un sandwich con: \")\n",
    "    for ingredient in ingredients:\n",
    "        print(f\"-  {ingredient}\")\n",
    "\n",
    "make_sandwich(\"atun\",\"jitomate\",\"mayonesa\")\n",
    "make_sandwich(\"jamon\")\n",
    "make_sandwich(\"salami\",\"verduras\")\n"
   ]
  },
  {
   "attachments": {},
   "cell_type": "markdown",
   "metadata": {},
   "source": [
    "### 8-13. Perfil de usuario: \n",
    "\n",
    "Comience con una copia de user_profile.py. Construye un perfil de ti mismo llamando a build_profile(), usando tu nombre y apellido y otros tres pares clave-valor que te describan."
   ]
  },
  {
   "cell_type": "code",
   "execution_count": 9,
   "metadata": {},
   "outputs": [
    {
     "name": "stdout",
     "output_type": "stream",
     "text": [
      "{'first_name': 'Jorge', 'last_name': 'Hernandez', 'location': 'Mexico', 'field': 'ingeniero', 'conocimientos': 'Python'}\n"
     ]
    }
   ],
   "source": [
    "#user_profile.py \n",
    "\n",
    "def build_profile(first, last, **user_info):\n",
    "    \"\"\"Diccionario que contiene datos de un perfil.\"\"\"\n",
    "    profile = {}\n",
    "    profile['first_name'] = first\n",
    "    profile['last_name'] = last\n",
    "    for key, value in user_info.items():\n",
    "        profile[key] = value\n",
    "    return profile\n",
    "\n",
    "user_profile = build_profile('Jorge', 'Hernandez',location='Mexico',field='ingeniero',conocimientos=\"Python\")\n",
    "print(user_profile)"
   ]
  },
  {
   "attachments": {},
   "cell_type": "markdown",
   "metadata": {},
   "source": [
    "### 8-14. Coches: \n",
    "\n",
    "Escribir una función que almacene información sobre un coche en un diccionario.\n",
    "\n",
    "La función siempre debe recibir un fabricante y un nombre de modelo. A continuación, debe aceptar un número arbitrario de argumentos de palabras clave. Llame a la función con la información necesaria y otros dos pares nombre-valor, como un color o una característica opcional. Su función debería funcionar para una llamada como esta:\n",
    "\n",
    "car = make_car('subaru', 'outback', color='blue', tow_package=True)\n",
    "\n",
    "Imprima el diccionario que se devuelve para asegurarse de que toda la información se almacenó correctamente."
   ]
  },
  {
   "cell_type": "code",
   "execution_count": 11,
   "metadata": {},
   "outputs": [
    {
     "name": "stdout",
     "output_type": "stream",
     "text": [
      "{'fabricante': 'subaru', 'modelo': 'outback', 'color': 'blue', 'tow_package': True}\n"
     ]
    }
   ],
   "source": [
    "def make_car(fabricante=\"default\",modelo=\"default\",**car_info):\n",
    "    \"\"\"Diccionario de la informacion de un vehiculo\"\"\"\n",
    "    car = {}\n",
    "    car[\"fabricante\"] = fabricante\n",
    "    car[\"modelo\"] = modelo\n",
    "    for key,value in car_info.items():\n",
    "        car[key] = value\n",
    "    return car\n",
    "\n",
    "car = make_car('subaru', 'outback', color='blue', tow_package=True)\n",
    "print(car)"
   ]
  },
  {
   "attachments": {},
   "cell_type": "markdown",
   "metadata": {},
   "source": [
    "### 8-15. Modelos de impresión: \n",
    "\n",
    "Coloque las funciones para el ejemplo print_models.py en un archivo separado llamado printing_functions.py. Escriba una instrucción import en la parte superior de print_models.py y modifique el archivo para utilizar las funciones importadas."
   ]
  },
  {
   "cell_type": "code",
   "execution_count": 12,
   "metadata": {},
   "outputs": [
    {
     "name": "stdout",
     "output_type": "stream",
     "text": [
      "Printing model: dodecahedron\n",
      "Printing model: robot pendant\n",
      "Printing model: iphone case\n",
      "\n",
      "The following models have been printed:\n",
      "dodecahedron\n",
      "robot pendant\n",
      "iphone case\n"
     ]
    }
   ],
   "source": [
    "import printing_functions \n",
    "\n",
    "unprinted_designs = ['iphone case', 'robot pendant', 'dodecahedron']\n",
    "completed_models = []\n",
    "\n",
    "\n",
    "printing_functions.print_models(unprinted_designs,completed_models)\n",
    "printing_functions.show_completed_models(completed_models)\n"
   ]
  },
  {
   "attachments": {},
   "cell_type": "markdown",
   "metadata": {},
   "source": [
    "### 8-16. Importaciones: \n",
    "\n",
    "Usando un programa que escribió que tiene una función, almacene esa función en un archivo separado. Importe la función en el archivo de programa principal y llame a la función mediante cada uno de estos enfoques:\n",
    "\n",
    "* Importar module_name\n",
    "* de module_name importación function_name\n",
    "* De module_name importación function_name como FN\n",
    "* Importar module_name como MN\n",
    "* de module_name importación *\n"
   ]
  },
  {
   "cell_type": "code",
   "execution_count": 2,
   "metadata": {},
   "outputs": [
    {
     "name": "stdout",
     "output_type": "stream",
     "text": [
      "El total de la suma es: 34\n"
     ]
    }
   ],
   "source": [
    "import funciones\n",
    "\n",
    "funciones.suma_dos(12,22)"
   ]
  },
  {
   "cell_type": "code",
   "execution_count": 1,
   "metadata": {},
   "outputs": [
    {
     "name": "stdout",
     "output_type": "stream",
     "text": [
      "El promedio de los numeros es: 28.0\n"
     ]
    }
   ],
   "source": [
    "from funciones import promedio_numeros\n",
    "\n",
    "promedio_numeros(23,33,44,12)"
   ]
  },
  {
   "cell_type": "code",
   "execution_count": 3,
   "metadata": {},
   "outputs": [
    {
     "name": "stdout",
     "output_type": "stream",
     "text": [
      "El promedio de los numeros es: 28.0\n"
     ]
    }
   ],
   "source": [
    "from funciones import promedio_numeros as pn\n",
    "\n",
    "pn(23,33,44,12)"
   ]
  },
  {
   "cell_type": "code",
   "execution_count": 4,
   "metadata": {},
   "outputs": [
    {
     "name": "stdout",
     "output_type": "stream",
     "text": [
      "Jorge\n",
      "Juan\n",
      "Carlos\n"
     ]
    }
   ],
   "source": [
    "import funciones as fn\n",
    "\n",
    "nombres = [\"Jorge\",\"Juan\",\"Carlos\"]\n",
    "fn.nombres(nombres)"
   ]
  },
  {
   "cell_type": "code",
   "execution_count": 5,
   "metadata": {},
   "outputs": [
    {
     "name": "stdout",
     "output_type": "stream",
     "text": [
      "El total de la suma es: 46\n",
      "El promedio de los numeros es: 25.0\n"
     ]
    }
   ],
   "source": [
    "from funciones import *\n",
    "\n",
    "funciones.suma_dos(12,34)\n",
    "funciones.promedio_numeros(23,54,12,11)"
   ]
  },
  {
   "attachments": {},
   "cell_type": "markdown",
   "metadata": {},
   "source": [
    "### 8-17. Funciones de estilo: \n",
    "\n",
    "Elija cualquiera de los tres programas que escribió para este notebook,\n",
    "y asegúrese de que siguen las pautas de estilo descritas en esta sección."
   ]
  },
  {
   "cell_type": "code",
   "execution_count": 6,
   "metadata": {},
   "outputs": [
    {
     "name": "stdout",
     "output_type": "stream",
     "text": [
      "{'fabricante': 'subaru', 'modelo': 'outback', 'color': 'blue', 'tow_package': True}\n"
     ]
    }
   ],
   "source": [
    "def make_car(fabricante=\"default\",modelo=\"default\",**car_info):\n",
    "    \"\"\"Diccionario de la informacion de un vehiculo\"\"\"\n",
    "    car = {}\n",
    "    car[\"fabricante\"] = fabricante\n",
    "    car[\"modelo\"] = modelo\n",
    "    for key,value in car_info.items():\n",
    "        car[key] = value\n",
    "    return car\n",
    "\n",
    "car = make_car('subaru', 'outback', color='blue', tow_package=True)\n",
    "print(car)\n",
    "\n",
    "#Cualquiera de los codigos descritos cumple con las pautas recomendadas para las funciones"
   ]
  }
 ],
 "metadata": {
  "kernelspec": {
   "display_name": "Python 3",
   "language": "python",
   "name": "python3"
  },
  "language_info": {
   "codemirror_mode": {
    "name": "ipython",
    "version": 3
   },
   "file_extension": ".py",
   "mimetype": "text/x-python",
   "name": "python",
   "nbconvert_exporter": "python",
   "pygments_lexer": "ipython3",
   "version": "3.9.9"
  },
  "orig_nbformat": 4
 },
 "nbformat": 4,
 "nbformat_minor": 2
}
