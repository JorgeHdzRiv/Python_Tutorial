{
 "cells": [
  {
   "attachments": {},
   "cell_type": "markdown",
   "metadata": {},
   "source": [
    "# Ejercicios"
   ]
  },
  {
   "attachments": {},
   "cell_type": "markdown",
   "metadata": {},
   "source": [
    "### 8-1. Mensaje: \n",
    "\n",
    "Escribir una función llamada display_message() que imprima una oración\n",
    "\n",
    "Decirle a todos lo que está aprendiendo. Llame a la funcion y asegúrate de que el mensaje se muestra correctamente."
   ]
  },
  {
   "cell_type": "code",
   "execution_count": 1,
   "metadata": {},
   "outputs": [
    {
     "name": "stdout",
     "output_type": "stream",
     "text": [
      "Hola mundo, aprendiendo funciones\n",
      "\n",
      "Metodo con parametro\n",
      "Hola un gusto saludarte\n"
     ]
    }
   ],
   "source": [
    "def display_message():\n",
    "    print(\"Hola mundo, aprendiendo funciones\")\n",
    "\n",
    "def display_message2(message):\n",
    "    print(\"\\nMetodo con parametro\")\n",
    "    print(f\"Hola {message}\")\n",
    "\n",
    "display_message()\n",
    "display_message2(\"un gusto saludarte\")"
   ]
  },
  {
   "attachments": {},
   "cell_type": "markdown",
   "metadata": {},
   "source": [
    "### 8-2. Libro favorito: \n",
    "\n",
    "Escriba una función llamada favorite_book() que acepte un parámetro, título. La función debe imprimir un mensaje, como Uno de mis libros favoritos es Alicia en el País de las Maravillas. Llame a la función asegurándose de que incluya un título de libro como argumento en la llamada a la función."
   ]
  },
  {
   "attachments": {},
   "cell_type": "markdown",
   "metadata": {},
   "source": [
    "### 8-3. Camiseta: \n",
    "\n",
    "Escribe una función llamada make_shirt() que acepte un tamaño y el texto de un mensaje que debe imprimirse en la camiseta. La función debe imprimir una oración que resuma el tamaño de la camisa y el mensaje impreso en ella.\n",
    "\n",
    "Llame a la función una vez usando argumentos posicionales para hacer una camisa. Llame a la función por segunda vez usando argumentos de palabras clave."
   ]
  },
  {
   "attachments": {},
   "cell_type": "markdown",
   "metadata": {},
   "source": [
    "### 8-4. Camisas grandes: \n",
    "\n",
    "Modifique la función make_shirt() para que las camisas sean grandes por defecto con un mensaje que diga I love Python. \n",
    "\n",
    "Haga una camisa grande y una camisa mediana con el mensaje predeterminado, y una camisa de cualquier tamaño con un mensaje diferente."
   ]
  },
  {
   "attachments": {},
   "cell_type": "markdown",
   "metadata": {},
   "source": [
    "### 8-5. Ciudades: \n",
    "\n",
    "Escribe una función llamada describe_city() que acepte el nombre de una ciudad y su país. La función debe imprimir una oración simple, como Reykjavik está en Islandia. Asigne al parámetro del país un valor predeterminado.\n",
    "\n",
    "Llame a su función para tres ciudades diferentes, al menos una de las cuales no está en el país predeterminado."
   ]
  },
  {
   "attachments": {},
   "cell_type": "markdown",
   "metadata": {},
   "source": [
    "### 8-6. Nombres de ciudades:\n",
    " \n",
    "Escribe una función llamada city_country() que tome el nombre de una ciudad y su país. La función debe devolver una cadena con este formato: \"Santiago, Chile\"\n",
    "\n",
    "Llame a su función con al menos tres pares ciudad-país e imprima el valor que se devuelve."
   ]
  },
  {
   "attachments": {},
   "cell_type": "markdown",
   "metadata": {},
   "source": [
    "### 8-7. Álbum: \n",
    "\n",
    "Escribe una función llamada make_album() que cree un diccionario que describa un álbum de música. La función debe incluir un nombre de artista y un título de álbum, y debe devolver un diccionario que contenga estas dos piezas de información. Utilice la función para crear tres diccionarios que representen diferentes álbumes. \n",
    "\n",
    "Imprima cada valor devuelto para mostrar que los diccionarios almacenan correctamente la información del álbum.\n",
    "\n",
    "Agregue un parámetro opcional a make_album() que le permita almacenar el número de pistas en un álbum. Si la línea de llamada incluye un valor para el número de pistas, agregue ese valor al diccionario del álbum. Realice al menos una nueva llamada de función que incluya el número de pistas de un álbum."
   ]
  },
  {
   "attachments": {},
   "cell_type": "markdown",
   "metadata": {},
   "source": [
    "### 8-8. Álbumes de usuario: \n",
    "\n",
    "Comience con su programa del Ejercicio 8-7. Escribe un bucle while que permita a los usuarios introducir el artista y el título de un álbum. \n",
    "\n",
    "Una vez que tenga esa información, llame a make_album() con la entrada del usuario e imprima el diccionario que se creó. Asegúrese de incluir un valor quit en el bucle while."
   ]
  },
  {
   "attachments": {},
   "cell_type": "markdown",
   "metadata": {},
   "source": [
    "### 8-9. Magos: \n",
    "\n",
    "Haz una lista de los nombres de los magos. Pasar la lista a una función\n",
    "llamado show_magicians(), que imprime el nombre de cada mago en la lista."
   ]
  },
  {
   "attachments": {},
   "cell_type": "markdown",
   "metadata": {},
   "source": [
    "### 8-10. Grandes Magos: \n",
    "\n",
    "Comience con una copia de su programa del Ejercicio 8-9.\n",
    "\n",
    "Escribe una función llamada make_great() que modifique la lista de magos añadiendo la frase el Grande al nombre de cada mago. Llame a show_magicians() para ver que la lista ha sido modificada."
   ]
  },
  {
   "attachments": {},
   "cell_type": "markdown",
   "metadata": {},
   "source": [
    "### 8-11. Magos sin cambios: \n",
    "\n",
    "Comience con su trabajo del ejercicio 8-10. Llame a la función make_great() con una copia de la lista de nombres de magos. \n",
    "\n",
    "Dado que la lista original no cambiará, devuelva la nueva lista y almacénela en una lista independiente.\n",
    "\n",
    "Llama a show_magicians() con cada lista para mostrar que tienes una lista de los nombres originales y una lista con el gran agregado al nombre de cada mago."
   ]
  },
  {
   "attachments": {},
   "cell_type": "markdown",
   "metadata": {},
   "source": [
    "### 8-12. Sándwiches: \n",
    "\n",
    "Escribe una función que acepte una lista de elementos que una persona quiere en un sándwich. \n",
    "\n",
    "La función debe tener un parámetro que recopile tantos elementos como proporcione la llamada a la función y debe imprimir un resumen del sándwich que se está pidiendo. \n",
    "\n",
    "Llame a la función tres veces, utilizando un número diferente de argumentos cada vez."
   ]
  },
  {
   "attachments": {},
   "cell_type": "markdown",
   "metadata": {},
   "source": [
    "### 8-13. Perfil de usuario: \n",
    "\n",
    "Comience con una copia de user_profile.py. Construye un perfil de ti mismo llamando a build_profile(), usando tu nombre y apellido y otros tres pares clave-valor que te describan."
   ]
  },
  {
   "attachments": {},
   "cell_type": "markdown",
   "metadata": {},
   "source": [
    "### 8-14. Coches: \n",
    "\n",
    "Escribir una función que almacene información sobre un coche en un diccionario.\n",
    "\n",
    "La función siempre debe recibir un fabricante y un nombre de modelo. A continuación, debe aceptar un número arbitrario de argumentos de palabras clave. Llame a la función con la información necesaria y otros dos pares nombre-valor, como un color o una característica opcional. Su función debería funcionar para una llamada como esta:\n",
    "\n",
    "car = make_car('subaru', 'outback', color='blue', tow_package=True)\n",
    "\n",
    "Imprima el diccionario que se devuelve para asegurarse de que toda la información se almacenó correctamente."
   ]
  },
  {
   "attachments": {},
   "cell_type": "markdown",
   "metadata": {},
   "source": [
    "### 8-15. Modelos de impresión: \n",
    "\n",
    "Coloque las funciones para el ejemplo print_models.py en un archivo separado llamado printing_functions.py. Escriba una instrucción import en la parte superior de print_models.py y modifique el archivo para utilizar las funciones importadas."
   ]
  },
  {
   "attachments": {},
   "cell_type": "markdown",
   "metadata": {},
   "source": [
    "### 8-16. Importaciones: \n",
    "\n",
    "Usando un programa que escribió que tiene una función, almacene esa función en un archivo separado. Importe la función en el archivo de programa principal y llame a la función mediante cada uno de estos enfoques:\n",
    "\n",
    "* Importar module_name\n",
    "* de module_name importación function_name\n",
    "* De module_name importación function_name como FN\n",
    "* Importar module_name como MN\n",
    "* de module_name importación *\n"
   ]
  },
  {
   "attachments": {},
   "cell_type": "markdown",
   "metadata": {},
   "source": [
    "### 8-17. Funciones de estilo: \n",
    "\n",
    "Elija cualquiera de los tres programas que escribió para este capítulo,\n",
    "y asegúrese de que siguen las pautas de estilo descritas en esta sección."
   ]
  }
 ],
 "metadata": {
  "kernelspec": {
   "display_name": "Python 3",
   "language": "python",
   "name": "python3"
  },
  "language_info": {
   "codemirror_mode": {
    "name": "ipython",
    "version": 3
   },
   "file_extension": ".py",
   "mimetype": "text/x-python",
   "name": "python",
   "nbconvert_exporter": "python",
   "pygments_lexer": "ipython3",
   "version": "3.9.9"
  },
  "orig_nbformat": 4
 },
 "nbformat": 4,
 "nbformat_minor": 2
}
