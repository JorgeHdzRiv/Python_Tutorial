{
 "cells": [
  {
   "attachments": {},
   "cell_type": "markdown",
   "metadata": {},
   "source": [
    "## Reto 0: El famoso \"FIZZ BUZZ\""
   ]
  },
  {
   "attachments": {},
   "cell_type": "markdown",
   "metadata": {},
   "source": [
    "\n",
    " Escribe un programa que muestre por consola (con un print) los números de 1 a 100\n",
    " \n",
    " (ambos incluidos y con un salto de línea entre cada impresión), sustituyendo los siguientes:\n",
    " \n",
    " * Múltiplos de 3 por la palabra \"fizz\".\n",
    " * Múltiplos de 5 por la palabra \"buzz\".\n",
    " * Múltiplos de 3 y de 5 a la vez por la palabra \"fizzbuzz\"."
   ]
  },
  {
   "attachments": {},
   "cell_type": "markdown",
   "metadata": {},
   "source": [
    "## Reto 1:El lenguaje \"HACKER\""
   ]
  },
  {
   "attachments": {},
   "cell_type": "markdown",
   "metadata": {},
   "source": [
    "* Escribe un programa que reciba un texto y transforme lenguaje natural a \"lenguaje hacker\" (conocido realmente como \"leet\" o \"1337\"). \n",
    " \n",
    "* Este lenguaje se caracteriza por sustituir caracteres alfanuméricos.\n",
    "\n",
    "* Utiliza esta tabla (https://www.gamehouse.com/blog/leet-speak-cheat-sheet/) con el alfabeto y los números en \"leet\".\n",
    "\n",
    "* (Usa la primera opción de cada transformación. Por ejemplo \"4\" para la \"a\")"
   ]
  },
  {
   "attachments": {},
   "cell_type": "markdown",
   "metadata": {},
   "source": [
    "## Reto 2: El partido de tenis"
   ]
  },
  {
   "attachments": {},
   "cell_type": "markdown",
   "metadata": {},
   "source": [
    " * Escribe un programa que muestre cómo transcurre un juego de tenis y quién lo ha ganado.\n",
    " * El programa recibirá una secuencia formada por \"P1\" (Player 1) o \"P2\" (Player 2), según quien gane cada punto del juego.\n",
    " \n",
    " * Las puntuaciones de un juego son \"Love\" (cero), 15, 30, 40, \"Deuce\" (empate), ventaja.\n",
    " * Ante la secuencia [P1, P1, P2, P2, P1, P2, P1, P1], el programa mostraría lo siguiente:\n",
    " * 15 - Love\n",
    " * 30 - Love\n",
    " * 30 - 15\n",
    " * 30 - 30\n",
    " * 40 - 30\n",
    " * Deuce\n",
    " * Ventaja P1\n",
    " * Ha ganado el P1\n",
    " * Si quieres, puedes controlar errores en la entrada de datos.   \n",
    " * Consulta las reglas del juego si tienes dudas sobre el sistema de puntos.   "
   ]
  },
  {
   "attachments": {},
   "cell_type": "markdown",
   "metadata": {},
   "source": [
    "## Reto 3: EL GENERADOR DE CONTRASEÑAS"
   ]
  },
  {
   "attachments": {},
   "cell_type": "markdown",
   "metadata": {},
   "source": [
    " * Escribe un programa que sea capaz de generar contraseñas de forma aleatoria.\n",
    " * Podrás configurar generar contraseñas con los siguientes parámetros:\n",
    " * - Longitud: Entre 8 y 16.\n",
    " * - Con o sin letras mayúsculas.\n",
    " * - Con o sin números.\n",
    " * - Con o sin símbolos.\n",
    " * (Pudiendo combinar todos estos parámetros entre ellos)\n"
   ]
  },
  {
   "attachments": {},
   "cell_type": "markdown",
   "metadata": {},
   "source": [
    "## Reto 4: PRIMO, FIBONACCI Y PAR"
   ]
  },
  {
   "attachments": {},
   "cell_type": "markdown",
   "metadata": {},
   "source": [
    "\n",
    " * Escribe un programa que, dado un número, compruebe y muestre si es primo, fibonacci y par.\n",
    " * Ejemplos:\n",
    " * - Con el número 2, nos dirá: \"2 es primo, fibonacci y es par\"\n",
    " * - Con el número 7, nos dirá: \"7 es primo, no es fibonacci y es impar\""
   ]
  }
 ],
 "metadata": {
  "language_info": {
   "name": "python"
  },
  "orig_nbformat": 4
 },
 "nbformat": 4,
 "nbformat_minor": 2
}
