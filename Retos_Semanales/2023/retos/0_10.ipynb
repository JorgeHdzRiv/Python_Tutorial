{
 "cells": [
  {
   "attachments": {},
   "cell_type": "markdown",
   "metadata": {},
   "source": [
    "## Reto 0: El famoso \"FIZZ BUZZ\""
   ]
  },
  {
   "attachments": {},
   "cell_type": "markdown",
   "metadata": {},
   "source": [
    "\n",
    " Escribe un programa que muestre por consola (con un print) los números de 1 a 100\n",
    " \n",
    " (ambos incluidos y con un salto de línea entre cada impresión), sustituyendo los siguientes:\n",
    " \n",
    " * Múltiplos de 3 por la palabra \"fizz\".\n",
    " * Múltiplos de 5 por la palabra \"buzz\".\n",
    " * Múltiplos de 3 y de 5 a la vez por la palabra \"fizzbuzz\"."
   ]
  }
 ],
 "metadata": {
  "language_info": {
   "name": "python"
  },
  "orig_nbformat": 4
 },
 "nbformat": 4,
 "nbformat_minor": 2
}
