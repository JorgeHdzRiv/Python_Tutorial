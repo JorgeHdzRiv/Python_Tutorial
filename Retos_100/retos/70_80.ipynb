{
 "cells": [
  {
   "attachments": {},
   "cell_type": "markdown",
   "metadata": {},
   "source": [
    "### Dia 71"
   ]
  },
  {
   "attachments": {},
   "cell_type": "markdown",
   "metadata": {},
   "source": [
    "Utiliza itertools para generar una serie de sumas acumuladas con los números de la siguiente lista [0, 1, 1, 2, 3, 5, 8]\n",
    "\n",
    "Imprime el resultado"
   ]
  },
  {
   "attachments": {},
   "cell_type": "markdown",
   "metadata": {},
   "source": [
    "### Dia 72"
   ]
  },
  {
   "attachments": {},
   "cell_type": "markdown",
   "metadata": {},
   "source": [
    "Utiliza itertools para obtener la cantidad de veces que se repite cada numero en la lista [0, 1, 1, 2, 3, 2, 4, 5, 5, 8, 4]\n",
    "\n",
    "Imprime el resultado en un diccionario con el formato {numero:cantidad de repeticiones}"
   ]
  },
  {
   "attachments": {},
   "cell_type": "markdown",
   "metadata": {},
   "source": [
    "### Dia 73"
   ]
  },
  {
   "attachments": {},
   "cell_type": "markdown",
   "metadata": {},
   "source": [
    "Utiliza itertools para obtener todas las permutaciones posibles con las letras de la siguiente lista [\"r\", \"i\", \"o\"]\n",
    "\n",
    "Imprime el resultado en una lista de tuplas"
   ]
  },
  {
   "attachments": {},
   "cell_type": "markdown",
   "metadata": {},
   "source": [
    "### Dia 74"
   ]
  },
  {
   "attachments": {},
   "cell_type": "markdown",
   "metadata": {},
   "source": [
    "Utiliza itertools para obtener el producto cartesiano de las siguientes listas [1, 3, 5] y [2, 4, 6]\n",
    "\n",
    "Imprime el resultado en una lista de tuplas"
   ]
  },
  {
   "attachments": {},
   "cell_type": "markdown",
   "metadata": {},
   "source": [
    "### Dia 75"
   ]
  },
  {
   "attachments": {},
   "cell_type": "markdown",
   "metadata": {},
   "source": [
    "Utiliza itertools para obtener el mensaje secreto en la siguiente cadena \"P1y2t3h4o5n6!7\"\n",
    "\n",
    "Imprime el resultado en una cadena\n",
    "\n",
    "Te dejamos una pista:[1,0,1,0,1,0,1,0,1,0,1,0,1]"
   ]
  },
  {
   "attachments": {},
   "cell_type": "markdown",
   "metadata": {},
   "source": [
    "### Dia 76"
   ]
  },
  {
   "attachments": {},
   "cell_type": "markdown",
   "metadata": {},
   "source": [
    "Utiliza itertools para obtener el valore máximo de cada tupla de la siguiente lista [(2, 4, 6), (7, 8, 5, 6), (5, 10)]\n",
    "\n",
    "Imprime el resultado en una lista"
   ]
  },
  {
   "attachments": {},
   "cell_type": "markdown",
   "metadata": {},
   "source": [
    "### Dia 77"
   ]
  },
  {
   "attachments": {},
   "cell_type": "markdown",
   "metadata": {},
   "source": [
    "Utiliza itertools para obtener los multiplos de 5 de la siguiente lista [1,5,10,23,3,555,11,10]\n",
    "\n",
    "Imprime el resultado en una lista"
   ]
  },
  {
   "attachments": {},
   "cell_type": "markdown",
   "metadata": {},
   "source": [
    "### Dia 78"
   ]
  },
  {
   "attachments": {},
   "cell_type": "markdown",
   "metadata": {},
   "source": [
    "Utiliza itertools para unir las siguientes tuplas (78, 100) (\"Dias\", \"Python\")\n",
    "\n",
    "Obtiene el tipo de cada dato e imprime el resultado en una lista"
   ]
  },
  {
   "attachments": {},
   "cell_type": "markdown",
   "metadata": {},
   "source": [
    "### Dia 79"
   ]
  },
  {
   "attachments": {},
   "cell_type": "markdown",
   "metadata": {},
   "source": [
    "Utiliza itertools para obtener los elementos de la siguiente lista hasta que alguno contenga un \"0\" [2, 3, 5, 7, 13, 103, 25, 15, 45] \n",
    "\n",
    "Imprime el resultado en una lista"
   ]
  },
  {
   "attachments": {},
   "cell_type": "markdown",
   "metadata": {},
   "source": [
    "### Dia 80"
   ]
  },
  {
   "attachments": {},
   "cell_type": "markdown",
   "metadata": {},
   "source": [
    "Utiliza itertools para repetir el numero 80 \n",
    "\n",
    "5 veces en una lista\n",
    "\n",
    "Imprime el resultado en una lista"
   ]
  }
 ],
 "metadata": {
  "language_info": {
   "name": "python"
  },
  "orig_nbformat": 4
 },
 "nbformat": 4,
 "nbformat_minor": 2
}
