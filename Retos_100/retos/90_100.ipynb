{
 "cells": [
  {
   "attachments": {},
   "cell_type": "markdown",
   "metadata": {},
   "source": [
    "### Dia 91"
   ]
  },
  {
   "attachments": {},
   "cell_type": "markdown",
   "metadata": {},
   "source": [
    "Crea una función que devuelva los cuadrados de los primeros 10 números enteros iniciando en 1 utilizando yields\n",
    "\n",
    "Imprime el resultado en una Lista"
   ]
  },
  {
   "attachments": {},
   "cell_type": "markdown",
   "metadata": {},
   "source": [
    "### Dia 92"
   ]
  },
  {
   "attachments": {},
   "cell_type": "markdown",
   "metadata": {},
   "source": [
    "Crea una función que use yield y genere la siguiente serie [1, 2, 3, 2, 1, 2, 3, 2, 1] \n",
    "\n",
    "Imprime el resultado en una Lista"
   ]
  },
  {
   "attachments": {},
   "cell_type": "markdown",
   "metadata": {},
   "source": [
    "### Dia 93"
   ]
  },
  {
   "attachments": {},
   "cell_type": "markdown",
   "metadata": {},
   "source": [
    "Crea una función que use yield y genere los primeros 10 números de la serie de Fibonacci \n",
    "\n",
    "[1, 1, 2, 3, 5, 8, 13, 21, 34, 55]\n",
    "\n",
    "Imprime el resultado en una Lista"
   ]
  },
  {
   "attachments": {},
   "cell_type": "markdown",
   "metadata": {},
   "source": [
    "### Dia 94"
   ]
  },
  {
   "attachments": {},
   "cell_type": "markdown",
   "metadata": {},
   "source": [
    "Crea una función que use argumentos arbitrarios para recibir N-cadenas de nombres y devuelva una lista de N-saludos\n",
    "\n",
    "Ejemplo de salida ['Hola Katy','Hola Ariel']\n",
    "\n",
    "Imprime el resultado en una Lista"
   ]
  },
  {
   "attachments": {},
   "cell_type": "markdown",
   "metadata": {},
   "source": [
    "### Dia 95"
   ]
  },
  {
   "attachments": {},
   "cell_type": "markdown",
   "metadata": {},
   "source": [
    "Crea una función que use argumentos arbitrarios para recibir N-números y determine cual es el mayor y el menor y los devuelva en un diccionario \n",
    "\n",
    "En el siguiente formato {\"mayor\": 5, \"menor\":-10}\n",
    "\n",
    "Imprime el resultado"
   ]
  },
  {
   "attachments": {},
   "cell_type": "markdown",
   "metadata": {},
   "source": [
    "### Dia 96"
   ]
  },
  {
   "attachments": {},
   "cell_type": "markdown",
   "metadata": {},
   "source": [
    "Crea una función que use argumentos arbitrarios de tipo Keyword para recibir nombre, apellido y edad y devuelva estos argumentos en un diccionario en el siguiente formato \n",
    "\n",
    "{\"nombre\": \"Pepito\", \"apellido\":\"Perez\",\"edad\":25} \n",
    "\n",
    "Imprime el resultado"
   ]
  },
  {
   "attachments": {},
   "cell_type": "markdown",
   "metadata": {},
   "source": [
    "### Dia 97"
   ]
  },
  {
   "attachments": {},
   "cell_type": "markdown",
   "metadata": {},
   "source": [
    "Crea una función que use argumentos arbitrarios de tipo Keyword para recibir los 3 lados de un triangulo y calcule su perimetro\n",
    "\n",
    "Imprime el resultado en un numero de punto flotante"
   ]
  },
  {
   "attachments": {},
   "cell_type": "markdown",
   "metadata": {},
   "source": [
    "### Dia 98"
   ]
  },
  {
   "attachments": {},
   "cell_type": "markdown",
   "metadata": {},
   "source": [
    "Utiliza timeit para obtener el tiempo de ejecución de la siguiente función\n",
    "\n",
    "```\n",
    "def lazy():\n",
    "    suma = 0\n",
    "    for i in range(0, 50000000):\n",
    "        suma += i\n",
    "```\n",
    "\n",
    "Imprime el resultado en una sola linea"
   ]
  },
  {
   "attachments": {},
   "cell_type": "markdown",
   "metadata": {},
   "source": [
    "### Dia 99"
   ]
  },
  {
   "attachments": {},
   "cell_type": "markdown",
   "metadata": {},
   "source": [
    "Utiliza try para capturar e imprimir la excepción de una division entre 0 del siguiente fragmento de código\n",
    "\n",
    "```\n",
    "a = 7\n",
    "b = a / 0\n",
    "\n",
    "```"
   ]
  },
  {
   "attachments": {},
   "cell_type": "markdown",
   "metadata": {},
   "source": [
    "### Dia 100"
   ]
  },
  {
   "attachments": {},
   "cell_type": "markdown",
   "metadata": {},
   "source": [
    "Utiliza try para capturar e imprimir la excepción dentro de  la siguiente función y agrega un mensaje final utilizando finally\n",
    "\n",
    "En este reto si se aceptan multiples print\n",
    "\n",
    "```\n",
    "def dia100():\n",
    "    mensaje = \"Llegaste al último día\"\n",
    "    print(mensaje[len(mensaje)])\n",
    "\n",
    "\n",
    "dia100()\n",
    "```"
   ]
  }
 ],
 "metadata": {
  "language_info": {
   "name": "python"
  },
  "orig_nbformat": 4
 },
 "nbformat": 4,
 "nbformat_minor": 2
}
