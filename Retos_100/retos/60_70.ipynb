{
 "cells": [
  {
   "attachments": {},
   "cell_type": "markdown",
   "metadata": {},
   "source": [
    "### Dia 61"
   ]
  },
  {
   "attachments": {},
   "cell_type": "markdown",
   "metadata": {},
   "source": [
    "Utiliza Regex para validar que las cadenas de la lista sean totalmente numéricas\n",
    "\n",
    "[\"20200806\", \"jun122022\", \"202204DD\", \"20221208\", \"22mar2022\"]\n",
    "\n",
    "Imprime una lista con las cadenas numéricas"
   ]
  },
  {
   "attachments": {},
   "cell_type": "markdown",
   "metadata": {},
   "source": [
    "### Dia 62"
   ]
  },
  {
   "attachments": {},
   "cell_type": "markdown",
   "metadata": {},
   "source": [
    "Utiliza Regex para validar la lista de emails\n",
    "\n",
    "[\"pythonlapaz@gmail.com\", \"dias.com\", \"comidita@.com\", \"programando@outlook.com\"]\n",
    "\n",
    "Imprime una lista con los emails validos"
   ]
  },
  {
   "attachments": {},
   "cell_type": "markdown",
   "metadata": {},
   "source": [
    "### Dia 63"
   ]
  },
  {
   "attachments": {},
   "cell_type": "markdown",
   "metadata": {},
   "source": [
    "Utiliza Regex para validar que las cadenas solo contengan caracteres alfanuméricos\n",
    "\n",
    "[\"Python3.10\", \"Python3\", \"ProgramandoAndo\", \"jun2022\", \"#100diasdecodigo\", \"Felicidades!\"]\n",
    "\n",
    "Imprime una lista con las cadenas validas"
   ]
  },
  {
   "attachments": {},
   "cell_type": "markdown",
   "metadata": {},
   "source": [
    "### Dia 64"
   ]
  },
  {
   "attachments": {},
   "cell_type": "markdown",
   "metadata": {},
   "source": [
    "Utiliza Regex para quitar los ceros innecesarios de las direcciones IP de la lista\n",
    "\n",
    "[\"192.08.001.5\", \"10.120.023.001\", \"192.160.2.1\"]\n",
    "\n",
    "Imprime una lista con las IPs validas"
   ]
  },
  {
   "attachments": {},
   "cell_type": "markdown",
   "metadata": {},
   "source": [
    "### Dia 65"
   ]
  },
  {
   "attachments": {},
   "cell_type": "markdown",
   "metadata": {},
   "source": [
    "Utiliza Regex para quitar los prefijos telefónicos de los teléfonos de la siguiente lista\n",
    "\n",
    "[\"+54 11 1234 5678\", \"+591 68754321\", \"+56 9 8765 4321\"]\n",
    "\n",
    "Imprime una lista con los teléfonos sin prefijos telefónicos"
   ]
  },
  {
   "attachments": {},
   "cell_type": "markdown",
   "metadata": {},
   "source": [
    "### Dia 66"
   ]
  },
  {
   "attachments": {},
   "cell_type": "markdown",
   "metadata": {},
   "source": [
    "Utiliza Regex para eliminar los caracteres que no sean alfanuméricos en las cadenas de la lista\n",
    "\n",
    "[\"Python3.10\", \"Python3\", \"ProgramandoAndo\", \"jun2022\", \"#100diasdecodigo\", \"Felicidades!\"]\n",
    "\n",
    "Imprime una lista con las cadenas limpias"
   ]
  },
  {
   "attachments": {},
   "cell_type": "markdown",
   "metadata": {},
   "source": [
    "### Dia 67"
   ]
  },
  {
   "attachments": {},
   "cell_type": "markdown",
   "metadata": {},
   "source": [
    "Utiliza Regex para cambiar el formato de las fechas de YYYYMMDD a YYYY-MM-DD de las fechas de la lista\n",
    "\n",
    "[\"20221205\", \"19930612\", \"20050126\", \"20211008\"]\n",
    "\n",
    "Imprime una lista con las fechas"
   ]
  },
  {
   "attachments": {},
   "cell_type": "markdown",
   "metadata": {},
   "source": [
    "### Dia 68"
   ]
  },
  {
   "attachments": {},
   "cell_type": "markdown",
   "metadata": {},
   "source": [
    "Utiliza Regex para cambiar el formato de las fechas de YYYY-MM-DD  a DDMMYYYY de las fechas de la lista\n",
    "\n",
    "['2022-12-05', '1993-06-12', '2005-01-26', '2021-10-08']\n",
    "\n",
    "Imprime una lista con las fechas con el nuevo formato"
   ]
  },
  {
   "attachments": {},
   "cell_type": "markdown",
   "metadata": {},
   "source": [
    "### Dia 69"
   ]
  },
  {
   "attachments": {},
   "cell_type": "markdown",
   "metadata": {},
   "source": [
    "Utiliza Regex para extraer todas las 'a' seguidas de una o mas 'b's de la siguiente cadena 'abholaaaaabaaabbpythonistaaaaaabbbbb'\n",
    "\n",
    "Imprime una lista con las subcadenas extraídas"
   ]
  },
  {
   "attachments": {},
   "cell_type": "markdown",
   "metadata": {},
   "source": [
    "### Dia 70"
   ]
  },
  {
   "attachments": {},
   "cell_type": "markdown",
   "metadata": {},
   "source": [
    "Utiliza Regex para extraer todas las palabras que contengan al menos una 'a' en la siguiente cadena 'Llevas programando 70 dias seguidos'\n",
    "\n",
    "Imprime una lista con las palabras extraídas"
   ]
  }
 ],
 "metadata": {
  "language_info": {
   "name": "python"
  },
  "orig_nbformat": 4
 },
 "nbformat": 4,
 "nbformat_minor": 2
}
