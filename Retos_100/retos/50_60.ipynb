{
 "cells": [
  {
   "attachments": {},
   "cell_type": "markdown",
   "metadata": {},
   "source": [
    "### Dia 51"
   ]
  },
  {
   "attachments": {},
   "cell_type": "markdown",
   "metadata": {},
   "source": [
    "Crea una función que calcule el volumen de un cilindro\n",
    "\n",
    "Los parámetros de entrada son base y altura\n",
    "\n",
    "El valor de salida el el volumen del cilindro\n",
    "\n",
    "Ejecuta la función para el caso base= 5, altura= 7\n",
    "\n",
    "Imprime el resultado"
   ]
  },
  {
   "attachments": {},
   "cell_type": "markdown",
   "metadata": {},
   "source": [
    "### Dia 52"
   ]
  },
  {
   "attachments": {},
   "cell_type": "markdown",
   "metadata": {},
   "source": [
    "Crea una función que convierta un numero entero en binario sin usar la función bin()\n",
    "\n",
    "El parámetro de entrada es un numero entero\n",
    "\n",
    "El valor de salida es una cadena del valor del numero en binario\n",
    "\n",
    "Ejecuta la función para el numero 52\n",
    "\n",
    "Imprime el resultado"
   ]
  },
  {
   "attachments": {},
   "cell_type": "markdown",
   "metadata": {},
   "source": [
    "### Dia 53"
   ]
  },
  {
   "attachments": {},
   "cell_type": "markdown",
   "metadata": {},
   "source": [
    "Crea una función que reciba una lista de números y devuelva una lista de los números al cuadrado\n",
    "\n",
    "Ejecuta la función para la lista [2, 3, 5, 7, 11]\n",
    "\n",
    "Imprime el resultado"
   ]
  },
  {
   "attachments": {},
   "cell_type": "markdown",
   "metadata": {},
   "source": [
    "### Dia 54"
   ]
  },
  {
   "attachments": {},
   "cell_type": "markdown",
   "metadata": {},
   "source": [
    "Crea una función que reciba una lista de cadenas y devuelva un diccionario con la cantidad de vocales de cada cadena\n",
    "\n",
    "Ejemplo de entrada: ['Python', 'es', 'cool']\n",
    "\n",
    "Ejemplo de salida: {'Python': 1, 'es': 1, 'cool': 2}\n",
    "\n",
    "Imprime el resultado"
   ]
  },
  {
   "attachments": {},
   "cell_type": "markdown",
   "metadata": {},
   "source": [
    "### Dia 55"
   ]
  },
  {
   "attachments": {},
   "cell_type": "markdown",
   "metadata": {},
   "source": [
    "Crea una función recursiva para hacer una cuenta regresiva a 0\n",
    "\n",
    "La función tiene como parámetro de entrada un numero\n",
    "\n",
    "Ejecuta la función para el numero 5\n",
    "\n",
    "Imprime el valor de la cuenta en cada iteración"
   ]
  },
  {
   "attachments": {},
   "cell_type": "markdown",
   "metadata": {},
   "source": [
    "### Dia 56"
   ]
  },
  {
   "attachments": {},
   "cell_type": "markdown",
   "metadata": {},
   "source": [
    "Utiliza una función lambda para encontrar la raíz cuadrada de esta lista de números [49, 4, 36, 16, 25]\n",
    "\n",
    "Imprime el resultado en nueva lista"
   ]
  },
  {
   "attachments": {},
   "cell_type": "markdown",
   "metadata": {},
   "source": [
    "### Dia 57"
   ]
  },
  {
   "attachments": {},
   "cell_type": "markdown",
   "metadata": {},
   "source": [
    "Utiliza una función lambda para encontrar los multiplos de 3 en la lista de números [1, 2, 3, 4, 5, 6, 7, 8, 9, 10]\n",
    "\n",
    "Imprime el resultado en nueva lista"
   ]
  },
  {
   "attachments": {},
   "cell_type": "markdown",
   "metadata": {},
   "source": [
    "### Dia 58"
   ]
  },
  {
   "attachments": {},
   "cell_type": "markdown",
   "metadata": {},
   "source": [
    "Utiliza una función lambda para sumar las siguientes listas \n",
    "\n",
    "lista_a = [2, 4, 5] , lista_b = [6, 7, 1] \n",
    "\n",
    "Imprime el resultado en nueva lista"
   ]
  },
  {
   "attachments": {},
   "cell_type": "markdown",
   "metadata": {},
   "source": [
    "### Dia 59"
   ]
  },
  {
   "attachments": {},
   "cell_type": "markdown",
   "metadata": {},
   "source": [
    "Utiliza una función lambda para ordenar de forma ascendente la siguiente lista de tuplas tomando el valor numérico como referencia\n",
    "\n",
    "[(\"Quimica\", 88),(\"Fisica\", 90), (\"Lenguaje\", 97)]\n",
    "\n",
    "Imprime el resultado"
   ]
  },
  {
   "attachments": {},
   "cell_type": "markdown",
   "metadata": {},
   "source": [
    "### Dia 60"
   ]
  },
  {
   "attachments": {},
   "cell_type": "markdown",
   "metadata": {},
   "source": [
    "Utiliza una función lambda para capitalizar las palabras de la siguiente lista\n",
    "[\"llevo\", \"sesenta\", \"dias\", \"programando\",\"wiii\"]\n",
    "\n",
    "Imprime el resultado en nueva lista"
   ]
  }
 ],
 "metadata": {
  "language_info": {
   "name": "python"
  },
  "orig_nbformat": 4
 },
 "nbformat": 4,
 "nbformat_minor": 2
}
