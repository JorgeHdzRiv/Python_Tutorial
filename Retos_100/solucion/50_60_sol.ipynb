{
 "cells": [
  {
   "attachments": {},
   "cell_type": "markdown",
   "metadata": {},
   "source": [
    "### Dia 51"
   ]
  },
  {
   "attachments": {},
   "cell_type": "markdown",
   "metadata": {},
   "source": [
    "Crea una función que calcule el volumen de un cilindro\n",
    "\n",
    "Los parámetros de entrada son base y altura\n",
    "\n",
    "El valor de salida el el volumen del cilindro\n",
    "\n",
    "Ejecuta la función para el caso base= 5, altura= 7\n",
    "\n",
    "Imprime el resultado"
   ]
  },
  {
   "cell_type": "code",
   "execution_count": 3,
   "metadata": {},
   "outputs": [
    {
     "name": "stdout",
     "output_type": "stream",
     "text": [
      "El volumen del cilindro es:  549.78 u2\n"
     ]
    }
   ],
   "source": [
    "def volumen_cilindro(radio,altura):\n",
    "    pi = 3.1416\n",
    "    volumen = pi * (radio**2) * altura\n",
    "    print(\"El volumen del cilindro es: \", volumen,\"u2\")\n",
    "\n",
    "volumen_cilindro(radio=5,altura=7)"
   ]
  },
  {
   "attachments": {},
   "cell_type": "markdown",
   "metadata": {},
   "source": [
    "### Dia 52"
   ]
  },
  {
   "attachments": {},
   "cell_type": "markdown",
   "metadata": {},
   "source": [
    "Crea una función que convierta un numero entero en binario sin usar la función bin()\n",
    "\n",
    "El parámetro de entrada es un numero entero\n",
    "\n",
    "El valor de salida es una cadena del valor del numero en binario\n",
    "\n",
    "Ejecuta la función para el numero 52\n",
    "\n",
    "Imprime el resultado"
   ]
  },
  {
   "cell_type": "code",
   "execution_count": 4,
   "metadata": {},
   "outputs": [
    {
     "name": "stdout",
     "output_type": "stream",
     "text": [
      "El numero binario es:  110100\n"
     ]
    }
   ],
   "source": [
    "# Funcion que convierta un numero entero a binario sin usar bin()\n",
    "def entero_binario(numero):\n",
    "    binario = \"\"\n",
    "    while numero > 0:\n",
    "        binario = str(numero % 2) + binario\n",
    "        numero = numero // 2\n",
    "    print(\"El numero binario es: \", binario)\n",
    "\n",
    "entero_binario(numero=52)"
   ]
  },
  {
   "attachments": {},
   "cell_type": "markdown",
   "metadata": {},
   "source": [
    "### Dia 53"
   ]
  },
  {
   "attachments": {},
   "cell_type": "markdown",
   "metadata": {},
   "source": [
    "Crea una función que reciba una lista de números y devuelva una lista de los números al cuadrado\n",
    "\n",
    "Ejecuta la función para la lista [2, 3, 5, 7, 11]\n",
    "\n",
    "Imprime el resultado"
   ]
  },
  {
   "cell_type": "code",
   "execution_count": 7,
   "metadata": {},
   "outputs": [
    {
     "name": "stdout",
     "output_type": "stream",
     "text": [
      "Los cuadrados de los numeros son:  [4, 9, 25, 49, 121]\n"
     ]
    }
   ],
   "source": [
    "def cuadrados(numeros):\n",
    "    cuadrados_list = []\n",
    "    for i in numeros:\n",
    "        cuadrado  = i**2\n",
    "        cuadrados_list.append(cuadrado)\n",
    "    print(\"Los cuadrados de los numeros son: \", cuadrados_list)\n",
    "\n",
    "cuadrados([2,3,5,7,11])"
   ]
  },
  {
   "attachments": {},
   "cell_type": "markdown",
   "metadata": {},
   "source": [
    "### Dia 54"
   ]
  },
  {
   "attachments": {},
   "cell_type": "markdown",
   "metadata": {},
   "source": [
    "Crea una función que reciba una lista de cadenas y devuelva un diccionario con la cantidad de vocales de cada cadena\n",
    "\n",
    "Ejemplo de entrada: ['Python', 'es', 'cool']\n",
    "\n",
    "Ejemplo de salida: {'Python': 1, 'es': 1, 'cool': 2}\n",
    "\n",
    "Imprime el resultado"
   ]
  },
  {
   "cell_type": "code",
   "execution_count": 9,
   "metadata": {},
   "outputs": [
    {
     "name": "stdout",
     "output_type": "stream",
     "text": [
      "El diccionario de vocales es:  {'Python': 1, 'cool': 2, 'es': 1, 'programacion': 5}\n"
     ]
    }
   ],
   "source": [
    "# Crea una función que reciba una lista de cadenas y devuelva un diccionario con la cantidad de vocales de cada cadena\n",
    "def vocales(lista_cadenas):\n",
    "    vocales = [\"a\",\"e\",\"i\",\"o\",\"u\"]\n",
    "    diccionario_vocales = {}\n",
    "    for i in lista_cadenas:\n",
    "        aux = 0\n",
    "        for j in i:\n",
    "            if j in vocales:\n",
    "                aux += 1\n",
    "                diccionario_vocales[i] = aux\n",
    "    print(\"El diccionario de vocales es: \", diccionario_vocales)\n",
    "\n",
    "vocales([\"Python\",\"cool\",\"es\",\"programacion\"])\n"
   ]
  },
  {
   "attachments": {},
   "cell_type": "markdown",
   "metadata": {},
   "source": [
    "### Dia 55"
   ]
  },
  {
   "attachments": {},
   "cell_type": "markdown",
   "metadata": {},
   "source": [
    "Crea una función recursiva para hacer una cuenta regresiva a 0\n",
    "\n",
    "La función tiene como parámetro de entrada un numero\n",
    "\n",
    "Ejecuta la función para el numero 5\n",
    "\n",
    "Imprime el valor de la cuenta en cada iteración"
   ]
  },
  {
   "cell_type": "code",
   "execution_count": 11,
   "metadata": {},
   "outputs": [
    {
     "name": "stdout",
     "output_type": "stream",
     "text": [
      "5\n",
      "4\n",
      "3\n",
      "2\n",
      "1\n",
      "0\n",
      "Fin de la funcion\n"
     ]
    }
   ],
   "source": [
    "def recursiva(numero):\n",
    "    if numero == 0:\n",
    "        print(numero)\n",
    "        print(\"Fin de la funcion\")\n",
    "    else:\n",
    "        print(numero)\n",
    "        return recursiva(numero-1)\n",
    "    \n",
    "recursiva(5)\n",
    "    \n"
   ]
  },
  {
   "attachments": {},
   "cell_type": "markdown",
   "metadata": {},
   "source": [
    "### Dia 56"
   ]
  },
  {
   "attachments": {},
   "cell_type": "markdown",
   "metadata": {},
   "source": [
    "Utiliza una función lambda para encontrar la raíz cuadrada de esta lista de números [49, 4, 36, 16, 25]\n",
    "\n",
    "Imprime el resultado en nueva lista"
   ]
  },
  {
   "cell_type": "code",
   "execution_count": 14,
   "metadata": {},
   "outputs": [
    {
     "name": "stdout",
     "output_type": "stream",
     "text": [
      "[7.0, 2.0, 6.0, 4.0, 5.0]\n"
     ]
    }
   ],
   "source": [
    "#Funcion lambda para raiz cuadrada de una lista de numeros\n",
    "numeros = [49,4,36,16,25]\n",
    "raiz_cuadrada = lambda lista: [i**0.5 for i in lista]\n",
    "\n",
    "print(raiz_cuadrada(numeros))"
   ]
  },
  {
   "attachments": {},
   "cell_type": "markdown",
   "metadata": {},
   "source": [
    "### Dia 57"
   ]
  },
  {
   "attachments": {},
   "cell_type": "markdown",
   "metadata": {},
   "source": [
    "Utiliza una función lambda para encontrar los multiplos de 3 en la lista de números [1, 2, 3, 4, 5, 6, 7, 8, 9, 10]\n",
    "\n",
    "Imprime el resultado en nueva lista"
   ]
  },
  {
   "cell_type": "code",
   "execution_count": 18,
   "metadata": {},
   "outputs": [
    {
     "name": "stdout",
     "output_type": "stream",
     "text": [
      "[3, 6, 9]\n"
     ]
    }
   ],
   "source": [
    "numeros = [1,2,3,4,5,6,7,8,9,10]\n",
    "\n",
    "multiplos = lambda lista: [i for i in lista if i % 3 == 0]\n",
    "\n",
    "print(multiplos(numeros))"
   ]
  },
  {
   "attachments": {},
   "cell_type": "markdown",
   "metadata": {},
   "source": [
    "### Dia 58"
   ]
  },
  {
   "attachments": {},
   "cell_type": "markdown",
   "metadata": {},
   "source": [
    "Utiliza una función lambda para sumar las siguientes listas \n",
    "\n",
    "lista_a = [2, 4, 5] , lista_b = [6, 7, 1] \n",
    "\n",
    "Imprime el resultado en nueva lista"
   ]
  },
  {
   "cell_type": "code",
   "execution_count": 19,
   "metadata": {},
   "outputs": [
    {
     "name": "stdout",
     "output_type": "stream",
     "text": [
      "[8, 11, 6]\n"
     ]
    }
   ],
   "source": [
    "lista1 = [2,4,5]\n",
    "lista2 = [6,7,1]\n",
    "\n",
    "suma = lambda lista1,lista2: [i+j for i,j in zip(lista1,lista2)]\n",
    "\n",
    "print(suma(lista1,lista2))"
   ]
  },
  {
   "attachments": {},
   "cell_type": "markdown",
   "metadata": {},
   "source": [
    "### Dia 59"
   ]
  },
  {
   "attachments": {},
   "cell_type": "markdown",
   "metadata": {},
   "source": [
    "Utiliza una función lambda para ordenar de forma ascendente la siguiente lista de tuplas tomando el valor numérico como referencia\n",
    "\n",
    "[(\"Quimica\", 88),(\"Fisica\", 90), (\"Lenguaje\", 97)]\n",
    "\n",
    "Imprime el resultado"
   ]
  },
  {
   "cell_type": "code",
   "execution_count": 24,
   "metadata": {},
   "outputs": [
    {
     "name": "stdout",
     "output_type": "stream",
     "text": [
      "[('Programacion', 80), ('Quimica', 88), ('Fisica', 90), ('Lenguaje', 97)]\n"
     ]
    }
   ],
   "source": [
    "#Utiliza una función lambda para ordenar de forma ascendente la siguiente lista de tuplas tomando el valor numérico como referencia\n",
    "lista = [(\"Quimica\", 88),(\"Fisica\", 90), (\"Lenguaje\", 97),(\"Programacion\",80)]\n",
    "orden = lambda lista: sorted(lista, key=lambda x: x[1])\n",
    "\n",
    "print(orden(lista))\n"
   ]
  },
  {
   "attachments": {},
   "cell_type": "markdown",
   "metadata": {},
   "source": [
    "### Dia 60"
   ]
  },
  {
   "attachments": {},
   "cell_type": "markdown",
   "metadata": {},
   "source": [
    "Utiliza una función lambda para capitalizar las palabras de la siguiente lista\n",
    "[\"llevo\", \"sesenta\", \"dias\", \"programando\",\"wiii\"]\n",
    "\n",
    "Imprime el resultado en nueva lista"
   ]
  },
  {
   "cell_type": "code",
   "execution_count": 27,
   "metadata": {},
   "outputs": [
    {
     "name": "stdout",
     "output_type": "stream",
     "text": [
      "['Llevo', 'Sesenta', 'Dias', 'Programando', 'Wiii']\n"
     ]
    }
   ],
   "source": [
    "capitalizar = lambda lista: [palabra.capitalize() for palabra in lista]\n",
    "\n",
    "palabras = [\"llevo\",\"sesenta\",\"dias\",\"programando\",\"wiii\"]\n",
    "\n",
    "print(capitalizar(palabras))"
   ]
  }
 ],
 "metadata": {
  "kernelspec": {
   "display_name": "Python 3",
   "language": "python",
   "name": "python3"
  },
  "language_info": {
   "codemirror_mode": {
    "name": "ipython",
    "version": 3
   },
   "file_extension": ".py",
   "mimetype": "text/x-python",
   "name": "python",
   "nbconvert_exporter": "python",
   "pygments_lexer": "ipython3",
   "version": "3.7.9"
  },
  "orig_nbformat": 4
 },
 "nbformat": 4,
 "nbformat_minor": 2
}
