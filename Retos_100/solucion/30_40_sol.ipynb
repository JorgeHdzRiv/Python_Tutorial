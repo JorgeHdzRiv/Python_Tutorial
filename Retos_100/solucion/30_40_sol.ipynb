{
 "cells": [
  {
   "attachments": {},
   "cell_type": "markdown",
   "metadata": {},
   "source": [
    "### Dia 31"
   ]
  },
  {
   "attachments": {},
   "cell_type": "markdown",
   "metadata": {},
   "source": [
    "Declara dos valores boleanos, convierte una en entero y la otra en cadena imprime el resultado en una sola linea"
   ]
  },
  {
   "cell_type": "code",
   "execution_count": 1,
   "metadata": {},
   "outputs": [
    {
     "name": "stdout",
     "output_type": "stream",
     "text": [
      "1 False\n",
      "Tipo de la primer variable: <class 'int'> , tipo de la segunda variable: <class 'str'>\n"
     ]
    }
   ],
   "source": [
    "valor1 = True\n",
    "valor2 = False\n",
    "\n",
    "valor1_int = int(valor1)\n",
    "valor2_str = str(valor2)\n",
    "\n",
    "print(valor1_int,valor2_str)\n",
    "print(f\"Tipo de la primer variable: {type(valor1_int)} , tipo de la segunda variable: {type(valor2_str)}\")"
   ]
  },
  {
   "attachments": {},
   "cell_type": "markdown",
   "metadata": {},
   "source": [
    "### Dia 32"
   ]
  },
  {
   "attachments": {},
   "cell_type": "markdown",
   "metadata": {},
   "source": [
    "Declara dos lista, una vacia y otra con elementos convierte ambas listas en booleanos\n",
    "\n",
    "Imprime el resultado en una sola linea"
   ]
  },
  {
   "cell_type": "code",
   "execution_count": 2,
   "metadata": {},
   "outputs": [
    {
     "name": "stdout",
     "output_type": "stream",
     "text": [
      "False\n",
      "True\n"
     ]
    }
   ],
   "source": [
    "lista_1 = []\n",
    "lista_2 = [1,2,3]\n",
    "\n",
    "lista_1_bool = bool(lista_1)\n",
    "lista_2_bool = bool(lista_2)\n",
    "\n",
    "print(lista_1_bool,lista_2_bool,sep=\"\\n\")"
   ]
  },
  {
   "attachments": {},
   "cell_type": "markdown",
   "metadata": {},
   "source": [
    "### Dia 33"
   ]
  },
  {
   "attachments": {},
   "cell_type": "markdown",
   "metadata": {},
   "source": [
    "Declara una cadena que sea un palindromo y verifica que lo sea sin usar funciones adicionales\n",
    "\n",
    "Imprime el resultado en una sola linea"
   ]
  },
  {
   "cell_type": "code",
   "execution_count": 3,
   "metadata": {},
   "outputs": [
    {
     "name": "stdout",
     "output_type": "stream",
     "text": [
      "Es palindromo\n",
      "['luzazul', 'oso', 'otto']\n"
     ]
    }
   ],
   "source": [
    "palindromo = \"anitalavalatina\"\n",
    "palindromo_inv = palindromo[::-1]\n",
    "\n",
    "if palindromo_inv == palindromo:\n",
    "    print(\"Es palindromo\")\n",
    "else:\n",
    "    print(\"No es palindromo\")\n",
    "\n",
    "palabras = [\"anita\",\"luzazul\",\"oso\",\"aleatoria\",\"otto\"]\n",
    "palindromos_list = []\n",
    "\n",
    "for palabra in palabras:\n",
    "    if palabra == palabra[::-1]:\n",
    "        palindromos_list.append(palabra)\n",
    "\n",
    "print(palindromos_list)\n"
   ]
  },
  {
   "attachments": {},
   "cell_type": "markdown",
   "metadata": {},
   "source": [
    "### Dia 34"
   ]
  },
  {
   "attachments": {},
   "cell_type": "markdown",
   "metadata": {},
   "source": [
    "Declara un diccionario de 5 palabras realacionadas a la programacion con su definicion\n",
    "\n",
    "Imprime el resultado"
   ]
  },
  {
   "cell_type": "code",
   "execution_count": 4,
   "metadata": {},
   "outputs": [
    {
     "name": "stdout",
     "output_type": "stream",
     "text": [
      "variable: Contenedor de informacion\n",
      "tipo: Tipo de variable\n",
      "lista: Contenedor de informacion\n",
      "diccionario: Contenedor de informacion\n",
      "for: Ciclo de control\n"
     ]
    }
   ],
   "source": [
    "#Diccionario de 5 palabras relacionadas a la programacion y definicion\n",
    "diccionario = {\"variable\":\"Contenedor de informacion\",\n",
    "               \"tipo\":\"Tipo de variable\",\n",
    "               \"lista\":\"Contenedor de informacion\",\n",
    "               \"diccionario\":\"Contenedor de informacion\",\n",
    "               \"for\":\"Ciclo de control\"}\n",
    "\n",
    "for key,value in diccionario.items():\n",
    "    print(f\"{key}: {value}\")"
   ]
  },
  {
   "attachments": {},
   "cell_type": "markdown",
   "metadata": {},
   "source": [
    "### Dia 35"
   ]
  },
  {
   "attachments": {},
   "cell_type": "markdown",
   "metadata": {},
   "source": [
    "Utiliza el diccionario de palabras del reto anterior para agregar una nueva palabra y su definicion\n",
    "\n",
    "Imprime la cantidad de elementos del diccionario"
   ]
  },
  {
   "cell_type": "code",
   "execution_count": 6,
   "metadata": {},
   "outputs": [
    {
     "name": "stdout",
     "output_type": "stream",
     "text": [
      "{'variable': 'Contenedor de informacion', 'tipo': 'Tipo de variable', 'lista': 'Contenedor de informacion', 'diccionario': 'Contenedor de informacion', 'for': 'Ciclo de control'}\n",
      "{'variable': 'Contenedor de informacion', 'tipo': 'Tipo de variable', 'lista': 'Contenedor de informacion', 'diccionario': 'Contenedor de informacion', 'for': 'Ciclo de control', 'if': 'Condicion logica para evaluar si'}\n",
      "6\n"
     ]
    }
   ],
   "source": [
    "print(diccionario)\n",
    "\n",
    "diccionario['if'] = \"Condicion logica para evaluar si\"\n",
    "\n",
    "print(diccionario)\n",
    "print(len(diccionario))"
   ]
  },
  {
   "attachments": {},
   "cell_type": "markdown",
   "metadata": {},
   "source": [
    "### Dia 36"
   ]
  },
  {
   "attachments": {},
   "cell_type": "markdown",
   "metadata": {},
   "source": [
    "Utiliza el diccionario de palabras del reto anterior para eliminar el primer elemento del diccionario\n",
    "\n",
    "Imprime la cantidad de elementos del diccionario"
   ]
  },
  {
   "cell_type": "code",
   "execution_count": 8,
   "metadata": {},
   "outputs": [
    {
     "name": "stdout",
     "output_type": "stream",
     "text": [
      "{'variable': 'Contenedor de informacion', 'tipo': 'Tipo de variable', 'lista': 'Contenedor de informacion', 'diccionario': 'Contenedor de informacion', 'for': 'Ciclo de control', 'if': 'Condicion logica para evaluar si'}\n",
      "5\n"
     ]
    }
   ],
   "source": [
    "print(diccionario)\n",
    "\n",
    "diccionario.pop(\"variable\")\n",
    "\n",
    "print(len(diccionario))"
   ]
  },
  {
   "attachments": {},
   "cell_type": "markdown",
   "metadata": {},
   "source": [
    "### Dia 37"
   ]
  },
  {
   "attachments": {},
   "cell_type": "markdown",
   "metadata": {},
   "source": [
    "Utiliza el diccionario de palabras del reto anterior para eliminar todos los elemento del diccionario sin usar ciclos\n",
    "\n",
    "Imprime el resultado"
   ]
  },
  {
   "cell_type": "code",
   "execution_count": 10,
   "metadata": {},
   "outputs": [
    {
     "name": "stdout",
     "output_type": "stream",
     "text": [
      "{'tipo': 'Tipo de variable', 'lista': 'Contenedor de informacion', 'diccionario': 'Contenedor de informacion', 'for': 'Ciclo de control', 'if': 'Condicion logica para evaluar si'}\n",
      "{}\n"
     ]
    }
   ],
   "source": [
    "print(diccionario)\n",
    "\n",
    "diccionario.clear()\n",
    "\n",
    "#Devuelve un diccionario vacio\n",
    "print(diccionario)"
   ]
  },
  {
   "attachments": {},
   "cell_type": "markdown",
   "metadata": {},
   "source": [
    "### Dia 38"
   ]
  },
  {
   "attachments": {},
   "cell_type": "markdown",
   "metadata": {},
   "source": [
    "Declara un conjunto de 5 animales e imprime el resultado"
   ]
  },
  {
   "cell_type": "code",
   "execution_count": 11,
   "metadata": {},
   "outputs": [
    {
     "name": "stdout",
     "output_type": "stream",
     "text": [
      "{'conejo', 'gato', 'tortuga', 'perro', 'pez'}\n"
     ]
    }
   ],
   "source": [
    "animales = {\"perro\",\"gato\",\"pez\",\"tortuga\",\"conejo\"}\n",
    "\n",
    "print(animales) #Automaticamente los ordena"
   ]
  },
  {
   "attachments": {},
   "cell_type": "markdown",
   "metadata": {},
   "source": [
    "### Dia 39"
   ]
  },
  {
   "attachments": {},
   "cell_type": "markdown",
   "metadata": {},
   "source": [
    "Utiliza el conjunto del reto anterior y verifica si tienes un gato en el conjunto\n",
    "\n",
    "Imprime el resultado"
   ]
  },
  {
   "cell_type": "code",
   "execution_count": 13,
   "metadata": {},
   "outputs": [
    {
     "name": "stdout",
     "output_type": "stream",
     "text": [
      "{'conejo', 'gato', 'tortuga', 'perro', 'pez'}\n",
      "El gato esta en el conjunto\n"
     ]
    }
   ],
   "source": [
    "print(animales)\n",
    "\n",
    "if 'gato' in animales:\n",
    "    print(\"El gato esta en el conjunto\")\n",
    "\n",
    "else:\n",
    "    animales.add('gato')\n",
    "    "
   ]
  },
  {
   "attachments": {},
   "cell_type": "markdown",
   "metadata": {},
   "source": [
    "### Dia 40"
   ]
  },
  {
   "attachments": {},
   "cell_type": "markdown",
   "metadata": {},
   "source": [
    "Utiliza el conjunto del reto anterior y elmina al gato del conjunto, si es que existiera, sin usar sentecias condicionales \n",
    "\n",
    "Imprime el resultado"
   ]
  },
  {
   "cell_type": "code",
   "execution_count": 14,
   "metadata": {},
   "outputs": [
    {
     "name": "stdout",
     "output_type": "stream",
     "text": [
      "{'conejo', 'gato', 'tortuga', 'perro', 'pez'}\n",
      "{'conejo', 'tortuga', 'perro', 'pez'}\n"
     ]
    }
   ],
   "source": [
    "print(animales)\n",
    "\n",
    "animales.discard('gato')\n",
    "\n",
    "print(animales)"
   ]
  }
 ],
 "metadata": {
  "kernelspec": {
   "display_name": "Python 3",
   "language": "python",
   "name": "python3"
  },
  "language_info": {
   "codemirror_mode": {
    "name": "ipython",
    "version": 3
   },
   "file_extension": ".py",
   "mimetype": "text/x-python",
   "name": "python",
   "nbconvert_exporter": "python",
   "pygments_lexer": "ipython3",
   "version": "3.7.9"
  },
  "orig_nbformat": 4
 },
 "nbformat": 4,
 "nbformat_minor": 2
}
