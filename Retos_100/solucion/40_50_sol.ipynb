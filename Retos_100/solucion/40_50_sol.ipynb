{
 "cells": [
  {
   "attachments": {},
   "cell_type": "markdown",
   "metadata": {},
   "source": [
    "### Dia 41"
   ]
  },
  {
   "attachments": {},
   "cell_type": "markdown",
   "metadata": {},
   "source": [
    "Utiliza el conjunto del reto anterior, define un nuevo conjunto de mascotas, encuentra la interseccion de ambos conjuntos sin usar ciclos \n",
    "\n",
    "Imprime el resultado"
   ]
  },
  {
   "cell_type": "code",
   "execution_count": 8,
   "metadata": {},
   "outputs": [
    {
     "name": "stdout",
     "output_type": "stream",
     "text": [
      "{'conejo', 'perro'}\n"
     ]
    }
   ],
   "source": [
    "#Conjunto de animales anterior\n",
    "animales = {\"perro\",\"gato\",\"pez\",\"tortuga\",\"conejo\"}\n",
    "\n",
    "#Conjunto nuevo\n",
    "animales2 = {\"perro\",\"caballo\",\"vaca\",\"oveja\",\"cerdo\",\"gallina\",\"conejo\"}\n",
    "\n",
    "#Interseccion de ambos\n",
    "animales3 = animales.intersection(animales2)\n",
    "\n",
    "print(animales3)"
   ]
  },
  {
   "attachments": {},
   "cell_type": "markdown",
   "metadata": {},
   "source": [
    "### Dia 42"
   ]
  },
  {
   "attachments": {},
   "cell_type": "markdown",
   "metadata": {},
   "source": [
    "Utiliza los conjunto del reto anterior, para encontrar la union de ambos conjuntos sin usar ciclos e imprime el resultado"
   ]
  },
  {
   "cell_type": "code",
   "execution_count": 9,
   "metadata": {},
   "outputs": [
    {
     "name": "stdout",
     "output_type": "stream",
     "text": [
      "{'gallina', 'caballo', 'vaca', 'pez', 'tortuga', 'conejo', 'oveja', 'cerdo', 'perro', 'gato'}\n"
     ]
    }
   ],
   "source": [
    "animales4 = animales.union(animales2)\n",
    "\n",
    "print(animales4)"
   ]
  },
  {
   "attachments": {},
   "cell_type": "markdown",
   "metadata": {},
   "source": [
    "### Dia 43"
   ]
  },
  {
   "attachments": {},
   "cell_type": "markdown",
   "metadata": {},
   "source": [
    "Declara una tupla de 5 simbolos que representen magnitudes fisicas e imprime el resultado"
   ]
  },
  {
   "cell_type": "code",
   "execution_count": 10,
   "metadata": {},
   "outputs": [
    {
     "name": "stdout",
     "output_type": "stream",
     "text": [
      "('m', 'kg', 's', 'A', 'K')\n"
     ]
    }
   ],
   "source": [
    "#Tupla de 5 simbolos que representan magnitudes fisicas\n",
    "magnitudes = (\"m\",\"kg\",\"s\",\"A\",\"K\")\n",
    "\n",
    "print(magnitudes)"
   ]
  },
  {
   "attachments": {},
   "cell_type": "markdown",
   "metadata": {},
   "source": [
    "### Dia 44"
   ]
  },
  {
   "attachments": {},
   "cell_type": "markdown",
   "metadata": {},
   "source": [
    "Usa la tupla del ejemplo anterior e imprime los primeros 3 elementos"
   ]
  },
  {
   "cell_type": "code",
   "execution_count": 11,
   "metadata": {},
   "outputs": [
    {
     "name": "stdout",
     "output_type": "stream",
     "text": [
      "('m', 'kg', 's')\n"
     ]
    }
   ],
   "source": [
    "print(magnitudes[:3])"
   ]
  },
  {
   "attachments": {},
   "cell_type": "markdown",
   "metadata": {},
   "source": [
    "### Dia 45"
   ]
  },
  {
   "attachments": {},
   "cell_type": "markdown",
   "metadata": {},
   "source": [
    "Usa la tupla del ejemplo anterior, elimina los primeros 2 elementos e imprime el resultado"
   ]
  },
  {
   "cell_type": "code",
   "execution_count": 12,
   "metadata": {},
   "outputs": [
    {
     "name": "stdout",
     "output_type": "stream",
     "text": [
      "('s', 'A', 'K')\n"
     ]
    }
   ],
   "source": [
    "#Borrar los primeros 2 elementos\n",
    "magnitudes = magnitudes[2:]\n",
    "\n",
    "print(magnitudes)"
   ]
  },
  {
   "attachments": {},
   "cell_type": "markdown",
   "metadata": {},
   "source": [
    "### Dia 46"
   ]
  },
  {
   "attachments": {},
   "cell_type": "markdown",
   "metadata": {},
   "source": [
    "Crea una lista de 10 números usando la función range() e imprime el resultado"
   ]
  },
  {
   "cell_type": "code",
   "execution_count": 14,
   "metadata": {},
   "outputs": [
    {
     "data": {
      "text/plain": [
       "[0, 1, 2, 3, 4, 5, 6, 7, 8, 9, 10]"
      ]
     },
     "execution_count": 14,
     "metadata": {},
     "output_type": "execute_result"
    }
   ],
   "source": [
    "numeros = [i for i in range(0,11)]\n",
    "\n",
    "numeros"
   ]
  },
  {
   "attachments": {},
   "cell_type": "markdown",
   "metadata": {},
   "source": [
    "### Dia 47"
   ]
  },
  {
   "attachments": {},
   "cell_type": "markdown",
   "metadata": {},
   "source": [
    "Crea una lista de 5 números pares usando la función range() e imprime el resultado"
   ]
  },
  {
   "cell_type": "code",
   "execution_count": 19,
   "metadata": {},
   "outputs": [
    {
     "data": {
      "text/plain": [
       "[0, 2, 4, 6, 8]"
      ]
     },
     "execution_count": 19,
     "metadata": {},
     "output_type": "execute_result"
    }
   ],
   "source": [
    "pares = [i for i in range(0,10,2)]\n",
    "\n",
    "pares"
   ]
  },
  {
   "attachments": {},
   "cell_type": "markdown",
   "metadata": {},
   "source": [
    "### Dia 48"
   ]
  },
  {
   "attachments": {},
   "cell_type": "markdown",
   "metadata": {},
   "source": [
    "Con un rango de 5 números crea una lista que refleje con valores booleanos cuales son pares e imprime el resultado"
   ]
  },
  {
   "cell_type": "code",
   "execution_count": 22,
   "metadata": {},
   "outputs": [
    {
     "data": {
      "text/plain": [
       "[True, False, True, False, True]"
      ]
     },
     "execution_count": 22,
     "metadata": {},
     "output_type": "execute_result"
    }
   ],
   "source": [
    "numeros = [i for i in range(0,5)]\n",
    "\n",
    "booleanos = [i%2==0 for i in numeros]\n",
    "\n",
    "booleanos"
   ]
  },
  {
   "attachments": {},
   "cell_type": "markdown",
   "metadata": {},
   "source": [
    "### Dia 49"
   ]
  },
  {
   "attachments": {},
   "cell_type": "markdown",
   "metadata": {},
   "source": [
    "Declara una variable numérica con valor 100\n",
    "\n",
    "Decrementa su valor de 10 en 10 mientras no sea 0\n",
    "        \n",
    "Imprime el valor de la variable en cada iteración"
   ]
  },
  {
   "cell_type": "code",
   "execution_count": 23,
   "metadata": {},
   "outputs": [
    {
     "name": "stdout",
     "output_type": "stream",
     "text": [
      "100\n",
      "90\n",
      "80\n",
      "70\n",
      "60\n",
      "50\n",
      "40\n",
      "30\n",
      "20\n",
      "10\n"
     ]
    }
   ],
   "source": [
    "cien = 100\n",
    "\n",
    "while cien > 0:\n",
    "    print(cien)\n",
    "    cien -= 10"
   ]
  },
  {
   "attachments": {},
   "cell_type": "markdown",
   "metadata": {},
   "source": [
    "### Dia 50"
   ]
  },
  {
   "attachments": {},
   "cell_type": "markdown",
   "metadata": {},
   "source": [
    "Genera 5 números enteros de forma aleatoria\n",
    "\n",
    "Almacena el resultado en una lista\n",
    "\n",
    "Suma la lista e imprime el resultado"
   ]
  },
  {
   "cell_type": "code",
   "execution_count": 27,
   "metadata": {},
   "outputs": [
    {
     "name": "stdout",
     "output_type": "stream",
     "text": [
      "[77, 36, 60, 44, 17]\n",
      "[87, 46, 70, 54, 27]\n"
     ]
    }
   ],
   "source": [
    "import random\n",
    "\n",
    "numeros = [random.randint(0,100) for i in range(0,5)]\n",
    "\n",
    "print(numeros)\n",
    "\n",
    "#Sumar 10 a a lista\n",
    "numeros = [i+10 for i in numeros]\n",
    "\n",
    "print(numeros)"
   ]
  }
 ],
 "metadata": {
  "kernelspec": {
   "display_name": "Python 3",
   "language": "python",
   "name": "python3"
  },
  "language_info": {
   "codemirror_mode": {
    "name": "ipython",
    "version": 3
   },
   "file_extension": ".py",
   "mimetype": "text/x-python",
   "name": "python",
   "nbconvert_exporter": "python",
   "pygments_lexer": "ipython3",
   "version": "3.7.9"
  },
  "orig_nbformat": 4
 },
 "nbformat": 4,
 "nbformat_minor": 2
}
