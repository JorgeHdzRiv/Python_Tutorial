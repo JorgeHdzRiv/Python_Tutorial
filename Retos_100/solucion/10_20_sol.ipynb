{
 "cells": [
  {
   "attachments": {},
   "cell_type": "markdown",
   "metadata": {},
   "source": [
    "### Dia 11"
   ]
  },
  {
   "attachments": {},
   "cell_type": "markdown",
   "metadata": {},
   "source": [
    "Intercambia los valores de dos varibles e imprime de ambas e imprime el resultado en una sola línea"
   ]
  },
  {
   "cell_type": "code",
   "execution_count": 6,
   "metadata": {},
   "outputs": [
    {
     "name": "stdout",
     "output_type": "stream",
     "text": [
      "Las variables originales son\n",
      "5\n",
      "cadena\n",
      "Las variables cambiadas son\n",
      "cadena\n",
      "5\n"
     ]
    }
   ],
   "source": [
    "#Declaramos dos variables aleatorias\n",
    "\n",
    "a = 5\n",
    "b = 'cadena'\n",
    "\n",
    "print('Las variables originales son',a,b,sep='\\n')\n",
    "\n",
    "a,b = b,a\n",
    "print('Las variables cambiadas son',a,b,sep='\\n')\n"
   ]
  },
  {
   "attachments": {},
   "cell_type": "markdown",
   "metadata": {},
   "source": [
    "### Dia 12"
   ]
  },
  {
   "attachments": {},
   "cell_type": "markdown",
   "metadata": {},
   "source": [
    "Intercambia los valores de dos variables e imprime su ubicación en memoria utilizando la función id()"
   ]
  },
  {
   "cell_type": "code",
   "execution_count": 13,
   "metadata": {},
   "outputs": [
    {
     "name": "stdout",
     "output_type": "stream",
     "text": [
      "Variables originales:  10 , 4.5\n",
      "La ubicacion de memoria de a es: 2744617009680\n",
      "La ubicacion de memoria de a es: 2744697450096\n",
      "\n",
      "Variables cambiadas\n",
      "\n",
      "La ubicacion de memoria de a es: 2744697450096\n",
      "La ubicacion de memoria de a es: 2744617009680\n"
     ]
    }
   ],
   "source": [
    "a = 10\n",
    "b = 4.5\n",
    "\n",
    "print('Variables originales: ',a,',',b)\n",
    "print('La ubicacion de memoria de a es:',id(a))\n",
    "print('La ubicacion de memoria de a es:',id(b))\n",
    "\n",
    "a,b = b,a\n",
    "print('\\nVariables cambiadas\\n')\n",
    "print('La ubicacion de memoria de a es:',id(a))\n",
    "print('La ubicacion de memoria de a es:',id(b))"
   ]
  },
  {
   "attachments": {},
   "cell_type": "markdown",
   "metadata": {},
   "source": [
    "### Dia 13"
   ]
  },
  {
   "attachments": {},
   "cell_type": "markdown",
   "metadata": {},
   "source": [
    "Declara dos variables booleanas, evalúa una expresión lógica usando dos operadores lógicos e imprime el resultado."
   ]
  },
  {
   "cell_type": "code",
   "execution_count": 15,
   "metadata": {},
   "outputs": [
    {
     "name": "stdout",
     "output_type": "stream",
     "text": [
      "El valor de AND de a y b es:  False\n",
      "El valor de OR de a y b es:  True\n"
     ]
    }
   ],
   "source": [
    "a,b = True,False\n",
    "\n",
    "print('El valor de AND de a y b es: ',a and b) # 1 AND 0 = 0    Ambos deben ser True\n",
    "print('El valor de OR de a y b es: ',a or b) # 1 OR 0 = 1 Mientras uno sea True devuelve True"
   ]
  },
  {
   "attachments": {},
   "cell_type": "markdown",
   "metadata": {},
   "source": [
    "### Dia 14"
   ]
  },
  {
   "attachments": {},
   "cell_type": "markdown",
   "metadata": {},
   "source": [
    "Declara una variable mediante una expresión aritmética usando dos operadores aritméticos e imprime el resultado."
   ]
  },
  {
   "cell_type": "code",
   "execution_count": 17,
   "metadata": {},
   "outputs": [
    {
     "name": "stdout",
     "output_type": "stream",
     "text": [
      "Suma:  15\n",
      "Multiplicacion:  50\n",
      "Division:  2.0\n"
     ]
    }
   ],
   "source": [
    "# Los operadores aritmeticos basicos son +,-,*,/,//,%,**\n",
    "\n",
    "a = 5\n",
    "b = 10\n",
    "\n",
    "c = a+b\n",
    "d = a*b\n",
    "e = b/a\n",
    "\n",
    "print('Suma: ',c)\n",
    "print('Multiplicacion: ',d)\n",
    "print('Division: ',e)"
   ]
  },
  {
   "attachments": {},
   "cell_type": "markdown",
   "metadata": {},
   "source": [
    "### Dia 15"
   ]
  },
  {
   "attachments": {},
   "cell_type": "markdown",
   "metadata": {},
   "source": [
    "Declara una variable de tipo cadena e imprime los últimos tres carácter de la cadena sin usar ciclos."
   ]
  },
  {
   "cell_type": "code",
   "execution_count": 32,
   "metadata": {},
   "outputs": [
    {
     "name": "stdout",
     "output_type": "stream",
     "text": [
      "Los ultimos 3 digitos de Palabra son: bra\n",
      "Los ultimos 3 digitos de computadora son: ora\n"
     ]
    }
   ],
   "source": [
    "cadena = 'Palabra'\n",
    "\n",
    "#Podemos usar la longitud de la variable\n",
    "len(cadena)\n",
    "\n",
    "#Usando las propiedades de indices no importa la longitud de la palabra \n",
    "print('Los ultimos 3 digitos de',cadena, 'son:',cadena[-3:])\n",
    "\n",
    "#Usamos una nueva palabra para demostrar lo anterior\n",
    "cadena = 'computadora'\n",
    "print('Los ultimos 3 digitos de',cadena, 'son:',cadena[-3:])"
   ]
  },
  {
   "attachments": {},
   "cell_type": "markdown",
   "metadata": {},
   "source": [
    "### Dia 16"
   ]
  },
  {
   "attachments": {},
   "cell_type": "markdown",
   "metadata": {},
   "source": [
    "Declara una variable de tipo cadena e imprime la cantidad de caracteres de la cadena sin usar ciclos."
   ]
  },
  {
   "cell_type": "code",
   "execution_count": 35,
   "metadata": {},
   "outputs": [
    {
     "name": "stdout",
     "output_type": "stream",
     "text": [
      "La cantidad de caracteres de: usumacinta son: 10 caracteres\n"
     ]
    }
   ],
   "source": [
    "cadena = 'usumacinta'\n",
    "\n",
    "print('La cantidad de caracteres de:',cadena,'son:',len(cadena),'caracteres')"
   ]
  },
  {
   "attachments": {},
   "cell_type": "markdown",
   "metadata": {},
   "source": [
    "### Dia 17"
   ]
  },
  {
   "attachments": {},
   "cell_type": "markdown",
   "metadata": {},
   "source": [
    "Declara una variable de tipo cadena, encuentra la cantidad de veces que aparece la letra 'a' sin usar ciclos e imprime el resultado."
   ]
  },
  {
   "cell_type": "code",
   "execution_count": 49,
   "metadata": {},
   "outputs": [
    {
     "name": "stdout",
     "output_type": "stream",
     "text": [
      "La cantidad de letras a en: abracadabra es: 5\n",
      "La cantidad de a en:  abracadabra es: 5\n"
     ]
    }
   ],
   "source": [
    "palabra = 'abracadabra'\n",
    "\n",
    "#Python cuenta con funciones para variables de tipo string en este caso la funcion count\n",
    "\n",
    "print('La cantidad de letras a en:',palabra,'es:',palabra.count('a'))\n",
    "\n",
    "#Sin embargo es bueno recurrir a un ciclo para usar los conceptos basicos\n",
    "cnt = 0\n",
    "for letra in palabra:\n",
    "    if letra == 'a':\n",
    "        cnt = cnt+1\n",
    "              \n",
    "print('La cantidad de a en: ',palabra,'es:',cnt)\n",
    "    "
   ]
  },
  {
   "attachments": {},
   "cell_type": "markdown",
   "metadata": {},
   "source": [
    "### Dia 18"
   ]
  },
  {
   "attachments": {},
   "cell_type": "markdown",
   "metadata": {},
   "source": [
    "Declara una variable de tipo cadena, encuentra el primer y último carácter en orden lexicográfico sin usar ciclos e imprímelos."
   ]
  },
  {
   "cell_type": "code",
   "execution_count": 81,
   "metadata": {},
   "outputs": [
    {
     "name": "stdout",
     "output_type": "stream",
     "text": [
      "La frase ordenada es: \n",
      "['gigante', 'hola', 'mundo']\n",
      "El primer caracter de la frase en orden es:  gigante\n",
      "El ultimo caracter de la frase en orden es:  mundo\n"
     ]
    }
   ],
   "source": [
    "frase = 'hola mundo gigante'\n",
    "\n",
    "frase = frase.split()\n",
    "\n",
    "frase.sort()\n",
    "\n",
    "print('La frase ordenada es: ',frase)\n",
    "print('El primer caracter de la frase en orden es: ',frase[0])\n",
    "print('El ultimo caracter de la frase en orden es: ',frase[-1])"
   ]
  },
  {
   "attachments": {},
   "cell_type": "markdown",
   "metadata": {},
   "source": [
    "### Dia 19"
   ]
  },
  {
   "attachments": {},
   "cell_type": "markdown",
   "metadata": {},
   "source": [
    "Declara una variable de tipo cadena, reviértela sin usar funciones adicionales e imprime el resultado."
   ]
  },
  {
   "cell_type": "code",
   "execution_count": 106,
   "metadata": {},
   "outputs": [
    {
     "name": "stdout",
     "output_type": "stream",
     "text": [
      "ejaugnel nohtyp"
     ]
    }
   ],
   "source": [
    "#Se puede usar una palabra o frase\n",
    "palabra = 'python lenguaje'\n",
    "palabra.split()\n",
    "\n",
    "for letra in palabra[::-1]:\n",
    "    print(letra,end='')\n",
    "\n"
   ]
  },
  {
   "attachments": {},
   "cell_type": "markdown",
   "metadata": {},
   "source": [
    "### Dia 20"
   ]
  },
  {
   "attachments": {},
   "cell_type": "markdown",
   "metadata": {},
   "source": [
    "Separa las mayúsculas y minúsculas sin usar ciclos en nuevas cadenas e imprime el resultado en una sola linea"
   ]
  },
  {
   "cell_type": "code",
   "execution_count": null,
   "metadata": {},
   "outputs": [],
   "source": [
    "palabra = 'PyThOn'\n",
    "minisculas = ''\n",
    "mayusculas = ''\n",
    "\n",
    "# En mi caso no encontre una forma sencilla de resolver este problema sin un for\n",
    "\n",
    "for letter in palabra:\n",
    "    if letter.lower():\n",
    "        minisculas += letter"
   ]
  }
 ],
 "metadata": {
  "kernelspec": {
   "display_name": "Python 3",
   "language": "python",
   "name": "python3"
  },
  "language_info": {
   "codemirror_mode": {
    "name": "ipython",
    "version": 3
   },
   "file_extension": ".py",
   "mimetype": "text/x-python",
   "name": "python",
   "nbconvert_exporter": "python",
   "pygments_lexer": "ipython3",
   "version": "3.10.7"
  },
  "orig_nbformat": 4
 },
 "nbformat": 4,
 "nbformat_minor": 2
}
