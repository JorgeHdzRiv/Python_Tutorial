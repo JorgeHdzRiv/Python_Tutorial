{
 "cells": [
  {
   "attachments": {},
   "cell_type": "markdown",
   "metadata": {},
   "source": [
    "### Dia 1"
   ]
  },
  {
   "attachments": {},
   "cell_type": "markdown",
   "metadata": {},
   "source": [
    "Define una variable numérica e imprime el valor de tu variable "
   ]
  },
  {
   "cell_type": "code",
   "execution_count": 1,
   "metadata": {},
   "outputs": [
    {
     "name": "stdout",
     "output_type": "stream",
     "text": [
      "La primera variable es: 5.3\n",
      "La segunda variable es: 4\n"
     ]
    }
   ],
   "source": [
    "a = 5.3\n",
    "b = 4\n",
    "\n",
    "print(f'La primera variable es: {a}') #Impresion de la variable\n",
    "print(f'La segunda variable es: {b}')\n"
   ]
  },
  {
   "attachments": {},
   "cell_type": "markdown",
   "metadata": {},
   "source": [
    "### Dia 2"
   ]
  },
  {
   "attachments": {},
   "cell_type": "markdown",
   "metadata": {},
   "source": [
    "Resta 2 números enteros e imprime el resultado "
   ]
  },
  {
   "cell_type": "code",
   "execution_count": 8,
   "metadata": {},
   "outputs": [
    {
     "name": "stdout",
     "output_type": "stream",
     "text": [
      "La resta de los valores 5.3 y 4 es: 1.30\n",
      "1\n"
     ]
    }
   ],
   "source": [
    "# Podemos continuar con los valores anteriores o declarar unos nuevos\n",
    "\n",
    "print(f'La resta de los valores {a} y {b} es: {a-b:.2f}') #Redondeamos el resultado con :0.2f debido a que es flotante\n",
    "\n",
    "c = int(input('Primer valor: ')) #5\n",
    "d = int(input('Segundo valor: ')) #4\n",
    "\n",
    "print(c-d) #1 \n",
    "#Sin declarar una variable de resultado "
   ]
  },
  {
   "attachments": {},
   "cell_type": "markdown",
   "metadata": {},
   "source": [
    "### Dia 3"
   ]
  },
  {
   "attachments": {},
   "cell_type": "markdown",
   "metadata": {},
   "source": [
    "Declara una variable de tipo cadena que tenga un texto divertido e imprímela"
   ]
  },
  {
   "cell_type": "code",
   "execution_count": 9,
   "metadata": {},
   "outputs": [
    {
     "name": "stdout",
     "output_type": "stream",
     "text": [
      "Anita Lava la tina\n"
     ]
    }
   ],
   "source": [
    "cadena = 'Anita Lava la tina' #Puede declararse tambien con doble comilla \"\"\n",
    "print(cadena)"
   ]
  },
  {
   "attachments": {},
   "cell_type": "markdown",
   "metadata": {},
   "source": [
    "### Dia 4"
   ]
  },
  {
   "attachments": {},
   "cell_type": "markdown",
   "metadata": {},
   "source": [
    "Usa la función type() para imprimir el tipo de una variable booleana"
   ]
  },
  {
   "cell_type": "code",
   "execution_count": 11,
   "metadata": {},
   "outputs": [
    {
     "name": "stdout",
     "output_type": "stream",
     "text": [
      "El tipo de variable es <class 'bool'>\n"
     ]
    }
   ],
   "source": [
    "# Las variables booleanas solo pueden tener dos valores True o False\n",
    "\n",
    "v_bool = True\n",
    "\n",
    "print('El tipo de variable es',type(v_bool))\n",
    "\n"
   ]
  },
  {
   "attachments": {},
   "cell_type": "markdown",
   "metadata": {},
   "source": [
    "### Dia 5"
   ]
  },
  {
   "attachments": {},
   "cell_type": "markdown",
   "metadata": {},
   "source": [
    "Declara una lista de números y encuentra el valor más pequeño"
   ]
  },
  {
   "cell_type": "code",
   "execution_count": 35,
   "metadata": {},
   "outputs": [
    {
     "name": "stdout",
     "output_type": "stream",
     "text": [
      "El numero menor es:  3\n"
     ]
    }
   ],
   "source": [
    "nums = [8,9,3,4,5]\n",
    "x = nums[0]\n",
    "\n",
    "#Metodo burbuja convencional\n",
    "for num in nums:\n",
    "    if num < x:\n",
    "        x = num\n",
    "print('El numero menor es: ',x)"
   ]
  },
  {
   "cell_type": "code",
   "execution_count": 20,
   "metadata": {},
   "outputs": [
    {
     "name": "stdout",
     "output_type": "stream",
     "text": [
      "La lista es:  [2, 4, 6, 8]\n",
      "El numero menor de la lista es:  2\n"
     ]
    }
   ],
   "source": [
    "numbers = [x for x in range(2,10,2)] #Forma de declarar una lista con un for\n",
    "\n",
    "#Con metodos incluidos en python\n",
    "print('La lista es: ',numbers)\n",
    "print('El numero menor de la lista es: ',min(numbers))"
   ]
  },
  {
   "attachments": {},
   "cell_type": "markdown",
   "metadata": {},
   "source": [
    "### Dia 6"
   ]
  },
  {
   "attachments": {},
   "cell_type": "markdown",
   "metadata": {},
   "source": [
    "Declara 2 variables de tipo cadena, concaténalas e imprime el resultado"
   ]
  },
  {
   "cell_type": "code",
   "execution_count": 36,
   "metadata": {},
   "outputs": [
    {
     "name": "stdout",
     "output_type": "stream",
     "text": [
      "Hello Python."
     ]
    }
   ],
   "source": [
    "v1 = 'Hello'\n",
    "v2 = 'Python'\n",
    "\n",
    "print(v1,v2,sep=' ',end='.')"
   ]
  },
  {
   "attachments": {},
   "cell_type": "markdown",
   "metadata": {},
   "source": [
    "### Dia 7"
   ]
  },
  {
   "attachments": {},
   "cell_type": "markdown",
   "metadata": {},
   "source": [
    "Declara una variable tipo cadena con saltos de linea e imprime el resultado"
   ]
  },
  {
   "cell_type": "code",
   "execution_count": 40,
   "metadata": {},
   "outputs": [
    {
     "name": "stdout",
     "output_type": "stream",
     "text": [
      "Hello\n",
      "Hello\n"
     ]
    }
   ],
   "source": [
    "word = 'Hello'\n",
    "print(word,word,sep='\\n')"
   ]
  },
  {
   "attachments": {},
   "cell_type": "markdown",
   "metadata": {},
   "source": [
    "### Dia 8"
   ]
  },
  {
   "attachments": {},
   "cell_type": "markdown",
   "metadata": {},
   "source": [
    "Declara una lista de números e imprime el numero de elementos"
   ]
  },
  {
   "cell_type": "code",
   "execution_count": 42,
   "metadata": {},
   "outputs": [
    {
     "name": "stdout",
     "output_type": "stream",
     "text": [
      "[0, 2, 4, 6, 8, 10]\n",
      "La longitud de elementos en la lista son 6\n"
     ]
    }
   ],
   "source": [
    "list_nums = [num for num in range(0,11,2)]\n",
    "\n",
    "print(list_nums)\n",
    "\n",
    "print('La longitud de elementos en la lista son',len(list_nums))"
   ]
  },
  {
   "attachments": {},
   "cell_type": "markdown",
   "metadata": {},
   "source": [
    "### Dia 9"
   ]
  },
  {
   "attachments": {},
   "cell_type": "markdown",
   "metadata": {},
   "source": [
    "Evalúa una expresión para ver si un número es mayor que otro e imprime el resultado"
   ]
  },
  {
   "cell_type": "code",
   "execution_count": 44,
   "metadata": {},
   "outputs": [
    {
     "name": "stdout",
     "output_type": "stream",
     "text": [
      "El numero mayor es b:  21\n"
     ]
    }
   ],
   "source": [
    "a = int(input('Primer numero: '))\n",
    "b = int(input('Segundo numero: '))\n",
    "\n",
    "if a > b:\n",
    "    print('El numero mayor es a: ',a)\n",
    "else:\n",
    "    print('El numero mayor es b: ',b)"
   ]
  },
  {
   "attachments": {},
   "cell_type": "markdown",
   "metadata": {},
   "source": [
    "### Dia 10"
   ]
  },
  {
   "attachments": {},
   "cell_type": "markdown",
   "metadata": {},
   "source": [
    "Inicializa 3 variables numérica de forma múltiple e imprime sus valores en una sola línea"
   ]
  },
  {
   "cell_type": "code",
   "execution_count": 46,
   "metadata": {},
   "outputs": [
    {
     "name": "stdout",
     "output_type": "stream",
     "text": [
      "10,5,4\n"
     ]
    }
   ],
   "source": [
    "a,b,c = 10,5,4\n",
    "\n",
    "print(a,b,c,sep=',')"
   ]
  }
 ],
 "metadata": {
  "kernelspec": {
   "display_name": "Python 3",
   "language": "python",
   "name": "python3"
  },
  "language_info": {
   "codemirror_mode": {
    "name": "ipython",
    "version": 3
   },
   "file_extension": ".py",
   "mimetype": "text/x-python",
   "name": "python",
   "nbconvert_exporter": "python",
   "pygments_lexer": "ipython3",
   "version": "3.10.7"
  },
  "orig_nbformat": 4
 },
 "nbformat": 4,
 "nbformat_minor": 2
}
