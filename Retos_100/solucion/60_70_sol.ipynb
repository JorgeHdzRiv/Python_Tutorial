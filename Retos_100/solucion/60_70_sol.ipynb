{
 "cells": [
  {
   "attachments": {},
   "cell_type": "markdown",
   "metadata": {},
   "source": [
    "### Dia 61"
   ]
  },
  {
   "attachments": {},
   "cell_type": "markdown",
   "metadata": {},
   "source": [
    "Utiliza Regex para validar que las cadenas de la lista sean totalmente numéricas\n",
    "\n",
    "[\"20200806\", \"jun122022\", \"202204DD\", \"20221208\", \"22mar2022\"]\n",
    "\n",
    "Imprime una lista con las cadenas numéricas"
   ]
  },
  {
   "cell_type": "code",
   "execution_count": 3,
   "metadata": {},
   "outputs": [
    {
     "name": "stdout",
     "output_type": "stream",
     "text": [
      "20200806 es un numero\n",
      "jun122022 no es un numero\n",
      "202204DD no es un numero\n",
      "20221208 es un numero\n",
      "22mar2022 no es un numero\n"
     ]
    }
   ],
   "source": [
    "# ^: inicio de la cadena\n",
    "# [+-]? : que la cadena puede empezar con un signo + o -\n",
    "# (?:[0-9]+|[0-9]*\\.[0-9]+) : que la cadena puede ser un numero entero o decimal\n",
    "# (?: ... | ... ) : que la cadena puede ser un numero entero o decimal\n",
    "# [0-9]+ : que la cadena puede ser un numero entero\n",
    "# [0-9]*\\.[0-9]+ : que la cadena puede ser un numero decimal\n",
    "# $: fin de la cadena\n",
    "\n",
    "cadenas = [\"20200806\", \"jun122022\", \"202204DD\", \"20221208\", \"22mar2022\"]\n",
    "\n",
    "import re\n",
    "#Funcion para una lista de palabras\n",
    "def es_numero(cadenas):\n",
    "    #Regex para validar que las cadenas son numericas\n",
    "    patron = re.compile(r'^[+-]?(?:[0-9]+|[0-9]*\\.[0-9]+)$')\n",
    "    for cadena in cadenas:\n",
    "        if patron.match(cadena):\n",
    "            print(cadena, \"es un numero\")\n",
    "        else:\n",
    "            print(cadena, \"no es un numero\")\n",
    "\n",
    "es_numero(cadenas)\n"
   ]
  },
  {
   "attachments": {},
   "cell_type": "markdown",
   "metadata": {},
   "source": [
    "### Dia 62"
   ]
  },
  {
   "attachments": {},
   "cell_type": "markdown",
   "metadata": {},
   "source": [
    "Utiliza Regex para validar la lista de emails\n",
    "\n",
    "[\"pythonlapaz@gmail.com\", \"dias.com\", \"comidita@.com\", \"programando@outlook.com\"]\n",
    "\n",
    "Imprime una lista con los emails validos"
   ]
  },
  {
   "cell_type": "code",
   "execution_count": 4,
   "metadata": {},
   "outputs": [
    {
     "name": "stdout",
     "output_type": "stream",
     "text": [
      "pythonlapaz@gmail.com es un email\n",
      "dias.com no es un email\n",
      "comidita@.com no es un email\n",
      "programando@outlook.com es un email\n"
     ]
    }
   ],
   "source": [
    "import re\n",
    "\n",
    "#Funcion para detectar emails en lista cadenas, com comentarios de las regex\n",
    "def detectar_emails(correos):\n",
    "    #Regex para validar que las cadenas son emails\n",
    "    patron = re.compile(r'''\n",
    "        ^([a-zA-Z0-9_\\-\\.]+) #nombre de usuario\n",
    "        @                   #simbolo @\n",
    "        ([a-zA-Z0-9_\\-\\.]+) #nombre de dominio\n",
    "        \\.                  #punto\n",
    "        ([a-zA-Z]{2,5})$    #com\n",
    "    ''', re.VERBOSE)\n",
    "    for cadena in correos:\n",
    "        if patron.match(cadena):\n",
    "            print(cadena, \"es un email\")\n",
    "        else:\n",
    "            print(cadena, \"no es un email\")\n",
    "\n",
    "lista_correos = [\"pythonlapaz@gmail.com\", \"dias.com\", \"comidita@.com\", \"programando@outlook.com\"]\n",
    "\n",
    "detectar_emails(lista_correos)\n"
   ]
  },
  {
   "attachments": {},
   "cell_type": "markdown",
   "metadata": {},
   "source": [
    "### Dia 63"
   ]
  },
  {
   "attachments": {},
   "cell_type": "markdown",
   "metadata": {},
   "source": [
    "Utiliza Regex para validar que las cadenas solo contengan caracteres alfanuméricos\n",
    "\n",
    "[\"Python3.10\", \"Python3\", \"ProgramandoAndo\", \"jun2022\", \"#100diasdecodigo\", \"Felicidades!\"]\n",
    "\n",
    "Imprime una lista con las cadenas validas"
   ]
  },
  {
   "cell_type": "code",
   "execution_count": 5,
   "metadata": {},
   "outputs": [
    {
     "name": "stdout",
     "output_type": "stream",
     "text": [
      "Python3.10 no es alfanumerica\n",
      "Python3 es alfanumerica\n",
      "ProgramandoAndo es alfanumerica\n",
      "jun2022 es alfanumerica\n",
      "#100diasdecodigo no es alfanumerica\n",
      "Felicidades! no es alfanumerica\n"
     ]
    }
   ],
   "source": [
    "import re\n",
    "\n",
    "def validar_cadenas(cadenas):\n",
    "    #Regex para validar que las cadenas son alfanumericas\n",
    "    patron = re.compile(r'^[a-zA-Z0-9]+$')\n",
    "    for cadena in cadenas:\n",
    "        if patron.match(cadena):\n",
    "            print(cadena, \"es alfanumerica\")\n",
    "        else:\n",
    "            print(cadena, \"no es alfanumerica\")\n",
    "\n",
    "cadenas = [\"Python3.10\", \"Python3\", \"ProgramandoAndo\", \"jun2022\", \"#100diasdecodigo\", \"Felicidades!\"]\n",
    "\n",
    "validar_cadenas(cadenas)"
   ]
  },
  {
   "attachments": {},
   "cell_type": "markdown",
   "metadata": {},
   "source": [
    "### Dia 64"
   ]
  },
  {
   "attachments": {},
   "cell_type": "markdown",
   "metadata": {},
   "source": [
    "Utiliza Regex para quitar los ceros innecesarios de las direcciones IP de la lista\n",
    "\n",
    "[\"192.08.001.5\", \"10.120.023.001\", \"192.160.2.1\"]\n",
    "\n",
    "Imprime una lista con las IPs validas"
   ]
  },
  {
   "cell_type": "code",
   "execution_count": 1,
   "metadata": {},
   "outputs": [
    {
     "name": "stdout",
     "output_type": "stream",
     "text": [
      "192.8.1.5\n",
      "10.120.23.1\n",
      "192.160.2.1\n"
     ]
    }
   ],
   "source": [
    "import re\n",
    "ips = [\"192.08.001.5\", \"10.120.023.001\", \"192.160.2.1\"]\n",
    "\n",
    "def quitar_ceros(ips):\n",
    "    patron = re.compile(r'\\.0*')\n",
    "    for ip in ips:\n",
    "        print(patron.sub(\".\", ip))\n",
    "\n",
    "quitar_ceros(ips)"
   ]
  },
  {
   "attachments": {},
   "cell_type": "markdown",
   "metadata": {},
   "source": [
    "### Dia 65"
   ]
  },
  {
   "attachments": {},
   "cell_type": "markdown",
   "metadata": {},
   "source": [
    "Utiliza Regex para quitar los prefijos telefónicos de los teléfonos de la siguiente lista\n",
    "\n",
    "[\"+54 11 1234 5678\", \"+591 68754321\", \"+56 9 8765 4321\"]\n",
    "\n",
    "Imprime una lista con los teléfonos sin prefijos telefónicos"
   ]
  },
  {
   "cell_type": "code",
   "execution_count": 18,
   "metadata": {},
   "outputs": [
    {
     "name": "stdout",
     "output_type": "stream",
     "text": [
      " 11 1234 5678\n",
      "1 68754321\n",
      " 9 8765 4321\n"
     ]
    }
   ],
   "source": [
    "def quitar_prefijo(lista):\n",
    "    #Varios prefijos +54,+56,+591 en un solo patron\n",
    "    patron = re.compile('\\+[0-9]{2}')\n",
    "    for telefono in lista:\n",
    "        print(patron.sub(\"\", telefono))\n",
    "\n",
    "lista = [\"+54 11 1234 5678\", \"+591 68754321\", \"+56 9 8765 4321\"]\n",
    "quitar_prefijo(lista)"
   ]
  },
  {
   "attachments": {},
   "cell_type": "markdown",
   "metadata": {},
   "source": [
    "### Dia 66"
   ]
  },
  {
   "attachments": {},
   "cell_type": "markdown",
   "metadata": {},
   "source": [
    "Utiliza Regex para eliminar los caracteres que no sean alfanuméricos en las cadenas de la lista\n",
    "\n",
    "[\"Python3.10\", \"Python3\", \"ProgramandoAndo\", \"jun2022\", \"#100diasdecodigo\", \"Felicidades!\"]\n",
    "\n",
    "Imprime una lista con las cadenas limpias"
   ]
  },
  {
   "cell_type": "code",
   "execution_count": 19,
   "metadata": {},
   "outputs": [
    {
     "name": "stdout",
     "output_type": "stream",
     "text": [
      "Python310\n",
      "Python3\n",
      "ProgramandoAndo\n",
      "jun2022\n",
      "100diasdecodigo\n",
      "Felicidades\n"
     ]
    }
   ],
   "source": [
    "import re \n",
    "def quitar_caracteres(cadenas):\n",
    "    patron = re.compile(r'[^a-zA-Z0-9]')\n",
    "    for cadena in cadenas:\n",
    "        print(patron.sub(\"\", cadena))\n",
    "\n",
    "cadenas = [\"Python3.10\", \"Python3\", \"ProgramandoAndo\", \"jun2022\", \"#100diasdecodigo\", \"Felicidades!\"]\n",
    "quitar_caracteres(cadenas)\n"
   ]
  },
  {
   "attachments": {},
   "cell_type": "markdown",
   "metadata": {},
   "source": [
    "### Dia 67"
   ]
  },
  {
   "attachments": {},
   "cell_type": "markdown",
   "metadata": {},
   "source": [
    "Utiliza Regex para cambiar el formato de las fechas de YYYYMMDD a YYYY-MM-DD de las fechas de la lista\n",
    "\n",
    "[\"20221205\", \"19930612\", \"20050126\", \"20211008\"]\n",
    "\n",
    "Imprime una lista con las fechas"
   ]
  },
  {
   "cell_type": "code",
   "execution_count": 20,
   "metadata": {},
   "outputs": [
    {
     "name": "stdout",
     "output_type": "stream",
     "text": [
      "20221205\n",
      "19930612\n",
      "20050126\n",
      "20211008\n"
     ]
    }
   ],
   "source": [
    "import re\n",
    "def cambiar_formato(fechas):\n",
    "    patron = re.compile(r'(\\d+)/(\\d+)/(\\d+)')\n",
    "    for fecha in fechas:\n",
    "        print(patron.sub(r'\\3-\\2-\\1', fecha))\n",
    "\n",
    "l_fechas = [\"20221205\", \"19930612\", \"20050126\", \"20211008\"]\n",
    "cambiar_formato(l_fechas)"
   ]
  },
  {
   "attachments": {},
   "cell_type": "markdown",
   "metadata": {},
   "source": [
    "### Dia 68"
   ]
  },
  {
   "attachments": {},
   "cell_type": "markdown",
   "metadata": {},
   "source": [
    "Utiliza Regex para cambiar el formato de las fechas de YYYY-MM-DD  a DDMMYYYY de las fechas de la lista\n",
    "\n",
    "['2022-12-05', '1993-06-12', '2005-01-26', '2021-10-08']\n",
    "\n",
    "Imprime una lista con las fechas con el nuevo formato"
   ]
  },
  {
   "cell_type": "code",
   "execution_count": 25,
   "metadata": {},
   "outputs": [
    {
     "name": "stdout",
     "output_type": "stream",
     "text": [
      "2022-12-05\n",
      "1993-06-12\n",
      "2005-01-26\n",
      "2021-10-08\n"
     ]
    }
   ],
   "source": [
    "#Regex para cambiar a formato de fecha YYYYMMDD a DDMMYYYY de una lista de fechas\n",
    "import re\n",
    "def cambiar_formato(fechas):\n",
    "    patron = re.compile(r'(\\d{4})(\\d{2})(\\d{2})')\n",
    "    for fecha in fechas:\n",
    "        print(patron.sub(r'\\3\\2\\1', fecha))\n",
    "        \n",
    "\n",
    "lista = ['2022-12-05', '1993-06-12', '2005-01-26', '2021-10-08']\n",
    "cambiar_formato(lista)"
   ]
  },
  {
   "attachments": {},
   "cell_type": "markdown",
   "metadata": {},
   "source": [
    "### Dia 69"
   ]
  },
  {
   "attachments": {},
   "cell_type": "markdown",
   "metadata": {},
   "source": [
    "Utiliza Regex para extraer todas las 'a' seguidas de una o mas 'b's de la siguiente cadena 'abholaaaaabaaabbpythonistaaaaaabbbbb'\n",
    "\n",
    "Imprime una lista con las subcadenas extraídas"
   ]
  },
  {
   "cell_type": "code",
   "execution_count": 26,
   "metadata": {},
   "outputs": [
    {
     "name": "stdout",
     "output_type": "stream",
     "text": [
      "['ab', 'aaaaab', 'aaabb', 'aaaaaabbbbb']\n"
     ]
    }
   ],
   "source": [
    "import re\n",
    "def extraer_cadena(cadena):\n",
    "    patron = re.compile(r'a+b+')\n",
    "    print(patron.findall(cadena))\n",
    "\n",
    "cadena = 'abholaaaaabaaabbpythonistaaaaaabbbbb'\n",
    "extraer_cadena(cadena=cadena)"
   ]
  },
  {
   "attachments": {},
   "cell_type": "markdown",
   "metadata": {},
   "source": [
    "### Dia 70"
   ]
  },
  {
   "attachments": {},
   "cell_type": "markdown",
   "metadata": {},
   "source": [
    "Utiliza Regex para extraer todas las palabras que contengan al menos una 'a' en la siguiente cadena 'Llevas programando 70 dias seguidos'\n",
    "\n",
    "Imprime una lista con las palabras extraídas"
   ]
  },
  {
   "cell_type": "code",
   "execution_count": null,
   "metadata": {},
   "outputs": [],
   "source": [
    "import re\n",
    "def extraer_a(cadena):\n",
    "    patron = re.compile(r'\\w*a+\\w*')\n",
    "    print(patron.findall(cadena))\n",
    "\n",
    "cadena = 'Llevas programando 70 dias seguidos'\n",
    "extraer_a(cadena=cadena)"
   ]
  }
 ],
 "metadata": {
  "kernelspec": {
   "display_name": "Python 3",
   "language": "python",
   "name": "python3"
  },
  "language_info": {
   "codemirror_mode": {
    "name": "ipython",
    "version": 3
   },
   "file_extension": ".py",
   "mimetype": "text/x-python",
   "name": "python",
   "nbconvert_exporter": "python",
   "pygments_lexer": "ipython3",
   "version": "3.7.9"
  },
  "orig_nbformat": 4
 },
 "nbformat": 4,
 "nbformat_minor": 2
}
