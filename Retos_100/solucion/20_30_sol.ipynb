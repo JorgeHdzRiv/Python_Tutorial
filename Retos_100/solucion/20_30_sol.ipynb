{
 "cells": [
  {
   "attachments": {},
   "cell_type": "markdown",
   "metadata": {},
   "source": [
    "### Dia 21"
   ]
  },
  {
   "attachments": {},
   "cell_type": "markdown",
   "metadata": {},
   "source": [
    "Encuentra el mensaje secreto en: natyhujkpdfuaeefgdedeas"
   ]
  },
  {
   "cell_type": "code",
   "execution_count": 8,
   "metadata": {},
   "outputs": [
    {
     "name": "stdout",
     "output_type": "stream",
     "text": [
      "tupuede\n"
     ]
    }
   ],
   "source": [
    "cadena = \"natyhujkpdfuaeefgdedeas\"\n",
    "\n",
    "mensaje = cadena[2::3]\n",
    "\n",
    "print(mensaje)"
   ]
  },
  {
   "attachments": {},
   "cell_type": "markdown",
   "metadata": {},
   "source": [
    "### Dia 22"
   ]
  },
  {
   "attachments": {},
   "cell_type": "markdown",
   "metadata": {},
   "source": [
    "Utiliza funciones de cadenas para crear una lista de palabras con la siguiente cadena:\n",
    "\n",
    "\"Los pequeños pasos te llevan a algo más grande\""
   ]
  },
  {
   "cell_type": "code",
   "execution_count": 1,
   "metadata": {},
   "outputs": [
    {
     "data": {
      "text/plain": [
       "['Los', 'pequeños', 'pasos', 'te', 'llevan', 'a', 'algo', 'más', 'grande']"
      ]
     },
     "execution_count": 1,
     "metadata": {},
     "output_type": "execute_result"
    }
   ],
   "source": [
    "cadena = \"Los pequeños pasos te llevan a algo más grande\"\n",
    "\n",
    "palabras = cadena.split(sep=\" \")\n",
    "\n",
    "palabras\n"
   ]
  },
  {
   "attachments": {},
   "cell_type": "markdown",
   "metadata": {},
   "source": [
    "### Dia 23"
   ]
  },
  {
   "attachments": {},
   "cell_type": "markdown",
   "metadata": {},
   "source": [
    "Utiliza funciones de cadenas para quitar los espacios inecesario de la siguiente cadena:\n",
    "\n",
    "    \"       Python es divertido       \"\n",
    "\n",
    "Imprime el resultado"
   ]
  },
  {
   "cell_type": "code",
   "execution_count": 3,
   "metadata": {},
   "outputs": [
    {
     "name": "stdout",
     "output_type": "stream",
     "text": [
      "Python es divertido\n"
     ]
    }
   ],
   "source": [
    "cadena = \"       Python es divertido       \"\n",
    "\n",
    "print(cadena.strip())"
   ]
  },
  {
   "attachments": {},
   "cell_type": "markdown",
   "metadata": {},
   "source": [
    "### Dia 24"
   ]
  },
  {
   "attachments": {},
   "cell_type": "markdown",
   "metadata": {},
   "source": [
    "Crea una lista de compras e imprime del 2do al 4to elemento"
   ]
  },
  {
   "cell_type": "code",
   "execution_count": 9,
   "metadata": {},
   "outputs": [
    {
     "name": "stdout",
     "output_type": "stream",
     "text": [
      "['cereal', 'huevos', 'helados']\n"
     ]
    }
   ],
   "source": [
    "compras = [\"frutas\",\"cereal\",\"huevos\",\"helados\",\"carne\",\"galletas\"]\n",
    "\n",
    "print(compras[1:4]) #Recordemos que el indice del primer elemento siempre sera 0"
   ]
  },
  {
   "attachments": {},
   "cell_type": "markdown",
   "metadata": {},
   "source": [
    "### Dia 25"
   ]
  },
  {
   "attachments": {},
   "cell_type": "markdown",
   "metadata": {},
   "source": [
    "Utiliza la lista de compras del reto anterior para construir una cadena con saltos de línea e imprime el resultado"
   ]
  },
  {
   "cell_type": "code",
   "execution_count": 10,
   "metadata": {},
   "outputs": [
    {
     "name": "stdout",
     "output_type": "stream",
     "text": [
      "frutas\n",
      "cereal\n",
      "huevos\n",
      "helados\n",
      "carne\n",
      "galletas\n"
     ]
    }
   ],
   "source": [
    "compras = [\"frutas\",\"cereal\",\"huevos\",\"helados\",\"carne\",\"galletas\"]\n",
    "\n",
    "for compra in compras:\n",
    "    print(compra,end=\"\\n\")"
   ]
  },
  {
   "attachments": {},
   "cell_type": "markdown",
   "metadata": {},
   "source": [
    "### Dia 26"
   ]
  },
  {
   "attachments": {},
   "cell_type": "markdown",
   "metadata": {},
   "source": [
    "Utiliza la función copy() para crear una copia de la lista de compras utilizada en\n",
    "el reto anterior, compara sus ids en memoria e imprime el resultado"
   ]
  },
  {
   "cell_type": "code",
   "execution_count": 13,
   "metadata": {},
   "outputs": [
    {
     "name": "stdout",
     "output_type": "stream",
     "text": [
      "La copia de la lista es:  ['frutas', 'cereal', 'huevos', 'helados', 'carne', 'galletas']\n",
      "Id lista original 3015872315456\n",
      "Id copia 3015870879040\n"
     ]
    }
   ],
   "source": [
    "compras = [\"frutas\",\"cereal\",\"huevos\",\"helados\",\"carne\",\"galletas\"]\n",
    "\n",
    "compras_copia = compras.copy()\n",
    "\n",
    "print(\"La copia de la lista es: \",compras_copia)\n",
    "\n",
    "print(\"Id lista original\",id(compras))\n",
    "\n",
    "print(\"Id copia\",id(compras_copia))\n"
   ]
  },
  {
   "attachments": {},
   "cell_type": "markdown",
   "metadata": {},
   "source": [
    "### Dia 27"
   ]
  },
  {
   "attachments": {},
   "cell_type": "markdown",
   "metadata": {},
   "source": [
    "Utiliza la lista de compras del reto anterior para agregarle un nuevo elemento al final e imprime la lista"
   ]
  },
  {
   "cell_type": "code",
   "execution_count": 14,
   "metadata": {},
   "outputs": [
    {
     "name": "stdout",
     "output_type": "stream",
     "text": [
      "['frutas', 'cereal', 'huevos', 'helados', 'carne', 'galletas', 'leche']\n"
     ]
    }
   ],
   "source": [
    "compras = [\"frutas\",\"cereal\",\"huevos\",\"helados\",\"carne\",\"galletas\"]\n",
    "\n",
    "compras.append(\"leche\")\n",
    "\n",
    "print(compras)"
   ]
  },
  {
   "attachments": {},
   "cell_type": "markdown",
   "metadata": {},
   "source": [
    "### Dia 28"
   ]
  },
  {
   "attachments": {},
   "cell_type": "markdown",
   "metadata": {},
   "source": [
    "Utiliza la lista de compras del reto anterior para remover el primer elemento de la lista sin usar ciclos e imprime la lista"
   ]
  },
  {
   "cell_type": "code",
   "execution_count": 17,
   "metadata": {},
   "outputs": [
    {
     "name": "stdout",
     "output_type": "stream",
     "text": [
      "['cereal', 'huevos', 'helados', 'carne', 'galletas']\n"
     ]
    }
   ],
   "source": [
    "compras = [\"frutas\",\"cereal\",\"huevos\",\"helados\",\"carne\",\"galletas\"]\n",
    "\n",
    "compras.pop(0)\n",
    "\n",
    "print(compras)"
   ]
  },
  {
   "attachments": {},
   "cell_type": "markdown",
   "metadata": {},
   "source": [
    "### Dia 29"
   ]
  },
  {
   "attachments": {},
   "cell_type": "markdown",
   "metadata": {},
   "source": [
    "Utiliza la lista de compras del reto anterior para remover el primer elemento de la lista sin usar ciclos e imprime la lista"
   ]
  },
  {
   "cell_type": "code",
   "execution_count": 18,
   "metadata": {},
   "outputs": [
    {
     "name": "stdout",
     "output_type": "stream",
     "text": [
      "['cereal', 'huevos', 'helados', 'carne', 'galletas']\n"
     ]
    }
   ],
   "source": [
    "compras = [\"frutas\",\"cereal\",\"huevos\",\"helados\",\"carne\",\"galletas\"]\n",
    "\n",
    "compras.remove(\"frutas\")\n",
    "\n",
    "print(compras)"
   ]
  },
  {
   "attachments": {},
   "cell_type": "markdown",
   "metadata": {},
   "source": [
    "### Dia 30"
   ]
  },
  {
   "attachments": {},
   "cell_type": "markdown",
   "metadata": {},
   "source": [
    "Crea una lista de animales y ordénala alfabéticamente usando funciones de listas\n",
    "\n",
    "Imprime el resultado"
   ]
  },
  {
   "cell_type": "code",
   "execution_count": 26,
   "metadata": {},
   "outputs": [
    {
     "name": "stdout",
     "output_type": "stream",
     "text": [
      "['abeja', 'delfin', 'gato', 'marsupial', 'pajaro', 'perro', 'raton']\n"
     ]
    }
   ],
   "source": [
    "animales = [\"perro\",\"gato\",\"raton\",\"delfin\",\"marsupial\",\"pajaro\",\"abeja\"]\n",
    "\n",
    "animales.sort()\n",
    "\n",
    "print(animales)\n"
   ]
  }
 ],
 "metadata": {
  "kernelspec": {
   "display_name": "Python 3",
   "language": "python",
   "name": "python3"
  },
  "language_info": {
   "codemirror_mode": {
    "name": "ipython",
    "version": 3
   },
   "file_extension": ".py",
   "mimetype": "text/x-python",
   "name": "python",
   "nbconvert_exporter": "python",
   "pygments_lexer": "ipython3",
   "version": "3.10.7"
  },
  "orig_nbformat": 4
 },
 "nbformat": 4,
 "nbformat_minor": 2
}
